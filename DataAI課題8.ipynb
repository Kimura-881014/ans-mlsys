{
 "cells": [
  {
   "cell_type": "code",
   "execution_count": 1,
   "metadata": {
    "colab": {
     "base_uri": "https://localhost:8080/"
    },
    "id": "XwIKC-o9pG0d",
    "outputId": "dbe4c741-f101-4a7d-c530-4e77a499047b"
   },
   "outputs": [
    {
     "data": {
      "text/plain": [
       "<torch._C.Generator at 0x7b9633851070>"
      ]
     },
     "execution_count": 1,
     "metadata": {},
     "output_type": "execute_result"
    }
   ],
   "source": [
    "import numpy as np\n",
    "import pandas as pd\n",
    "import codecs\n",
    "from sklearn.model_selection import train_test_split\n",
    "import torch\n",
    "import torch.nn as nn\n",
    "from torch.utils.data import DataLoader\n",
    "import matplotlib.pyplot as plt\n",
    "torch.manual_seed(1)"
   ]
  },
  {
   "cell_type": "code",
   "execution_count": 2,
   "metadata": {
    "id": "uxt5a-IRpgng"
   },
   "outputs": [],
   "source": [
    "from bs4 import BeautifulSoup\n",
    "import urllib.request\n",
    "import time"
   ]
  },
  {
   "cell_type": "code",
   "execution_count": 3,
   "metadata": {
    "id": "XQQC7FhOpd9i"
   },
   "outputs": [],
   "source": [
    "def getstockfromweb():\n",
    "  page_num = 20 # 取得するページ数\n",
    "  tstock = []\n",
    "  for i in range(page_num):\n",
    "    # Yahoo Financeのページを利用\n",
    "    url = \"https://finance.yahoo.co.jp/quote/998407.O/history?from=20170101&to=20211231&timeFrame=d&page=\" + str(i+2)\n",
    "    html = urllib.request.urlopen(url)\n",
    "    soup = BeautifulSoup(html, \"lxml\")\n",
    "    estock = [value.get_text() for value in soup.find_all(\"td\")[0:100]]\n",
    "     #<td></td>に欲しい数値が文字で入っているのでその部分を抽出し、get_textで文字のみさらに抽出する\n",
    "    tstock.extend(estock) # appendではなく一つの大きな配列にするためextendを使う\n",
    "    time.sleep(0.1) # どんどんデータをとると、サーバが察知してデータが取れなくなる\n",
    "  tstock = np.array(tstock) # NumPyへ変換\n",
    "  stock = tstock.reshape(-1, 5)\n",
    "  stock = pd.DataFrame(stock, columns=['date', 'open', 'max', 'min', 'close'], index=stock[:,0])\n",
    "  stock = stock.drop('date',axis=1).apply(lambda x: x.str.replace(',','')).apply(lambda x: x.astype(np.float32))\n",
    "  return stock\n",
    "#  return stock.apply(lambda x: x.str.replace(',','')).astype(np.float32) # 文字を数字に変換\n",
    "# この関数の実行を確認する場合は、次のコードセルを作成して実行するとよい\n",
    "# stock = getstockfromweb()\n",
    "# stock"
   ]
  },
  {
   "cell_type": "code",
   "execution_count": 4,
   "metadata": {
    "id": "JRhEC4LzpW74"
   },
   "outputs": [],
   "source": [
    "def getstockdata():\n",
    "  path = 'stockdata.csv'\n",
    "  with codecs.open(path, \"r\", \"Shift-JIS\", \"ignore\") as f:\n",
    "    stock = pd.read_table(f, delimiter=\",\", header=None, names=['date', 'open', 'max', 'min', 'close', 'total', 'adjustment'])\n",
    "    stock = stock.drop(stock.index[[0,1]])[['open', 'max', 'min', 'close', 'total', 'adjustment']].apply(lambda x: x.astype(np.float32))\n",
    "  return stock"
   ]
  },
  {
   "cell_type": "code",
   "execution_count": 5,
   "metadata": {
    "colab": {
     "base_uri": "https://localhost:8080/",
     "height": 799
    },
    "id": "Jw7zK71xpSJh",
    "outputId": "19588549-75b4-4020-f2cb-1e41f737298f"
   },
   "outputs": [
    {
     "name": "stdout",
     "output_type": "stream",
     "text": [
      "open          float32\n",
      "max           float32\n",
      "min           float32\n",
      "close         float32\n",
      "total         float32\n",
      "adjustment    float32\n",
      "dtype: object\n",
      "       open     max     min   close     total  adjustment\n",
      "2    2770.0  2776.0  2690.0  2690.0  462800.0      2690.0\n",
      "3    2725.0  2751.0  2709.0  2750.0  240700.0      2750.0\n",
      "4    2714.0  2727.0  2692.0  2711.0  275800.0      2711.0\n",
      "5    2734.0  2756.0  2732.0  2749.0  213800.0      2749.0\n",
      "6    2765.0  2773.0  2753.0  2755.0  175400.0      2755.0\n",
      "..      ...     ...     ...     ...       ...         ...\n",
      "150  2274.0  2285.0  2262.0  2276.0   88000.0      2276.0\n",
      "151  2270.0  2291.0  2255.0  2255.0   86600.0      2255.0\n",
      "152  2255.0  2255.0  2228.0  2228.0  126100.0      2228.0\n",
      "153  2265.0  2290.0  2257.0  2271.0  217100.0      2271.0\n",
      "154  2294.0  2294.0  2265.0  2276.0  133300.0      2276.0\n",
      "\n",
      "[153 rows x 6 columns]\n"
     ]
    },
    {
     "data": {
      "text/html": [
       "\n",
       "  <div id=\"df-e9c86b67-8fd0-413a-8e37-65a0ae08e004\" class=\"colab-df-container\">\n",
       "    <div>\n",
       "<style scoped>\n",
       "    .dataframe tbody tr th:only-of-type {\n",
       "        vertical-align: middle;\n",
       "    }\n",
       "\n",
       "    .dataframe tbody tr th {\n",
       "        vertical-align: top;\n",
       "    }\n",
       "\n",
       "    .dataframe thead th {\n",
       "        text-align: right;\n",
       "    }\n",
       "</style>\n",
       "<table border=\"1\" class=\"dataframe\">\n",
       "  <thead>\n",
       "    <tr style=\"text-align: right;\">\n",
       "      <th></th>\n",
       "      <th>close</th>\n",
       "    </tr>\n",
       "  </thead>\n",
       "  <tbody>\n",
       "    <tr>\n",
       "      <th>0</th>\n",
       "      <td>2690.0</td>\n",
       "    </tr>\n",
       "    <tr>\n",
       "      <th>1</th>\n",
       "      <td>2750.0</td>\n",
       "    </tr>\n",
       "    <tr>\n",
       "      <th>2</th>\n",
       "      <td>2711.0</td>\n",
       "    </tr>\n",
       "    <tr>\n",
       "      <th>3</th>\n",
       "      <td>2749.0</td>\n",
       "    </tr>\n",
       "    <tr>\n",
       "      <th>4</th>\n",
       "      <td>2755.0</td>\n",
       "    </tr>\n",
       "    <tr>\n",
       "      <th>...</th>\n",
       "      <td>...</td>\n",
       "    </tr>\n",
       "    <tr>\n",
       "      <th>148</th>\n",
       "      <td>2276.0</td>\n",
       "    </tr>\n",
       "    <tr>\n",
       "      <th>149</th>\n",
       "      <td>2255.0</td>\n",
       "    </tr>\n",
       "    <tr>\n",
       "      <th>150</th>\n",
       "      <td>2228.0</td>\n",
       "    </tr>\n",
       "    <tr>\n",
       "      <th>151</th>\n",
       "      <td>2271.0</td>\n",
       "    </tr>\n",
       "    <tr>\n",
       "      <th>152</th>\n",
       "      <td>2276.0</td>\n",
       "    </tr>\n",
       "  </tbody>\n",
       "</table>\n",
       "<p>153 rows × 1 columns</p>\n",
       "</div>\n",
       "    <div class=\"colab-df-buttons\">\n",
       "\n",
       "  <div class=\"colab-df-container\">\n",
       "    <button class=\"colab-df-convert\" onclick=\"convertToInteractive('df-e9c86b67-8fd0-413a-8e37-65a0ae08e004')\"\n",
       "            title=\"Convert this dataframe to an interactive table.\"\n",
       "            style=\"display:none;\">\n",
       "\n",
       "  <svg xmlns=\"http://www.w3.org/2000/svg\" height=\"24px\" viewBox=\"0 -960 960 960\">\n",
       "    <path d=\"M120-120v-720h720v720H120Zm60-500h600v-160H180v160Zm220 220h160v-160H400v160Zm0 220h160v-160H400v160ZM180-400h160v-160H180v160Zm440 0h160v-160H620v160ZM180-180h160v-160H180v160Zm440 0h160v-160H620v160Z\"/>\n",
       "  </svg>\n",
       "    </button>\n",
       "\n",
       "  <style>\n",
       "    .colab-df-container {\n",
       "      display:flex;\n",
       "      gap: 12px;\n",
       "    }\n",
       "\n",
       "    .colab-df-convert {\n",
       "      background-color: #E8F0FE;\n",
       "      border: none;\n",
       "      border-radius: 50%;\n",
       "      cursor: pointer;\n",
       "      display: none;\n",
       "      fill: #1967D2;\n",
       "      height: 32px;\n",
       "      padding: 0 0 0 0;\n",
       "      width: 32px;\n",
       "    }\n",
       "\n",
       "    .colab-df-convert:hover {\n",
       "      background-color: #E2EBFA;\n",
       "      box-shadow: 0px 1px 2px rgba(60, 64, 67, 0.3), 0px 1px 3px 1px rgba(60, 64, 67, 0.15);\n",
       "      fill: #174EA6;\n",
       "    }\n",
       "\n",
       "    .colab-df-buttons div {\n",
       "      margin-bottom: 4px;\n",
       "    }\n",
       "\n",
       "    [theme=dark] .colab-df-convert {\n",
       "      background-color: #3B4455;\n",
       "      fill: #D2E3FC;\n",
       "    }\n",
       "\n",
       "    [theme=dark] .colab-df-convert:hover {\n",
       "      background-color: #434B5C;\n",
       "      box-shadow: 0px 1px 3px 1px rgba(0, 0, 0, 0.15);\n",
       "      filter: drop-shadow(0px 1px 2px rgba(0, 0, 0, 0.3));\n",
       "      fill: #FFFFFF;\n",
       "    }\n",
       "  </style>\n",
       "\n",
       "    <script>\n",
       "      const buttonEl =\n",
       "        document.querySelector('#df-e9c86b67-8fd0-413a-8e37-65a0ae08e004 button.colab-df-convert');\n",
       "      buttonEl.style.display =\n",
       "        google.colab.kernel.accessAllowed ? 'block' : 'none';\n",
       "\n",
       "      async function convertToInteractive(key) {\n",
       "        const element = document.querySelector('#df-e9c86b67-8fd0-413a-8e37-65a0ae08e004');\n",
       "        const dataTable =\n",
       "          await google.colab.kernel.invokeFunction('convertToInteractive',\n",
       "                                                    [key], {});\n",
       "        if (!dataTable) return;\n",
       "\n",
       "        const docLinkHtml = 'Like what you see? Visit the ' +\n",
       "          '<a target=\"_blank\" href=https://colab.research.google.com/notebooks/data_table.ipynb>data table notebook</a>'\n",
       "          + ' to learn more about interactive tables.';\n",
       "        element.innerHTML = '';\n",
       "        dataTable['output_type'] = 'display_data';\n",
       "        await google.colab.output.renderOutput(dataTable, element);\n",
       "        const docLink = document.createElement('div');\n",
       "        docLink.innerHTML = docLinkHtml;\n",
       "        element.appendChild(docLink);\n",
       "      }\n",
       "    </script>\n",
       "  </div>\n",
       "\n",
       "\n",
       "<div id=\"df-3e505786-9ee7-42d3-ab08-f9a6d869a24c\">\n",
       "  <button class=\"colab-df-quickchart\" onclick=\"quickchart('df-3e505786-9ee7-42d3-ab08-f9a6d869a24c')\"\n",
       "            title=\"Suggest charts\"\n",
       "            style=\"display:none;\">\n",
       "\n",
       "<svg xmlns=\"http://www.w3.org/2000/svg\" height=\"24px\"viewBox=\"0 0 24 24\"\n",
       "     width=\"24px\">\n",
       "    <g>\n",
       "        <path d=\"M19 3H5c-1.1 0-2 .9-2 2v14c0 1.1.9 2 2 2h14c1.1 0 2-.9 2-2V5c0-1.1-.9-2-2-2zM9 17H7v-7h2v7zm4 0h-2V7h2v10zm4 0h-2v-4h2v4z\"/>\n",
       "    </g>\n",
       "</svg>\n",
       "  </button>\n",
       "\n",
       "<style>\n",
       "  .colab-df-quickchart {\n",
       "      --bg-color: #E8F0FE;\n",
       "      --fill-color: #1967D2;\n",
       "      --hover-bg-color: #E2EBFA;\n",
       "      --hover-fill-color: #174EA6;\n",
       "      --disabled-fill-color: #AAA;\n",
       "      --disabled-bg-color: #DDD;\n",
       "  }\n",
       "\n",
       "  [theme=dark] .colab-df-quickchart {\n",
       "      --bg-color: #3B4455;\n",
       "      --fill-color: #D2E3FC;\n",
       "      --hover-bg-color: #434B5C;\n",
       "      --hover-fill-color: #FFFFFF;\n",
       "      --disabled-bg-color: #3B4455;\n",
       "      --disabled-fill-color: #666;\n",
       "  }\n",
       "\n",
       "  .colab-df-quickchart {\n",
       "    background-color: var(--bg-color);\n",
       "    border: none;\n",
       "    border-radius: 50%;\n",
       "    cursor: pointer;\n",
       "    display: none;\n",
       "    fill: var(--fill-color);\n",
       "    height: 32px;\n",
       "    padding: 0;\n",
       "    width: 32px;\n",
       "  }\n",
       "\n",
       "  .colab-df-quickchart:hover {\n",
       "    background-color: var(--hover-bg-color);\n",
       "    box-shadow: 0 1px 2px rgba(60, 64, 67, 0.3), 0 1px 3px 1px rgba(60, 64, 67, 0.15);\n",
       "    fill: var(--button-hover-fill-color);\n",
       "  }\n",
       "\n",
       "  .colab-df-quickchart-complete:disabled,\n",
       "  .colab-df-quickchart-complete:disabled:hover {\n",
       "    background-color: var(--disabled-bg-color);\n",
       "    fill: var(--disabled-fill-color);\n",
       "    box-shadow: none;\n",
       "  }\n",
       "\n",
       "  .colab-df-spinner {\n",
       "    border: 2px solid var(--fill-color);\n",
       "    border-color: transparent;\n",
       "    border-bottom-color: var(--fill-color);\n",
       "    animation:\n",
       "      spin 1s steps(1) infinite;\n",
       "  }\n",
       "\n",
       "  @keyframes spin {\n",
       "    0% {\n",
       "      border-color: transparent;\n",
       "      border-bottom-color: var(--fill-color);\n",
       "      border-left-color: var(--fill-color);\n",
       "    }\n",
       "    20% {\n",
       "      border-color: transparent;\n",
       "      border-left-color: var(--fill-color);\n",
       "      border-top-color: var(--fill-color);\n",
       "    }\n",
       "    30% {\n",
       "      border-color: transparent;\n",
       "      border-left-color: var(--fill-color);\n",
       "      border-top-color: var(--fill-color);\n",
       "      border-right-color: var(--fill-color);\n",
       "    }\n",
       "    40% {\n",
       "      border-color: transparent;\n",
       "      border-right-color: var(--fill-color);\n",
       "      border-top-color: var(--fill-color);\n",
       "    }\n",
       "    60% {\n",
       "      border-color: transparent;\n",
       "      border-right-color: var(--fill-color);\n",
       "    }\n",
       "    80% {\n",
       "      border-color: transparent;\n",
       "      border-right-color: var(--fill-color);\n",
       "      border-bottom-color: var(--fill-color);\n",
       "    }\n",
       "    90% {\n",
       "      border-color: transparent;\n",
       "      border-bottom-color: var(--fill-color);\n",
       "    }\n",
       "  }\n",
       "</style>\n",
       "\n",
       "  <script>\n",
       "    async function quickchart(key) {\n",
       "      const quickchartButtonEl =\n",
       "        document.querySelector('#' + key + ' button');\n",
       "      quickchartButtonEl.disabled = true;  // To prevent multiple clicks.\n",
       "      quickchartButtonEl.classList.add('colab-df-spinner');\n",
       "      try {\n",
       "        const charts = await google.colab.kernel.invokeFunction(\n",
       "            'suggestCharts', [key], {});\n",
       "      } catch (error) {\n",
       "        console.error('Error during call to suggestCharts:', error);\n",
       "      }\n",
       "      quickchartButtonEl.classList.remove('colab-df-spinner');\n",
       "      quickchartButtonEl.classList.add('colab-df-quickchart-complete');\n",
       "    }\n",
       "    (() => {\n",
       "      let quickchartButtonEl =\n",
       "        document.querySelector('#df-3e505786-9ee7-42d3-ab08-f9a6d869a24c button');\n",
       "      quickchartButtonEl.style.display =\n",
       "        google.colab.kernel.accessAllowed ? 'block' : 'none';\n",
       "    })();\n",
       "  </script>\n",
       "</div>\n",
       "    </div>\n",
       "  </div>\n"
      ],
      "text/plain": [
       "      close\n",
       "0    2690.0\n",
       "1    2750.0\n",
       "2    2711.0\n",
       "3    2749.0\n",
       "4    2755.0\n",
       "..      ...\n",
       "148  2276.0\n",
       "149  2255.0\n",
       "150  2228.0\n",
       "151  2271.0\n",
       "152  2276.0\n",
       "\n",
       "[153 rows x 1 columns]"
      ]
     },
     "execution_count": 5,
     "metadata": {},
     "output_type": "execute_result"
    }
   ],
   "source": [
    "whichdata = False # webスクレイピングを利用する、Falseでダウンロードデータを利用する\n",
    "if whichdata==True:\n",
    "  dfp = getstockfromweb()\n",
    "  print(dfp.dtypes)\n",
    "  print(dfp)\n",
    "  df = dfp.reset_index(drop=True).drop(columns=['open', 'max', 'min'])\n",
    "else:\n",
    "  import os\n",
    "  if not os.path.exists('stockdata.csv'):\n",
    "      #!wget \"https://drive.google.com/uc?export=download&id=1OsqF2vQ94ZF8gA0IEjhp0rJM-2lnyfUw\" -O stockdata.csv\n",
    "      !wget https://keio.box.com/shared/static/xml20yn9im6xiytxe5z25wbja242g61k -O stockdata.csv\n",
    "  dfp = getstockdata()\n",
    "  print(dfp.dtypes)\n",
    "  print(dfp)\n",
    "  df = dfp.reset_index(drop=True).drop(columns=['open','max','min','total','adjustment'])\n",
    "df"
   ]
  },
  {
   "cell_type": "code",
   "execution_count": 6,
   "metadata": {
    "colab": {
     "base_uri": "https://localhost:8080/"
    },
    "id": "WQn7MEJlpusX",
    "outputId": "53907702-4dfd-4784-cba2-8af33b353087"
   },
   "outputs": [
    {
     "name": "stdout",
     "output_type": "stream",
     "text": [
      "total_len: 153  train_len: 108 test_len: 45\n"
     ]
    }
   ],
   "source": [
    "#訓練データとテストデータに分割\n",
    "test_size = 0.3\n",
    "sp = df['close'].values # pandasからnumpyへ変換\n",
    "total_len = len(sp)\n",
    "test_len = int(len(sp)*test_size)\n",
    "train_len = total_len - test_len\n",
    "print(\"total_len:\", total_len, \" train_len:\", train_len, \"test_len:\", test_len)\n",
    "train = sp[0:train_len]\n",
    "test = sp[train_len:total_len]\n",
    "x_max, x_min = max(sp), min(sp)\n",
    "train_norm = (train - x_min) / (x_max - x_min)\n",
    "test_norm = (test - x_min) / (x_max - x_min)"
   ]
  },
  {
   "cell_type": "code",
   "execution_count": 7,
   "metadata": {
    "id": "QuNIfg5Upvb8"
   },
   "outputs": [],
   "source": [
    "#時系列データに分割\n",
    "n_time = 6\n",
    "x_train, y_train, x_test, y_test= [], [], [], []\n",
    "for i in range(train_len-n_time):\n",
    "  x_train.append(train_norm[i:i+n_time].reshape(-1,1))\n",
    "  y_train.append(train_norm[i+n_time])\n",
    "for i in range(test_len-n_time):\n",
    "  x_test.append(test_norm[i:i+n_time])\n",
    "  y_test.append(test_norm[i+n_time])"
   ]
  },
  {
   "cell_type": "code",
   "execution_count": 8,
   "metadata": {
    "colab": {
     "base_uri": "https://localhost:8080/"
    },
    "id": "U6-XSd-vpw6d",
    "outputId": "f96221f0-9ac7-41c5-ed04-bf66bd4ad454"
   },
   "outputs": [
    {
     "name": "stdout",
     "output_type": "stream",
     "text": [
      "cuda:0\n"
     ]
    },
    {
     "name": "stderr",
     "output_type": "stream",
     "text": [
      "<ipython-input-8-e7715137c3d5>:3: UserWarning: Creating a tensor from a list of numpy.ndarrays is extremely slow. Please consider converting the list to a single numpy.ndarray with numpy.array() before converting to a tensor. (Triggered internally at ../torch/csrc/utils/tensor_new.cpp:261.)\n",
      "  train_input_data = torch.tensor(x_train, dtype=torch.float)  # テンソルに変換\n"
     ]
    }
   ],
   "source": [
    "epochs = 50\n",
    "batch_size = 32\n",
    "train_input_data = torch.tensor(x_train, dtype=torch.float)  # テンソルに変換\n",
    "train_correct_data = torch.tensor(y_train, dtype=torch.float)\n",
    "train_dataset = torch.utils.data.TensorDataset(train_input_data, train_correct_data)  # trainデータセットの作成\n",
    "train_loader = DataLoader(train_dataset, batch_size=batch_size)\n",
    "\n",
    "test_input_data = torch.tensor(x_test, dtype=torch.float)  # テンソルに変換\n",
    "test_correct_data = torch.tensor(y_test, dtype=torch.float)\n",
    "test_dataset = torch.utils.data.TensorDataset(test_input_data, test_correct_data)  # testデータセットの作成\n",
    "test_loader = DataLoader(test_dataset, batch_size=len(x_test))\n",
    "\n",
    "device = torch.device('cuda:0' if torch.cuda.is_available() else \"cpu\")\n",
    "print(device)"
   ]
  },
  {
   "cell_type": "code",
   "execution_count": 9,
   "metadata": {
    "colab": {
     "base_uri": "https://localhost:8080/"
    },
    "id": "De6SCKzspyei",
    "outputId": "49d8d05e-6073-49db-d119-bad652ef1ed2"
   },
   "outputs": [
    {
     "name": "stdout",
     "output_type": "stream",
     "text": [
      "GRUN(\n",
      "  (gru): GRU(1, 100, batch_first=True)\n",
      "  (fc): Linear(in_features=100, out_features=1, bias=True)\n",
      ")\n"
     ]
    }
   ],
   "source": [
    "class GRUN(nn.Module):\n",
    "  def __init__(self, input_size, hidden_size, output_size):\n",
    "    super(GRUN, self).__init__()\n",
    "    self.gru = nn.GRU(input_size, hidden_size, batch_first=True)\n",
    "    self.fc = nn.Linear(hidden_size, output_size)\n",
    "  def forward(self, x):\n",
    "    x = x.to(device)\n",
    "    y_gru, h = self.gru(x, None)\n",
    "    y = self.fc(y_gru[:, -1, :])\n",
    "    return y\n",
    "model = GRUN(1, 100, 1).to(device)\n",
    "print(model)"
   ]
  },
  {
   "cell_type": "code",
   "execution_count": 10,
   "metadata": {
    "id": "sQMrKrNYp_oB"
   },
   "outputs": [],
   "source": [
    "def my_func ():\n",
    "  loss_func = nn.MSELoss()\n",
    "  optimizer = torch.optim.Adam(model.parameters(), lr=0.01)\n",
    "  record_loss_train = []\n",
    "  for i in range(epochs):\n",
    "    for j, (x, t) in enumerate(train_loader):\n",
    "      x, t = x.to(device), t.reshape(-1,1).to(device)\n",
    "      y = model(x)\n",
    "      loss = loss_func(y, t)\n",
    "      optimizer.zero_grad()\n",
    "      loss.backward()\n",
    "      optimizer.step()\n",
    "    loss /= j+1\n",
    "    record_loss_train.append(loss)\n",
    "    print(f'epoch: {i:3} loss: {loss.item():10.8f}')\n",
    "  sp_norm = sp/x_max\n",
    "  in_true = list(sp_norm.reshape(-1).astype(np.float32)) # ここの意味を理解する\n",
    "  pred = []\n",
    "  model.eval()\n",
    "  for i in range(n_time):\n",
    "    pred.append(0) # 最初は予測できないので0を加える\n",
    "  with torch.no_grad():\n",
    "      for i in range(len(sp)-n_time):\n",
    "        x = torch.tensor(in_true[i:i+n_time])  # 直近の時系列を取り出す\n",
    "        x = x.reshape(1, -1, 1)  # (バッチサイズ, 時系列の数, 入力の数)\n",
    "        y = model(x)\n",
    "        pred.append(y[0].item())  # 予測結果をpredictedに追加する\n",
    "  plt.plot(range(len(sp)), sp, label=\"Correct\")\n",
    "  pred = np.array(pred)\n",
    "  pred = pred * x_max\n",
    "  plt.plot(range(len(pred)), pred, label=\"Predicted\")\n",
    "  plt.legend()\n",
    "  plt.show()\n",
    "  return loss.item()"
   ]
  },
  {
   "cell_type": "code",
   "execution_count": 11,
   "metadata": {
    "colab": {
     "base_uri": "https://localhost:8080/",
     "height": 1000
    },
    "id": "1_M1jncvreG2",
    "outputId": "6948c93b-8692-4dee-ed9a-b9247f96e8fd"
   },
   "outputs": [
    {
     "name": "stdout",
     "output_type": "stream",
     "text": [
      "epoch:   0 loss: 0.00670110\n",
      "epoch:   1 loss: 0.00364290\n",
      "epoch:   2 loss: 0.00350983\n",
      "epoch:   3 loss: 0.00357326\n",
      "epoch:   4 loss: 0.00306136\n",
      "epoch:   5 loss: 0.00363547\n",
      "epoch:   6 loss: 0.00382158\n",
      "epoch:   7 loss: 0.00198638\n",
      "epoch:   8 loss: 0.00291415\n",
      "epoch:   9 loss: 0.00209902\n",
      "epoch:  10 loss: 0.00289623\n",
      "epoch:  11 loss: 0.00179074\n",
      "epoch:  12 loss: 0.00272988\n",
      "epoch:  13 loss: 0.00140973\n",
      "epoch:  14 loss: 0.00220969\n",
      "epoch:  15 loss: 0.00124476\n",
      "epoch:  16 loss: 0.00207356\n",
      "epoch:  17 loss: 0.00114308\n",
      "epoch:  18 loss: 0.00184168\n",
      "epoch:  19 loss: 0.00093453\n",
      "epoch:  20 loss: 0.00141635\n",
      "epoch:  21 loss: 0.00088352\n",
      "epoch:  22 loss: 0.00123301\n",
      "epoch:  23 loss: 0.00083089\n",
      "epoch:  24 loss: 0.00093522\n",
      "epoch:  25 loss: 0.00080656\n",
      "epoch:  26 loss: 0.00082546\n",
      "epoch:  27 loss: 0.00079886\n",
      "epoch:  28 loss: 0.00070963\n",
      "epoch:  29 loss: 0.00079254\n",
      "epoch:  30 loss: 0.00071157\n",
      "epoch:  31 loss: 0.00071121\n",
      "epoch:  32 loss: 0.00074037\n",
      "epoch:  33 loss: 0.00069430\n",
      "epoch:  34 loss: 0.00070935\n",
      "epoch:  35 loss: 0.00071353\n",
      "epoch:  36 loss: 0.00068894\n",
      "epoch:  37 loss: 0.00069963\n",
      "epoch:  38 loss: 0.00069692\n",
      "epoch:  39 loss: 0.00067892\n",
      "epoch:  40 loss: 0.00068570\n",
      "epoch:  41 loss: 0.00068208\n",
      "epoch:  42 loss: 0.00066399\n",
      "epoch:  43 loss: 0.00067014\n",
      "epoch:  44 loss: 0.00066878\n",
      "epoch:  45 loss: 0.00064649\n",
      "epoch:  46 loss: 0.00065426\n",
      "epoch:  47 loss: 0.00065994\n",
      "epoch:  48 loss: 0.00062761\n",
      "epoch:  49 loss: 0.00063657\n"
     ]
    },
    {
     "data": {
      "image/png": "[encoded data removed]",
      "text/plain": [
       "<Figure size 640x480 with 1 Axes>"
      ]
     },
     "metadata": {},
     "output_type": "display_data"
    }
   ],
   "source": [
    "model = GRUN(1, 100, 1).to(device)\n",
    "gru_loss = my_func()"
   ]
  },
  {
   "cell_type": "code",
   "execution_count": 12,
   "metadata": {
    "colab": {
     "base_uri": "https://localhost:8080/"
    },
    "id": "xVsOPvxbrkgD",
    "outputId": "b9ace57b-97d9-4b6b-b7df-e03d957d2f49"
   },
   "outputs": [
    {
     "name": "stdout",
     "output_type": "stream",
     "text": [
      "RNNN(\n",
      "  (RNN): RNN(1, 100, batch_first=True)\n",
      "  (fc): Linear(in_features=100, out_features=1, bias=True)\n",
      ")\n"
     ]
    }
   ],
   "source": [
    "class RNNN(nn.Module):\n",
    "  def __init__(self, input_size, hidden_size, output_size):\n",
    "    super(RNNN, self).__init__()\n",
    "    self.RNN = nn.RNN(input_size, hidden_size, batch_first=True)\n",
    "    self.fc = nn.Linear(hidden_size, output_size)\n",
    "  def forward(self, x):\n",
    "    x = x.to(device)\n",
    "    y_RNN, h = self.RNN(x, None)\n",
    "    y = self.fc(y_RNN[:, -1, :])\n",
    "    return y\n",
    "model = RNNN(1, 100, 1).to(device)\n",
    "print(model)"
   ]
  },
  {
   "cell_type": "code",
   "execution_count": 13,
   "metadata": {
    "colab": {
     "base_uri": "https://localhost:8080/",
     "height": 1000
    },
    "id": "30KSjPBXsFAd",
    "outputId": "1d8ef8d4-57d8-4aae-f8ae-42ed932d5068"
   },
   "outputs": [
    {
     "name": "stdout",
     "output_type": "stream",
     "text": [
      "epoch:   0 loss: 0.00662792\n",
      "epoch:   1 loss: 0.05815897\n",
      "epoch:   2 loss: 0.00434805\n",
      "epoch:   3 loss: 0.00768176\n",
      "epoch:   4 loss: 0.00309521\n",
      "epoch:   5 loss: 0.00560962\n",
      "epoch:   6 loss: 0.00289826\n",
      "epoch:   7 loss: 0.00566966\n",
      "epoch:   8 loss: 0.00257477\n",
      "epoch:   9 loss: 0.00643852\n",
      "epoch:  10 loss: 0.00284907\n",
      "epoch:  11 loss: 0.00554755\n",
      "epoch:  12 loss: 0.00318172\n",
      "epoch:  13 loss: 0.00419118\n",
      "epoch:  14 loss: 0.00289339\n",
      "epoch:  15 loss: 0.00404901\n",
      "epoch:  16 loss: 0.00267367\n",
      "epoch:  17 loss: 0.00404192\n",
      "epoch:  18 loss: 0.00259179\n",
      "epoch:  19 loss: 0.00401451\n",
      "epoch:  20 loss: 0.00247852\n",
      "epoch:  21 loss: 0.00392669\n",
      "epoch:  22 loss: 0.00232404\n",
      "epoch:  23 loss: 0.00372960\n",
      "epoch:  24 loss: 0.00223713\n",
      "epoch:  25 loss: 0.00353104\n",
      "epoch:  26 loss: 0.00221010\n",
      "epoch:  27 loss: 0.00323588\n",
      "epoch:  28 loss: 0.00223701\n",
      "epoch:  29 loss: 0.00283781\n",
      "epoch:  30 loss: 0.00229762\n",
      "epoch:  31 loss: 0.00250205\n",
      "epoch:  32 loss: 0.00233999\n",
      "epoch:  33 loss: 0.00226700\n",
      "epoch:  34 loss: 0.00231035\n",
      "epoch:  35 loss: 0.00210753\n",
      "epoch:  36 loss: 0.00219860\n",
      "epoch:  37 loss: 0.00200867\n",
      "epoch:  38 loss: 0.00205135\n",
      "epoch:  39 loss: 0.00193344\n",
      "epoch:  40 loss: 0.00190668\n",
      "epoch:  41 loss: 0.00184898\n",
      "epoch:  42 loss: 0.00178223\n",
      "epoch:  43 loss: 0.00175500\n",
      "epoch:  44 loss: 0.00168238\n",
      "epoch:  45 loss: 0.00166144\n",
      "epoch:  46 loss: 0.00159871\n",
      "epoch:  47 loss: 0.00157389\n",
      "epoch:  48 loss: 0.00152510\n",
      "epoch:  49 loss: 0.00149666\n"
     ]
    },
    {
     "data": {
      "image/png": "[encoded data removed]",
      "text/plain": [
       "<Figure size 640x480 with 1 Axes>"
      ]
     },
     "metadata": {},
     "output_type": "display_data"
    }
   ],
   "source": [
    "model = RNNN(1, 100, 1).to(device)\n",
    "rnn_loss = my_func()"
   ]
  },
  {
   "cell_type": "code",
   "execution_count": 14,
   "metadata": {
    "colab": {
     "base_uri": "https://localhost:8080/"
    },
    "id": "I_M57a72sFaL",
    "outputId": "402a63e7-ec9b-495f-d58e-da459f802829"
   },
   "outputs": [
    {
     "name": "stdout",
     "output_type": "stream",
     "text": [
      "LSTMN(\n",
      "  (LSTM): LSTM(1, 100, batch_first=True)\n",
      "  (fc): Linear(in_features=100, out_features=1, bias=True)\n",
      ")\n"
     ]
    }
   ],
   "source": [
    "class LSTMN(nn.Module):\n",
    "  def __init__(self, input_size, hidden_size, output_size):\n",
    "    super(LSTMN, self).__init__()\n",
    "    self.LSTM = nn.LSTM(input_size, hidden_size, batch_first=True)\n",
    "    self.fc = nn.Linear(hidden_size, output_size)\n",
    "  def forward(self, x):\n",
    "    x = x.to(device)\n",
    "    y_LSTM, h = self.LSTM(x, None)\n",
    "    y = self.fc(y_LSTM[:, -1, :])\n",
    "    return y\n",
    "model = LSTMN(1, 100, 1).to(device)\n",
    "print(model)"
   ]
  },
  {
   "cell_type": "code",
   "execution_count": 15,
   "metadata": {
    "colab": {
     "base_uri": "https://localhost:8080/",
     "height": 1000
    },
    "id": "6yauWfISsULt",
    "outputId": "b31afcca-1806-46dc-aff5-39f0dc7c3804"
   },
   "outputs": [
    {
     "name": "stdout",
     "output_type": "stream",
     "text": [
      "epoch:   0 loss: 0.04384084\n",
      "epoch:   1 loss: 0.00736062\n",
      "epoch:   2 loss: 0.00395307\n",
      "epoch:   3 loss: 0.00912694\n",
      "epoch:   4 loss: 0.00287321\n",
      "epoch:   5 loss: 0.00286330\n",
      "epoch:   6 loss: 0.00647909\n",
      "epoch:   7 loss: 0.00387613\n",
      "epoch:   8 loss: 0.00281521\n",
      "epoch:   9 loss: 0.00477453\n",
      "epoch:  10 loss: 0.00311766\n",
      "epoch:  11 loss: 0.00342594\n",
      "epoch:  12 loss: 0.00280161\n",
      "epoch:  13 loss: 0.00321366\n",
      "epoch:  14 loss: 0.00261449\n",
      "epoch:  15 loss: 0.00448588\n",
      "epoch:  16 loss: 0.00255434\n",
      "epoch:  17 loss: 0.00577642\n",
      "epoch:  18 loss: 0.00286653\n",
      "epoch:  19 loss: 0.00667563\n",
      "epoch:  20 loss: 0.00302805\n",
      "epoch:  21 loss: 0.00465384\n",
      "epoch:  22 loss: 0.00251212\n",
      "epoch:  23 loss: 0.00262344\n",
      "epoch:  24 loss: 0.00388462\n",
      "epoch:  25 loss: 0.00226593\n",
      "epoch:  26 loss: 0.00367958\n",
      "epoch:  27 loss: 0.00236828\n",
      "epoch:  28 loss: 0.00434198\n",
      "epoch:  29 loss: 0.00259695\n",
      "epoch:  30 loss: 0.00388592\n",
      "epoch:  31 loss: 0.00223076\n",
      "epoch:  32 loss: 0.00234706\n",
      "epoch:  33 loss: 0.00341492\n",
      "epoch:  34 loss: 0.00202653\n",
      "epoch:  35 loss: 0.00286831\n",
      "epoch:  36 loss: 0.00195726\n",
      "epoch:  37 loss: 0.00258809\n",
      "epoch:  38 loss: 0.00188343\n",
      "epoch:  39 loss: 0.00267006\n",
      "epoch:  40 loss: 0.00181965\n",
      "epoch:  41 loss: 0.00266661\n",
      "epoch:  42 loss: 0.00178235\n",
      "epoch:  43 loss: 0.00245302\n",
      "epoch:  44 loss: 0.00175890\n",
      "epoch:  45 loss: 0.00224894\n",
      "epoch:  46 loss: 0.00167589\n",
      "epoch:  47 loss: 0.00221030\n",
      "epoch:  48 loss: 0.00155264\n",
      "epoch:  49 loss: 0.00247700\n"
     ]
    },
    {
     "data": {
      "image/png": "[encoded data removed]",
      "text/plain": [
       "<Figure size 640x480 with 1 Axes>"
      ]
     },
     "metadata": {},
     "output_type": "display_data"
    }
   ],
   "source": [
    "model = LSTMN(1, 100, 1).to(device)\n",
    "lstm_loss = my_func()"
   ]
  },
  {
   "cell_type": "code",
   "execution_count": 17,
   "metadata": {
    "colab": {
     "base_uri": "https://localhost:8080/"
    },
    "id": "U_x-MS7asWaz",
    "outputId": "7ffa55f9-7059-4860-8133-a0c9179b0519"
   },
   "outputs": [
    {
     "name": "stdout",
     "output_type": "stream",
     "text": [
      "GRU: 0.0006365654990077019 RNN: 0.001496660290285945 LSTM: 0.0024770013988018036\n"
     ]
    }
   ],
   "source": [
    "print(\"GRU:\",gru_loss,\"RNN:\",rnn_loss,\"LSTM:\",lstm_loss)"
   ]
  },
  {
   "cell_type": "markdown",
   "metadata": {
    "id": "lLrDZ18VwRdo"
   },
   "source": [
    "3つの手法ですべてがエポックを重ねるとlossが小さくなった。また、今回のデータではGRU, RNN, LSTMの順で最終的なlossが小さくなった。"
   ]
  }
 ],
 "metadata": {
  "accelerator": "GPU",
  "colab": {
   "gpuType": "T4",
   "provenance": []
  },
  "kernelspec": {
   "display_name": "Python 3",
   "language": "python",
   "name": "python3"
  },
  "language_info": {
   "codemirror_mode": {
    "name": "ipython",
    "version": 3
   },
   "file_extension": ".py",
   "mimetype": "text/x-python",
   "name": "python",
   "nbconvert_exporter": "python",
   "pygments_lexer": "ipython3",
   "version": "3.8.8"
  }
 },
 "nbformat": 4,
 "nbformat_minor": 4
}
