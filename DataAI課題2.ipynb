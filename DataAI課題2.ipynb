{
  "nbformat": 4,
  "nbformat_minor": 0,
  "metadata": {
    "colab": {
      "provenance": []
    },
    "kernelspec": {
      "name": "python3",
      "display_name": "Python 3"
    },
    "language_info": {
      "name": "python"
    }
  },
  "cells": [
    {
      "cell_type": "markdown",
      "source": [
        "---\n",
        "> # このファイルには私がテストに使ったセルも含まれています。答え合わせもしくは必要なセルを抽出してから提出するようにお願いします。\n",
        "---"
      ],
      "metadata": {
        "id": "RVL9yrekyLsl"
      }
    },
    {
      "cell_type": "code",
      "execution_count": null,
      "metadata": {
        "id": "NaWS1gPkIsn9"
      },
      "outputs": [],
      "source": [
        "import numpy as np"
      ]
    },
    {
      "cell_type": "code",
      "source": [
        "import csv"
      ],
      "metadata": {
        "id": "8-4d80leJRUz"
      },
      "execution_count": null,
      "outputs": []
    },
    {
      "cell_type": "code",
      "source": [
        "y_pred = []\n",
        "y_true = []\n",
        "\n",
        "with open('p2data.csv') as f:\n",
        "    reader = csv.reader(f)\n",
        "    l = [row for row in reader][1:]\n",
        "    for i in l:\n",
        "      if float(i[0]) < 0.8 and float(i[1]) < 0.8:\n",
        "        y_pred.append(1)\n",
        "      else:\n",
        "        y_pred.append(0)\n",
        "      y_true.append(int(i[2]))\n",
        "\n",
        "print(y_pred)\n",
        "print(y_true)"
      ],
      "metadata": {
        "colab": {
          "base_uri": "https://localhost:8080/"
        },
        "id": "zDRkEVuqI0qg",
        "outputId": "d37f2638-5853-4948-a6b2-d4922b415b73"
      },
      "execution_count": null,
      "outputs": [
        {
          "output_type": "stream",
          "name": "stdout",
          "text": [
            "[1, 1, 1, 1, 1, 1, 1, 1, 1, 1, 1, 0, 0, 0, 0, 1, 1, 1, 1, 1, 1, 1, 1, 1, 1, 0, 0, 0, 0, 0, 0, 0, 0, 0, 0, 0, 0, 0, 0, 0, 0, 0, 0, 0, 0]\n",
            "[1, 1, 1, 1, 1, 1, 1, 1, 1, 1, 1, 1, 1, 1, 1, 0, 0, 0, 0, 0, 0, 0, 0, 0, 0, 0, 0, 0, 0, 0, 0, 0, 0, 0, 0, 0, 0, 0, 0, 0, 0, 0, 0, 0, 0]\n"
          ]
        }
      ]
    },
    {
      "cell_type": "code",
      "source": [
        "from sklearn.metrics import confusion_matrix\n",
        "from sklearn.metrics import accuracy_score\n",
        "from sklearn.metrics import recall_score\n",
        "from sklearn.metrics import precision_score\n",
        "from sklearn.metrics import f1_score"
      ],
      "metadata": {
        "id": "TvZ1G2eQJD5J"
      },
      "execution_count": null,
      "outputs": []
    },
    {
      "cell_type": "code",
      "source": [
        "tn, fp, fn, tp = confusion_matrix(y_true, y_pred).ravel() #混同行列のそれぞれの結果を取得\n",
        "print(\"TN\", tn)\n",
        "print(\"FP\", fp)\n",
        "print(\"FN\", fn)\n",
        "print(\"TP\", tp)\n",
        "print(\"Confusion Matrix\")\n",
        "print(\"\\tPPred\\tNPred\")\n",
        "print(\"NFact\\t\", tn, \"\\t\", fp)\n",
        "print(\"PFact\\t\", fn, \"\\t\", tp, \"\\n\")\n",
        "print('Accuracy :', accuracy_score(y_true, y_pred))\n",
        "print('Precision:', precision_score(y_true,y_pred))\n",
        "print('Recall   :', recall_score(y_true,y_pred))\n",
        "print('F1 score :', f1_score(y_true,y_pred))"
      ],
      "metadata": {
        "colab": {
          "base_uri": "https://localhost:8080/"
        },
        "id": "dV1EAuCzLZJB",
        "outputId": "8591f779-2682-4653-9d38-0ea9d5198a8d"
      },
      "execution_count": null,
      "outputs": [
        {
          "output_type": "stream",
          "name": "stdout",
          "text": [
            "TN 20\n",
            "FP 10\n",
            "FN 4\n",
            "TP 11\n",
            "Confusion Matrix\n",
            "\tPPred\tNPred\n",
            "NFact\t 20 \t 10\n",
            "PFact\t 4 \t 11 \n",
            "\n",
            "Accuracy : 0.6888888888888889\n",
            "Precision: 0.5238095238095238\n",
            "Recall   : 0.7333333333333333\n",
            "F1 score : 0.611111111111111\n"
          ]
        }
      ]
    },
    {
      "cell_type": "code",
      "source": [
        "!wget http://class.west.sd.keio.ac.jp/dataai/data/p2data.csv"
      ],
      "metadata": {
        "colab": {
          "base_uri": "https://localhost:8080/"
        },
        "id": "gR0ieP_TLmk0",
        "outputId": "cb42c038-610c-4004-8525-1f119fbce61f"
      },
      "execution_count": null,
      "outputs": [
        {
          "output_type": "stream",
          "name": "stdout",
          "text": [
            "--2023-10-10 07:59:14--  http://class.west.sd.keio.ac.jp/dataai/data/p2data.csv\n",
            "Resolving class.west.sd.keio.ac.jp (class.west.sd.keio.ac.jp)... 131.113.98.81\n",
            "Connecting to class.west.sd.keio.ac.jp (class.west.sd.keio.ac.jp)|131.113.98.81|:80... connected.\n",
            "HTTP request sent, awaiting response... 200 OK\n",
            "Length: 762 [text/csv]\n",
            "Saving to: ‘p2data.csv’\n",
            "\n",
            "p2data.csv          100%[===================>]     762  --.-KB/s    in 0s      \n",
            "\n",
            "2023-10-10 07:59:14 (56.2 MB/s) - ‘p2data.csv’ saved [762/762]\n",
            "\n"
          ]
        }
      ]
    },
    {
      "cell_type": "code",
      "source": [
        "import pandas as pd\n",
        "from matplotlib import pyplot as plt\n",
        "df = pd.read_csv('p2data.csv')\n",
        "df.values"
      ],
      "metadata": {
        "colab": {
          "base_uri": "https://localhost:8080/"
        },
        "id": "_xPbg5TJPdoi",
        "outputId": "7dd7e2bb-782b-4ee0-b7e8-47069f1a1406"
      },
      "execution_count": null,
      "outputs": [
        {
          "output_type": "execute_result",
          "data": {
            "text/plain": [
              "array([[-2.475, -1.913,  1.   ],\n",
              "       [-2.436, -1.316,  1.   ],\n",
              "       [-1.63 , -0.805,  1.   ],\n",
              "       [-1.333, -0.658,  1.   ],\n",
              "       [-0.964, -0.299,  1.   ],\n",
              "       [-0.96 , -0.199,  1.   ],\n",
              "       [-0.78 ,  0.162,  1.   ],\n",
              "       [-0.73 ,  0.383,  1.   ],\n",
              "       [-0.432,  0.412,  1.   ],\n",
              "       [-0.326,  0.619,  1.   ],\n",
              "       [-0.261,  0.692,  1.   ],\n",
              "       [ 0.173,  0.824,  1.   ],\n",
              "       [ 0.575,  1.578,  1.   ],\n",
              "       [ 0.743,  1.764,  1.   ],\n",
              "       [ 1.682,  1.801,  1.   ],\n",
              "       [-0.596, -0.602,  0.   ],\n",
              "       [-0.141, -0.172,  0.   ],\n",
              "       [ 0.103, -0.071,  0.   ],\n",
              "       [ 0.196,  0.108,  0.   ],\n",
              "       [ 0.199,  0.314,  0.   ],\n",
              "       [ 0.34 ,  0.361,  0.   ],\n",
              "       [ 0.429,  0.406,  0.   ],\n",
              "       [ 0.522,  0.469,  0.   ],\n",
              "       [ 0.694,  0.511,  0.   ],\n",
              "       [ 0.79 ,  0.52 ,  0.   ],\n",
              "       [ 0.853,  0.558,  0.   ],\n",
              "       [ 0.888,  0.573,  0.   ],\n",
              "       [ 0.992,  0.794,  0.   ],\n",
              "       [ 1.186,  0.835,  0.   ],\n",
              "       [ 1.238,  0.965,  0.   ],\n",
              "       [ 1.297,  1.377,  0.   ],\n",
              "       [ 1.393,  1.5  ,  0.   ],\n",
              "       [ 1.51 ,  1.512,  0.   ],\n",
              "       [ 1.808,  1.673,  0.   ],\n",
              "       [ 1.968,  1.83 ,  0.   ],\n",
              "       [ 1.995,  1.891,  0.   ],\n",
              "       [ 2.367,  2.024,  0.   ],\n",
              "       [ 2.62 ,  2.399,  0.   ],\n",
              "       [ 2.855,  2.631,  0.   ],\n",
              "       [ 2.908,  2.706,  0.   ],\n",
              "       [ 2.928,  2.992,  0.   ],\n",
              "       [ 2.953,  3.038,  0.   ],\n",
              "       [ 3.094,  3.09 ,  0.   ],\n",
              "       [ 3.547,  3.218,  0.   ],\n",
              "       [ 3.886,  3.997,  0.   ]])"
            ]
          },
          "metadata": {},
          "execution_count": 2
        }
      ]
    },
    {
      "cell_type": "code",
      "source": [
        "from sklearn.metrics import confusion_matrix\n",
        "from sklearn.metrics import accuracy_score\n",
        "from sklearn.metrics import recall_score\n",
        "from sklearn.metrics import precision_score\n",
        "from sklearn.metrics import f1_score"
      ],
      "metadata": {
        "id": "Hk3UpzZNPf7I"
      },
      "execution_count": null,
      "outputs": []
    },
    {
      "cell_type": "code",
      "source": [
        "y1_score = df.values[:,0]\n",
        "y2_score = df.values[:,1]\n",
        "y_true = df.values[:,2]"
      ],
      "metadata": {
        "id": "pzfmVnV7PlJB"
      },
      "execution_count": null,
      "outputs": []
    },
    {
      "cell_type": "code",
      "source": [
        "y1_scorei = y1_score<0.8\n",
        "y2_scorei = y2_score<0.8"
      ],
      "metadata": {
        "id": "Txtu-CT1Pmpj"
      },
      "execution_count": null,
      "outputs": []
    },
    {
      "cell_type": "code",
      "source": [
        "y1_scorei"
      ],
      "metadata": {
        "colab": {
          "base_uri": "https://localhost:8080/"
        },
        "id": "T-ad9uGEPoPa",
        "outputId": "a5414e7a-d638-490d-8ca8-e308dbd43329"
      },
      "execution_count": null,
      "outputs": [
        {
          "output_type": "execute_result",
          "data": {
            "text/plain": [
              "array([ True,  True,  True,  True,  True,  True,  True,  True,  True,\n",
              "        True,  True,  True,  True,  True, False,  True,  True,  True,\n",
              "        True,  True,  True,  True,  True,  True,  True, False, False,\n",
              "       False, False, False, False, False, False, False, False, False,\n",
              "       False, False, False, False, False, False, False, False, False])"
            ]
          },
          "metadata": {},
          "execution_count": 6
        }
      ]
    },
    {
      "cell_type": "code",
      "source": [
        "y2_scorei"
      ],
      "metadata": {
        "id": "SfrGx8B2Pp1J",
        "outputId": "d4eae1d2-f17a-4a61-cdf0-ff168f11a005",
        "colab": {
          "base_uri": "https://localhost:8080/"
        }
      },
      "execution_count": null,
      "outputs": [
        {
          "output_type": "execute_result",
          "data": {
            "text/plain": [
              "array([ True,  True,  True,  True,  True,  True,  True,  True,  True,\n",
              "        True,  True, False, False, False, False,  True,  True,  True,\n",
              "        True,  True,  True,  True,  True,  True,  True,  True,  True,\n",
              "        True, False, False, False, False, False, False, False, False,\n",
              "       False, False, False, False, False, False, False, False, False])"
            ]
          },
          "metadata": {},
          "execution_count": 7
        }
      ]
    },
    {
      "cell_type": "code",
      "source": [
        "from sklearn.metrics import classification_report"
      ],
      "metadata": {
        "id": "H9avO2v8uAYz"
      },
      "execution_count": null,
      "outputs": []
    },
    {
      "cell_type": "code",
      "source": [
        "tn, fp, fn, tp = confusion_matrix(y_true, y1_scorei).ravel() #混同行列のそれぞれの結果を取得\n",
        "print(\"TN\", tn)\n",
        "print(\"FP\", fp)\n",
        "print(\"FN\", fn)\n",
        "print(\"TP\", tp)\n",
        "print(\"Confusion Matrix\")\n",
        "print(\"\\tPPred\\tNPred\")\n",
        "print(\"NFact\\t\", tn, \"\\t\", fp)\n",
        "print(\"PFact\\t\", fn, \"\\t\", tp, \"\\n\")\n",
        "print('Accuracy :', accuracy_score(y_true, y_pred))\n",
        "print('Precision:', precision_score(y_true,y_pred))\n",
        "print('Recall   :', recall_score(y_true,y_pred))\n",
        "print('F1 score :', f1_score(y_true,y_pred))"
      ],
      "metadata": {
        "colab": {
          "base_uri": "https://localhost:8080/"
        },
        "id": "Gv8nlv2gv9PB",
        "outputId": "72e8e94a-3629-48c0-9146-24944aa058e2"
      },
      "execution_count": null,
      "outputs": [
        {
          "output_type": "stream",
          "name": "stdout",
          "text": [
            "TN 20\n",
            "FP 10\n",
            "FN 1\n",
            "TP 14\n",
            "Confusion Matrix\n",
            "\tPPred\tNPred\n",
            "NFact\t 20 \t 10\n",
            "PFact\t 1 \t 14 \n",
            "\n",
            "Accuracy : 0.6888888888888889\n",
            "Precision: 0.5238095238095238\n",
            "Recall   : 0.7333333333333333\n",
            "F1 score : 0.611111111111111\n"
          ]
        }
      ]
    },
    {
      "cell_type": "code",
      "source": [
        "print(classification_report(y_true, y1_scorei))"
      ],
      "metadata": {
        "colab": {
          "base_uri": "https://localhost:8080/"
        },
        "id": "26fQbQFCuB6H",
        "outputId": "b7cb3f39-43c0-4aeb-d2a9-bba137a1c84e"
      },
      "execution_count": null,
      "outputs": [
        {
          "output_type": "stream",
          "name": "stdout",
          "text": [
            "              precision    recall  f1-score   support\n",
            "\n",
            "         0.0       0.95      0.67      0.78        30\n",
            "         1.0       0.58      0.93      0.72        15\n",
            "\n",
            "    accuracy                           0.76        45\n",
            "   macro avg       0.77      0.80      0.75        45\n",
            "weighted avg       0.83      0.76      0.76        45\n",
            "\n"
          ]
        }
      ]
    },
    {
      "cell_type": "code",
      "source": [
        "print(classification_report(y_true, y2_scorei))"
      ],
      "metadata": {
        "colab": {
          "base_uri": "https://localhost:8080/"
        },
        "id": "6HNs9DSJuIbl",
        "outputId": "ca08f68e-9fe2-44b4-a524-8b5e67ade9d2"
      },
      "execution_count": null,
      "outputs": [
        {
          "output_type": "stream",
          "name": "stdout",
          "text": [
            "              precision    recall  f1-score   support\n",
            "\n",
            "         0.0       0.81      0.57      0.67        30\n",
            "         1.0       0.46      0.73      0.56        15\n",
            "\n",
            "    accuracy                           0.62        45\n",
            "   macro avg       0.63      0.65      0.62        45\n",
            "weighted avg       0.69      0.62      0.63        45\n",
            "\n"
          ]
        }
      ]
    },
    {
      "cell_type": "code",
      "source": [
        "y_pred = [a and b for a, b in zip(y1_scorei, y2_scorei)]\n",
        "y_pred"
      ],
      "metadata": {
        "id": "UeLRaSroPrlD",
        "colab": {
          "base_uri": "https://localhost:8080/"
        },
        "outputId": "9f0760ac-6a9b-4f99-bda1-65181e7d0cf1"
      },
      "execution_count": null,
      "outputs": [
        {
          "output_type": "execute_result",
          "data": {
            "text/plain": [
              "[True,\n",
              " True,\n",
              " True,\n",
              " True,\n",
              " True,\n",
              " True,\n",
              " True,\n",
              " True,\n",
              " True,\n",
              " True,\n",
              " True,\n",
              " False,\n",
              " False,\n",
              " False,\n",
              " False,\n",
              " True,\n",
              " True,\n",
              " True,\n",
              " True,\n",
              " True,\n",
              " True,\n",
              " True,\n",
              " True,\n",
              " True,\n",
              " True,\n",
              " False,\n",
              " False,\n",
              " False,\n",
              " False,\n",
              " False,\n",
              " False,\n",
              " False,\n",
              " False,\n",
              " False,\n",
              " False,\n",
              " False,\n",
              " False,\n",
              " False,\n",
              " False,\n",
              " False,\n",
              " False,\n",
              " False,\n",
              " False,\n",
              " False,\n",
              " False]"
            ]
          },
          "metadata": {},
          "execution_count": 12
        }
      ]
    },
    {
      "cell_type": "code",
      "source": [
        "tn, fp, fn, tp = confusion_matrix(y_true, y_pred).ravel() #混同行列のそれぞれの結果を取得\n",
        "print(\"TN\", tn)\n",
        "print(\"FP\", fp)\n",
        "print(\"FN\", fn)\n",
        "print(\"TP\", tp)\n",
        "print(\"Confusion Matrix\")\n",
        "print(\"\\tPPred\\tNPred\")\n",
        "print(\"NFact\\t\", tn, \"\\t\", fp)\n",
        "print(\"PFact\\t\", fn, \"\\t\", tp, \"\\n\")\n",
        "print('Accuracy :', accuracy_score(y_true, y_pred))\n",
        "print('Precision:', precision_score(y_true,y_pred))\n",
        "print('Recall   :', recall_score(y_true,y_pred))\n",
        "print('F1 score :', f1_score(y_true,y_pred))"
      ],
      "metadata": {
        "colab": {
          "base_uri": "https://localhost:8080/"
        },
        "id": "cWOZ2Sjvmaau",
        "outputId": "b97e03bb-47a2-4740-ddb3-0ac027d68217"
      },
      "execution_count": null,
      "outputs": [
        {
          "output_type": "stream",
          "name": "stdout",
          "text": [
            "TN 20\n",
            "FP 10\n",
            "FN 4\n",
            "TP 11\n",
            "Confusion Matrix\n",
            "\tPPred\tNPred\n",
            "NFact\t 20 \t 10\n",
            "PFact\t 4 \t 11 \n",
            "\n",
            "Accuracy : 0.6888888888888889\n",
            "Precision: 0.5238095238095238\n",
            "Recall   : 0.7333333333333333\n",
            "F1 score : 0.611111111111111\n"
          ]
        }
      ]
    },
    {
      "cell_type": "code",
      "source": [
        "from sklearn.metrics import roc_curve"
      ],
      "metadata": {
        "id": "D3yDSGAgp3PG"
      },
      "execution_count": null,
      "outputs": []
    },
    {
      "cell_type": "code",
      "source": [
        "roc1 = roc_curve(y_true, -y1_score)\n",
        "roc2 = roc_curve(y_true, -y2_score)\n",
        "roc1 ,roc2"
      ],
      "metadata": {
        "colab": {
          "base_uri": "https://localhost:8080/"
        },
        "id": "kb-1LYiDp_AT",
        "outputId": "44133d84-22ce-4dc0-d6ab-1f1bf2a742bc"
      },
      "execution_count": null,
      "outputs": [
        {
          "output_type": "execute_result",
          "data": {
            "text/plain": [
              "((array([0.        , 0.        , 0.        , 0.03333333, 0.03333333,\n",
              "         0.1       , 0.1       , 0.26666667, 0.26666667, 0.3       ,\n",
              "         0.3       , 0.6       , 0.6       , 1.        ]),\n",
              "  array([0.        , 0.06666667, 0.53333333, 0.53333333, 0.73333333,\n",
              "         0.73333333, 0.8       , 0.8       , 0.86666667, 0.86666667,\n",
              "         0.93333333, 0.93333333, 1.        , 1.        ]),\n",
              "  array([ 3.475,  2.475,  0.73 ,  0.596,  0.261, -0.103, -0.173, -0.522,\n",
              "         -0.575, -0.694, -0.743, -1.51 , -1.682, -3.886])),\n",
              " (array([0.        , 0.        , 0.        , 0.03333333, 0.03333333,\n",
              "         0.13333333, 0.13333333, 0.2       , 0.2       , 0.23333333,\n",
              "         0.23333333, 0.4       , 0.4       , 0.43333333, 0.43333333,\n",
              "         0.6       , 0.6       , 0.63333333, 0.63333333, 1.        ]),\n",
              "  array([0.        , 0.06666667, 0.26666667, 0.26666667, 0.4       ,\n",
              "         0.4       , 0.46666667, 0.46666667, 0.53333333, 0.53333333,\n",
              "         0.6       , 0.6       , 0.73333333, 0.73333333, 0.8       ,\n",
              "         0.8       , 0.86666667, 0.86666667, 1.        , 1.        ]),\n",
              "  array([ 2.913,  1.913,  0.658,  0.602,  0.199, -0.108, -0.162, -0.361,\n",
              "         -0.383, -0.406, -0.412, -0.573, -0.692, -0.794, -0.824, -1.512,\n",
              "         -1.578, -1.673, -1.801, -3.997])))"
            ]
          },
          "metadata": {},
          "execution_count": 30
        }
      ]
    },
    {
      "cell_type": "code",
      "source": [
        "plt.plot(roc1[0], roc1[1], marker='o')\n",
        "plt.plot(roc2[0], roc2[1], marker='o')\n",
        "plt.xlabel('FPR: False positive rate')\n",
        "plt.ylabel('TPR: True positive rate')\n",
        "plt.grid()"
      ],
      "metadata": {
        "colab": {
          "base_uri": "https://localhost:8080/",
          "height": 449
        },
        "id": "3InhGQahqNJf",
        "outputId": "8ee5ba59-6903-4b04-ba35-f2276aaf3de2"
      },
      "execution_count": null,
      "outputs": [
        {
          "output_type": "display_data",
          "data": {
            "text/plain": [
              "<Figure size 640x480 with 1 Axes>"
            ],
            "image/png": "[encoded data removed]"
          },
          "metadata": {}
        }
      ]
    },
    {
      "cell_type": "code",
      "source": [
        "from sklearn.metrics import roc_auc_score\n",
        "auc1 = roc_auc_score(y_true, -y1_score)\n",
        "auc1"
      ],
      "metadata": {
        "colab": {
          "base_uri": "https://localhost:8080/"
        },
        "id": "g9AJqJruqSHG",
        "outputId": "a23ba835-5c2f-4894-f017-592aa1a2fce2"
      },
      "execution_count": null,
      "outputs": [
        {
          "output_type": "execute_result",
          "data": {
            "text/plain": [
              "0.9088888888888889"
            ]
          },
          "metadata": {},
          "execution_count": 35
        }
      ]
    },
    {
      "cell_type": "code",
      "source": [
        "auc2 = roc_auc_score(y_true, -y2_score)\n",
        "auc2"
      ],
      "metadata": {
        "colab": {
          "base_uri": "https://localhost:8080/"
        },
        "id": "FdSVM-pUxPSg",
        "outputId": "e8578fee-d92d-4dab-dc96-516b0d6de8a1"
      },
      "execution_count": null,
      "outputs": [
        {
          "output_type": "execute_result",
          "data": {
            "text/plain": [
              "0.7511111111111111"
            ]
          },
          "metadata": {},
          "execution_count": 36
        }
      ]
    },
    {
      "cell_type": "markdown",
      "source": [
        "# 問題４\n",
        "f値、AUCなどから**検査Aの方がより信頼できる**みたいなことを書けばいい気がします。"
      ],
      "metadata": {
        "id": "NkYA8FLTxbuF"
      }
    }
  ]
}