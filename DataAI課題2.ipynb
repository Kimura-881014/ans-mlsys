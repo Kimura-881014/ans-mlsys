{
  "nbformat": 4,
  "nbformat_minor": 0,
  "metadata": {
    "colab": {
      "provenance": []
    },
    "kernelspec": {
      "name": "python3",
      "display_name": "Python 3"
    },
    "language_info": {
      "name": "python"
    }
  },
  "cells": [
    {
      "cell_type": "markdown",
      "source": [
        "---\n",
        "> # このファイルには私がテストに使ったセルも含まれています。答え合わせもしくは必要なセルを抽出してから提出するようにお願いします。\n",
        "---"
      ],
      "metadata": {
        "id": "RVL9yrekyLsl"
      }
    },
    {
      "cell_type": "code",
      "execution_count": 1,
      "metadata": {
        "id": "NaWS1gPkIsn9"
      },
      "outputs": [],
      "source": [
        "import numpy as np"
      ]
    },
    {
      "cell_type": "code",
      "source": [
        "import csv"
      ],
      "metadata": {
        "id": "8-4d80leJRUz"
      },
      "execution_count": 2,
      "outputs": []
    },
    {
      "cell_type": "code",
      "source": [
        "y_pred = []\n",
        "y_true = []\n",
        "\n",
        "with open('p2data.csv') as f:\n",
        "    reader = csv.reader(f)\n",
        "    l = [row for row in reader][1:]\n",
        "    for i in l:\n",
        "      if float(i[0]) < 0.8 and float(i[1]) < 0.8:\n",
        "        y_pred.append(1)\n",
        "      else:\n",
        "        y_pred.append(0)\n",
        "      y_true.append(int(i[2]))\n",
        "\n",
        "print(y_pred)\n",
        "print(y_true)"
      ],
      "metadata": {
        "colab": {
          "base_uri": "https://localhost:8080/"
        },
        "id": "zDRkEVuqI0qg",
        "outputId": "6ab54706-0744-4f63-bdea-a44cde096091"
      },
      "execution_count": 3,
      "outputs": [
        {
          "output_type": "stream",
          "name": "stdout",
          "text": [
            "[1, 1, 1, 1, 1, 1, 1, 1, 1, 1, 1, 0, 0, 0, 0, 1, 1, 1, 1, 1, 1, 1, 1, 1, 1, 0, 0, 0, 0, 0, 0, 0, 0, 0, 0, 0, 0, 0, 0, 0, 0, 0, 0, 0, 0]\n",
            "[1, 1, 1, 1, 1, 1, 1, 1, 1, 1, 1, 1, 1, 1, 1, 0, 0, 0, 0, 0, 0, 0, 0, 0, 0, 0, 0, 0, 0, 0, 0, 0, 0, 0, 0, 0, 0, 0, 0, 0, 0, 0, 0, 0, 0]\n"
          ]
        }
      ]
    },
    {
      "cell_type": "code",
      "source": [
        "from sklearn.metrics import confusion_matrix\n",
        "from sklearn.metrics import accuracy_score\n",
        "from sklearn.metrics import recall_score\n",
        "from sklearn.metrics import precision_score\n",
        "from sklearn.metrics import f1_score"
      ],
      "metadata": {
        "id": "TvZ1G2eQJD5J"
      },
      "execution_count": 4,
      "outputs": []
    },
    {
      "cell_type": "code",
      "source": [
        "tn, fp, fn, tp = confusion_matrix(y_true, y_pred).ravel() #混同行列のそれぞれの結果を取得\n",
        "print(\"TN\", tn)\n",
        "print(\"FP\", fp)\n",
        "print(\"FN\", fn)\n",
        "print(\"TP\", tp)\n",
        "print(\"Confusion Matrix\")\n",
        "print(\"\\tPPred\\tNPred\")\n",
        "print(\"NFact\\t\", tn, \"\\t\", fp)\n",
        "print(\"PFact\\t\", fn, \"\\t\", tp, \"\\n\")\n",
        "print('Accuracy :', accuracy_score(y_true, y_pred))\n",
        "print('Precision:', precision_score(y_true,y_pred))\n",
        "print('Recall   :', recall_score(y_true,y_pred))\n",
        "print('F1 score :', f1_score(y_true,y_pred))"
      ],
      "metadata": {
        "colab": {
          "base_uri": "https://localhost:8080/"
        },
        "id": "dV1EAuCzLZJB",
        "outputId": "decadf4a-8ed8-4701-afde-62ccafb8a42f"
      },
      "execution_count": 5,
      "outputs": [
        {
          "output_type": "stream",
          "name": "stdout",
          "text": [
            "TN 20\n",
            "FP 10\n",
            "FN 4\n",
            "TP 11\n",
            "Confusion Matrix\n",
            "\tPPred\tNPred\n",
            "NFact\t 20 \t 10\n",
            "PFact\t 4 \t 11 \n",
            "\n",
            "Accuracy : 0.6888888888888889\n",
            "Precision: 0.5238095238095238\n",
            "Recall   : 0.7333333333333333\n",
            "F1 score : 0.611111111111111\n"
          ]
        }
      ]
    },
    {
      "cell_type": "code",
      "source": [
        "!wget http://class.west.sd.keio.ac.jp/dataai/data/p2data.csv"
      ],
      "metadata": {
        "colab": {
          "base_uri": "https://localhost:8080/"
        },
        "id": "gR0ieP_TLmk0",
        "outputId": "42ab77ee-0e97-4fd2-d0fe-e456bae3454f"
      },
      "execution_count": 6,
      "outputs": [
        {
          "output_type": "stream",
          "name": "stdout",
          "text": [
            "--2023-10-13 14:10:24--  http://class.west.sd.keio.ac.jp/dataai/data/p2data.csv\n",
            "Resolving class.west.sd.keio.ac.jp (class.west.sd.keio.ac.jp)... 131.113.98.81\n",
            "Connecting to class.west.sd.keio.ac.jp (class.west.sd.keio.ac.jp)|131.113.98.81|:80... connected.\n",
            "HTTP request sent, awaiting response... 200 OK\n",
            "Length: 762 [text/csv]\n",
            "Saving to: ‘p2data.csv.2’\n",
            "\n",
            "p2data.csv.2        100%[===================>]     762  --.-KB/s    in 0s      \n",
            "\n",
            "2023-10-13 14:10:24 (112 MB/s) - ‘p2data.csv.2’ saved [762/762]\n",
            "\n"
          ]
        }
      ]
    },
    {
      "cell_type": "code",
      "source": [
        "import pandas as pd\n",
        "from matplotlib import pyplot as plt\n",
        "df = pd.read_csv('p2data.csv')\n",
        "df.values"
      ],
      "metadata": {
        "colab": {
          "base_uri": "https://localhost:8080/"
        },
        "id": "_xPbg5TJPdoi",
        "outputId": "e6decb37-194c-47ce-b3c2-bc29847cbd69"
      },
      "execution_count": 7,
      "outputs": [
        {
          "output_type": "execute_result",
          "data": {
            "text/plain": [
              "array([[-2.475, -1.913,  1.   ],\n",
              "       [-2.436, -1.316,  1.   ],\n",
              "       [-1.63 , -0.805,  1.   ],\n",
              "       [-1.333, -0.658,  1.   ],\n",
              "       [-0.964, -0.299,  1.   ],\n",
              "       [-0.96 , -0.199,  1.   ],\n",
              "       [-0.78 ,  0.162,  1.   ],\n",
              "       [-0.73 ,  0.383,  1.   ],\n",
              "       [-0.432,  0.412,  1.   ],\n",
              "       [-0.326,  0.619,  1.   ],\n",
              "       [-0.261,  0.692,  1.   ],\n",
              "       [ 0.173,  0.824,  1.   ],\n",
              "       [ 0.575,  1.578,  1.   ],\n",
              "       [ 0.743,  1.764,  1.   ],\n",
              "       [ 1.682,  1.801,  1.   ],\n",
              "       [-0.596, -0.602,  0.   ],\n",
              "       [-0.141, -0.172,  0.   ],\n",
              "       [ 0.103, -0.071,  0.   ],\n",
              "       [ 0.196,  0.108,  0.   ],\n",
              "       [ 0.199,  0.314,  0.   ],\n",
              "       [ 0.34 ,  0.361,  0.   ],\n",
              "       [ 0.429,  0.406,  0.   ],\n",
              "       [ 0.522,  0.469,  0.   ],\n",
              "       [ 0.694,  0.511,  0.   ],\n",
              "       [ 0.79 ,  0.52 ,  0.   ],\n",
              "       [ 0.853,  0.558,  0.   ],\n",
              "       [ 0.888,  0.573,  0.   ],\n",
              "       [ 0.992,  0.794,  0.   ],\n",
              "       [ 1.186,  0.835,  0.   ],\n",
              "       [ 1.238,  0.965,  0.   ],\n",
              "       [ 1.297,  1.377,  0.   ],\n",
              "       [ 1.393,  1.5  ,  0.   ],\n",
              "       [ 1.51 ,  1.512,  0.   ],\n",
              "       [ 1.808,  1.673,  0.   ],\n",
              "       [ 1.968,  1.83 ,  0.   ],\n",
              "       [ 1.995,  1.891,  0.   ],\n",
              "       [ 2.367,  2.024,  0.   ],\n",
              "       [ 2.62 ,  2.399,  0.   ],\n",
              "       [ 2.855,  2.631,  0.   ],\n",
              "       [ 2.908,  2.706,  0.   ],\n",
              "       [ 2.928,  2.992,  0.   ],\n",
              "       [ 2.953,  3.038,  0.   ],\n",
              "       [ 3.094,  3.09 ,  0.   ],\n",
              "       [ 3.547,  3.218,  0.   ],\n",
              "       [ 3.886,  3.997,  0.   ]])"
            ]
          },
          "metadata": {},
          "execution_count": 7
        }
      ]
    },
    {
      "cell_type": "code",
      "source": [
        "from sklearn.metrics import confusion_matrix\n",
        "from sklearn.metrics import accuracy_score\n",
        "from sklearn.metrics import recall_score\n",
        "from sklearn.metrics import precision_score\n",
        "from sklearn.metrics import f1_score"
      ],
      "metadata": {
        "id": "Hk3UpzZNPf7I"
      },
      "execution_count": 8,
      "outputs": []
    },
    {
      "cell_type": "code",
      "source": [
        "y1_score = df.values[:,0]\n",
        "y2_score = df.values[:,1]\n",
        "y_true = df.values[:,2]"
      ],
      "metadata": {
        "id": "pzfmVnV7PlJB"
      },
      "execution_count": 9,
      "outputs": []
    },
    {
      "cell_type": "code",
      "source": [
        "y1_scorei = y1_score<0.8\n",
        "y2_scorei = y2_score<0.8"
      ],
      "metadata": {
        "id": "Txtu-CT1Pmpj"
      },
      "execution_count": 10,
      "outputs": []
    },
    {
      "cell_type": "code",
      "source": [
        "y1_scorei"
      ],
      "metadata": {
        "colab": {
          "base_uri": "https://localhost:8080/"
        },
        "id": "T-ad9uGEPoPa",
        "outputId": "e73b0879-f2be-4f68-f060-bed6c36cbcba"
      },
      "execution_count": 11,
      "outputs": [
        {
          "output_type": "execute_result",
          "data": {
            "text/plain": [
              "array([ True,  True,  True,  True,  True,  True,  True,  True,  True,\n",
              "        True,  True,  True,  True,  True, False,  True,  True,  True,\n",
              "        True,  True,  True,  True,  True,  True,  True, False, False,\n",
              "       False, False, False, False, False, False, False, False, False,\n",
              "       False, False, False, False, False, False, False, False, False])"
            ]
          },
          "metadata": {},
          "execution_count": 11
        }
      ]
    },
    {
      "cell_type": "code",
      "source": [
        "y2_scorei"
      ],
      "metadata": {
        "id": "SfrGx8B2Pp1J",
        "outputId": "7b088cf2-68a2-45f2-9e63-ad16d8c5fc6e",
        "colab": {
          "base_uri": "https://localhost:8080/"
        }
      },
      "execution_count": 12,
      "outputs": [
        {
          "output_type": "execute_result",
          "data": {
            "text/plain": [
              "array([ True,  True,  True,  True,  True,  True,  True,  True,  True,\n",
              "        True,  True, False, False, False, False,  True,  True,  True,\n",
              "        True,  True,  True,  True,  True,  True,  True,  True,  True,\n",
              "        True, False, False, False, False, False, False, False, False,\n",
              "       False, False, False, False, False, False, False, False, False])"
            ]
          },
          "metadata": {},
          "execution_count": 12
        }
      ]
    },
    {
      "cell_type": "code",
      "source": [
        "from sklearn.metrics import classification_report"
      ],
      "metadata": {
        "id": "H9avO2v8uAYz"
      },
      "execution_count": 13,
      "outputs": []
    },
    {
      "cell_type": "code",
      "source": [
        "# tn, fp, fn, tp = confusion_matrix(y_true, y1_scorei).ravel() #混同行列のそれぞれの結果を取得\n",
        "# print(\"TN\", tn)\n",
        "# print(\"FP\", fp)\n",
        "# print(\"FN\", fn)\n",
        "# print(\"TP\", tp)\n",
        "# print(\"Confusion Matrix\")\n",
        "# print(\"\\tPPred\\tNPred\")\n",
        "# print(\"NFact\\t\", tn, \"\\t\", fp)\n",
        "# print(\"PFact\\t\", fn, \"\\t\", tp, \"\\n\")\n",
        "# print('Accuracy :', accuracy_score(y_true, y_pred))\n",
        "# print('Precision:', precision_score(y_true,y_pred))\n",
        "# print('Recall   :', recall_score(y_true,y_pred))\n",
        "# print('F1 score :', f1_score(y_true,y_pred))"
      ],
      "metadata": {
        "id": "Gv8nlv2gv9PB"
      },
      "execution_count": 14,
      "outputs": []
    },
    {
      "cell_type": "code",
      "source": [
        "print(classification_report(y_true, y1_scorei))"
      ],
      "metadata": {
        "colab": {
          "base_uri": "https://localhost:8080/"
        },
        "id": "26fQbQFCuB6H",
        "outputId": "a75d216f-9978-48e9-fdef-807ea7bf64b9"
      },
      "execution_count": 15,
      "outputs": [
        {
          "output_type": "stream",
          "name": "stdout",
          "text": [
            "              precision    recall  f1-score   support\n",
            "\n",
            "         0.0       0.95      0.67      0.78        30\n",
            "         1.0       0.58      0.93      0.72        15\n",
            "\n",
            "    accuracy                           0.76        45\n",
            "   macro avg       0.77      0.80      0.75        45\n",
            "weighted avg       0.83      0.76      0.76        45\n",
            "\n"
          ]
        }
      ]
    },
    {
      "cell_type": "code",
      "source": [
        "print(classification_report(y_true, y2_scorei))"
      ],
      "metadata": {
        "colab": {
          "base_uri": "https://localhost:8080/"
        },
        "id": "6HNs9DSJuIbl",
        "outputId": "342698ce-5310-41af-9d6e-de0b4e8ea9d5"
      },
      "execution_count": 16,
      "outputs": [
        {
          "output_type": "stream",
          "name": "stdout",
          "text": [
            "              precision    recall  f1-score   support\n",
            "\n",
            "         0.0       0.81      0.57      0.67        30\n",
            "         1.0       0.46      0.73      0.56        15\n",
            "\n",
            "    accuracy                           0.62        45\n",
            "   macro avg       0.63      0.65      0.62        45\n",
            "weighted avg       0.69      0.62      0.63        45\n",
            "\n"
          ]
        }
      ]
    },
    {
      "cell_type": "code",
      "source": [
        "y_pred = [a and b for a, b in zip(y1_scorei, y2_scorei)]\n",
        "y_pred"
      ],
      "metadata": {
        "id": "UeLRaSroPrlD",
        "colab": {
          "base_uri": "https://localhost:8080/"
        },
        "outputId": "265dd8ef-6807-4765-b6be-753715ff3e64"
      },
      "execution_count": 17,
      "outputs": [
        {
          "output_type": "execute_result",
          "data": {
            "text/plain": [
              "[True,\n",
              " True,\n",
              " True,\n",
              " True,\n",
              " True,\n",
              " True,\n",
              " True,\n",
              " True,\n",
              " True,\n",
              " True,\n",
              " True,\n",
              " False,\n",
              " False,\n",
              " False,\n",
              " False,\n",
              " True,\n",
              " True,\n",
              " True,\n",
              " True,\n",
              " True,\n",
              " True,\n",
              " True,\n",
              " True,\n",
              " True,\n",
              " True,\n",
              " False,\n",
              " False,\n",
              " False,\n",
              " False,\n",
              " False,\n",
              " False,\n",
              " False,\n",
              " False,\n",
              " False,\n",
              " False,\n",
              " False,\n",
              " False,\n",
              " False,\n",
              " False,\n",
              " False,\n",
              " False,\n",
              " False,\n",
              " False,\n",
              " False,\n",
              " False]"
            ]
          },
          "metadata": {},
          "execution_count": 17
        }
      ]
    },
    {
      "cell_type": "code",
      "source": [
        "tn, fp, fn, tp = confusion_matrix(y_true, y_pred).ravel() #混同行列のそれぞれの結果を取得\n",
        "print(\"TN\", tn)\n",
        "print(\"FP\", fp)\n",
        "print(\"FN\", fn)\n",
        "print(\"TP\", tp)\n",
        "print(\"Confusion Matrix\")\n",
        "print(\"\\tPPred\\tNPred\")\n",
        "print(\"NFact\\t\", tn, \"\\t\", fp)\n",
        "print(\"PFact\\t\", fn, \"\\t\", tp, \"\\n\")\n",
        "print('Accuracy :', accuracy_score(y_true, y_pred))\n",
        "print('Precision:', precision_score(y_true,y_pred))\n",
        "print('Recall   :', recall_score(y_true,y_pred))\n",
        "print('F1 score :', f1_score(y_true,y_pred))"
      ],
      "metadata": {
        "colab": {
          "base_uri": "https://localhost:8080/"
        },
        "id": "cWOZ2Sjvmaau",
        "outputId": "8e890d83-49f4-4072-cca7-c21bb6dd5eae"
      },
      "execution_count": 18,
      "outputs": [
        {
          "output_type": "stream",
          "name": "stdout",
          "text": [
            "TN 20\n",
            "FP 10\n",
            "FN 4\n",
            "TP 11\n",
            "Confusion Matrix\n",
            "\tPPred\tNPred\n",
            "NFact\t 20 \t 10\n",
            "PFact\t 4 \t 11 \n",
            "\n",
            "Accuracy : 0.6888888888888889\n",
            "Precision: 0.5238095238095238\n",
            "Recall   : 0.7333333333333333\n",
            "F1 score : 0.611111111111111\n"
          ]
        }
      ]
    },
    {
      "cell_type": "code",
      "source": [
        "from sklearn.metrics import roc_curve"
      ],
      "metadata": {
        "id": "D3yDSGAgp3PG"
      },
      "execution_count": 19,
      "outputs": []
    },
    {
      "cell_type": "code",
      "source": [
        "y1_score"
      ],
      "metadata": {
        "id": "pDHpiFbJd0Qk",
        "outputId": "dbef9f9d-21ea-48ed-d8db-b3c8b8ee0cf5",
        "colab": {
          "base_uri": "https://localhost:8080/"
        }
      },
      "execution_count": 20,
      "outputs": [
        {
          "output_type": "execute_result",
          "data": {
            "text/plain": [
              "array([-2.475, -2.436, -1.63 , -1.333, -0.964, -0.96 , -0.78 , -0.73 ,\n",
              "       -0.432, -0.326, -0.261,  0.173,  0.575,  0.743,  1.682, -0.596,\n",
              "       -0.141,  0.103,  0.196,  0.199,  0.34 ,  0.429,  0.522,  0.694,\n",
              "        0.79 ,  0.853,  0.888,  0.992,  1.186,  1.238,  1.297,  1.393,\n",
              "        1.51 ,  1.808,  1.968,  1.995,  2.367,  2.62 ,  2.855,  2.908,\n",
              "        2.928,  2.953,  3.094,  3.547,  3.886])"
            ]
          },
          "metadata": {},
          "execution_count": 20
        }
      ]
    },
    {
      "cell_type": "code",
      "source": [
        "roc1 = roc_curve(y_true, y1_score)\n",
        "roc2 = roc_curve(y_true, y2_score)\n",
        "plt.plot(roc1[0], roc1[1], marker='o',label=\"A\")\n",
        "plt.plot(roc2[0], roc2[1], marker='o',label=\"B\")\n",
        "plt.xlabel('FPR: False positive rate')\n",
        "plt.ylabel('TPR: True positive rate')\n",
        "plt.grid()\n",
        "plt.legend()"
      ],
      "metadata": {
        "id": "kQVdw4N-gJsG",
        "outputId": "36486fd4-f675-4504-ace3-5b9ab0bbd8bd",
        "colab": {
          "base_uri": "https://localhost:8080/",
          "height": 467
        }
      },
      "execution_count": 21,
      "outputs": [
        {
          "output_type": "execute_result",
          "data": {
            "text/plain": [
              "<matplotlib.legend.Legend at 0x7c810a9d6800>"
            ]
          },
          "metadata": {},
          "execution_count": 21
        },
        {
          "output_type": "display_data",
          "data": {
            "text/plain": [
              "<Figure size 640x480 with 1 Axes>"
            ],
            "image/png": "[encoded data removed]"
          },
          "metadata": {}
        }
      ]
    },
    {
      "cell_type": "code",
      "source": [
        "roc1 = roc_curve(y_true, y1_score)\n",
        "roc2 = roc_curve(y_true, y2_score)\n",
        "plt.plot(roc1[1], roc1[0], marker='o',label=\"A\")\n",
        "plt.plot(roc2[1], roc2[0], marker='o',label=\"B\")\n",
        "plt.xlabel('FPR: False positive rate')\n",
        "plt.ylabel('TPR: True positive rate')\n",
        "plt.grid()\n",
        "plt.legend()"
      ],
      "metadata": {
        "id": "Lh7B2AGOhQXF",
        "outputId": "286dc0c9-ae37-43f2-ec0a-cbeab3776dcd",
        "colab": {
          "base_uri": "https://localhost:8080/",
          "height": 467
        }
      },
      "execution_count": 22,
      "outputs": [
        {
          "output_type": "execute_result",
          "data": {
            "text/plain": [
              "<matplotlib.legend.Legend at 0x7c810a998b20>"
            ]
          },
          "metadata": {},
          "execution_count": 22
        },
        {
          "output_type": "display_data",
          "data": {
            "text/plain": [
              "<Figure size 640x480 with 1 Axes>"
            ],
            "image/png": "[encoded data removed]"
          },
          "metadata": {}
        }
      ]
    },
    {
      "cell_type": "code",
      "source": [
        "y1_scorei = y1_score<0.8\n",
        "y1_scorej = -y1_score>-0.8"
      ],
      "metadata": {
        "id": "1eY6Vgj1epPB"
      },
      "execution_count": 23,
      "outputs": []
    },
    {
      "cell_type": "code",
      "source": [
        "y1_scorei,y1_scorej"
      ],
      "metadata": {
        "id": "yjuRxx3gevzt",
        "outputId": "06419c59-d134-466a-b2d6-75927205f5f2",
        "colab": {
          "base_uri": "https://localhost:8080/"
        }
      },
      "execution_count": 24,
      "outputs": [
        {
          "output_type": "execute_result",
          "data": {
            "text/plain": [
              "(array([ True,  True,  True,  True,  True,  True,  True,  True,  True,\n",
              "         True,  True,  True,  True,  True, False,  True,  True,  True,\n",
              "         True,  True,  True,  True,  True,  True,  True, False, False,\n",
              "        False, False, False, False, False, False, False, False, False,\n",
              "        False, False, False, False, False, False, False, False, False]),\n",
              " array([ True,  True,  True,  True,  True,  True,  True,  True,  True,\n",
              "         True,  True,  True,  True,  True, False,  True,  True,  True,\n",
              "         True,  True,  True,  True,  True,  True,  True, False, False,\n",
              "        False, False, False, False, False, False, False, False, False,\n",
              "        False, False, False, False, False, False, False, False, False]))"
            ]
          },
          "metadata": {},
          "execution_count": 24
        }
      ]
    },
    {
      "cell_type": "code",
      "source": [
        "roc1 ,roc2"
      ],
      "metadata": {
        "id": "o8RwANKshApK",
        "outputId": "b975dae2-9c7e-441e-88a6-c81e1f5fc9fc",
        "colab": {
          "base_uri": "https://localhost:8080/"
        }
      },
      "execution_count": 25,
      "outputs": [
        {
          "output_type": "execute_result",
          "data": {
            "text/plain": [
              "((array([0.        , 0.03333333, 0.4       , 0.4       , 0.7       ,\n",
              "         0.7       , 0.73333333, 0.73333333, 0.9       , 0.9       ,\n",
              "         0.96666667, 0.96666667, 1.        , 1.        ]),\n",
              "  array([0.        , 0.        , 0.        , 0.06666667, 0.06666667,\n",
              "         0.13333333, 0.13333333, 0.2       , 0.2       , 0.26666667,\n",
              "         0.26666667, 0.46666667, 0.46666667, 1.        ]),\n",
              "  array([ 4.886,  3.886,  1.808,  1.682,  0.79 ,  0.743,  0.694,  0.575,\n",
              "          0.196,  0.173, -0.141, -0.432, -0.596, -2.475])),\n",
              " (array([0.        , 0.03333333, 0.36666667, 0.36666667, 0.4       ,\n",
              "         0.4       , 0.56666667, 0.56666667, 0.6       , 0.6       ,\n",
              "         0.76666667, 0.76666667, 0.8       , 0.8       , 0.86666667,\n",
              "         0.86666667, 0.96666667, 0.96666667, 1.        , 1.        ]),\n",
              "  array([0.        , 0.        , 0.        , 0.13333333, 0.13333333,\n",
              "         0.2       , 0.2       , 0.26666667, 0.26666667, 0.4       ,\n",
              "         0.4       , 0.46666667, 0.46666667, 0.53333333, 0.53333333,\n",
              "         0.6       , 0.6       , 0.73333333, 0.73333333, 1.        ]),\n",
              "  array([ 4.997,  3.997,  1.83 ,  1.764,  1.673,  1.578,  0.835,  0.824,\n",
              "          0.794,  0.619,  0.469,  0.412,  0.406,  0.383,  0.314,  0.162,\n",
              "         -0.172, -0.299, -0.602, -1.913])))"
            ]
          },
          "metadata": {},
          "execution_count": 25
        }
      ]
    },
    {
      "cell_type": "code",
      "source": [
        "roc1 = roc_curve(y_true, -y1_score)\n",
        "roc2 = roc_curve(y_true, -y2_score)\n",
        "roc1 ,roc2"
      ],
      "metadata": {
        "colab": {
          "base_uri": "https://localhost:8080/"
        },
        "id": "kb-1LYiDp_AT",
        "outputId": "68e19f2b-7e4b-4844-f044-47947fc75b20"
      },
      "execution_count": 26,
      "outputs": [
        {
          "output_type": "execute_result",
          "data": {
            "text/plain": [
              "((array([0.        , 0.        , 0.        , 0.03333333, 0.03333333,\n",
              "         0.1       , 0.1       , 0.26666667, 0.26666667, 0.3       ,\n",
              "         0.3       , 0.6       , 0.6       , 1.        ]),\n",
              "  array([0.        , 0.06666667, 0.53333333, 0.53333333, 0.73333333,\n",
              "         0.73333333, 0.8       , 0.8       , 0.86666667, 0.86666667,\n",
              "         0.93333333, 0.93333333, 1.        , 1.        ]),\n",
              "  array([ 3.475,  2.475,  0.73 ,  0.596,  0.261, -0.103, -0.173, -0.522,\n",
              "         -0.575, -0.694, -0.743, -1.51 , -1.682, -3.886])),\n",
              " (array([0.        , 0.        , 0.        , 0.03333333, 0.03333333,\n",
              "         0.13333333, 0.13333333, 0.2       , 0.2       , 0.23333333,\n",
              "         0.23333333, 0.4       , 0.4       , 0.43333333, 0.43333333,\n",
              "         0.6       , 0.6       , 0.63333333, 0.63333333, 1.        ]),\n",
              "  array([0.        , 0.06666667, 0.26666667, 0.26666667, 0.4       ,\n",
              "         0.4       , 0.46666667, 0.46666667, 0.53333333, 0.53333333,\n",
              "         0.6       , 0.6       , 0.73333333, 0.73333333, 0.8       ,\n",
              "         0.8       , 0.86666667, 0.86666667, 1.        , 1.        ]),\n",
              "  array([ 2.913,  1.913,  0.658,  0.602,  0.199, -0.108, -0.162, -0.361,\n",
              "         -0.383, -0.406, -0.412, -0.573, -0.692, -0.794, -0.824, -1.512,\n",
              "         -1.578, -1.673, -1.801, -3.997])))"
            ]
          },
          "metadata": {},
          "execution_count": 26
        }
      ]
    },
    {
      "cell_type": "code",
      "source": [
        "plt.plot(roc1[0], roc1[1], marker='o')\n",
        "plt.plot(roc2[0], roc2[1], marker='o')\n",
        "plt.xlabel('FPR: False positive rate')\n",
        "plt.ylabel('TPR: True positive rate')\n",
        "plt.grid()"
      ],
      "metadata": {
        "colab": {
          "base_uri": "https://localhost:8080/",
          "height": 449
        },
        "id": "3InhGQahqNJf",
        "outputId": "5e4fc4c4-8326-48b4-ebe9-d2b0f2beacb4"
      },
      "execution_count": 27,
      "outputs": [
        {
          "output_type": "display_data",
          "data": {
            "text/plain": [
              "<Figure size 640x480 with 1 Axes>"
            ],
            "image/png": "[encoded data removed]"
          },
          "metadata": {}
        }
      ]
    },
    {
      "cell_type": "code",
      "source": [
        "from sklearn.metrics import roc_auc_score\n",
        "auc1 = roc_auc_score(y_true, -y1_score)\n",
        "auc1"
      ],
      "metadata": {
        "colab": {
          "base_uri": "https://localhost:8080/"
        },
        "id": "g9AJqJruqSHG",
        "outputId": "7e4e6088-f228-4737-c0ea-b5eac0c0dec3"
      },
      "execution_count": 28,
      "outputs": [
        {
          "output_type": "execute_result",
          "data": {
            "text/plain": [
              "0.9088888888888889"
            ]
          },
          "metadata": {},
          "execution_count": 28
        }
      ]
    },
    {
      "cell_type": "code",
      "source": [
        "auc2 = roc_auc_score(y_true, -y2_score)\n",
        "auc2"
      ],
      "metadata": {
        "colab": {
          "base_uri": "https://localhost:8080/"
        },
        "id": "FdSVM-pUxPSg",
        "outputId": "7ca77ce4-e7dc-47b1-93eb-bb8ad7a3be59"
      },
      "execution_count": 29,
      "outputs": [
        {
          "output_type": "execute_result",
          "data": {
            "text/plain": [
              "0.7511111111111111"
            ]
          },
          "metadata": {},
          "execution_count": 29
        }
      ]
    },
    {
      "cell_type": "code",
      "source": [
        "# データを読み込む\n",
        "data = pd.read_csv('p2data.csv')\n",
        "\n",
        "# 特徴量とターゲットを分離\n",
        "X = data.values[:,0]\n",
        "y = df.values[:,2]\n",
        "\n",
        "\n",
        "positive_prob = X\n",
        "\n",
        "# ROC曲線を計算\n",
        "fpr, tpr, thresholds = roc_curve(y, positive_prob)\n",
        "\n",
        "# ROC曲線をプロット\n",
        "plt.figure()\n",
        "plt.plot(fpr, tpr)\n",
        "plt.plot([0, 1], [0, 1], lw=2, linestyle='--')\n",
        "plt.xlabel('FPR: False positive rate')\n",
        "plt.ylabel('TPR: True positive rate')\n",
        "plt.grid()\n",
        "plt.show()\n"
      ],
      "metadata": {
        "id": "ZU8DssjNjs9O",
        "outputId": "34518895-3dc0-441d-855b-650490efdf07",
        "colab": {
          "base_uri": "https://localhost:8080/",
          "height": 449
        }
      },
      "execution_count": 30,
      "outputs": [
        {
          "output_type": "display_data",
          "data": {
            "text/plain": [
              "<Figure size 640x480 with 1 Axes>"
            ],
            "image/png": "[encoded data removed]"
          },
          "metadata": {}
        }
      ]
    },
    {
      "cell_type": "code",
      "source": [
        "y_true"
      ],
      "metadata": {
        "id": "Oa4UJXTJWTQP",
        "outputId": "9969e832-54e1-4df2-daa1-4cc29b141d8d",
        "colab": {
          "base_uri": "https://localhost:8080/"
        }
      },
      "execution_count": 31,
      "outputs": [
        {
          "output_type": "execute_result",
          "data": {
            "text/plain": [
              "array([1., 1., 1., 1., 1., 1., 1., 1., 1., 1., 1., 1., 1., 1., 1., 0., 0.,\n",
              "       0., 0., 0., 0., 0., 0., 0., 0., 0., 0., 0., 0., 0., 0., 0., 0., 0.,\n",
              "       0., 0., 0., 0., 0., 0., 0., 0., 0., 0., 0.])"
            ]
          },
          "metadata": {},
          "execution_count": 31
        }
      ]
    },
    {
      "cell_type": "code",
      "source": [
        "my_li = []\n",
        "for i in y_true:\n",
        "  if i == 0:\n",
        "    my_li.append(1)\n",
        "  else:\n",
        "    my_li.append(0)\n",
        "my_li = np.array(my_li)\n",
        "my_li"
      ],
      "metadata": {
        "id": "dbA8sBiOWm5C",
        "outputId": "dcc41cb6-0c0d-4518-ed4d-93fd0f46f4f3",
        "colab": {
          "base_uri": "https://localhost:8080/"
        }
      },
      "execution_count": 32,
      "outputs": [
        {
          "output_type": "execute_result",
          "data": {
            "text/plain": [
              "array([0, 0, 0, 0, 0, 0, 0, 0, 0, 0, 0, 0, 0, 0, 0, 1, 1, 1, 1, 1, 1, 1,\n",
              "       1, 1, 1, 1, 1, 1, 1, 1, 1, 1, 1, 1, 1, 1, 1, 1, 1, 1, 1, 1, 1, 1,\n",
              "       1])"
            ]
          },
          "metadata": {},
          "execution_count": 32
        }
      ]
    },
    {
      "cell_type": "code",
      "source": [
        "roc1 = roc_curve(my_li, y1_score)\n",
        "roc2 = roc_curve(my_li, y2_score)"
      ],
      "metadata": {
        "id": "hStgYp_rW4qO"
      },
      "execution_count": 33,
      "outputs": []
    },
    {
      "cell_type": "code",
      "source": [
        "plt.figure()\n",
        "plt.plot(roc1[0],roc1[1],marker=\"o\",label=\"A\")\n",
        "plt.plot(roc2[0],roc2[1],marker=\"o\",label=\"B\")\n",
        "plt.grid()\n",
        "plt.legend()"
      ],
      "metadata": {
        "id": "pO1YF3xoXHE1",
        "outputId": "efa9ecb5-0e61-4a5e-f461-463f726ae33c",
        "colab": {
          "base_uri": "https://localhost:8080/",
          "height": 448
        }
      },
      "execution_count": 34,
      "outputs": [
        {
          "output_type": "execute_result",
          "data": {
            "text/plain": [
              "<matplotlib.legend.Legend at 0x7c8108672770>"
            ]
          },
          "metadata": {},
          "execution_count": 34
        },
        {
          "output_type": "display_data",
          "data": {
            "text/plain": [
              "<Figure size 640x480 with 1 Axes>"
            ],
            "image/png": "[encoded data removed]"
          },
          "metadata": {}
        }
      ]
    },
    {
      "cell_type": "markdown",
      "source": [
        "# 問題４\n",
        "f値、AUCなどから**検査Aの方がより信頼できる**みたいなことを書けばいい気がします。"
      ],
      "metadata": {
        "id": "NkYA8FLTxbuF"
      }
    }
  ]
}