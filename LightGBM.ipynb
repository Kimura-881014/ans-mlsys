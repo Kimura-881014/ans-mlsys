{
  "nbformat": 4,
  "nbformat_minor": 0,
  "metadata": {
    "colab": {
      "provenance": []
    },
    "kernelspec": {
      "name": "python3",
      "display_name": "Python 3"
    },
    "language_info": {
      "name": "python"
    }
  },
  "cells": [
    {
      "cell_type": "markdown",
      "source": [
        "---\n",
        "> ここでは迷ったら使えといわれるLightGBMを使ってみます。  \n",
        "> 他のモデルとの比較も行います。  \n",
        "---"
      ],
      "metadata": {
        "id": "NsFXQ0hnaoFp"
      }
    },
    {
      "cell_type": "markdown",
      "source": [
        "決定木のアンサンブル学習(勾配ブースティングを用いた手法)  \n",
        "欠損値はnp.nanであれば自動で処理してくれるとのこと。さすがMicrosoft  \n",
        "データセットは共通してKaggleの有名なTitanicを用いる"
      ],
      "metadata": {
        "id": "9tnPvSFJlpQj"
      }
    },
    {
      "cell_type": "code",
      "execution_count": 53,
      "metadata": {
        "id": "ze0gu_o5QY6k"
      },
      "outputs": [],
      "source": [
        "import numpy as np\n",
        "import pandas as pd\n",
        "import matplotlib.pyplot as plt"
      ]
    },
    {
      "cell_type": "code",
      "source": [
        "import lightgbm as lgb"
      ],
      "metadata": {
        "id": "VJS9uzQfQ8vv"
      },
      "execution_count": 54,
      "outputs": []
    },
    {
      "cell_type": "code",
      "source": [
        "from sklearn.model_selection import train_test_split"
      ],
      "metadata": {
        "id": "PzN-KTHVYsok"
      },
      "execution_count": 55,
      "outputs": []
    },
    {
      "cell_type": "code",
      "source": [
        "csv_data = pd.read_csv(\"/content/drive/MyDrive/Datasets/Titanic/train.csv\")"
      ],
      "metadata": {
        "id": "j2hJyxx-RAYJ"
      },
      "execution_count": 56,
      "outputs": []
    },
    {
      "cell_type": "code",
      "source": [
        "df = pd.DataFrame(csv_data)\n",
        "df"
      ],
      "metadata": {
        "colab": {
          "base_uri": "https://localhost:8080/",
          "height": 476
        },
        "id": "lVgzV5I3Sfng",
        "outputId": "70b66837-8980-4ebf-e9a7-a7382ffd84f2"
      },
      "execution_count": 57,
      "outputs": [
        {
          "output_type": "execute_result",
          "data": {
            "text/plain": [
              "     PassengerId  Survived  Pclass  \\\n",
              "0              1         0       3   \n",
              "1              2         1       1   \n",
              "2              3         1       3   \n",
              "3              4         1       1   \n",
              "4              5         0       3   \n",
              "..           ...       ...     ...   \n",
              "886          887         0       2   \n",
              "887          888         1       1   \n",
              "888          889         0       3   \n",
              "889          890         1       1   \n",
              "890          891         0       3   \n",
              "\n",
              "                                                  Name     Sex   Age  SibSp  \\\n",
              "0                              Braund, Mr. Owen Harris    male  22.0      1   \n",
              "1    Cumings, Mrs. John Bradley (Florence Briggs Th...  female  38.0      1   \n",
              "2                               Heikkinen, Miss. Laina  female  26.0      0   \n",
              "3         Futrelle, Mrs. Jacques Heath (Lily May Peel)  female  35.0      1   \n",
              "4                             Allen, Mr. William Henry    male  35.0      0   \n",
              "..                                                 ...     ...   ...    ...   \n",
              "886                              Montvila, Rev. Juozas    male  27.0      0   \n",
              "887                       Graham, Miss. Margaret Edith  female  19.0      0   \n",
              "888           Johnston, Miss. Catherine Helen \"Carrie\"  female   NaN      1   \n",
              "889                              Behr, Mr. Karl Howell    male  26.0      0   \n",
              "890                                Dooley, Mr. Patrick    male  32.0      0   \n",
              "\n",
              "     Parch            Ticket     Fare Cabin Embarked  \n",
              "0        0         A/5 21171   7.2500   NaN        S  \n",
              "1        0          PC 17599  71.2833   C85        C  \n",
              "2        0  STON/O2. 3101282   7.9250   NaN        S  \n",
              "3        0            113803  53.1000  C123        S  \n",
              "4        0            373450   8.0500   NaN        S  \n",
              "..     ...               ...      ...   ...      ...  \n",
              "886      0            211536  13.0000   NaN        S  \n",
              "887      0            112053  30.0000   B42        S  \n",
              "888      2        W./C. 6607  23.4500   NaN        S  \n",
              "889      0            111369  30.0000  C148        C  \n",
              "890      0            370376   7.7500   NaN        Q  \n",
              "\n",
              "[891 rows x 12 columns]"
            ],
            "text/html": [
              "\n",
              "  <div id=\"df-77c05c08-237e-429c-955d-c15db16301c2\" class=\"colab-df-container\">\n",
              "    <div>\n",
              "<style scoped>\n",
              "    .dataframe tbody tr th:only-of-type {\n",
              "        vertical-align: middle;\n",
              "    }\n",
              "\n",
              "    .dataframe tbody tr th {\n",
              "        vertical-align: top;\n",
              "    }\n",
              "\n",
              "    .dataframe thead th {\n",
              "        text-align: right;\n",
              "    }\n",
              "</style>\n",
              "<table border=\"1\" class=\"dataframe\">\n",
              "  <thead>\n",
              "    <tr style=\"text-align: right;\">\n",
              "      <th></th>\n",
              "      <th>PassengerId</th>\n",
              "      <th>Survived</th>\n",
              "      <th>Pclass</th>\n",
              "      <th>Name</th>\n",
              "      <th>Sex</th>\n",
              "      <th>Age</th>\n",
              "      <th>SibSp</th>\n",
              "      <th>Parch</th>\n",
              "      <th>Ticket</th>\n",
              "      <th>Fare</th>\n",
              "      <th>Cabin</th>\n",
              "      <th>Embarked</th>\n",
              "    </tr>\n",
              "  </thead>\n",
              "  <tbody>\n",
              "    <tr>\n",
              "      <th>0</th>\n",
              "      <td>1</td>\n",
              "      <td>0</td>\n",
              "      <td>3</td>\n",
              "      <td>Braund, Mr. Owen Harris</td>\n",
              "      <td>male</td>\n",
              "      <td>22.0</td>\n",
              "      <td>1</td>\n",
              "      <td>0</td>\n",
              "      <td>A/5 21171</td>\n",
              "      <td>7.2500</td>\n",
              "      <td>NaN</td>\n",
              "      <td>S</td>\n",
              "    </tr>\n",
              "    <tr>\n",
              "      <th>1</th>\n",
              "      <td>2</td>\n",
              "      <td>1</td>\n",
              "      <td>1</td>\n",
              "      <td>Cumings, Mrs. John Bradley (Florence Briggs Th...</td>\n",
              "      <td>female</td>\n",
              "      <td>38.0</td>\n",
              "      <td>1</td>\n",
              "      <td>0</td>\n",
              "      <td>PC 17599</td>\n",
              "      <td>71.2833</td>\n",
              "      <td>C85</td>\n",
              "      <td>C</td>\n",
              "    </tr>\n",
              "    <tr>\n",
              "      <th>2</th>\n",
              "      <td>3</td>\n",
              "      <td>1</td>\n",
              "      <td>3</td>\n",
              "      <td>Heikkinen, Miss. Laina</td>\n",
              "      <td>female</td>\n",
              "      <td>26.0</td>\n",
              "      <td>0</td>\n",
              "      <td>0</td>\n",
              "      <td>STON/O2. 3101282</td>\n",
              "      <td>7.9250</td>\n",
              "      <td>NaN</td>\n",
              "      <td>S</td>\n",
              "    </tr>\n",
              "    <tr>\n",
              "      <th>3</th>\n",
              "      <td>4</td>\n",
              "      <td>1</td>\n",
              "      <td>1</td>\n",
              "      <td>Futrelle, Mrs. Jacques Heath (Lily May Peel)</td>\n",
              "      <td>female</td>\n",
              "      <td>35.0</td>\n",
              "      <td>1</td>\n",
              "      <td>0</td>\n",
              "      <td>113803</td>\n",
              "      <td>53.1000</td>\n",
              "      <td>C123</td>\n",
              "      <td>S</td>\n",
              "    </tr>\n",
              "    <tr>\n",
              "      <th>4</th>\n",
              "      <td>5</td>\n",
              "      <td>0</td>\n",
              "      <td>3</td>\n",
              "      <td>Allen, Mr. William Henry</td>\n",
              "      <td>male</td>\n",
              "      <td>35.0</td>\n",
              "      <td>0</td>\n",
              "      <td>0</td>\n",
              "      <td>373450</td>\n",
              "      <td>8.0500</td>\n",
              "      <td>NaN</td>\n",
              "      <td>S</td>\n",
              "    </tr>\n",
              "    <tr>\n",
              "      <th>...</th>\n",
              "      <td>...</td>\n",
              "      <td>...</td>\n",
              "      <td>...</td>\n",
              "      <td>...</td>\n",
              "      <td>...</td>\n",
              "      <td>...</td>\n",
              "      <td>...</td>\n",
              "      <td>...</td>\n",
              "      <td>...</td>\n",
              "      <td>...</td>\n",
              "      <td>...</td>\n",
              "      <td>...</td>\n",
              "    </tr>\n",
              "    <tr>\n",
              "      <th>886</th>\n",
              "      <td>887</td>\n",
              "      <td>0</td>\n",
              "      <td>2</td>\n",
              "      <td>Montvila, Rev. Juozas</td>\n",
              "      <td>male</td>\n",
              "      <td>27.0</td>\n",
              "      <td>0</td>\n",
              "      <td>0</td>\n",
              "      <td>211536</td>\n",
              "      <td>13.0000</td>\n",
              "      <td>NaN</td>\n",
              "      <td>S</td>\n",
              "    </tr>\n",
              "    <tr>\n",
              "      <th>887</th>\n",
              "      <td>888</td>\n",
              "      <td>1</td>\n",
              "      <td>1</td>\n",
              "      <td>Graham, Miss. Margaret Edith</td>\n",
              "      <td>female</td>\n",
              "      <td>19.0</td>\n",
              "      <td>0</td>\n",
              "      <td>0</td>\n",
              "      <td>112053</td>\n",
              "      <td>30.0000</td>\n",
              "      <td>B42</td>\n",
              "      <td>S</td>\n",
              "    </tr>\n",
              "    <tr>\n",
              "      <th>888</th>\n",
              "      <td>889</td>\n",
              "      <td>0</td>\n",
              "      <td>3</td>\n",
              "      <td>Johnston, Miss. Catherine Helen \"Carrie\"</td>\n",
              "      <td>female</td>\n",
              "      <td>NaN</td>\n",
              "      <td>1</td>\n",
              "      <td>2</td>\n",
              "      <td>W./C. 6607</td>\n",
              "      <td>23.4500</td>\n",
              "      <td>NaN</td>\n",
              "      <td>S</td>\n",
              "    </tr>\n",
              "    <tr>\n",
              "      <th>889</th>\n",
              "      <td>890</td>\n",
              "      <td>1</td>\n",
              "      <td>1</td>\n",
              "      <td>Behr, Mr. Karl Howell</td>\n",
              "      <td>male</td>\n",
              "      <td>26.0</td>\n",
              "      <td>0</td>\n",
              "      <td>0</td>\n",
              "      <td>111369</td>\n",
              "      <td>30.0000</td>\n",
              "      <td>C148</td>\n",
              "      <td>C</td>\n",
              "    </tr>\n",
              "    <tr>\n",
              "      <th>890</th>\n",
              "      <td>891</td>\n",
              "      <td>0</td>\n",
              "      <td>3</td>\n",
              "      <td>Dooley, Mr. Patrick</td>\n",
              "      <td>male</td>\n",
              "      <td>32.0</td>\n",
              "      <td>0</td>\n",
              "      <td>0</td>\n",
              "      <td>370376</td>\n",
              "      <td>7.7500</td>\n",
              "      <td>NaN</td>\n",
              "      <td>Q</td>\n",
              "    </tr>\n",
              "  </tbody>\n",
              "</table>\n",
              "<p>891 rows × 12 columns</p>\n",
              "</div>\n",
              "    <div class=\"colab-df-buttons\">\n",
              "\n",
              "  <div class=\"colab-df-container\">\n",
              "    <button class=\"colab-df-convert\" onclick=\"convertToInteractive('df-77c05c08-237e-429c-955d-c15db16301c2')\"\n",
              "            title=\"Convert this dataframe to an interactive table.\"\n",
              "            style=\"display:none;\">\n",
              "\n",
              "  <svg xmlns=\"http://www.w3.org/2000/svg\" height=\"24px\" viewBox=\"0 -960 960 960\">\n",
              "    <path d=\"M120-120v-720h720v720H120Zm60-500h600v-160H180v160Zm220 220h160v-160H400v160Zm0 220h160v-160H400v160ZM180-400h160v-160H180v160Zm440 0h160v-160H620v160ZM180-180h160v-160H180v160Zm440 0h160v-160H620v160Z\"/>\n",
              "  </svg>\n",
              "    </button>\n",
              "\n",
              "  <style>\n",
              "    .colab-df-container {\n",
              "      display:flex;\n",
              "      gap: 12px;\n",
              "    }\n",
              "\n",
              "    .colab-df-convert {\n",
              "      background-color: #E8F0FE;\n",
              "      border: none;\n",
              "      border-radius: 50%;\n",
              "      cursor: pointer;\n",
              "      display: none;\n",
              "      fill: #1967D2;\n",
              "      height: 32px;\n",
              "      padding: 0 0 0 0;\n",
              "      width: 32px;\n",
              "    }\n",
              "\n",
              "    .colab-df-convert:hover {\n",
              "      background-color: #E2EBFA;\n",
              "      box-shadow: 0px 1px 2px rgba(60, 64, 67, 0.3), 0px 1px 3px 1px rgba(60, 64, 67, 0.15);\n",
              "      fill: #174EA6;\n",
              "    }\n",
              "\n",
              "    .colab-df-buttons div {\n",
              "      margin-bottom: 4px;\n",
              "    }\n",
              "\n",
              "    [theme=dark] .colab-df-convert {\n",
              "      background-color: #3B4455;\n",
              "      fill: #D2E3FC;\n",
              "    }\n",
              "\n",
              "    [theme=dark] .colab-df-convert:hover {\n",
              "      background-color: #434B5C;\n",
              "      box-shadow: 0px 1px 3px 1px rgba(0, 0, 0, 0.15);\n",
              "      filter: drop-shadow(0px 1px 2px rgba(0, 0, 0, 0.3));\n",
              "      fill: #FFFFFF;\n",
              "    }\n",
              "  </style>\n",
              "\n",
              "    <script>\n",
              "      const buttonEl =\n",
              "        document.querySelector('#df-77c05c08-237e-429c-955d-c15db16301c2 button.colab-df-convert');\n",
              "      buttonEl.style.display =\n",
              "        google.colab.kernel.accessAllowed ? 'block' : 'none';\n",
              "\n",
              "      async function convertToInteractive(key) {\n",
              "        const element = document.querySelector('#df-77c05c08-237e-429c-955d-c15db16301c2');\n",
              "        const dataTable =\n",
              "          await google.colab.kernel.invokeFunction('convertToInteractive',\n",
              "                                                    [key], {});\n",
              "        if (!dataTable) return;\n",
              "\n",
              "        const docLinkHtml = 'Like what you see? Visit the ' +\n",
              "          '<a target=\"_blank\" href=https://colab.research.google.com/notebooks/data_table.ipynb>data table notebook</a>'\n",
              "          + ' to learn more about interactive tables.';\n",
              "        element.innerHTML = '';\n",
              "        dataTable['output_type'] = 'display_data';\n",
              "        await google.colab.output.renderOutput(dataTable, element);\n",
              "        const docLink = document.createElement('div');\n",
              "        docLink.innerHTML = docLinkHtml;\n",
              "        element.appendChild(docLink);\n",
              "      }\n",
              "    </script>\n",
              "  </div>\n",
              "\n",
              "\n",
              "<div id=\"df-47c7a8e3-a7ad-4429-a594-76b5e27a50dc\">\n",
              "  <button class=\"colab-df-quickchart\" onclick=\"quickchart('df-47c7a8e3-a7ad-4429-a594-76b5e27a50dc')\"\n",
              "            title=\"Suggest charts.\"\n",
              "            style=\"display:none;\">\n",
              "\n",
              "<svg xmlns=\"http://www.w3.org/2000/svg\" height=\"24px\"viewBox=\"0 0 24 24\"\n",
              "     width=\"24px\">\n",
              "    <g>\n",
              "        <path d=\"M19 3H5c-1.1 0-2 .9-2 2v14c0 1.1.9 2 2 2h14c1.1 0 2-.9 2-2V5c0-1.1-.9-2-2-2zM9 17H7v-7h2v7zm4 0h-2V7h2v10zm4 0h-2v-4h2v4z\"/>\n",
              "    </g>\n",
              "</svg>\n",
              "  </button>\n",
              "\n",
              "<style>\n",
              "  .colab-df-quickchart {\n",
              "      --bg-color: #E8F0FE;\n",
              "      --fill-color: #1967D2;\n",
              "      --hover-bg-color: #E2EBFA;\n",
              "      --hover-fill-color: #174EA6;\n",
              "      --disabled-fill-color: #AAA;\n",
              "      --disabled-bg-color: #DDD;\n",
              "  }\n",
              "\n",
              "  [theme=dark] .colab-df-quickchart {\n",
              "      --bg-color: #3B4455;\n",
              "      --fill-color: #D2E3FC;\n",
              "      --hover-bg-color: #434B5C;\n",
              "      --hover-fill-color: #FFFFFF;\n",
              "      --disabled-bg-color: #3B4455;\n",
              "      --disabled-fill-color: #666;\n",
              "  }\n",
              "\n",
              "  .colab-df-quickchart {\n",
              "    background-color: var(--bg-color);\n",
              "    border: none;\n",
              "    border-radius: 50%;\n",
              "    cursor: pointer;\n",
              "    display: none;\n",
              "    fill: var(--fill-color);\n",
              "    height: 32px;\n",
              "    padding: 0;\n",
              "    width: 32px;\n",
              "  }\n",
              "\n",
              "  .colab-df-quickchart:hover {\n",
              "    background-color: var(--hover-bg-color);\n",
              "    box-shadow: 0 1px 2px rgba(60, 64, 67, 0.3), 0 1px 3px 1px rgba(60, 64, 67, 0.15);\n",
              "    fill: var(--button-hover-fill-color);\n",
              "  }\n",
              "\n",
              "  .colab-df-quickchart-complete:disabled,\n",
              "  .colab-df-quickchart-complete:disabled:hover {\n",
              "    background-color: var(--disabled-bg-color);\n",
              "    fill: var(--disabled-fill-color);\n",
              "    box-shadow: none;\n",
              "  }\n",
              "\n",
              "  .colab-df-spinner {\n",
              "    border: 2px solid var(--fill-color);\n",
              "    border-color: transparent;\n",
              "    border-bottom-color: var(--fill-color);\n",
              "    animation:\n",
              "      spin 1s steps(1) infinite;\n",
              "  }\n",
              "\n",
              "  @keyframes spin {\n",
              "    0% {\n",
              "      border-color: transparent;\n",
              "      border-bottom-color: var(--fill-color);\n",
              "      border-left-color: var(--fill-color);\n",
              "    }\n",
              "    20% {\n",
              "      border-color: transparent;\n",
              "      border-left-color: var(--fill-color);\n",
              "      border-top-color: var(--fill-color);\n",
              "    }\n",
              "    30% {\n",
              "      border-color: transparent;\n",
              "      border-left-color: var(--fill-color);\n",
              "      border-top-color: var(--fill-color);\n",
              "      border-right-color: var(--fill-color);\n",
              "    }\n",
              "    40% {\n",
              "      border-color: transparent;\n",
              "      border-right-color: var(--fill-color);\n",
              "      border-top-color: var(--fill-color);\n",
              "    }\n",
              "    60% {\n",
              "      border-color: transparent;\n",
              "      border-right-color: var(--fill-color);\n",
              "    }\n",
              "    80% {\n",
              "      border-color: transparent;\n",
              "      border-right-color: var(--fill-color);\n",
              "      border-bottom-color: var(--fill-color);\n",
              "    }\n",
              "    90% {\n",
              "      border-color: transparent;\n",
              "      border-bottom-color: var(--fill-color);\n",
              "    }\n",
              "  }\n",
              "</style>\n",
              "\n",
              "  <script>\n",
              "    async function quickchart(key) {\n",
              "      const quickchartButtonEl =\n",
              "        document.querySelector('#' + key + ' button');\n",
              "      quickchartButtonEl.disabled = true;  // To prevent multiple clicks.\n",
              "      quickchartButtonEl.classList.add('colab-df-spinner');\n",
              "      try {\n",
              "        const charts = await google.colab.kernel.invokeFunction(\n",
              "            'suggestCharts', [key], {});\n",
              "      } catch (error) {\n",
              "        console.error('Error during call to suggestCharts:', error);\n",
              "      }\n",
              "      quickchartButtonEl.classList.remove('colab-df-spinner');\n",
              "      quickchartButtonEl.classList.add('colab-df-quickchart-complete');\n",
              "    }\n",
              "    (() => {\n",
              "      let quickchartButtonEl =\n",
              "        document.querySelector('#df-47c7a8e3-a7ad-4429-a594-76b5e27a50dc button');\n",
              "      quickchartButtonEl.style.display =\n",
              "        google.colab.kernel.accessAllowed ? 'block' : 'none';\n",
              "    })();\n",
              "  </script>\n",
              "</div>\n",
              "    </div>\n",
              "  </div>\n"
            ]
          },
          "metadata": {},
          "execution_count": 57
        }
      ]
    },
    {
      "cell_type": "code",
      "source": [
        "print(df.columns)"
      ],
      "metadata": {
        "colab": {
          "base_uri": "https://localhost:8080/"
        },
        "id": "VE9eSNgMVDzj",
        "outputId": "df88caea-efc3-4619-ae4c-5848ba863013"
      },
      "execution_count": 58,
      "outputs": [
        {
          "output_type": "stream",
          "name": "stdout",
          "text": [
            "Index(['PassengerId', 'Survived', 'Pclass', 'Name', 'Sex', 'Age', 'SibSp',\n",
            "       'Parch', 'Ticket', 'Fare', 'Cabin', 'Embarked'],\n",
            "      dtype='object')\n"
          ]
        }
      ]
    },
    {
      "cell_type": "code",
      "source": [
        "data = df.loc[:,[\"Pclass\",\"Sex\",\"SibSp\",\"Parch\",\"Survived\"]]\n",
        "data"
      ],
      "metadata": {
        "colab": {
          "base_uri": "https://localhost:8080/",
          "height": 424
        },
        "id": "Qx4vb2pPTEVG",
        "outputId": "643285cf-70b3-4378-8307-3080caa7a359"
      },
      "execution_count": 59,
      "outputs": [
        {
          "output_type": "execute_result",
          "data": {
            "text/plain": [
              "     Pclass     Sex  SibSp  Parch  Survived\n",
              "0         3    male      1      0         0\n",
              "1         1  female      1      0         1\n",
              "2         3  female      0      0         1\n",
              "3         1  female      1      0         1\n",
              "4         3    male      0      0         0\n",
              "..      ...     ...    ...    ...       ...\n",
              "886       2    male      0      0         0\n",
              "887       1  female      0      0         1\n",
              "888       3  female      1      2         0\n",
              "889       1    male      0      0         1\n",
              "890       3    male      0      0         0\n",
              "\n",
              "[891 rows x 5 columns]"
            ],
            "text/html": [
              "\n",
              "  <div id=\"df-7396e77f-490b-40ab-b136-5cda933a09db\" class=\"colab-df-container\">\n",
              "    <div>\n",
              "<style scoped>\n",
              "    .dataframe tbody tr th:only-of-type {\n",
              "        vertical-align: middle;\n",
              "    }\n",
              "\n",
              "    .dataframe tbody tr th {\n",
              "        vertical-align: top;\n",
              "    }\n",
              "\n",
              "    .dataframe thead th {\n",
              "        text-align: right;\n",
              "    }\n",
              "</style>\n",
              "<table border=\"1\" class=\"dataframe\">\n",
              "  <thead>\n",
              "    <tr style=\"text-align: right;\">\n",
              "      <th></th>\n",
              "      <th>Pclass</th>\n",
              "      <th>Sex</th>\n",
              "      <th>SibSp</th>\n",
              "      <th>Parch</th>\n",
              "      <th>Survived</th>\n",
              "    </tr>\n",
              "  </thead>\n",
              "  <tbody>\n",
              "    <tr>\n",
              "      <th>0</th>\n",
              "      <td>3</td>\n",
              "      <td>male</td>\n",
              "      <td>1</td>\n",
              "      <td>0</td>\n",
              "      <td>0</td>\n",
              "    </tr>\n",
              "    <tr>\n",
              "      <th>1</th>\n",
              "      <td>1</td>\n",
              "      <td>female</td>\n",
              "      <td>1</td>\n",
              "      <td>0</td>\n",
              "      <td>1</td>\n",
              "    </tr>\n",
              "    <tr>\n",
              "      <th>2</th>\n",
              "      <td>3</td>\n",
              "      <td>female</td>\n",
              "      <td>0</td>\n",
              "      <td>0</td>\n",
              "      <td>1</td>\n",
              "    </tr>\n",
              "    <tr>\n",
              "      <th>3</th>\n",
              "      <td>1</td>\n",
              "      <td>female</td>\n",
              "      <td>1</td>\n",
              "      <td>0</td>\n",
              "      <td>1</td>\n",
              "    </tr>\n",
              "    <tr>\n",
              "      <th>4</th>\n",
              "      <td>3</td>\n",
              "      <td>male</td>\n",
              "      <td>0</td>\n",
              "      <td>0</td>\n",
              "      <td>0</td>\n",
              "    </tr>\n",
              "    <tr>\n",
              "      <th>...</th>\n",
              "      <td>...</td>\n",
              "      <td>...</td>\n",
              "      <td>...</td>\n",
              "      <td>...</td>\n",
              "      <td>...</td>\n",
              "    </tr>\n",
              "    <tr>\n",
              "      <th>886</th>\n",
              "      <td>2</td>\n",
              "      <td>male</td>\n",
              "      <td>0</td>\n",
              "      <td>0</td>\n",
              "      <td>0</td>\n",
              "    </tr>\n",
              "    <tr>\n",
              "      <th>887</th>\n",
              "      <td>1</td>\n",
              "      <td>female</td>\n",
              "      <td>0</td>\n",
              "      <td>0</td>\n",
              "      <td>1</td>\n",
              "    </tr>\n",
              "    <tr>\n",
              "      <th>888</th>\n",
              "      <td>3</td>\n",
              "      <td>female</td>\n",
              "      <td>1</td>\n",
              "      <td>2</td>\n",
              "      <td>0</td>\n",
              "    </tr>\n",
              "    <tr>\n",
              "      <th>889</th>\n",
              "      <td>1</td>\n",
              "      <td>male</td>\n",
              "      <td>0</td>\n",
              "      <td>0</td>\n",
              "      <td>1</td>\n",
              "    </tr>\n",
              "    <tr>\n",
              "      <th>890</th>\n",
              "      <td>3</td>\n",
              "      <td>male</td>\n",
              "      <td>0</td>\n",
              "      <td>0</td>\n",
              "      <td>0</td>\n",
              "    </tr>\n",
              "  </tbody>\n",
              "</table>\n",
              "<p>891 rows × 5 columns</p>\n",
              "</div>\n",
              "    <div class=\"colab-df-buttons\">\n",
              "\n",
              "  <div class=\"colab-df-container\">\n",
              "    <button class=\"colab-df-convert\" onclick=\"convertToInteractive('df-7396e77f-490b-40ab-b136-5cda933a09db')\"\n",
              "            title=\"Convert this dataframe to an interactive table.\"\n",
              "            style=\"display:none;\">\n",
              "\n",
              "  <svg xmlns=\"http://www.w3.org/2000/svg\" height=\"24px\" viewBox=\"0 -960 960 960\">\n",
              "    <path d=\"M120-120v-720h720v720H120Zm60-500h600v-160H180v160Zm220 220h160v-160H400v160Zm0 220h160v-160H400v160ZM180-400h160v-160H180v160Zm440 0h160v-160H620v160ZM180-180h160v-160H180v160Zm440 0h160v-160H620v160Z\"/>\n",
              "  </svg>\n",
              "    </button>\n",
              "\n",
              "  <style>\n",
              "    .colab-df-container {\n",
              "      display:flex;\n",
              "      gap: 12px;\n",
              "    }\n",
              "\n",
              "    .colab-df-convert {\n",
              "      background-color: #E8F0FE;\n",
              "      border: none;\n",
              "      border-radius: 50%;\n",
              "      cursor: pointer;\n",
              "      display: none;\n",
              "      fill: #1967D2;\n",
              "      height: 32px;\n",
              "      padding: 0 0 0 0;\n",
              "      width: 32px;\n",
              "    }\n",
              "\n",
              "    .colab-df-convert:hover {\n",
              "      background-color: #E2EBFA;\n",
              "      box-shadow: 0px 1px 2px rgba(60, 64, 67, 0.3), 0px 1px 3px 1px rgba(60, 64, 67, 0.15);\n",
              "      fill: #174EA6;\n",
              "    }\n",
              "\n",
              "    .colab-df-buttons div {\n",
              "      margin-bottom: 4px;\n",
              "    }\n",
              "\n",
              "    [theme=dark] .colab-df-convert {\n",
              "      background-color: #3B4455;\n",
              "      fill: #D2E3FC;\n",
              "    }\n",
              "\n",
              "    [theme=dark] .colab-df-convert:hover {\n",
              "      background-color: #434B5C;\n",
              "      box-shadow: 0px 1px 3px 1px rgba(0, 0, 0, 0.15);\n",
              "      filter: drop-shadow(0px 1px 2px rgba(0, 0, 0, 0.3));\n",
              "      fill: #FFFFFF;\n",
              "    }\n",
              "  </style>\n",
              "\n",
              "    <script>\n",
              "      const buttonEl =\n",
              "        document.querySelector('#df-7396e77f-490b-40ab-b136-5cda933a09db button.colab-df-convert');\n",
              "      buttonEl.style.display =\n",
              "        google.colab.kernel.accessAllowed ? 'block' : 'none';\n",
              "\n",
              "      async function convertToInteractive(key) {\n",
              "        const element = document.querySelector('#df-7396e77f-490b-40ab-b136-5cda933a09db');\n",
              "        const dataTable =\n",
              "          await google.colab.kernel.invokeFunction('convertToInteractive',\n",
              "                                                    [key], {});\n",
              "        if (!dataTable) return;\n",
              "\n",
              "        const docLinkHtml = 'Like what you see? Visit the ' +\n",
              "          '<a target=\"_blank\" href=https://colab.research.google.com/notebooks/data_table.ipynb>data table notebook</a>'\n",
              "          + ' to learn more about interactive tables.';\n",
              "        element.innerHTML = '';\n",
              "        dataTable['output_type'] = 'display_data';\n",
              "        await google.colab.output.renderOutput(dataTable, element);\n",
              "        const docLink = document.createElement('div');\n",
              "        docLink.innerHTML = docLinkHtml;\n",
              "        element.appendChild(docLink);\n",
              "      }\n",
              "    </script>\n",
              "  </div>\n",
              "\n",
              "\n",
              "<div id=\"df-dbac5b4c-feb7-4236-af38-7ef309c9b63f\">\n",
              "  <button class=\"colab-df-quickchart\" onclick=\"quickchart('df-dbac5b4c-feb7-4236-af38-7ef309c9b63f')\"\n",
              "            title=\"Suggest charts.\"\n",
              "            style=\"display:none;\">\n",
              "\n",
              "<svg xmlns=\"http://www.w3.org/2000/svg\" height=\"24px\"viewBox=\"0 0 24 24\"\n",
              "     width=\"24px\">\n",
              "    <g>\n",
              "        <path d=\"M19 3H5c-1.1 0-2 .9-2 2v14c0 1.1.9 2 2 2h14c1.1 0 2-.9 2-2V5c0-1.1-.9-2-2-2zM9 17H7v-7h2v7zm4 0h-2V7h2v10zm4 0h-2v-4h2v4z\"/>\n",
              "    </g>\n",
              "</svg>\n",
              "  </button>\n",
              "\n",
              "<style>\n",
              "  .colab-df-quickchart {\n",
              "      --bg-color: #E8F0FE;\n",
              "      --fill-color: #1967D2;\n",
              "      --hover-bg-color: #E2EBFA;\n",
              "      --hover-fill-color: #174EA6;\n",
              "      --disabled-fill-color: #AAA;\n",
              "      --disabled-bg-color: #DDD;\n",
              "  }\n",
              "\n",
              "  [theme=dark] .colab-df-quickchart {\n",
              "      --bg-color: #3B4455;\n",
              "      --fill-color: #D2E3FC;\n",
              "      --hover-bg-color: #434B5C;\n",
              "      --hover-fill-color: #FFFFFF;\n",
              "      --disabled-bg-color: #3B4455;\n",
              "      --disabled-fill-color: #666;\n",
              "  }\n",
              "\n",
              "  .colab-df-quickchart {\n",
              "    background-color: var(--bg-color);\n",
              "    border: none;\n",
              "    border-radius: 50%;\n",
              "    cursor: pointer;\n",
              "    display: none;\n",
              "    fill: var(--fill-color);\n",
              "    height: 32px;\n",
              "    padding: 0;\n",
              "    width: 32px;\n",
              "  }\n",
              "\n",
              "  .colab-df-quickchart:hover {\n",
              "    background-color: var(--hover-bg-color);\n",
              "    box-shadow: 0 1px 2px rgba(60, 64, 67, 0.3), 0 1px 3px 1px rgba(60, 64, 67, 0.15);\n",
              "    fill: var(--button-hover-fill-color);\n",
              "  }\n",
              "\n",
              "  .colab-df-quickchart-complete:disabled,\n",
              "  .colab-df-quickchart-complete:disabled:hover {\n",
              "    background-color: var(--disabled-bg-color);\n",
              "    fill: var(--disabled-fill-color);\n",
              "    box-shadow: none;\n",
              "  }\n",
              "\n",
              "  .colab-df-spinner {\n",
              "    border: 2px solid var(--fill-color);\n",
              "    border-color: transparent;\n",
              "    border-bottom-color: var(--fill-color);\n",
              "    animation:\n",
              "      spin 1s steps(1) infinite;\n",
              "  }\n",
              "\n",
              "  @keyframes spin {\n",
              "    0% {\n",
              "      border-color: transparent;\n",
              "      border-bottom-color: var(--fill-color);\n",
              "      border-left-color: var(--fill-color);\n",
              "    }\n",
              "    20% {\n",
              "      border-color: transparent;\n",
              "      border-left-color: var(--fill-color);\n",
              "      border-top-color: var(--fill-color);\n",
              "    }\n",
              "    30% {\n",
              "      border-color: transparent;\n",
              "      border-left-color: var(--fill-color);\n",
              "      border-top-color: var(--fill-color);\n",
              "      border-right-color: var(--fill-color);\n",
              "    }\n",
              "    40% {\n",
              "      border-color: transparent;\n",
              "      border-right-color: var(--fill-color);\n",
              "      border-top-color: var(--fill-color);\n",
              "    }\n",
              "    60% {\n",
              "      border-color: transparent;\n",
              "      border-right-color: var(--fill-color);\n",
              "    }\n",
              "    80% {\n",
              "      border-color: transparent;\n",
              "      border-right-color: var(--fill-color);\n",
              "      border-bottom-color: var(--fill-color);\n",
              "    }\n",
              "    90% {\n",
              "      border-color: transparent;\n",
              "      border-bottom-color: var(--fill-color);\n",
              "    }\n",
              "  }\n",
              "</style>\n",
              "\n",
              "  <script>\n",
              "    async function quickchart(key) {\n",
              "      const quickchartButtonEl =\n",
              "        document.querySelector('#' + key + ' button');\n",
              "      quickchartButtonEl.disabled = true;  // To prevent multiple clicks.\n",
              "      quickchartButtonEl.classList.add('colab-df-spinner');\n",
              "      try {\n",
              "        const charts = await google.colab.kernel.invokeFunction(\n",
              "            'suggestCharts', [key], {});\n",
              "      } catch (error) {\n",
              "        console.error('Error during call to suggestCharts:', error);\n",
              "      }\n",
              "      quickchartButtonEl.classList.remove('colab-df-spinner');\n",
              "      quickchartButtonEl.classList.add('colab-df-quickchart-complete');\n",
              "    }\n",
              "    (() => {\n",
              "      let quickchartButtonEl =\n",
              "        document.querySelector('#df-dbac5b4c-feb7-4236-af38-7ef309c9b63f button');\n",
              "      quickchartButtonEl.style.display =\n",
              "        google.colab.kernel.accessAllowed ? 'block' : 'none';\n",
              "    })();\n",
              "  </script>\n",
              "</div>\n",
              "    </div>\n",
              "  </div>\n"
            ]
          },
          "metadata": {},
          "execution_count": 59
        }
      ]
    },
    {
      "cell_type": "code",
      "source": [
        "data[\"Sex\"] = pd.factorize(data.loc[: , \"Sex\"])[0] # 性別を数値化"
      ],
      "metadata": {
        "id": "h7fMi0leWEqR"
      },
      "execution_count": 60,
      "outputs": []
    },
    {
      "cell_type": "code",
      "source": [
        "t = data[\"Survived\"]\n",
        "x = data.drop(\"Survived\",axis=1)"
      ],
      "metadata": {
        "id": "7cOxyz8sVWj6"
      },
      "execution_count": 61,
      "outputs": []
    },
    {
      "cell_type": "code",
      "source": [
        "data.info()"
      ],
      "metadata": {
        "colab": {
          "base_uri": "https://localhost:8080/"
        },
        "id": "tg9sgUGPWWSh",
        "outputId": "020fcac3-b9ca-4532-edcc-fc72fceaaf25"
      },
      "execution_count": 62,
      "outputs": [
        {
          "output_type": "stream",
          "name": "stdout",
          "text": [
            "<class 'pandas.core.frame.DataFrame'>\n",
            "RangeIndex: 891 entries, 0 to 890\n",
            "Data columns (total 5 columns):\n",
            " #   Column    Non-Null Count  Dtype\n",
            "---  ------    --------------  -----\n",
            " 0   Pclass    891 non-null    int64\n",
            " 1   Sex       891 non-null    int64\n",
            " 2   SibSp     891 non-null    int64\n",
            " 3   Parch     891 non-null    int64\n",
            " 4   Survived  891 non-null    int64\n",
            "dtypes: int64(5)\n",
            "memory usage: 34.9 KB\n"
          ]
        }
      ]
    },
    {
      "cell_type": "code",
      "source": [
        "x_train, x_test, t_train, t_test = train_test_split(x, t, test_size=0.3, random_state=0)"
      ],
      "metadata": {
        "id": "KBkonZoNYqsp"
      },
      "execution_count": 63,
      "outputs": []
    },
    {
      "cell_type": "markdown",
      "source": [
        "## scikit-learnのAPIを用いてsklearn風に実装できる"
      ],
      "metadata": {
        "id": "jxjyJq1Y3Sno"
      }
    },
    {
      "cell_type": "code",
      "source": [
        "model = lgb.LGBMClassifier()"
      ],
      "metadata": {
        "id": "D_xejY9EWIjf"
      },
      "execution_count": 64,
      "outputs": []
    },
    {
      "cell_type": "code",
      "source": [
        "model.fit(x_train, t_train)"
      ],
      "metadata": {
        "colab": {
          "base_uri": "https://localhost:8080/",
          "height": 1000
        },
        "id": "TDggpGYKmd6h",
        "outputId": "87880a68-36cd-4ce7-ced6-0bbea03c2b26"
      },
      "execution_count": 65,
      "outputs": [
        {
          "output_type": "stream",
          "name": "stdout",
          "text": [
            "[LightGBM] [Info] Number of positive: 242, number of negative: 381\n",
            "[LightGBM] [Warning] Auto-choosing row-wise multi-threading, the overhead of testing was 0.000109 seconds.\n",
            "You can set `force_row_wise=true` to remove the overhead.\n",
            "And if memory is not enough, you can set `force_col_wise=true`.\n",
            "[LightGBM] [Info] Total Bins 19\n",
            "[LightGBM] [Info] Number of data points in the train set: 623, number of used features: 4\n",
            "[LightGBM] [Info] [binary:BoostFromScore]: pavg=0.388443 -> initscore=-0.453862\n",
            "[LightGBM] [Info] Start training from score -0.453862\n",
            "[LightGBM] [Warning] No further splits with positive gain, best gain: -inf\n",
            "[LightGBM] [Warning] No further splits with positive gain, best gain: -inf\n",
            "[LightGBM] [Warning] No further splits with positive gain, best gain: -inf\n",
            "[LightGBM] [Warning] No further splits with positive gain, best gain: -inf\n",
            "[LightGBM] [Warning] No further splits with positive gain, best gain: -inf\n",
            "[LightGBM] [Warning] No further splits with positive gain, best gain: -inf\n",
            "[LightGBM] [Warning] No further splits with positive gain, best gain: -inf\n",
            "[LightGBM] [Warning] No further splits with positive gain, best gain: -inf\n",
            "[LightGBM] [Warning] No further splits with positive gain, best gain: -inf\n",
            "[LightGBM] [Warning] No further splits with positive gain, best gain: -inf\n",
            "[LightGBM] [Warning] No further splits with positive gain, best gain: -inf\n",
            "[LightGBM] [Warning] No further splits with positive gain, best gain: -inf\n",
            "[LightGBM] [Warning] No further splits with positive gain, best gain: -inf\n",
            "[LightGBM] [Warning] No further splits with positive gain, best gain: -inf\n",
            "[LightGBM] [Warning] No further splits with positive gain, best gain: -inf\n",
            "[LightGBM] [Warning] No further splits with positive gain, best gain: -inf\n",
            "[LightGBM] [Warning] No further splits with positive gain, best gain: -inf\n",
            "[LightGBM] [Warning] No further splits with positive gain, best gain: -inf\n",
            "[LightGBM] [Warning] No further splits with positive gain, best gain: -inf\n",
            "[LightGBM] [Warning] No further splits with positive gain, best gain: -inf\n",
            "[LightGBM] [Warning] No further splits with positive gain, best gain: -inf\n",
            "[LightGBM] [Warning] No further splits with positive gain, best gain: -inf\n",
            "[LightGBM] [Warning] No further splits with positive gain, best gain: -inf\n",
            "[LightGBM] [Warning] No further splits with positive gain, best gain: -inf\n",
            "[LightGBM] [Warning] No further splits with positive gain, best gain: -inf\n",
            "[LightGBM] [Warning] No further splits with positive gain, best gain: -inf\n",
            "[LightGBM] [Warning] No further splits with positive gain, best gain: -inf\n",
            "[LightGBM] [Warning] No further splits with positive gain, best gain: -inf\n",
            "[LightGBM] [Warning] No further splits with positive gain, best gain: -inf\n",
            "[LightGBM] [Warning] No further splits with positive gain, best gain: -inf\n",
            "[LightGBM] [Warning] No further splits with positive gain, best gain: -inf\n",
            "[LightGBM] [Warning] No further splits with positive gain, best gain: -inf\n",
            "[LightGBM] [Warning] No further splits with positive gain, best gain: -inf\n",
            "[LightGBM] [Warning] No further splits with positive gain, best gain: -inf\n",
            "[LightGBM] [Warning] No further splits with positive gain, best gain: -inf\n",
            "[LightGBM] [Warning] No further splits with positive gain, best gain: -inf\n",
            "[LightGBM] [Warning] No further splits with positive gain, best gain: -inf\n",
            "[LightGBM] [Warning] No further splits with positive gain, best gain: -inf\n",
            "[LightGBM] [Warning] No further splits with positive gain, best gain: -inf\n",
            "[LightGBM] [Warning] No further splits with positive gain, best gain: -inf\n",
            "[LightGBM] [Warning] No further splits with positive gain, best gain: -inf\n",
            "[LightGBM] [Warning] No further splits with positive gain, best gain: -inf\n",
            "[LightGBM] [Warning] No further splits with positive gain, best gain: -inf\n",
            "[LightGBM] [Warning] No further splits with positive gain, best gain: -inf\n",
            "[LightGBM] [Warning] No further splits with positive gain, best gain: -inf\n",
            "[LightGBM] [Warning] No further splits with positive gain, best gain: -inf\n",
            "[LightGBM] [Warning] No further splits with positive gain, best gain: -inf\n",
            "[LightGBM] [Warning] No further splits with positive gain, best gain: -inf\n",
            "[LightGBM] [Warning] No further splits with positive gain, best gain: -inf\n",
            "[LightGBM] [Warning] No further splits with positive gain, best gain: -inf\n",
            "[LightGBM] [Warning] No further splits with positive gain, best gain: -inf\n",
            "[LightGBM] [Warning] No further splits with positive gain, best gain: -inf\n",
            "[LightGBM] [Warning] No further splits with positive gain, best gain: -inf\n",
            "[LightGBM] [Warning] No further splits with positive gain, best gain: -inf\n",
            "[LightGBM] [Warning] No further splits with positive gain, best gain: -inf\n",
            "[LightGBM] [Warning] No further splits with positive gain, best gain: -inf\n",
            "[LightGBM] [Warning] No further splits with positive gain, best gain: -inf\n",
            "[LightGBM] [Warning] No further splits with positive gain, best gain: -inf\n",
            "[LightGBM] [Warning] No further splits with positive gain, best gain: -inf\n",
            "[LightGBM] [Warning] No further splits with positive gain, best gain: -inf\n",
            "[LightGBM] [Warning] No further splits with positive gain, best gain: -inf\n",
            "[LightGBM] [Warning] No further splits with positive gain, best gain: -inf\n",
            "[LightGBM] [Warning] No further splits with positive gain, best gain: -inf\n",
            "[LightGBM] [Warning] No further splits with positive gain, best gain: -inf\n",
            "[LightGBM] [Warning] No further splits with positive gain, best gain: -inf\n",
            "[LightGBM] [Warning] No further splits with positive gain, best gain: -inf\n",
            "[LightGBM] [Warning] No further splits with positive gain, best gain: -inf\n",
            "[LightGBM] [Warning] No further splits with positive gain, best gain: -inf\n",
            "[LightGBM] [Warning] No further splits with positive gain, best gain: -inf\n",
            "[LightGBM] [Warning] No further splits with positive gain, best gain: -inf\n",
            "[LightGBM] [Warning] No further splits with positive gain, best gain: -inf\n",
            "[LightGBM] [Warning] No further splits with positive gain, best gain: -inf\n",
            "[LightGBM] [Warning] No further splits with positive gain, best gain: -inf\n",
            "[LightGBM] [Warning] No further splits with positive gain, best gain: -inf\n",
            "[LightGBM] [Warning] No further splits with positive gain, best gain: -inf\n",
            "[LightGBM] [Warning] No further splits with positive gain, best gain: -inf\n",
            "[LightGBM] [Warning] No further splits with positive gain, best gain: -inf\n",
            "[LightGBM] [Warning] No further splits with positive gain, best gain: -inf\n",
            "[LightGBM] [Warning] No further splits with positive gain, best gain: -inf\n",
            "[LightGBM] [Warning] No further splits with positive gain, best gain: -inf\n",
            "[LightGBM] [Warning] No further splits with positive gain, best gain: -inf\n",
            "[LightGBM] [Warning] No further splits with positive gain, best gain: -inf\n",
            "[LightGBM] [Warning] No further splits with positive gain, best gain: -inf\n",
            "[LightGBM] [Warning] No further splits with positive gain, best gain: -inf\n",
            "[LightGBM] [Warning] No further splits with positive gain, best gain: -inf\n",
            "[LightGBM] [Warning] No further splits with positive gain, best gain: -inf\n",
            "[LightGBM] [Warning] No further splits with positive gain, best gain: -inf\n",
            "[LightGBM] [Warning] No further splits with positive gain, best gain: -inf\n",
            "[LightGBM] [Warning] No further splits with positive gain, best gain: -inf\n",
            "[LightGBM] [Warning] No further splits with positive gain, best gain: -inf\n",
            "[LightGBM] [Warning] No further splits with positive gain, best gain: -inf\n",
            "[LightGBM] [Warning] No further splits with positive gain, best gain: -inf\n",
            "[LightGBM] [Warning] No further splits with positive gain, best gain: -inf\n",
            "[LightGBM] [Warning] No further splits with positive gain, best gain: -inf\n",
            "[LightGBM] [Warning] No further splits with positive gain, best gain: -inf\n",
            "[LightGBM] [Warning] No further splits with positive gain, best gain: -inf\n",
            "[LightGBM] [Warning] No further splits with positive gain, best gain: -inf\n",
            "[LightGBM] [Warning] No further splits with positive gain, best gain: -inf\n",
            "[LightGBM] [Warning] No further splits with positive gain, best gain: -inf\n",
            "[LightGBM] [Warning] No further splits with positive gain, best gain: -inf\n"
          ]
        },
        {
          "output_type": "execute_result",
          "data": {
            "text/plain": [
              "LGBMClassifier()"
            ],
            "text/html": [
              "<style>#sk-container-id-7 {color: black;background-color: white;}#sk-container-id-7 pre{padding: 0;}#sk-container-id-7 div.sk-toggleable {background-color: white;}#sk-container-id-7 label.sk-toggleable__label {cursor: pointer;display: block;width: 100%;margin-bottom: 0;padding: 0.3em;box-sizing: border-box;text-align: center;}#sk-container-id-7 label.sk-toggleable__label-arrow:before {content: \"▸\";float: left;margin-right: 0.25em;color: #696969;}#sk-container-id-7 label.sk-toggleable__label-arrow:hover:before {color: black;}#sk-container-id-7 div.sk-estimator:hover label.sk-toggleable__label-arrow:before {color: black;}#sk-container-id-7 div.sk-toggleable__content {max-height: 0;max-width: 0;overflow: hidden;text-align: left;background-color: #f0f8ff;}#sk-container-id-7 div.sk-toggleable__content pre {margin: 0.2em;color: black;border-radius: 0.25em;background-color: #f0f8ff;}#sk-container-id-7 input.sk-toggleable__control:checked~div.sk-toggleable__content {max-height: 200px;max-width: 100%;overflow: auto;}#sk-container-id-7 input.sk-toggleable__control:checked~label.sk-toggleable__label-arrow:before {content: \"▾\";}#sk-container-id-7 div.sk-estimator input.sk-toggleable__control:checked~label.sk-toggleable__label {background-color: #d4ebff;}#sk-container-id-7 div.sk-label input.sk-toggleable__control:checked~label.sk-toggleable__label {background-color: #d4ebff;}#sk-container-id-7 input.sk-hidden--visually {border: 0;clip: rect(1px 1px 1px 1px);clip: rect(1px, 1px, 1px, 1px);height: 1px;margin: -1px;overflow: hidden;padding: 0;position: absolute;width: 1px;}#sk-container-id-7 div.sk-estimator {font-family: monospace;background-color: #f0f8ff;border: 1px dotted black;border-radius: 0.25em;box-sizing: border-box;margin-bottom: 0.5em;}#sk-container-id-7 div.sk-estimator:hover {background-color: #d4ebff;}#sk-container-id-7 div.sk-parallel-item::after {content: \"\";width: 100%;border-bottom: 1px solid gray;flex-grow: 1;}#sk-container-id-7 div.sk-label:hover label.sk-toggleable__label {background-color: #d4ebff;}#sk-container-id-7 div.sk-serial::before {content: \"\";position: absolute;border-left: 1px solid gray;box-sizing: border-box;top: 0;bottom: 0;left: 50%;z-index: 0;}#sk-container-id-7 div.sk-serial {display: flex;flex-direction: column;align-items: center;background-color: white;padding-right: 0.2em;padding-left: 0.2em;position: relative;}#sk-container-id-7 div.sk-item {position: relative;z-index: 1;}#sk-container-id-7 div.sk-parallel {display: flex;align-items: stretch;justify-content: center;background-color: white;position: relative;}#sk-container-id-7 div.sk-item::before, #sk-container-id-7 div.sk-parallel-item::before {content: \"\";position: absolute;border-left: 1px solid gray;box-sizing: border-box;top: 0;bottom: 0;left: 50%;z-index: -1;}#sk-container-id-7 div.sk-parallel-item {display: flex;flex-direction: column;z-index: 1;position: relative;background-color: white;}#sk-container-id-7 div.sk-parallel-item:first-child::after {align-self: flex-end;width: 50%;}#sk-container-id-7 div.sk-parallel-item:last-child::after {align-self: flex-start;width: 50%;}#sk-container-id-7 div.sk-parallel-item:only-child::after {width: 0;}#sk-container-id-7 div.sk-dashed-wrapped {border: 1px dashed gray;margin: 0 0.4em 0.5em 0.4em;box-sizing: border-box;padding-bottom: 0.4em;background-color: white;}#sk-container-id-7 div.sk-label label {font-family: monospace;font-weight: bold;display: inline-block;line-height: 1.2em;}#sk-container-id-7 div.sk-label-container {text-align: center;}#sk-container-id-7 div.sk-container {/* jupyter's `normalize.less` sets `[hidden] { display: none; }` but bootstrap.min.css set `[hidden] { display: none !important; }` so we also need the `!important` here to be able to override the default hidden behavior on the sphinx rendered scikit-learn.org. See: https://github.com/scikit-learn/scikit-learn/issues/21755 */display: inline-block !important;position: relative;}#sk-container-id-7 div.sk-text-repr-fallback {display: none;}</style><div id=\"sk-container-id-7\" class=\"sk-top-container\"><div class=\"sk-text-repr-fallback\"><pre>LGBMClassifier()</pre><b>In a Jupyter environment, please rerun this cell to show the HTML representation or trust the notebook. <br />On GitHub, the HTML representation is unable to render, please try loading this page with nbviewer.org.</b></div><div class=\"sk-container\" hidden><div class=\"sk-item\"><div class=\"sk-estimator sk-toggleable\"><input class=\"sk-toggleable__control sk-hidden--visually\" id=\"sk-estimator-id-7\" type=\"checkbox\" checked><label for=\"sk-estimator-id-7\" class=\"sk-toggleable__label sk-toggleable__label-arrow\">LGBMClassifier</label><div class=\"sk-toggleable__content\"><pre>LGBMClassifier()</pre></div></div></div></div></div>"
            ]
          },
          "metadata": {},
          "execution_count": 65
        }
      ]
    },
    {
      "cell_type": "code",
      "source": [
        "print(model.score(x_train, t_train))\n",
        "print(model.score(x_test, t_test))"
      ],
      "metadata": {
        "colab": {
          "base_uri": "https://localhost:8080/"
        },
        "id": "5Va-48L2nSkw",
        "outputId": "4fe71990-fad4-4937-affc-f36723eb7331"
      },
      "execution_count": 66,
      "outputs": [
        {
          "output_type": "stream",
          "name": "stdout",
          "text": [
            "0.8170144462279294\n",
            "0.7798507462686567\n"
          ]
        }
      ]
    },
    {
      "cell_type": "markdown",
      "source": [
        "# 他のモデルの正解率との比較"
      ],
      "metadata": {
        "id": "EJzHk9p0afWD"
      }
    },
    {
      "cell_type": "code",
      "source": [
        "score_li = []\n",
        "score_li.append([model.score(x_train, t_train),model.score(x_test, t_test)])"
      ],
      "metadata": {
        "id": "Eh7Ro4gg1hLJ"
      },
      "execution_count": 67,
      "outputs": []
    },
    {
      "cell_type": "markdown",
      "source": [
        "ロジスティック回帰"
      ],
      "metadata": {
        "id": "3TPi7Ssi1JEE"
      }
    },
    {
      "cell_type": "code",
      "source": [
        "from sklearn.linear_model import LogisticRegression"
      ],
      "metadata": {
        "id": "8075rQsX07nr"
      },
      "execution_count": 68,
      "outputs": []
    },
    {
      "cell_type": "code",
      "source": [
        "lr = LogisticRegression()"
      ],
      "metadata": {
        "id": "Ku6Ro-U31B5p"
      },
      "execution_count": 69,
      "outputs": []
    },
    {
      "cell_type": "code",
      "source": [
        "lr.fit(x_train, t_train)"
      ],
      "metadata": {
        "colab": {
          "base_uri": "https://localhost:8080/",
          "height": 75
        },
        "id": "K29upM4e1FMh",
        "outputId": "19f9b8e7-9cf5-4fd0-b7a2-3d3c9c1aee8b"
      },
      "execution_count": 70,
      "outputs": [
        {
          "output_type": "execute_result",
          "data": {
            "text/plain": [
              "LogisticRegression()"
            ],
            "text/html": [
              "<style>#sk-container-id-8 {color: black;background-color: white;}#sk-container-id-8 pre{padding: 0;}#sk-container-id-8 div.sk-toggleable {background-color: white;}#sk-container-id-8 label.sk-toggleable__label {cursor: pointer;display: block;width: 100%;margin-bottom: 0;padding: 0.3em;box-sizing: border-box;text-align: center;}#sk-container-id-8 label.sk-toggleable__label-arrow:before {content: \"▸\";float: left;margin-right: 0.25em;color: #696969;}#sk-container-id-8 label.sk-toggleable__label-arrow:hover:before {color: black;}#sk-container-id-8 div.sk-estimator:hover label.sk-toggleable__label-arrow:before {color: black;}#sk-container-id-8 div.sk-toggleable__content {max-height: 0;max-width: 0;overflow: hidden;text-align: left;background-color: #f0f8ff;}#sk-container-id-8 div.sk-toggleable__content pre {margin: 0.2em;color: black;border-radius: 0.25em;background-color: #f0f8ff;}#sk-container-id-8 input.sk-toggleable__control:checked~div.sk-toggleable__content {max-height: 200px;max-width: 100%;overflow: auto;}#sk-container-id-8 input.sk-toggleable__control:checked~label.sk-toggleable__label-arrow:before {content: \"▾\";}#sk-container-id-8 div.sk-estimator input.sk-toggleable__control:checked~label.sk-toggleable__label {background-color: #d4ebff;}#sk-container-id-8 div.sk-label input.sk-toggleable__control:checked~label.sk-toggleable__label {background-color: #d4ebff;}#sk-container-id-8 input.sk-hidden--visually {border: 0;clip: rect(1px 1px 1px 1px);clip: rect(1px, 1px, 1px, 1px);height: 1px;margin: -1px;overflow: hidden;padding: 0;position: absolute;width: 1px;}#sk-container-id-8 div.sk-estimator {font-family: monospace;background-color: #f0f8ff;border: 1px dotted black;border-radius: 0.25em;box-sizing: border-box;margin-bottom: 0.5em;}#sk-container-id-8 div.sk-estimator:hover {background-color: #d4ebff;}#sk-container-id-8 div.sk-parallel-item::after {content: \"\";width: 100%;border-bottom: 1px solid gray;flex-grow: 1;}#sk-container-id-8 div.sk-label:hover label.sk-toggleable__label {background-color: #d4ebff;}#sk-container-id-8 div.sk-serial::before {content: \"\";position: absolute;border-left: 1px solid gray;box-sizing: border-box;top: 0;bottom: 0;left: 50%;z-index: 0;}#sk-container-id-8 div.sk-serial {display: flex;flex-direction: column;align-items: center;background-color: white;padding-right: 0.2em;padding-left: 0.2em;position: relative;}#sk-container-id-8 div.sk-item {position: relative;z-index: 1;}#sk-container-id-8 div.sk-parallel {display: flex;align-items: stretch;justify-content: center;background-color: white;position: relative;}#sk-container-id-8 div.sk-item::before, #sk-container-id-8 div.sk-parallel-item::before {content: \"\";position: absolute;border-left: 1px solid gray;box-sizing: border-box;top: 0;bottom: 0;left: 50%;z-index: -1;}#sk-container-id-8 div.sk-parallel-item {display: flex;flex-direction: column;z-index: 1;position: relative;background-color: white;}#sk-container-id-8 div.sk-parallel-item:first-child::after {align-self: flex-end;width: 50%;}#sk-container-id-8 div.sk-parallel-item:last-child::after {align-self: flex-start;width: 50%;}#sk-container-id-8 div.sk-parallel-item:only-child::after {width: 0;}#sk-container-id-8 div.sk-dashed-wrapped {border: 1px dashed gray;margin: 0 0.4em 0.5em 0.4em;box-sizing: border-box;padding-bottom: 0.4em;background-color: white;}#sk-container-id-8 div.sk-label label {font-family: monospace;font-weight: bold;display: inline-block;line-height: 1.2em;}#sk-container-id-8 div.sk-label-container {text-align: center;}#sk-container-id-8 div.sk-container {/* jupyter's `normalize.less` sets `[hidden] { display: none; }` but bootstrap.min.css set `[hidden] { display: none !important; }` so we also need the `!important` here to be able to override the default hidden behavior on the sphinx rendered scikit-learn.org. See: https://github.com/scikit-learn/scikit-learn/issues/21755 */display: inline-block !important;position: relative;}#sk-container-id-8 div.sk-text-repr-fallback {display: none;}</style><div id=\"sk-container-id-8\" class=\"sk-top-container\"><div class=\"sk-text-repr-fallback\"><pre>LogisticRegression()</pre><b>In a Jupyter environment, please rerun this cell to show the HTML representation or trust the notebook. <br />On GitHub, the HTML representation is unable to render, please try loading this page with nbviewer.org.</b></div><div class=\"sk-container\" hidden><div class=\"sk-item\"><div class=\"sk-estimator sk-toggleable\"><input class=\"sk-toggleable__control sk-hidden--visually\" id=\"sk-estimator-id-8\" type=\"checkbox\" checked><label for=\"sk-estimator-id-8\" class=\"sk-toggleable__label sk-toggleable__label-arrow\">LogisticRegression</label><div class=\"sk-toggleable__content\"><pre>LogisticRegression()</pre></div></div></div></div></div>"
            ]
          },
          "metadata": {},
          "execution_count": 70
        }
      ]
    },
    {
      "cell_type": "code",
      "source": [
        "score_li.append([lr.score(x_train, t_train),lr.score(x_test, t_test)])"
      ],
      "metadata": {
        "id": "lNnt9i9-1jxj"
      },
      "execution_count": 71,
      "outputs": []
    },
    {
      "cell_type": "markdown",
      "source": [
        "k近傍法"
      ],
      "metadata": {
        "id": "57Jwwlj82GSt"
      }
    },
    {
      "cell_type": "code",
      "source": [
        "from sklearn.neighbors import KNeighborsClassifier"
      ],
      "metadata": {
        "id": "I8j6VoTD2Iwr"
      },
      "execution_count": 72,
      "outputs": []
    },
    {
      "cell_type": "code",
      "source": [
        "knc = KNeighborsClassifier()"
      ],
      "metadata": {
        "id": "BvbIwczW2Wa0"
      },
      "execution_count": 73,
      "outputs": []
    },
    {
      "cell_type": "code",
      "source": [
        "knc.fit(x_train, t_train)"
      ],
      "metadata": {
        "colab": {
          "base_uri": "https://localhost:8080/",
          "height": 75
        },
        "id": "tbXIQNkZ2ZJt",
        "outputId": "7b7913ba-88df-462a-b0cb-3912f843ef1b"
      },
      "execution_count": 74,
      "outputs": [
        {
          "output_type": "execute_result",
          "data": {
            "text/plain": [
              "KNeighborsClassifier()"
            ],
            "text/html": [
              "<style>#sk-container-id-9 {color: black;background-color: white;}#sk-container-id-9 pre{padding: 0;}#sk-container-id-9 div.sk-toggleable {background-color: white;}#sk-container-id-9 label.sk-toggleable__label {cursor: pointer;display: block;width: 100%;margin-bottom: 0;padding: 0.3em;box-sizing: border-box;text-align: center;}#sk-container-id-9 label.sk-toggleable__label-arrow:before {content: \"▸\";float: left;margin-right: 0.25em;color: #696969;}#sk-container-id-9 label.sk-toggleable__label-arrow:hover:before {color: black;}#sk-container-id-9 div.sk-estimator:hover label.sk-toggleable__label-arrow:before {color: black;}#sk-container-id-9 div.sk-toggleable__content {max-height: 0;max-width: 0;overflow: hidden;text-align: left;background-color: #f0f8ff;}#sk-container-id-9 div.sk-toggleable__content pre {margin: 0.2em;color: black;border-radius: 0.25em;background-color: #f0f8ff;}#sk-container-id-9 input.sk-toggleable__control:checked~div.sk-toggleable__content {max-height: 200px;max-width: 100%;overflow: auto;}#sk-container-id-9 input.sk-toggleable__control:checked~label.sk-toggleable__label-arrow:before {content: \"▾\";}#sk-container-id-9 div.sk-estimator input.sk-toggleable__control:checked~label.sk-toggleable__label {background-color: #d4ebff;}#sk-container-id-9 div.sk-label input.sk-toggleable__control:checked~label.sk-toggleable__label {background-color: #d4ebff;}#sk-container-id-9 input.sk-hidden--visually {border: 0;clip: rect(1px 1px 1px 1px);clip: rect(1px, 1px, 1px, 1px);height: 1px;margin: -1px;overflow: hidden;padding: 0;position: absolute;width: 1px;}#sk-container-id-9 div.sk-estimator {font-family: monospace;background-color: #f0f8ff;border: 1px dotted black;border-radius: 0.25em;box-sizing: border-box;margin-bottom: 0.5em;}#sk-container-id-9 div.sk-estimator:hover {background-color: #d4ebff;}#sk-container-id-9 div.sk-parallel-item::after {content: \"\";width: 100%;border-bottom: 1px solid gray;flex-grow: 1;}#sk-container-id-9 div.sk-label:hover label.sk-toggleable__label {background-color: #d4ebff;}#sk-container-id-9 div.sk-serial::before {content: \"\";position: absolute;border-left: 1px solid gray;box-sizing: border-box;top: 0;bottom: 0;left: 50%;z-index: 0;}#sk-container-id-9 div.sk-serial {display: flex;flex-direction: column;align-items: center;background-color: white;padding-right: 0.2em;padding-left: 0.2em;position: relative;}#sk-container-id-9 div.sk-item {position: relative;z-index: 1;}#sk-container-id-9 div.sk-parallel {display: flex;align-items: stretch;justify-content: center;background-color: white;position: relative;}#sk-container-id-9 div.sk-item::before, #sk-container-id-9 div.sk-parallel-item::before {content: \"\";position: absolute;border-left: 1px solid gray;box-sizing: border-box;top: 0;bottom: 0;left: 50%;z-index: -1;}#sk-container-id-9 div.sk-parallel-item {display: flex;flex-direction: column;z-index: 1;position: relative;background-color: white;}#sk-container-id-9 div.sk-parallel-item:first-child::after {align-self: flex-end;width: 50%;}#sk-container-id-9 div.sk-parallel-item:last-child::after {align-self: flex-start;width: 50%;}#sk-container-id-9 div.sk-parallel-item:only-child::after {width: 0;}#sk-container-id-9 div.sk-dashed-wrapped {border: 1px dashed gray;margin: 0 0.4em 0.5em 0.4em;box-sizing: border-box;padding-bottom: 0.4em;background-color: white;}#sk-container-id-9 div.sk-label label {font-family: monospace;font-weight: bold;display: inline-block;line-height: 1.2em;}#sk-container-id-9 div.sk-label-container {text-align: center;}#sk-container-id-9 div.sk-container {/* jupyter's `normalize.less` sets `[hidden] { display: none; }` but bootstrap.min.css set `[hidden] { display: none !important; }` so we also need the `!important` here to be able to override the default hidden behavior on the sphinx rendered scikit-learn.org. See: https://github.com/scikit-learn/scikit-learn/issues/21755 */display: inline-block !important;position: relative;}#sk-container-id-9 div.sk-text-repr-fallback {display: none;}</style><div id=\"sk-container-id-9\" class=\"sk-top-container\"><div class=\"sk-text-repr-fallback\"><pre>KNeighborsClassifier()</pre><b>In a Jupyter environment, please rerun this cell to show the HTML representation or trust the notebook. <br />On GitHub, the HTML representation is unable to render, please try loading this page with nbviewer.org.</b></div><div class=\"sk-container\" hidden><div class=\"sk-item\"><div class=\"sk-estimator sk-toggleable\"><input class=\"sk-toggleable__control sk-hidden--visually\" id=\"sk-estimator-id-9\" type=\"checkbox\" checked><label for=\"sk-estimator-id-9\" class=\"sk-toggleable__label sk-toggleable__label-arrow\">KNeighborsClassifier</label><div class=\"sk-toggleable__content\"><pre>KNeighborsClassifier()</pre></div></div></div></div></div>"
            ]
          },
          "metadata": {},
          "execution_count": 74
        }
      ]
    },
    {
      "cell_type": "code",
      "source": [
        "score_li.append([knc.score(x_train, t_train),knc.score(x_test, t_test)])"
      ],
      "metadata": {
        "id": "myUVpWty2clf"
      },
      "execution_count": 75,
      "outputs": []
    },
    {
      "cell_type": "markdown",
      "source": [
        "SVM"
      ],
      "metadata": {
        "id": "WfTPOULE2zsM"
      }
    },
    {
      "cell_type": "code",
      "source": [
        "from sklearn.svm import SVC"
      ],
      "metadata": {
        "id": "IIWh9UjB21oR"
      },
      "execution_count": 76,
      "outputs": []
    },
    {
      "cell_type": "code",
      "source": [
        "svc = SVC()"
      ],
      "metadata": {
        "id": "JpikI8Yj21k6"
      },
      "execution_count": 77,
      "outputs": []
    },
    {
      "cell_type": "code",
      "source": [
        "svc.fit(x_train, t_train)"
      ],
      "metadata": {
        "colab": {
          "base_uri": "https://localhost:8080/",
          "height": 75
        },
        "id": "qYjLxhB227mn",
        "outputId": "ecd62f26-f48b-43df-a7e0-b6c6b6e4c7f0"
      },
      "execution_count": 78,
      "outputs": [
        {
          "output_type": "execute_result",
          "data": {
            "text/plain": [
              "SVC()"
            ],
            "text/html": [
              "<style>#sk-container-id-10 {color: black;background-color: white;}#sk-container-id-10 pre{padding: 0;}#sk-container-id-10 div.sk-toggleable {background-color: white;}#sk-container-id-10 label.sk-toggleable__label {cursor: pointer;display: block;width: 100%;margin-bottom: 0;padding: 0.3em;box-sizing: border-box;text-align: center;}#sk-container-id-10 label.sk-toggleable__label-arrow:before {content: \"▸\";float: left;margin-right: 0.25em;color: #696969;}#sk-container-id-10 label.sk-toggleable__label-arrow:hover:before {color: black;}#sk-container-id-10 div.sk-estimator:hover label.sk-toggleable__label-arrow:before {color: black;}#sk-container-id-10 div.sk-toggleable__content {max-height: 0;max-width: 0;overflow: hidden;text-align: left;background-color: #f0f8ff;}#sk-container-id-10 div.sk-toggleable__content pre {margin: 0.2em;color: black;border-radius: 0.25em;background-color: #f0f8ff;}#sk-container-id-10 input.sk-toggleable__control:checked~div.sk-toggleable__content {max-height: 200px;max-width: 100%;overflow: auto;}#sk-container-id-10 input.sk-toggleable__control:checked~label.sk-toggleable__label-arrow:before {content: \"▾\";}#sk-container-id-10 div.sk-estimator input.sk-toggleable__control:checked~label.sk-toggleable__label {background-color: #d4ebff;}#sk-container-id-10 div.sk-label input.sk-toggleable__control:checked~label.sk-toggleable__label {background-color: #d4ebff;}#sk-container-id-10 input.sk-hidden--visually {border: 0;clip: rect(1px 1px 1px 1px);clip: rect(1px, 1px, 1px, 1px);height: 1px;margin: -1px;overflow: hidden;padding: 0;position: absolute;width: 1px;}#sk-container-id-10 div.sk-estimator {font-family: monospace;background-color: #f0f8ff;border: 1px dotted black;border-radius: 0.25em;box-sizing: border-box;margin-bottom: 0.5em;}#sk-container-id-10 div.sk-estimator:hover {background-color: #d4ebff;}#sk-container-id-10 div.sk-parallel-item::after {content: \"\";width: 100%;border-bottom: 1px solid gray;flex-grow: 1;}#sk-container-id-10 div.sk-label:hover label.sk-toggleable__label {background-color: #d4ebff;}#sk-container-id-10 div.sk-serial::before {content: \"\";position: absolute;border-left: 1px solid gray;box-sizing: border-box;top: 0;bottom: 0;left: 50%;z-index: 0;}#sk-container-id-10 div.sk-serial {display: flex;flex-direction: column;align-items: center;background-color: white;padding-right: 0.2em;padding-left: 0.2em;position: relative;}#sk-container-id-10 div.sk-item {position: relative;z-index: 1;}#sk-container-id-10 div.sk-parallel {display: flex;align-items: stretch;justify-content: center;background-color: white;position: relative;}#sk-container-id-10 div.sk-item::before, #sk-container-id-10 div.sk-parallel-item::before {content: \"\";position: absolute;border-left: 1px solid gray;box-sizing: border-box;top: 0;bottom: 0;left: 50%;z-index: -1;}#sk-container-id-10 div.sk-parallel-item {display: flex;flex-direction: column;z-index: 1;position: relative;background-color: white;}#sk-container-id-10 div.sk-parallel-item:first-child::after {align-self: flex-end;width: 50%;}#sk-container-id-10 div.sk-parallel-item:last-child::after {align-self: flex-start;width: 50%;}#sk-container-id-10 div.sk-parallel-item:only-child::after {width: 0;}#sk-container-id-10 div.sk-dashed-wrapped {border: 1px dashed gray;margin: 0 0.4em 0.5em 0.4em;box-sizing: border-box;padding-bottom: 0.4em;background-color: white;}#sk-container-id-10 div.sk-label label {font-family: monospace;font-weight: bold;display: inline-block;line-height: 1.2em;}#sk-container-id-10 div.sk-label-container {text-align: center;}#sk-container-id-10 div.sk-container {/* jupyter's `normalize.less` sets `[hidden] { display: none; }` but bootstrap.min.css set `[hidden] { display: none !important; }` so we also need the `!important` here to be able to override the default hidden behavior on the sphinx rendered scikit-learn.org. See: https://github.com/scikit-learn/scikit-learn/issues/21755 */display: inline-block !important;position: relative;}#sk-container-id-10 div.sk-text-repr-fallback {display: none;}</style><div id=\"sk-container-id-10\" class=\"sk-top-container\"><div class=\"sk-text-repr-fallback\"><pre>SVC()</pre><b>In a Jupyter environment, please rerun this cell to show the HTML representation or trust the notebook. <br />On GitHub, the HTML representation is unable to render, please try loading this page with nbviewer.org.</b></div><div class=\"sk-container\" hidden><div class=\"sk-item\"><div class=\"sk-estimator sk-toggleable\"><input class=\"sk-toggleable__control sk-hidden--visually\" id=\"sk-estimator-id-10\" type=\"checkbox\" checked><label for=\"sk-estimator-id-10\" class=\"sk-toggleable__label sk-toggleable__label-arrow\">SVC</label><div class=\"sk-toggleable__content\"><pre>SVC()</pre></div></div></div></div></div>"
            ]
          },
          "metadata": {},
          "execution_count": 78
        }
      ]
    },
    {
      "cell_type": "code",
      "source": [
        "score_li.append([svc.score(x_train, t_train),svc.score(x_test, t_test)])"
      ],
      "metadata": {
        "id": "YYZkCxwr21i4"
      },
      "execution_count": 79,
      "outputs": []
    },
    {
      "cell_type": "markdown",
      "source": [
        "ランダムフォレスト"
      ],
      "metadata": {
        "id": "nYdG2p57ZyMJ"
      }
    },
    {
      "cell_type": "code",
      "source": [
        "from sklearn.ensemble import RandomForestClassifier"
      ],
      "metadata": {
        "id": "BMkZMafOX_RO"
      },
      "execution_count": 80,
      "outputs": []
    },
    {
      "cell_type": "code",
      "source": [
        "rfc = RandomForestClassifier()"
      ],
      "metadata": {
        "id": "JnWfoOjKY_fx"
      },
      "execution_count": 81,
      "outputs": []
    },
    {
      "cell_type": "code",
      "source": [
        "rfc.fit(x_train, t_train)"
      ],
      "metadata": {
        "colab": {
          "base_uri": "https://localhost:8080/",
          "height": 75
        },
        "id": "uLWR349xZDf-",
        "outputId": "4e0b22e7-83f4-46c6-9a67-26d341eb6dae"
      },
      "execution_count": 82,
      "outputs": [
        {
          "output_type": "execute_result",
          "data": {
            "text/plain": [
              "RandomForestClassifier()"
            ],
            "text/html": [
              "<style>#sk-container-id-11 {color: black;background-color: white;}#sk-container-id-11 pre{padding: 0;}#sk-container-id-11 div.sk-toggleable {background-color: white;}#sk-container-id-11 label.sk-toggleable__label {cursor: pointer;display: block;width: 100%;margin-bottom: 0;padding: 0.3em;box-sizing: border-box;text-align: center;}#sk-container-id-11 label.sk-toggleable__label-arrow:before {content: \"▸\";float: left;margin-right: 0.25em;color: #696969;}#sk-container-id-11 label.sk-toggleable__label-arrow:hover:before {color: black;}#sk-container-id-11 div.sk-estimator:hover label.sk-toggleable__label-arrow:before {color: black;}#sk-container-id-11 div.sk-toggleable__content {max-height: 0;max-width: 0;overflow: hidden;text-align: left;background-color: #f0f8ff;}#sk-container-id-11 div.sk-toggleable__content pre {margin: 0.2em;color: black;border-radius: 0.25em;background-color: #f0f8ff;}#sk-container-id-11 input.sk-toggleable__control:checked~div.sk-toggleable__content {max-height: 200px;max-width: 100%;overflow: auto;}#sk-container-id-11 input.sk-toggleable__control:checked~label.sk-toggleable__label-arrow:before {content: \"▾\";}#sk-container-id-11 div.sk-estimator input.sk-toggleable__control:checked~label.sk-toggleable__label {background-color: #d4ebff;}#sk-container-id-11 div.sk-label input.sk-toggleable__control:checked~label.sk-toggleable__label {background-color: #d4ebff;}#sk-container-id-11 input.sk-hidden--visually {border: 0;clip: rect(1px 1px 1px 1px);clip: rect(1px, 1px, 1px, 1px);height: 1px;margin: -1px;overflow: hidden;padding: 0;position: absolute;width: 1px;}#sk-container-id-11 div.sk-estimator {font-family: monospace;background-color: #f0f8ff;border: 1px dotted black;border-radius: 0.25em;box-sizing: border-box;margin-bottom: 0.5em;}#sk-container-id-11 div.sk-estimator:hover {background-color: #d4ebff;}#sk-container-id-11 div.sk-parallel-item::after {content: \"\";width: 100%;border-bottom: 1px solid gray;flex-grow: 1;}#sk-container-id-11 div.sk-label:hover label.sk-toggleable__label {background-color: #d4ebff;}#sk-container-id-11 div.sk-serial::before {content: \"\";position: absolute;border-left: 1px solid gray;box-sizing: border-box;top: 0;bottom: 0;left: 50%;z-index: 0;}#sk-container-id-11 div.sk-serial {display: flex;flex-direction: column;align-items: center;background-color: white;padding-right: 0.2em;padding-left: 0.2em;position: relative;}#sk-container-id-11 div.sk-item {position: relative;z-index: 1;}#sk-container-id-11 div.sk-parallel {display: flex;align-items: stretch;justify-content: center;background-color: white;position: relative;}#sk-container-id-11 div.sk-item::before, #sk-container-id-11 div.sk-parallel-item::before {content: \"\";position: absolute;border-left: 1px solid gray;box-sizing: border-box;top: 0;bottom: 0;left: 50%;z-index: -1;}#sk-container-id-11 div.sk-parallel-item {display: flex;flex-direction: column;z-index: 1;position: relative;background-color: white;}#sk-container-id-11 div.sk-parallel-item:first-child::after {align-self: flex-end;width: 50%;}#sk-container-id-11 div.sk-parallel-item:last-child::after {align-self: flex-start;width: 50%;}#sk-container-id-11 div.sk-parallel-item:only-child::after {width: 0;}#sk-container-id-11 div.sk-dashed-wrapped {border: 1px dashed gray;margin: 0 0.4em 0.5em 0.4em;box-sizing: border-box;padding-bottom: 0.4em;background-color: white;}#sk-container-id-11 div.sk-label label {font-family: monospace;font-weight: bold;display: inline-block;line-height: 1.2em;}#sk-container-id-11 div.sk-label-container {text-align: center;}#sk-container-id-11 div.sk-container {/* jupyter's `normalize.less` sets `[hidden] { display: none; }` but bootstrap.min.css set `[hidden] { display: none !important; }` so we also need the `!important` here to be able to override the default hidden behavior on the sphinx rendered scikit-learn.org. See: https://github.com/scikit-learn/scikit-learn/issues/21755 */display: inline-block !important;position: relative;}#sk-container-id-11 div.sk-text-repr-fallback {display: none;}</style><div id=\"sk-container-id-11\" class=\"sk-top-container\"><div class=\"sk-text-repr-fallback\"><pre>RandomForestClassifier()</pre><b>In a Jupyter environment, please rerun this cell to show the HTML representation or trust the notebook. <br />On GitHub, the HTML representation is unable to render, please try loading this page with nbviewer.org.</b></div><div class=\"sk-container\" hidden><div class=\"sk-item\"><div class=\"sk-estimator sk-toggleable\"><input class=\"sk-toggleable__control sk-hidden--visually\" id=\"sk-estimator-id-11\" type=\"checkbox\" checked><label for=\"sk-estimator-id-11\" class=\"sk-toggleable__label sk-toggleable__label-arrow\">RandomForestClassifier</label><div class=\"sk-toggleable__content\"><pre>RandomForestClassifier()</pre></div></div></div></div></div>"
            ]
          },
          "metadata": {},
          "execution_count": 82
        }
      ]
    },
    {
      "cell_type": "code",
      "source": [
        "print(\"train : {}\".format(rfc.score(x_train, t_train)))\n",
        "print(\"test : {}\".format(rfc.score(x_test, t_test)))"
      ],
      "metadata": {
        "colab": {
          "base_uri": "https://localhost:8080/"
        },
        "id": "SuFMKaJOZHSL",
        "outputId": "ce354188-3bf3-4aed-cd53-d04bb87ce2ac"
      },
      "execution_count": 83,
      "outputs": [
        {
          "output_type": "stream",
          "name": "stdout",
          "text": [
            "train : 0.8218298555377207\n",
            "test : 0.7835820895522388\n"
          ]
        }
      ]
    },
    {
      "cell_type": "code",
      "source": [
        "score_li.append([rfc.score(x_train, t_train),rfc.score(x_test, t_test)])"
      ],
      "metadata": {
        "id": "ZERcNjlMZtSZ"
      },
      "execution_count": 84,
      "outputs": []
    },
    {
      "cell_type": "code",
      "source": [
        "score_li"
      ],
      "metadata": {
        "colab": {
          "base_uri": "https://localhost:8080/"
        },
        "id": "R99K0P7n12Rf",
        "outputId": "3fdfc15c-a923-4ed2-9a23-fda7aa56d7fc"
      },
      "execution_count": 85,
      "outputs": [
        {
          "output_type": "execute_result",
          "data": {
            "text/plain": [
              "[[0.8170144462279294, 0.7798507462686567],\n",
              " [0.8025682182985554, 0.7947761194029851],\n",
              " [0.7640449438202247, 0.7761194029850746],\n",
              " [0.8073836276083467, 0.7947761194029851],\n",
              " [0.8218298555377207, 0.7835820895522388]]"
            ]
          },
          "metadata": {},
          "execution_count": 85
        }
      ]
    },
    {
      "cell_type": "code",
      "source": [
        "columns = [\"train\",\"test\"]\n",
        "index = [\"LGBM\",\"LR\",\"KNeighbors\",\"SVM\",\"RFC\"]\n",
        "df = pd.DataFrame(data=score_li,columns=columns, index=index)\n",
        "df"
      ],
      "metadata": {
        "colab": {
          "base_uri": "https://localhost:8080/",
          "height": 206
        },
        "id": "8j-swHP2148l",
        "outputId": "99811878-0385-434a-f0b9-2195847ef250"
      },
      "execution_count": 86,
      "outputs": [
        {
          "output_type": "execute_result",
          "data": {
            "text/plain": [
              "               train      test\n",
              "LGBM        0.817014  0.779851\n",
              "LR          0.802568  0.794776\n",
              "KNeighbors  0.764045  0.776119\n",
              "SVM         0.807384  0.794776\n",
              "RFC         0.821830  0.783582"
            ],
            "text/html": [
              "\n",
              "  <div id=\"df-cd5994b9-5f54-4bbe-96aa-e59597851a69\" class=\"colab-df-container\">\n",
              "    <div>\n",
              "<style scoped>\n",
              "    .dataframe tbody tr th:only-of-type {\n",
              "        vertical-align: middle;\n",
              "    }\n",
              "\n",
              "    .dataframe tbody tr th {\n",
              "        vertical-align: top;\n",
              "    }\n",
              "\n",
              "    .dataframe thead th {\n",
              "        text-align: right;\n",
              "    }\n",
              "</style>\n",
              "<table border=\"1\" class=\"dataframe\">\n",
              "  <thead>\n",
              "    <tr style=\"text-align: right;\">\n",
              "      <th></th>\n",
              "      <th>train</th>\n",
              "      <th>test</th>\n",
              "    </tr>\n",
              "  </thead>\n",
              "  <tbody>\n",
              "    <tr>\n",
              "      <th>LGBM</th>\n",
              "      <td>0.817014</td>\n",
              "      <td>0.779851</td>\n",
              "    </tr>\n",
              "    <tr>\n",
              "      <th>LR</th>\n",
              "      <td>0.802568</td>\n",
              "      <td>0.794776</td>\n",
              "    </tr>\n",
              "    <tr>\n",
              "      <th>KNeighbors</th>\n",
              "      <td>0.764045</td>\n",
              "      <td>0.776119</td>\n",
              "    </tr>\n",
              "    <tr>\n",
              "      <th>SVM</th>\n",
              "      <td>0.807384</td>\n",
              "      <td>0.794776</td>\n",
              "    </tr>\n",
              "    <tr>\n",
              "      <th>RFC</th>\n",
              "      <td>0.821830</td>\n",
              "      <td>0.783582</td>\n",
              "    </tr>\n",
              "  </tbody>\n",
              "</table>\n",
              "</div>\n",
              "    <div class=\"colab-df-buttons\">\n",
              "\n",
              "  <div class=\"colab-df-container\">\n",
              "    <button class=\"colab-df-convert\" onclick=\"convertToInteractive('df-cd5994b9-5f54-4bbe-96aa-e59597851a69')\"\n",
              "            title=\"Convert this dataframe to an interactive table.\"\n",
              "            style=\"display:none;\">\n",
              "\n",
              "  <svg xmlns=\"http://www.w3.org/2000/svg\" height=\"24px\" viewBox=\"0 -960 960 960\">\n",
              "    <path d=\"M120-120v-720h720v720H120Zm60-500h600v-160H180v160Zm220 220h160v-160H400v160Zm0 220h160v-160H400v160ZM180-400h160v-160H180v160Zm440 0h160v-160H620v160ZM180-180h160v-160H180v160Zm440 0h160v-160H620v160Z\"/>\n",
              "  </svg>\n",
              "    </button>\n",
              "\n",
              "  <style>\n",
              "    .colab-df-container {\n",
              "      display:flex;\n",
              "      gap: 12px;\n",
              "    }\n",
              "\n",
              "    .colab-df-convert {\n",
              "      background-color: #E8F0FE;\n",
              "      border: none;\n",
              "      border-radius: 50%;\n",
              "      cursor: pointer;\n",
              "      display: none;\n",
              "      fill: #1967D2;\n",
              "      height: 32px;\n",
              "      padding: 0 0 0 0;\n",
              "      width: 32px;\n",
              "    }\n",
              "\n",
              "    .colab-df-convert:hover {\n",
              "      background-color: #E2EBFA;\n",
              "      box-shadow: 0px 1px 2px rgba(60, 64, 67, 0.3), 0px 1px 3px 1px rgba(60, 64, 67, 0.15);\n",
              "      fill: #174EA6;\n",
              "    }\n",
              "\n",
              "    .colab-df-buttons div {\n",
              "      margin-bottom: 4px;\n",
              "    }\n",
              "\n",
              "    [theme=dark] .colab-df-convert {\n",
              "      background-color: #3B4455;\n",
              "      fill: #D2E3FC;\n",
              "    }\n",
              "\n",
              "    [theme=dark] .colab-df-convert:hover {\n",
              "      background-color: #434B5C;\n",
              "      box-shadow: 0px 1px 3px 1px rgba(0, 0, 0, 0.15);\n",
              "      filter: drop-shadow(0px 1px 2px rgba(0, 0, 0, 0.3));\n",
              "      fill: #FFFFFF;\n",
              "    }\n",
              "  </style>\n",
              "\n",
              "    <script>\n",
              "      const buttonEl =\n",
              "        document.querySelector('#df-cd5994b9-5f54-4bbe-96aa-e59597851a69 button.colab-df-convert');\n",
              "      buttonEl.style.display =\n",
              "        google.colab.kernel.accessAllowed ? 'block' : 'none';\n",
              "\n",
              "      async function convertToInteractive(key) {\n",
              "        const element = document.querySelector('#df-cd5994b9-5f54-4bbe-96aa-e59597851a69');\n",
              "        const dataTable =\n",
              "          await google.colab.kernel.invokeFunction('convertToInteractive',\n",
              "                                                    [key], {});\n",
              "        if (!dataTable) return;\n",
              "\n",
              "        const docLinkHtml = 'Like what you see? Visit the ' +\n",
              "          '<a target=\"_blank\" href=https://colab.research.google.com/notebooks/data_table.ipynb>data table notebook</a>'\n",
              "          + ' to learn more about interactive tables.';\n",
              "        element.innerHTML = '';\n",
              "        dataTable['output_type'] = 'display_data';\n",
              "        await google.colab.output.renderOutput(dataTable, element);\n",
              "        const docLink = document.createElement('div');\n",
              "        docLink.innerHTML = docLinkHtml;\n",
              "        element.appendChild(docLink);\n",
              "      }\n",
              "    </script>\n",
              "  </div>\n",
              "\n",
              "\n",
              "<div id=\"df-f77c043b-a809-4aa7-8522-064815f67fe9\">\n",
              "  <button class=\"colab-df-quickchart\" onclick=\"quickchart('df-f77c043b-a809-4aa7-8522-064815f67fe9')\"\n",
              "            title=\"Suggest charts.\"\n",
              "            style=\"display:none;\">\n",
              "\n",
              "<svg xmlns=\"http://www.w3.org/2000/svg\" height=\"24px\"viewBox=\"0 0 24 24\"\n",
              "     width=\"24px\">\n",
              "    <g>\n",
              "        <path d=\"M19 3H5c-1.1 0-2 .9-2 2v14c0 1.1.9 2 2 2h14c1.1 0 2-.9 2-2V5c0-1.1-.9-2-2-2zM9 17H7v-7h2v7zm4 0h-2V7h2v10zm4 0h-2v-4h2v4z\"/>\n",
              "    </g>\n",
              "</svg>\n",
              "  </button>\n",
              "\n",
              "<style>\n",
              "  .colab-df-quickchart {\n",
              "      --bg-color: #E8F0FE;\n",
              "      --fill-color: #1967D2;\n",
              "      --hover-bg-color: #E2EBFA;\n",
              "      --hover-fill-color: #174EA6;\n",
              "      --disabled-fill-color: #AAA;\n",
              "      --disabled-bg-color: #DDD;\n",
              "  }\n",
              "\n",
              "  [theme=dark] .colab-df-quickchart {\n",
              "      --bg-color: #3B4455;\n",
              "      --fill-color: #D2E3FC;\n",
              "      --hover-bg-color: #434B5C;\n",
              "      --hover-fill-color: #FFFFFF;\n",
              "      --disabled-bg-color: #3B4455;\n",
              "      --disabled-fill-color: #666;\n",
              "  }\n",
              "\n",
              "  .colab-df-quickchart {\n",
              "    background-color: var(--bg-color);\n",
              "    border: none;\n",
              "    border-radius: 50%;\n",
              "    cursor: pointer;\n",
              "    display: none;\n",
              "    fill: var(--fill-color);\n",
              "    height: 32px;\n",
              "    padding: 0;\n",
              "    width: 32px;\n",
              "  }\n",
              "\n",
              "  .colab-df-quickchart:hover {\n",
              "    background-color: var(--hover-bg-color);\n",
              "    box-shadow: 0 1px 2px rgba(60, 64, 67, 0.3), 0 1px 3px 1px rgba(60, 64, 67, 0.15);\n",
              "    fill: var(--button-hover-fill-color);\n",
              "  }\n",
              "\n",
              "  .colab-df-quickchart-complete:disabled,\n",
              "  .colab-df-quickchart-complete:disabled:hover {\n",
              "    background-color: var(--disabled-bg-color);\n",
              "    fill: var(--disabled-fill-color);\n",
              "    box-shadow: none;\n",
              "  }\n",
              "\n",
              "  .colab-df-spinner {\n",
              "    border: 2px solid var(--fill-color);\n",
              "    border-color: transparent;\n",
              "    border-bottom-color: var(--fill-color);\n",
              "    animation:\n",
              "      spin 1s steps(1) infinite;\n",
              "  }\n",
              "\n",
              "  @keyframes spin {\n",
              "    0% {\n",
              "      border-color: transparent;\n",
              "      border-bottom-color: var(--fill-color);\n",
              "      border-left-color: var(--fill-color);\n",
              "    }\n",
              "    20% {\n",
              "      border-color: transparent;\n",
              "      border-left-color: var(--fill-color);\n",
              "      border-top-color: var(--fill-color);\n",
              "    }\n",
              "    30% {\n",
              "      border-color: transparent;\n",
              "      border-left-color: var(--fill-color);\n",
              "      border-top-color: var(--fill-color);\n",
              "      border-right-color: var(--fill-color);\n",
              "    }\n",
              "    40% {\n",
              "      border-color: transparent;\n",
              "      border-right-color: var(--fill-color);\n",
              "      border-top-color: var(--fill-color);\n",
              "    }\n",
              "    60% {\n",
              "      border-color: transparent;\n",
              "      border-right-color: var(--fill-color);\n",
              "    }\n",
              "    80% {\n",
              "      border-color: transparent;\n",
              "      border-right-color: var(--fill-color);\n",
              "      border-bottom-color: var(--fill-color);\n",
              "    }\n",
              "    90% {\n",
              "      border-color: transparent;\n",
              "      border-bottom-color: var(--fill-color);\n",
              "    }\n",
              "  }\n",
              "</style>\n",
              "\n",
              "  <script>\n",
              "    async function quickchart(key) {\n",
              "      const quickchartButtonEl =\n",
              "        document.querySelector('#' + key + ' button');\n",
              "      quickchartButtonEl.disabled = true;  // To prevent multiple clicks.\n",
              "      quickchartButtonEl.classList.add('colab-df-spinner');\n",
              "      try {\n",
              "        const charts = await google.colab.kernel.invokeFunction(\n",
              "            'suggestCharts', [key], {});\n",
              "      } catch (error) {\n",
              "        console.error('Error during call to suggestCharts:', error);\n",
              "      }\n",
              "      quickchartButtonEl.classList.remove('colab-df-spinner');\n",
              "      quickchartButtonEl.classList.add('colab-df-quickchart-complete');\n",
              "    }\n",
              "    (() => {\n",
              "      let quickchartButtonEl =\n",
              "        document.querySelector('#df-f77c043b-a809-4aa7-8522-064815f67fe9 button');\n",
              "      quickchartButtonEl.style.display =\n",
              "        google.colab.kernel.accessAllowed ? 'block' : 'none';\n",
              "    })();\n",
              "  </script>\n",
              "</div>\n",
              "    </div>\n",
              "  </div>\n"
            ]
          },
          "metadata": {},
          "execution_count": 86
        }
      ]
    },
    {
      "cell_type": "code",
      "source": [],
      "metadata": {
        "id": "ViFZ1JMf4KRn"
      },
      "execution_count": 86,
      "outputs": []
    },
    {
      "cell_type": "markdown",
      "source": [
        "**結果 ランダムフォレスト、SVMの方がいい。**\n",
        "今回のデータセットではLightGBMの良さが分からなかった。パラメータチューニングを行えばよくなるのかなぁ。たくさんのモデルを試した方がよさそう。"
      ],
      "metadata": {
        "id": "4arUoesP4OMc"
      }
    },
    {
      "cell_type": "code",
      "source": [],
      "metadata": {
        "id": "mLzLthXa4be4"
      },
      "execution_count": 86,
      "outputs": []
    },
    {
      "cell_type": "markdown",
      "source": [
        "# optunaを用いてハイパーパラメータを自動チューニング\n",
        "## 完成版"
      ],
      "metadata": {
        "id": "SWoRo0Y93jOp"
      }
    },
    {
      "cell_type": "code",
      "source": [
        "! pip install optuna"
      ],
      "metadata": {
        "colab": {
          "base_uri": "https://localhost:8080/"
        },
        "id": "6BkXe9tR4K0n",
        "outputId": "2ae8764f-3faf-469a-84c9-be3543e0d122"
      },
      "execution_count": 87,
      "outputs": [
        {
          "output_type": "stream",
          "name": "stdout",
          "text": [
            "Requirement already satisfied: optuna in /usr/local/lib/python3.10/dist-packages (3.4.0)\n",
            "Requirement already satisfied: alembic>=1.5.0 in /usr/local/lib/python3.10/dist-packages (from optuna) (1.12.0)\n",
            "Requirement already satisfied: colorlog in /usr/local/lib/python3.10/dist-packages (from optuna) (6.7.0)\n",
            "Requirement already satisfied: numpy in /usr/local/lib/python3.10/dist-packages (from optuna) (1.23.5)\n",
            "Requirement already satisfied: packaging>=20.0 in /usr/local/lib/python3.10/dist-packages (from optuna) (23.2)\n",
            "Requirement already satisfied: sqlalchemy>=1.3.0 in /usr/local/lib/python3.10/dist-packages (from optuna) (2.0.22)\n",
            "Requirement already satisfied: tqdm in /usr/local/lib/python3.10/dist-packages (from optuna) (4.66.1)\n",
            "Requirement already satisfied: PyYAML in /usr/local/lib/python3.10/dist-packages (from optuna) (6.0.1)\n",
            "Requirement already satisfied: Mako in /usr/local/lib/python3.10/dist-packages (from alembic>=1.5.0->optuna) (1.2.4)\n",
            "Requirement already satisfied: typing-extensions>=4 in /usr/local/lib/python3.10/dist-packages (from alembic>=1.5.0->optuna) (4.5.0)\n",
            "Requirement already satisfied: greenlet!=0.4.17 in /usr/local/lib/python3.10/dist-packages (from sqlalchemy>=1.3.0->optuna) (3.0.0)\n",
            "Requirement already satisfied: MarkupSafe>=0.9.2 in /usr/local/lib/python3.10/dist-packages (from Mako->alembic>=1.5.0->optuna) (2.1.3)\n"
          ]
        }
      ]
    },
    {
      "cell_type": "code",
      "source": [
        "# optunaを通してlightgbmをインポート\n",
        "from optuna.integration import lightgbm as lgb_o"
      ],
      "metadata": {
        "id": "mK5iRbs93zgc"
      },
      "execution_count": 88,
      "outputs": []
    },
    {
      "cell_type": "code",
      "source": [
        "dtrain = lgb_o.Dataset(x_train, t_train)\n",
        "dtest  = lgb_o.Dataset(x_test, t_test)"
      ],
      "metadata": {
        "id": "qqdD6tf04ADq"
      },
      "execution_count": 89,
      "outputs": []
    },
    {
      "cell_type": "code",
      "source": [
        "param = {\n",
        "        'objective': 'binary',\n",
        "        'metric': 'binary_logloss',\n",
        "        'verbosity': -1,\n",
        "        'boosting_type': 'gbdt',\n",
        "        'random_state' : 0,\n",
        "    }"
      ],
      "metadata": {
        "id": "_Rb7MlxJ4qUc"
      },
      "execution_count": 90,
      "outputs": []
    },
    {
      "cell_type": "code",
      "source": [
        "best = lgb_o.train(\n",
        "                 param,\n",
        "                 dtrain,\n",
        "                 valid_sets=[dtrain,dtest]\n",
        "                   )"
      ],
      "metadata": {
        "colab": {
          "base_uri": "https://localhost:8080/"
        },
        "id": "3oqV8RWg46fh",
        "outputId": "463c555c-e9f0-444a-b364-07fe9770d5bd"
      },
      "execution_count": 91,
      "outputs": [
        {
          "output_type": "stream",
          "name": "stderr",
          "text": [
            "[I 2023-10-21 11:35:06,031] A new study created in memory with name: no-name-d3a08e51-b950-4c0f-a585-53cd98036288\n",
            "feature_fraction, val_score: 0.466564:  14%|#4        | 1/7 [00:00<00:02,  2.56it/s][I 2023-10-21 11:35:06,433] Trial 0 finished with value: 0.46656367148597566 and parameters: {'feature_fraction': 0.8999999999999999}. Best is trial 0 with value: 0.46656367148597566.\n",
            "feature_fraction, val_score: 0.435330:  29%|##8       | 2/7 [00:01<00:05,  1.07s/it][I 2023-10-21 11:35:07,976] Trial 1 finished with value: 0.4353299617247752 and parameters: {'feature_fraction': 0.4}. Best is trial 1 with value: 0.4353299617247752.\n",
            "feature_fraction, val_score: 0.435330:  43%|####2     | 3/7 [00:04<00:06,  1.55s/it][I 2023-10-21 11:35:10,114] Trial 2 finished with value: 0.4353299617247752 and parameters: {'feature_fraction': 0.5}. Best is trial 1 with value: 0.4353299617247752.\n",
            "feature_fraction, val_score: 0.435330:  57%|#####7    | 4/7 [00:04<00:03,  1.14s/it][I 2023-10-21 11:35:10,616] Trial 3 finished with value: 0.45992581213668626 and parameters: {'feature_fraction': 0.7}. Best is trial 1 with value: 0.4353299617247752.\n",
            "feature_fraction, val_score: 0.435330:  71%|#######1  | 5/7 [00:04<00:01,  1.16it/s][I 2023-10-21 11:35:10,988] Trial 4 finished with value: 0.46656367148597566 and parameters: {'feature_fraction': 1.0}. Best is trial 1 with value: 0.4353299617247752.\n",
            "feature_fraction, val_score: 0.435330:  86%|########5 | 6/7 [00:05<00:00,  1.47it/s][I 2023-10-21 11:35:11,318] Trial 5 finished with value: 0.45992581213668626 and parameters: {'feature_fraction': 0.8}. Best is trial 1 with value: 0.4353299617247752.\n",
            "feature_fraction, val_score: 0.435330: 100%|##########| 7/7 [00:05<00:00,  1.44it/s][I 2023-10-21 11:35:12,037] Trial 6 finished with value: 0.4353299617247752 and parameters: {'feature_fraction': 0.6}. Best is trial 1 with value: 0.4353299617247752.\n",
            "feature_fraction, val_score: 0.435330: 100%|##########| 7/7 [00:06<00:00,  1.17it/s]\n",
            "num_leaves, val_score: 0.435330:   5%|5         | 1/20 [00:01<00:25,  1.36s/it][I 2023-10-21 11:35:13,426] Trial 7 finished with value: 0.4353299617247752 and parameters: {'num_leaves': 154}. Best is trial 7 with value: 0.4353299617247752.\n",
            "num_leaves, val_score: 0.435330:  10%|#         | 2/20 [00:03<00:28,  1.59s/it][I 2023-10-21 11:35:15,170] Trial 8 finished with value: 0.4353299617247752 and parameters: {'num_leaves': 159}. Best is trial 7 with value: 0.4353299617247752.\n",
            "num_leaves, val_score: 0.435330:  15%|#5        | 3/20 [00:04<00:27,  1.61s/it][I 2023-10-21 11:35:16,810] Trial 9 finished with value: 0.4353299617247752 and parameters: {'num_leaves': 81}. Best is trial 7 with value: 0.4353299617247752.\n",
            "num_leaves, val_score: 0.435330:  20%|##        | 4/20 [00:07<00:29,  1.87s/it][I 2023-10-21 11:35:19,092] Trial 10 finished with value: 0.4353299617247752 and parameters: {'num_leaves': 254}. Best is trial 7 with value: 0.4353299617247752.\n",
            "num_leaves, val_score: 0.435330:  25%|##5       | 5/20 [00:07<00:23,  1.55s/it][I 2023-10-21 11:35:20,052] Trial 11 finished with value: 0.4353299617247752 and parameters: {'num_leaves': 12}. Best is trial 7 with value: 0.4353299617247752.\n",
            "num_leaves, val_score: 0.435330:  30%|###       | 6/20 [00:13<00:42,  3.00s/it][I 2023-10-21 11:35:25,876] Trial 12 finished with value: 0.4353299617247752 and parameters: {'num_leaves': 243}. Best is trial 7 with value: 0.4353299617247752.\n",
            "num_leaves, val_score: 0.435330:  35%|###5      | 7/20 [00:14<00:29,  2.25s/it][I 2023-10-21 11:35:26,596] Trial 13 finished with value: 0.4591090652956512 and parameters: {'num_leaves': 2}. Best is trial 7 with value: 0.4353299617247752.\n",
            "num_leaves, val_score: 0.435330:  40%|####      | 8/20 [00:17<00:29,  2.43s/it][I 2023-10-21 11:35:29,409] Trial 14 finished with value: 0.4353299617247752 and parameters: {'num_leaves': 82}. Best is trial 7 with value: 0.4353299617247752.\n",
            "num_leaves, val_score: 0.435330:  45%|####5     | 9/20 [00:19<00:26,  2.38s/it][I 2023-10-21 11:35:31,663] Trial 15 finished with value: 0.4353299617247752 and parameters: {'num_leaves': 199}. Best is trial 7 with value: 0.4353299617247752.\n",
            "num_leaves, val_score: 0.435330:  50%|#####     | 10/20 [00:20<00:18,  1.87s/it][I 2023-10-21 11:35:32,404] Trial 16 finished with value: 0.4353299617247752 and parameters: {'num_leaves': 85}. Best is trial 7 with value: 0.4353299617247752.\n",
            "num_leaves, val_score: 0.435330:  55%|#####5    | 11/20 [00:20<00:12,  1.38s/it][I 2023-10-21 11:35:32,670] Trial 17 finished with value: 0.4353299617247752 and parameters: {'num_leaves': 48}. Best is trial 7 with value: 0.4353299617247752.\n",
            "num_leaves, val_score: 0.435330:  60%|######    | 12/20 [00:20<00:08,  1.05s/it][I 2023-10-21 11:35:32,949] Trial 18 finished with value: 0.4353299617247752 and parameters: {'num_leaves': 209}. Best is trial 7 with value: 0.4353299617247752.\n",
            "num_leaves, val_score: 0.435330:  65%|######5   | 13/20 [00:21<00:05,  1.22it/s][I 2023-10-21 11:35:33,255] Trial 19 finished with value: 0.4353299617247752 and parameters: {'num_leaves': 123}. Best is trial 7 with value: 0.4353299617247752.\n",
            "num_leaves, val_score: 0.435330:  70%|#######   | 14/20 [00:21<00:03,  1.53it/s][I 2023-10-21 11:35:33,525] Trial 20 finished with value: 0.4353299617247752 and parameters: {'num_leaves': 126}. Best is trial 7 with value: 0.4353299617247752.\n",
            "num_leaves, val_score: 0.435330:  75%|#######5  | 15/20 [00:21<00:02,  1.82it/s][I 2023-10-21 11:35:33,823] Trial 21 finished with value: 0.4353299617247752 and parameters: {'num_leaves': 197}. Best is trial 7 with value: 0.4353299617247752.\n",
            "num_leaves, val_score: 0.435330:  80%|########  | 16/20 [00:22<00:01,  2.17it/s][I 2023-10-21 11:35:34,081] Trial 22 finished with value: 0.4353299617247752 and parameters: {'num_leaves': 41}. Best is trial 7 with value: 0.4353299617247752.\n",
            "num_leaves, val_score: 0.435330:  85%|########5 | 17/20 [00:22<00:01,  2.43it/s][I 2023-10-21 11:35:34,379] Trial 23 finished with value: 0.4353299617247752 and parameters: {'num_leaves': 152}. Best is trial 7 with value: 0.4353299617247752.\n",
            "num_leaves, val_score: 0.435330:  90%|######### | 18/20 [00:22<00:00,  2.69it/s][I 2023-10-21 11:35:34,659] Trial 24 finished with value: 0.4353299617247752 and parameters: {'num_leaves': 227}. Best is trial 7 with value: 0.4353299617247752.\n",
            "num_leaves, val_score: 0.435330:  95%|#########5| 19/20 [00:23<00:00,  1.64it/s][I 2023-10-21 11:35:35,827] Trial 25 finished with value: 0.4353299617247752 and parameters: {'num_leaves': 176}. Best is trial 7 with value: 0.4353299617247752.\n",
            "num_leaves, val_score: 0.435330: 100%|##########| 20/20 [00:26<00:00,  1.17s/it][I 2023-10-21 11:35:38,303] Trial 26 finished with value: 0.4353299617247752 and parameters: {'num_leaves': 102}. Best is trial 7 with value: 0.4353299617247752.\n",
            "num_leaves, val_score: 0.435330: 100%|##########| 20/20 [00:26<00:00,  1.31s/it]\n",
            "bagging, val_score: 0.431694:  10%|#         | 1/10 [00:00<00:02,  3.76it/s][I 2023-10-21 11:35:38,594] Trial 27 finished with value: 0.4316942696580648 and parameters: {'bagging_fraction': 0.5861414897513878, 'bagging_freq': 5}. Best is trial 27 with value: 0.4316942696580648.\n",
            "bagging, val_score: 0.430756:  20%|##        | 2/10 [00:00<00:02,  3.69it/s][I 2023-10-21 11:35:38,867] Trial 28 finished with value: 0.4307555008352316 and parameters: {'bagging_fraction': 0.5672183730067349, 'bagging_freq': 5}. Best is trial 28 with value: 0.4307555008352316.\n",
            "bagging, val_score: 0.430390:  30%|###       | 3/10 [00:00<00:01,  3.68it/s][I 2023-10-21 11:35:39,141] Trial 29 finished with value: 0.4303902225585125 and parameters: {'bagging_fraction': 0.5698625402636134, 'bagging_freq': 5}. Best is trial 29 with value: 0.4303902225585125.\n",
            "bagging, val_score: 0.430390:  40%|####      | 4/10 [00:01<00:01,  3.80it/s][I 2023-10-21 11:35:39,393] Trial 30 finished with value: 0.43068620041716577 and parameters: {'bagging_fraction': 0.5695729441077672, 'bagging_freq': 5}. Best is trial 29 with value: 0.4303902225585125.\n",
            "bagging, val_score: 0.430390:  50%|#####     | 5/10 [00:01<00:01,  3.71it/s][I 2023-10-21 11:35:39,673] Trial 31 finished with value: 0.4311640241420306 and parameters: {'bagging_fraction': 0.5689775548347527, 'bagging_freq': 5}. Best is trial 29 with value: 0.4303902225585125.\n",
            "bagging, val_score: 0.430390:  60%|######    | 6/10 [00:01<00:01,  3.77it/s][I 2023-10-21 11:35:39,929] Trial 32 finished with value: 0.43054507061579694 and parameters: {'bagging_fraction': 0.5715197130358898, 'bagging_freq': 5}. Best is trial 29 with value: 0.4303902225585125.\n",
            "bagging, val_score: 0.430390:  70%|#######   | 7/10 [00:01<00:00,  3.74it/s][I 2023-10-21 11:35:40,202] Trial 33 finished with value: 0.43078369210951845 and parameters: {'bagging_fraction': 0.5665806487628384, 'bagging_freq': 5}. Best is trial 29 with value: 0.4303902225585125.\n",
            "bagging, val_score: 0.430130:  80%|########  | 8/10 [00:02<00:00,  3.81it/s][I 2023-10-21 11:35:40,450] Trial 34 finished with value: 0.4301298925113084 and parameters: {'bagging_fraction': 0.5442180346525405, 'bagging_freq': 5}. Best is trial 34 with value: 0.4301298925113084.\n",
            "bagging, val_score: 0.430130:  90%|######### | 9/10 [00:02<00:00,  3.88it/s][I 2023-10-21 11:35:40,703] Trial 35 finished with value: 0.43709806159394166 and parameters: {'bagging_fraction': 0.41809414602225725, 'bagging_freq': 7}. Best is trial 34 with value: 0.4301298925113084.\n",
            "bagging, val_score: 0.430130: 100%|##########| 10/10 [00:02<00:00,  3.75it/s][I 2023-10-21 11:35:40,987] Trial 36 finished with value: 0.4335068983040709 and parameters: {'bagging_fraction': 0.8955913950555318, 'bagging_freq': 3}. Best is trial 34 with value: 0.4301298925113084.\n",
            "bagging, val_score: 0.430130: 100%|##########| 10/10 [00:02<00:00,  3.74it/s]\n",
            "feature_fraction_stage2, val_score: 0.430130:  33%|###3      | 1/3 [00:00<00:00,  4.37it/s][I 2023-10-21 11:35:41,243] Trial 37 finished with value: 0.4301298925113084 and parameters: {'feature_fraction': 0.48000000000000004}. Best is trial 37 with value: 0.4301298925113084.\n",
            "feature_fraction_stage2, val_score: 0.430130:  67%|######6   | 2/3 [00:00<00:00,  4.30it/s][I 2023-10-21 11:35:41,477] Trial 38 finished with value: 0.4301298925113084 and parameters: {'feature_fraction': 0.41600000000000004}. Best is trial 37 with value: 0.4301298925113084.\n",
            "feature_fraction_stage2, val_score: 0.430130: 100%|##########| 3/3 [00:00<00:00,  3.98it/s][I 2023-10-21 11:35:41,751] Trial 39 finished with value: 0.4301298925113084 and parameters: {'feature_fraction': 0.44800000000000006}. Best is trial 37 with value: 0.4301298925113084.\n",
            "feature_fraction_stage2, val_score: 0.430130: 100%|##########| 3/3 [00:00<00:00,  4.04it/s]\n",
            "regularization_factors, val_score: 0.430130:   5%|5         | 1/20 [00:00<00:04,  3.83it/s][I 2023-10-21 11:35:42,024] Trial 40 finished with value: 0.43061340908586987 and parameters: {'lambda_l1': 0.000402116716123704, 'lambda_l2': 7.719627957567336e-08}. Best is trial 40 with value: 0.43061340908586987.\n",
            "regularization_factors, val_score: 0.429874:  10%|#         | 2/20 [00:00<00:04,  3.96it/s][I 2023-10-21 11:35:42,269] Trial 41 finished with value: 0.4298743464919483 and parameters: {'lambda_l1': 1.756249772711986e-08, 'lambda_l2': 4.340013465479121}. Best is trial 41 with value: 0.4298743464919483.\n",
            "regularization_factors, val_score: 0.426086:  15%|#5        | 3/20 [00:00<00:04,  4.18it/s][I 2023-10-21 11:35:42,493] Trial 42 finished with value: 0.4260858734576708 and parameters: {'lambda_l1': 2.874283819107178e-08, 'lambda_l2': 5.887495632596935}. Best is trial 42 with value: 0.4260858734576708.\n",
            "regularization_factors, val_score: 0.426086:  20%|##        | 4/20 [00:00<00:03,  4.01it/s][I 2023-10-21 11:35:42,759] Trial 43 finished with value: 0.42920704092393214 and parameters: {'lambda_l1': 1.3937928074965729e-08, 'lambda_l2': 8.427538582086052}. Best is trial 42 with value: 0.4260858734576708.\n",
            "regularization_factors, val_score: 0.426086:  25%|##5       | 5/20 [00:01<00:03,  4.12it/s][I 2023-10-21 11:35:42,990] Trial 44 finished with value: 0.42821363154444636 and parameters: {'lambda_l1': 1.3461363688595493e-08, 'lambda_l2': 7.931554759344273}. Best is trial 42 with value: 0.4260858734576708.\n",
            "regularization_factors, val_score: 0.426086:  30%|###       | 6/20 [00:01<00:03,  4.20it/s][I 2023-10-21 11:35:43,223] Trial 45 finished with value: 0.42800585829024057 and parameters: {'lambda_l1': 1.1237620529783181e-08, 'lambda_l2': 9.354921413867507}. Best is trial 42 with value: 0.4260858734576708.\n",
            "regularization_factors, val_score: 0.426086:  35%|###5      | 7/20 [00:01<00:03,  4.24it/s][I 2023-10-21 11:35:43,453] Trial 46 finished with value: 0.4305676550973655 and parameters: {'lambda_l1': 1.5807446014540866e-08, 'lambda_l2': 4.675883250722536}. Best is trial 42 with value: 0.4260858734576708.\n",
            "regularization_factors, val_score: 0.426086:  40%|####      | 8/20 [00:01<00:02,  4.13it/s][I 2023-10-21 11:35:43,710] Trial 47 finished with value: 0.4283331663781295 and parameters: {'lambda_l1': 1.1532248751156418e-08, 'lambda_l2': 7.655523324862608}. Best is trial 42 with value: 0.4260858734576708.\n",
            "regularization_factors, val_score: 0.426086:  45%|####5     | 9/20 [00:02<00:02,  4.12it/s][I 2023-10-21 11:35:43,953] Trial 48 finished with value: 0.4295008896893074 and parameters: {'lambda_l1': 2.0052254225912275e-08, 'lambda_l2': 7.131425425351212}. Best is trial 42 with value: 0.4260858734576708.\n",
            "regularization_factors, val_score: 0.426086:  50%|#####     | 10/20 [00:02<00:02,  4.20it/s][I 2023-10-21 11:35:44,184] Trial 49 finished with value: 0.4286850559852094 and parameters: {'lambda_l1': 1.0002089161574476e-08, 'lambda_l2': 9.692894932305638}. Best is trial 42 with value: 0.4260858734576708.\n",
            "regularization_factors, val_score: 0.426086:  55%|#####5    | 11/20 [00:02<00:02,  4.23it/s][I 2023-10-21 11:35:44,414] Trial 50 finished with value: 0.4279280847966781 and parameters: {'lambda_l1': 1.2438258114088092e-08, 'lambda_l2': 7.583645489383407}. Best is trial 42 with value: 0.4260858734576708.\n",
            "regularization_factors, val_score: 0.426086:  60%|######    | 12/20 [00:02<00:01,  4.07it/s][I 2023-10-21 11:35:44,678] Trial 51 finished with value: 0.4279330283645826 and parameters: {'lambda_l1': 1.09581958209953e-08, 'lambda_l2': 9.312727522553464}. Best is trial 42 with value: 0.4260858734576708.\n",
            "regularization_factors, val_score: 0.426086:  65%|######5   | 13/20 [00:03<00:01,  4.16it/s][I 2023-10-21 11:35:44,905] Trial 52 finished with value: 0.4279928630475402 and parameters: {'lambda_l1': 1.075205847381699e-08, 'lambda_l2': 9.475724121955052}. Best is trial 42 with value: 0.4260858734576708.\n",
            "regularization_factors, val_score: 0.426086:  70%|#######   | 14/20 [00:03<00:01,  4.09it/s][I 2023-10-21 11:35:45,163] Trial 53 finished with value: 0.4296673116412081 and parameters: {'lambda_l1': 3.026026394022742e-07, 'lambda_l2': 0.4497325423254629}. Best is trial 42 with value: 0.4260858734576708.\n",
            "regularization_factors, val_score: 0.426086:  75%|#######5  | 15/20 [00:03<00:01,  4.04it/s][I 2023-10-21 11:35:45,416] Trial 54 finished with value: 0.4297403100468143 and parameters: {'lambda_l1': 2.8438725079534176e-06, 'lambda_l2': 0.18774054102434393}. Best is trial 42 with value: 0.4260858734576708.\n",
            "regularization_factors, val_score: 0.426086:  80%|########  | 16/20 [00:03<00:01,  3.93it/s][I 2023-10-21 11:35:45,685] Trial 55 finished with value: 0.429737648070329 and parameters: {'lambda_l1': 7.048118057712519e-07, 'lambda_l2': 0.18940863711725026}. Best is trial 42 with value: 0.4260858734576708.\n",
            "regularization_factors, val_score: 0.426086:  85%|########5 | 17/20 [00:04<00:00,  3.90it/s][I 2023-10-21 11:35:45,949] Trial 56 finished with value: 0.4312514784367545 and parameters: {'lambda_l1': 0.09299055006871747, 'lambda_l2': 0.37262218024957616}. Best is trial 42 with value: 0.4260858734576708.\n",
            "regularization_factors, val_score: 0.426086:  90%|######### | 18/20 [00:04<00:00,  4.03it/s][I 2023-10-21 11:35:46,175] Trial 57 finished with value: 0.42972780094630536 and parameters: {'lambda_l1': 1.61313706379998e-07, 'lambda_l2': 8.93832419545569}. Best is trial 42 with value: 0.4260858734576708.\n",
            "regularization_factors, val_score: 0.426086:  95%|#########5| 19/20 [00:04<00:00,  4.01it/s][I 2023-10-21 11:35:46,428] Trial 58 finished with value: 0.43034489276691684 and parameters: {'lambda_l1': 7.496413693038859e-08, 'lambda_l2': 0.6809287865922533}. Best is trial 42 with value: 0.4260858734576708.\n",
            "regularization_factors, val_score: 0.426086: 100%|##########| 20/20 [00:04<00:00,  4.01it/s][I 2023-10-21 11:35:46,677] Trial 59 finished with value: 0.43105965208086644 and parameters: {'lambda_l1': 2.3319248044401974e-07, 'lambda_l2': 0.9451963297696625}. Best is trial 42 with value: 0.4260858734576708.\n",
            "regularization_factors, val_score: 0.426086: 100%|##########| 20/20 [00:04<00:00,  4.06it/s]\n",
            "min_child_samples, val_score: 0.424708:  20%|##        | 1/5 [00:00<00:00,  4.92it/s][I 2023-10-21 11:35:46,907] Trial 60 finished with value: 0.42470789535844117 and parameters: {'min_child_samples': 50}. Best is trial 60 with value: 0.42470789535844117.\n",
            "min_child_samples, val_score: 0.424708:  40%|####      | 2/5 [00:00<00:00,  5.22it/s][I 2023-10-21 11:35:47,095] Trial 61 finished with value: 0.44823624653201266 and parameters: {'min_child_samples': 100}. Best is trial 60 with value: 0.42470789535844117.\n",
            "min_child_samples, val_score: 0.424708:  60%|######    | 3/5 [00:00<00:00,  4.58it/s][I 2023-10-21 11:35:47,346] Trial 62 finished with value: 0.43126741924412565 and parameters: {'min_child_samples': 5}. Best is trial 60 with value: 0.42470789535844117.\n",
            "min_child_samples, val_score: 0.424708:  80%|########  | 4/5 [00:00<00:00,  4.60it/s][I 2023-10-21 11:35:47,558] Trial 63 finished with value: 0.42783706643478847 and parameters: {'min_child_samples': 25}. Best is trial 60 with value: 0.42470789535844117.\n",
            "min_child_samples, val_score: 0.424708: 100%|##########| 5/5 [00:01<00:00,  4.27it/s][I 2023-10-21 11:35:47,826] Trial 64 finished with value: 0.4277219498168288 and parameters: {'min_child_samples': 10}. Best is trial 60 with value: 0.42470789535844117.\n",
            "min_child_samples, val_score: 0.424708: 100%|##########| 5/5 [00:01<00:00,  4.43it/s]\n"
          ]
        }
      ]
    },
    {
      "cell_type": "code",
      "source": [
        "best.params"
      ],
      "metadata": {
        "colab": {
          "base_uri": "https://localhost:8080/"
        },
        "id": "7NQgdOV05AYT",
        "outputId": "83f14504-e3e2-4071-ff3c-ec9e1a2b1bb5"
      },
      "execution_count": 92,
      "outputs": [
        {
          "output_type": "execute_result",
          "data": {
            "text/plain": [
              "{'objective': 'binary',\n",
              " 'metric': 'binary_logloss',\n",
              " 'verbosity': -1,\n",
              " 'boosting_type': 'gbdt',\n",
              " 'random_state': 0,\n",
              " 'feature_pre_filter': False,\n",
              " 'lambda_l1': 2.874283819107178e-08,\n",
              " 'lambda_l2': 5.887495632596935,\n",
              " 'num_leaves': 31,\n",
              " 'feature_fraction': 0.4,\n",
              " 'bagging_fraction': 0.5442180346525405,\n",
              " 'bagging_freq': 5,\n",
              " 'min_child_samples': 50,\n",
              " 'num_iterations': 1000}"
            ]
          },
          "metadata": {},
          "execution_count": 92
        }
      ]
    },
    {
      "cell_type": "code",
      "source": [
        "model = lgb.LGBMClassifier(**best.params)"
      ],
      "metadata": {
        "id": "T2WyjyKpDQNf"
      },
      "execution_count": 93,
      "outputs": []
    },
    {
      "cell_type": "code",
      "source": [
        "model.fit(x_train, t_train)"
      ],
      "metadata": {
        "colab": {
          "base_uri": "https://localhost:8080/",
          "height": 197
        },
        "id": "hbRmBmXdDmgM",
        "outputId": "664fbbe8-a42f-4c4d-898d-79918f0e5fbb"
      },
      "execution_count": 94,
      "outputs": [
        {
          "output_type": "stream",
          "name": "stderr",
          "text": [
            "/usr/local/lib/python3.10/dist-packages/lightgbm/engine.py:172: UserWarning: Found `num_iterations` in params. Will use it instead of argument\n",
            "  _log_warning(f\"Found `{alias}` in params. Will use it instead of argument\")\n"
          ]
        },
        {
          "output_type": "execute_result",
          "data": {
            "text/plain": [
              "LGBMClassifier(bagging_fraction=0.5442180346525405, bagging_freq=5,\n",
              "               feature_fraction=0.4, feature_pre_filter=False,\n",
              "               lambda_l1=2.874283819107178e-08, lambda_l2=5.887495632596935,\n",
              "               metric='binary_logloss', min_child_samples=50,\n",
              "               num_iterations=1000, objective='binary', random_state=0,\n",
              "               verbosity=-1)"
            ],
            "text/html": [
              "<style>#sk-container-id-12 {color: black;background-color: white;}#sk-container-id-12 pre{padding: 0;}#sk-container-id-12 div.sk-toggleable {background-color: white;}#sk-container-id-12 label.sk-toggleable__label {cursor: pointer;display: block;width: 100%;margin-bottom: 0;padding: 0.3em;box-sizing: border-box;text-align: center;}#sk-container-id-12 label.sk-toggleable__label-arrow:before {content: \"▸\";float: left;margin-right: 0.25em;color: #696969;}#sk-container-id-12 label.sk-toggleable__label-arrow:hover:before {color: black;}#sk-container-id-12 div.sk-estimator:hover label.sk-toggleable__label-arrow:before {color: black;}#sk-container-id-12 div.sk-toggleable__content {max-height: 0;max-width: 0;overflow: hidden;text-align: left;background-color: #f0f8ff;}#sk-container-id-12 div.sk-toggleable__content pre {margin: 0.2em;color: black;border-radius: 0.25em;background-color: #f0f8ff;}#sk-container-id-12 input.sk-toggleable__control:checked~div.sk-toggleable__content {max-height: 200px;max-width: 100%;overflow: auto;}#sk-container-id-12 input.sk-toggleable__control:checked~label.sk-toggleable__label-arrow:before {content: \"▾\";}#sk-container-id-12 div.sk-estimator input.sk-toggleable__control:checked~label.sk-toggleable__label {background-color: #d4ebff;}#sk-container-id-12 div.sk-label input.sk-toggleable__control:checked~label.sk-toggleable__label {background-color: #d4ebff;}#sk-container-id-12 input.sk-hidden--visually {border: 0;clip: rect(1px 1px 1px 1px);clip: rect(1px, 1px, 1px, 1px);height: 1px;margin: -1px;overflow: hidden;padding: 0;position: absolute;width: 1px;}#sk-container-id-12 div.sk-estimator {font-family: monospace;background-color: #f0f8ff;border: 1px dotted black;border-radius: 0.25em;box-sizing: border-box;margin-bottom: 0.5em;}#sk-container-id-12 div.sk-estimator:hover {background-color: #d4ebff;}#sk-container-id-12 div.sk-parallel-item::after {content: \"\";width: 100%;border-bottom: 1px solid gray;flex-grow: 1;}#sk-container-id-12 div.sk-label:hover label.sk-toggleable__label {background-color: #d4ebff;}#sk-container-id-12 div.sk-serial::before {content: \"\";position: absolute;border-left: 1px solid gray;box-sizing: border-box;top: 0;bottom: 0;left: 50%;z-index: 0;}#sk-container-id-12 div.sk-serial {display: flex;flex-direction: column;align-items: center;background-color: white;padding-right: 0.2em;padding-left: 0.2em;position: relative;}#sk-container-id-12 div.sk-item {position: relative;z-index: 1;}#sk-container-id-12 div.sk-parallel {display: flex;align-items: stretch;justify-content: center;background-color: white;position: relative;}#sk-container-id-12 div.sk-item::before, #sk-container-id-12 div.sk-parallel-item::before {content: \"\";position: absolute;border-left: 1px solid gray;box-sizing: border-box;top: 0;bottom: 0;left: 50%;z-index: -1;}#sk-container-id-12 div.sk-parallel-item {display: flex;flex-direction: column;z-index: 1;position: relative;background-color: white;}#sk-container-id-12 div.sk-parallel-item:first-child::after {align-self: flex-end;width: 50%;}#sk-container-id-12 div.sk-parallel-item:last-child::after {align-self: flex-start;width: 50%;}#sk-container-id-12 div.sk-parallel-item:only-child::after {width: 0;}#sk-container-id-12 div.sk-dashed-wrapped {border: 1px dashed gray;margin: 0 0.4em 0.5em 0.4em;box-sizing: border-box;padding-bottom: 0.4em;background-color: white;}#sk-container-id-12 div.sk-label label {font-family: monospace;font-weight: bold;display: inline-block;line-height: 1.2em;}#sk-container-id-12 div.sk-label-container {text-align: center;}#sk-container-id-12 div.sk-container {/* jupyter's `normalize.less` sets `[hidden] { display: none; }` but bootstrap.min.css set `[hidden] { display: none !important; }` so we also need the `!important` here to be able to override the default hidden behavior on the sphinx rendered scikit-learn.org. See: https://github.com/scikit-learn/scikit-learn/issues/21755 */display: inline-block !important;position: relative;}#sk-container-id-12 div.sk-text-repr-fallback {display: none;}</style><div id=\"sk-container-id-12\" class=\"sk-top-container\"><div class=\"sk-text-repr-fallback\"><pre>LGBMClassifier(bagging_fraction=0.5442180346525405, bagging_freq=5,\n",
              "               feature_fraction=0.4, feature_pre_filter=False,\n",
              "               lambda_l1=2.874283819107178e-08, lambda_l2=5.887495632596935,\n",
              "               metric=&#x27;binary_logloss&#x27;, min_child_samples=50,\n",
              "               num_iterations=1000, objective=&#x27;binary&#x27;, random_state=0,\n",
              "               verbosity=-1)</pre><b>In a Jupyter environment, please rerun this cell to show the HTML representation or trust the notebook. <br />On GitHub, the HTML representation is unable to render, please try loading this page with nbviewer.org.</b></div><div class=\"sk-container\" hidden><div class=\"sk-item\"><div class=\"sk-estimator sk-toggleable\"><input class=\"sk-toggleable__control sk-hidden--visually\" id=\"sk-estimator-id-12\" type=\"checkbox\" checked><label for=\"sk-estimator-id-12\" class=\"sk-toggleable__label sk-toggleable__label-arrow\">LGBMClassifier</label><div class=\"sk-toggleable__content\"><pre>LGBMClassifier(bagging_fraction=0.5442180346525405, bagging_freq=5,\n",
              "               feature_fraction=0.4, feature_pre_filter=False,\n",
              "               lambda_l1=2.874283819107178e-08, lambda_l2=5.887495632596935,\n",
              "               metric=&#x27;binary_logloss&#x27;, min_child_samples=50,\n",
              "               num_iterations=1000, objective=&#x27;binary&#x27;, random_state=0,\n",
              "               verbosity=-1)</pre></div></div></div></div></div>"
            ]
          },
          "metadata": {},
          "execution_count": 94
        }
      ]
    },
    {
      "cell_type": "code",
      "source": [
        "pred = model.predict(x_test)\n",
        "pred"
      ],
      "metadata": {
        "colab": {
          "base_uri": "https://localhost:8080/"
        },
        "id": "hr4iInSYDaBM",
        "outputId": "be8fa6af-c307-465e-9356-4128b316da99"
      },
      "execution_count": 95,
      "outputs": [
        {
          "output_type": "execute_result",
          "data": {
            "text/plain": [
              "array([0, 0, 0, 1, 1, 0, 1, 1, 0, 1, 0, 1, 0, 1, 1, 1, 0, 0, 0, 0, 0, 1,\n",
              "       0, 0, 1, 1, 0, 1, 1, 0, 0, 1, 0, 0, 0, 0, 0, 0, 0, 0, 1, 0, 0, 0,\n",
              "       1, 0, 0, 1, 0, 1, 0, 1, 1, 0, 0, 0, 0, 0, 0, 0, 0, 1, 1, 0, 1, 0,\n",
              "       1, 1, 1, 1, 1, 0, 0, 0, 0, 1, 0, 0, 0, 0, 0, 0, 1, 0, 0, 1, 1, 1,\n",
              "       1, 0, 0, 0, 0, 1, 0, 0, 1, 0, 0, 0, 0, 0, 0, 0, 0, 0, 1, 1, 0, 1,\n",
              "       0, 1, 0, 1, 0, 1, 1, 1, 0, 1, 0, 0, 0, 0, 0, 0, 0, 0, 0, 0, 1, 0,\n",
              "       0, 1, 0, 0, 0, 1, 0, 0, 0, 1, 0, 1, 1, 1, 0, 1, 1, 0, 0, 1, 1, 0,\n",
              "       1, 0, 1, 0, 1, 0, 0, 0, 1, 1, 0, 0, 0, 0, 0, 0, 0, 1, 0, 0, 1, 0,\n",
              "       1, 0, 0, 1, 0, 0, 0, 0, 0, 0, 1, 0, 0, 1, 1, 0, 1, 1, 0, 1, 0, 0,\n",
              "       0, 0, 0, 1, 0, 1, 0, 0, 1, 0, 1, 0, 0, 0, 0, 0, 0, 0, 0, 0, 0, 1,\n",
              "       0, 1, 0, 0, 0, 0, 0, 1, 0, 0, 0, 1, 1, 1, 0, 0, 1, 1, 1, 0, 0, 1,\n",
              "       0, 0, 1, 0, 1, 0, 0, 1, 0, 0, 1, 0, 0, 1, 1, 0, 0, 0, 0, 0, 0, 0,\n",
              "       0, 0, 1, 0])"
            ]
          },
          "metadata": {},
          "execution_count": 95
        }
      ]
    },
    {
      "cell_type": "code",
      "source": [
        "from sklearn.metrics import accuracy_score"
      ],
      "metadata": {
        "id": "6xxihX1H64j6"
      },
      "execution_count": 96,
      "outputs": []
    },
    {
      "cell_type": "code",
      "source": [
        "accuracy_score(pred, t_test)"
      ],
      "metadata": {
        "colab": {
          "base_uri": "https://localhost:8080/"
        },
        "id": "LSY_bQU4Du1W",
        "outputId": "1a8ed867-8177-4a72-e1da-f1e321499d31"
      },
      "execution_count": 97,
      "outputs": [
        {
          "output_type": "execute_result",
          "data": {
            "text/plain": [
              "0.7873134328358209"
            ]
          },
          "metadata": {},
          "execution_count": 97
        }
      ]
    },
    {
      "cell_type": "code",
      "source": [
        "pred = best.predict(x_test)"
      ],
      "metadata": {
        "id": "TvHe62aT6FB_"
      },
      "execution_count": 98,
      "outputs": []
    },
    {
      "cell_type": "code",
      "source": [
        "pred = pred >0.5\n",
        "pred"
      ],
      "metadata": {
        "colab": {
          "base_uri": "https://localhost:8080/"
        },
        "id": "io8fN-w_-KHs",
        "outputId": "4531d174-1506-42c3-ba88-5262f7407f2f"
      },
      "execution_count": 99,
      "outputs": [
        {
          "output_type": "execute_result",
          "data": {
            "text/plain": [
              "array([False, False, False,  True,  True, False,  True,  True, False,\n",
              "        True, False,  True, False,  True,  True,  True, False, False,\n",
              "       False, False, False,  True, False, False,  True,  True, False,\n",
              "        True,  True, False, False,  True, False, False, False, False,\n",
              "       False, False, False, False,  True, False, False, False,  True,\n",
              "       False, False,  True, False,  True, False,  True,  True, False,\n",
              "       False, False, False, False, False, False, False,  True,  True,\n",
              "       False,  True, False,  True,  True,  True,  True,  True, False,\n",
              "       False, False, False,  True, False, False, False, False, False,\n",
              "       False,  True, False, False,  True,  True,  True,  True, False,\n",
              "       False, False, False,  True, False, False,  True, False, False,\n",
              "       False, False, False, False, False, False, False,  True,  True,\n",
              "       False,  True, False,  True, False,  True, False,  True,  True,\n",
              "        True, False,  True, False, False, False, False, False, False,\n",
              "       False, False, False, False,  True, False, False,  True, False,\n",
              "       False, False,  True, False, False, False,  True, False,  True,\n",
              "        True,  True, False,  True,  True, False, False,  True,  True,\n",
              "       False,  True, False,  True, False,  True, False, False, False,\n",
              "        True,  True, False, False, False, False, False, False, False,\n",
              "        True, False, False,  True, False,  True, False, False,  True,\n",
              "       False, False, False, False, False, False,  True, False, False,\n",
              "        True,  True, False,  True,  True, False,  True, False, False,\n",
              "       False, False, False,  True, False,  True, False, False,  True,\n",
              "       False,  True, False, False, False, False, False, False, False,\n",
              "       False, False, False,  True, False,  True, False, False, False,\n",
              "       False, False,  True, False, False, False,  True,  True,  True,\n",
              "       False, False,  True,  True,  True, False, False,  True, False,\n",
              "       False,  True, False,  True, False, False,  True, False, False,\n",
              "        True, False, False,  True,  True, False, False, False, False,\n",
              "       False, False, False, False, False,  True, False])"
            ]
          },
          "metadata": {},
          "execution_count": 99
        }
      ]
    },
    {
      "cell_type": "code",
      "source": [
        "accuracy_score(t_test, pred)"
      ],
      "metadata": {
        "colab": {
          "base_uri": "https://localhost:8080/"
        },
        "id": "TnlBpyjm-Bay",
        "outputId": "81c3281b-8224-41c4-fc06-96847170f138"
      },
      "execution_count": 100,
      "outputs": [
        {
          "output_type": "execute_result",
          "data": {
            "text/plain": [
              "0.7873134328358209"
            ]
          },
          "metadata": {},
          "execution_count": 100
        }
      ]
    },
    {
      "cell_type": "markdown",
      "source": [
        "# k分割公差検証を用いて平均値から推定。"
      ],
      "metadata": {
        "id": "hBEFRKBh43S-"
      }
    },
    {
      "cell_type": "code",
      "source": [
        "from sklearn.model_selection import KFold"
      ],
      "metadata": {
        "id": "OxGHFcgx-FXb"
      },
      "execution_count": 101,
      "outputs": []
    },
    {
      "cell_type": "code",
      "source": [
        "kf = KFold(n_splits=5, shuffle=True, random_state=0)"
      ],
      "metadata": {
        "id": "uSVaTx911Enq"
      },
      "execution_count": 102,
      "outputs": []
    },
    {
      "cell_type": "code",
      "source": [
        "score_list = []"
      ],
      "metadata": {
        "id": "ToY1nzF51ZYC"
      },
      "execution_count": 103,
      "outputs": []
    },
    {
      "cell_type": "code",
      "source": [
        "for fold, (train_index, valid_index) in enumerate(kf.split(x_train, t_train)):\n",
        "  train_x = x_train.iloc[train_index]\n",
        "  valid_x = x_train.iloc[valid_index]\n",
        "  train_t = t_train.iloc[train_index]\n",
        "  valid_t = t_train.iloc[valid_index]\n",
        "\n",
        "  lgb_train = lgb.Dataset(train_x, train_t)\n",
        "  lgb_valid = lgb.Dataset(valid_x, valid_t)\n",
        "\n",
        "  lgb_params = {\n",
        "        'objective': 'binary',\n",
        "        'metric': 'binary_logloss',\n",
        "        'verbosity': -1,\n",
        "        'boosting_type': 'gbdt',\n",
        "        'random_state' : 0,\n",
        "  }\n",
        "\n",
        "  gbm = lgb_o.train(params=lgb_params,\n",
        "                    train_set=lgb_train,\n",
        "                    valid_sets=[lgb_train, lgb_valid],\n",
        "                    # early_stopping_rounds=20,\n",
        "                    # verbose_eval=-1\n",
        "                    )\n",
        "\n",
        "  oof = gbm.predict(x_test)\n",
        "  score_list.append(oof)"
      ],
      "metadata": {
        "colab": {
          "base_uri": "https://localhost:8080/"
        },
        "id": "vv-dkoBU1bI-",
        "outputId": "f4b859f6-e23e-4eda-b0f0-afba302797a0"
      },
      "execution_count": 108,
      "outputs": [
        {
          "output_type": "stream",
          "name": "stderr",
          "text": [
            "[I 2023-10-21 11:37:28,896] A new study created in memory with name: no-name-d0b4f0cd-ea7e-41a7-838a-0e143d68593f\n",
            "feature_fraction, val_score: 0.466956:  14%|#4        | 1/7 [00:00<00:01,  4.28it/s][I 2023-10-21 11:37:29,150] Trial 0 finished with value: 0.4669557934499378 and parameters: {'feature_fraction': 0.6}. Best is trial 0 with value: 0.4669557934499378.\n",
            "feature_fraction, val_score: 0.466956:  29%|##8       | 2/7 [00:00<00:01,  3.38it/s][I 2023-10-21 11:37:29,489] Trial 1 finished with value: 0.4889437865472238 and parameters: {'feature_fraction': 0.8999999999999999}. Best is trial 0 with value: 0.4669557934499378.\n",
            "feature_fraction, val_score: 0.466956:  43%|####2     | 3/7 [00:00<00:01,  3.72it/s][I 2023-10-21 11:37:29,727] Trial 2 finished with value: 0.4669557934499378 and parameters: {'feature_fraction': 0.4}. Best is trial 0 with value: 0.4669557934499378.\n",
            "feature_fraction, val_score: 0.466956:  57%|#####7    | 4/7 [00:01<00:00,  3.55it/s][I 2023-10-21 11:37:30,030] Trial 3 finished with value: 0.4889437865472238 and parameters: {'feature_fraction': 1.0}. Best is trial 0 with value: 0.4669557934499378.\n",
            "feature_fraction, val_score: 0.466956:  71%|#######1  | 5/7 [00:01<00:00,  3.77it/s][I 2023-10-21 11:37:30,266] Trial 4 finished with value: 0.4669557934499378 and parameters: {'feature_fraction': 0.5}. Best is trial 0 with value: 0.4669557934499378.\n",
            "feature_fraction, val_score: 0.466956:  86%|########5 | 6/7 [00:01<00:00,  3.55it/s][I 2023-10-21 11:37:30,579] Trial 5 finished with value: 0.4838877684713037 and parameters: {'feature_fraction': 0.7}. Best is trial 0 with value: 0.4669557934499378.\n",
            "feature_fraction, val_score: 0.466956: 100%|##########| 7/7 [00:01<00:00,  3.52it/s][I 2023-10-21 11:37:30,868] Trial 6 finished with value: 0.4838877684713037 and parameters: {'feature_fraction': 0.8}. Best is trial 0 with value: 0.4669557934499378.\n",
            "feature_fraction, val_score: 0.466956: 100%|##########| 7/7 [00:01<00:00,  3.57it/s]\n",
            "num_leaves, val_score: 0.466956:   5%|5         | 1/20 [00:00<00:04,  4.51it/s][I 2023-10-21 11:37:31,108] Trial 7 finished with value: 0.4669557934499378 and parameters: {'num_leaves': 40}. Best is trial 7 with value: 0.4669557934499378.\n",
            "num_leaves, val_score: 0.466956:  10%|#         | 2/20 [00:00<00:04,  4.24it/s][I 2023-10-21 11:37:31,358] Trial 8 finished with value: 0.4669557934499378 and parameters: {'num_leaves': 138}. Best is trial 7 with value: 0.4669557934499378.\n",
            "num_leaves, val_score: 0.466956:  15%|#5        | 3/20 [00:00<00:03,  4.28it/s][I 2023-10-21 11:37:31,585] Trial 9 finished with value: 0.4669557934499378 and parameters: {'num_leaves': 25}. Best is trial 7 with value: 0.4669557934499378.\n",
            "num_leaves, val_score: 0.466956:  20%|##        | 4/20 [00:00<00:03,  4.22it/s][I 2023-10-21 11:37:31,827] Trial 10 finished with value: 0.4669557934499378 and parameters: {'num_leaves': 256}. Best is trial 7 with value: 0.4669557934499378.\n",
            "num_leaves, val_score: 0.466956:  25%|##5       | 5/20 [00:01<00:03,  4.11it/s][I 2023-10-21 11:37:32,083] Trial 11 finished with value: 0.4669557934499378 and parameters: {'num_leaves': 256}. Best is trial 7 with value: 0.4669557934499378.\n",
            "num_leaves, val_score: 0.466956:  30%|###       | 6/20 [00:01<00:03,  4.13it/s][I 2023-10-21 11:37:32,321] Trial 12 finished with value: 0.4669557934499378 and parameters: {'num_leaves': 143}. Best is trial 7 with value: 0.4669557934499378.\n",
            "num_leaves, val_score: 0.466956:  35%|###5      | 7/20 [00:01<00:03,  4.03it/s][I 2023-10-21 11:37:32,585] Trial 13 finished with value: 0.4669557934499378 and parameters: {'num_leaves': 87}. Best is trial 7 with value: 0.4669557934499378.\n",
            "num_leaves, val_score: 0.466956:  40%|####      | 8/20 [00:01<00:02,  4.03it/s][I 2023-10-21 11:37:32,829] Trial 14 finished with value: 0.4669557934499378 and parameters: {'num_leaves': 189}. Best is trial 7 with value: 0.4669557934499378.\n",
            "num_leaves, val_score: 0.466956:  45%|####5     | 9/20 [00:02<00:02,  3.96it/s][I 2023-10-21 11:37:33,091] Trial 15 finished with value: 0.4669557934499378 and parameters: {'num_leaves': 195}. Best is trial 7 with value: 0.4669557934499378.\n",
            "num_leaves, val_score: 0.466956:  50%|#####     | 10/20 [00:02<00:02,  4.09it/s][I 2023-10-21 11:37:33,317] Trial 16 finished with value: 0.4669557934499378 and parameters: {'num_leaves': 65}. Best is trial 7 with value: 0.4669557934499378.\n",
            "num_leaves, val_score: 0.466900:  55%|#####5    | 11/20 [00:02<00:02,  4.14it/s][I 2023-10-21 11:37:33,551] Trial 17 finished with value: 0.466900247189425 and parameters: {'num_leaves': 5}. Best is trial 17 with value: 0.466900247189425.\n",
            "num_leaves, val_score: 0.466900:  60%|######    | 12/20 [00:02<00:01,  4.24it/s][I 2023-10-21 11:37:33,775] Trial 18 finished with value: 0.4689848531461732 and parameters: {'num_leaves': 6}. Best is trial 17 with value: 0.466900247189425.\n",
            "num_leaves, val_score: 0.466900:  65%|######5   | 13/20 [00:03<00:01,  4.24it/s][I 2023-10-21 11:37:34,012] Trial 19 finished with value: 0.4669557934499378 and parameters: {'num_leaves': 73}. Best is trial 17 with value: 0.466900247189425.\n",
            "num_leaves, val_score: 0.466900:  70%|#######   | 14/20 [00:03<00:01,  4.14it/s][I 2023-10-21 11:37:34,265] Trial 20 finished with value: 0.4669557934499378 and parameters: {'num_leaves': 107}. Best is trial 17 with value: 0.466900247189425.\n",
            "num_leaves, val_score: 0.466900:  75%|#######5  | 15/20 [00:03<00:01,  3.99it/s][I 2023-10-21 11:37:34,537] Trial 21 finished with value: 0.4669557934499378 and parameters: {'num_leaves': 172}. Best is trial 17 with value: 0.466900247189425.\n",
            "num_leaves, val_score: 0.466900:  80%|########  | 16/20 [00:06<00:04,  1.09s/it][I 2023-10-21 11:37:37,565] Trial 22 finished with value: 0.4669557934499378 and parameters: {'num_leaves': 46}. Best is trial 17 with value: 0.466900247189425.\n",
            "num_leaves, val_score: 0.466900:  85%|########5 | 17/20 [00:07<00:02,  1.09it/s][I 2023-10-21 11:37:38,101] Trial 23 finished with value: 0.4669557934499378 and parameters: {'num_leaves': 108}. Best is trial 17 with value: 0.466900247189425.\n",
            "num_leaves, val_score: 0.466900:  90%|######### | 18/20 [00:07<00:01,  1.41it/s][I 2023-10-21 11:37:38,314] Trial 24 finished with value: 0.466900247189425 and parameters: {'num_leaves': 5}. Best is trial 17 with value: 0.466900247189425.\n",
            "num_leaves, val_score: 0.466900:  95%|#########5| 19/20 [00:07<00:00,  1.83it/s][I 2023-10-21 11:37:38,488] Trial 25 finished with value: 0.46973196876489304 and parameters: {'num_leaves': 2}. Best is trial 17 with value: 0.466900247189425.\n",
            "num_leaves, val_score: 0.466900: 100%|##########| 20/20 [00:07<00:00,  2.18it/s][I 2023-10-21 11:37:38,740] Trial 26 finished with value: 0.4669557934499378 and parameters: {'num_leaves': 30}. Best is trial 17 with value: 0.466900247189425.\n",
            "num_leaves, val_score: 0.466900: 100%|##########| 20/20 [00:07<00:00,  2.54it/s]\n",
            "bagging, val_score: 0.466900:  10%|#         | 1/10 [00:00<00:01,  4.86it/s][I 2023-10-21 11:37:38,966] Trial 27 finished with value: 0.4685323148040434 and parameters: {'bagging_fraction': 0.4333274488375173, 'bagging_freq': 5}. Best is trial 27 with value: 0.4685323148040434.\n",
            "bagging, val_score: 0.466822:  20%|##        | 2/10 [00:00<00:01,  4.36it/s][I 2023-10-21 11:37:39,213] Trial 28 finished with value: 0.46682162296099794 and parameters: {'bagging_fraction': 0.9820840692495335, 'bagging_freq': 1}. Best is trial 28 with value: 0.46682162296099794.\n",
            "bagging, val_score: 0.466733:  30%|###       | 3/10 [00:00<00:01,  4.54it/s][I 2023-10-21 11:37:39,423] Trial 29 finished with value: 0.4667333740636279 and parameters: {'bagging_fraction': 0.9901465081071854, 'bagging_freq': 1}. Best is trial 29 with value: 0.4667333740636279.\n",
            "bagging, val_score: 0.466700:  40%|####      | 4/10 [00:00<00:01,  4.40it/s][I 2023-10-21 11:37:39,658] Trial 30 finished with value: 0.46670008658631107 and parameters: {'bagging_fraction': 0.9914561137763889, 'bagging_freq': 1}. Best is trial 30 with value: 0.46670008658631107.\n",
            "bagging, val_score: 0.466700:  50%|#####     | 5/10 [00:01<00:01,  4.41it/s][I 2023-10-21 11:37:39,885] Trial 31 finished with value: 0.466900247189425 and parameters: {'bagging_fraction': 0.9984725866812517, 'bagging_freq': 1}. Best is trial 30 with value: 0.46670008658631107.\n",
            "bagging, val_score: 0.466700:  60%|######    | 6/10 [00:01<00:00,  4.47it/s][I 2023-10-21 11:37:40,102] Trial 32 finished with value: 0.4667100340273747 and parameters: {'bagging_fraction': 0.9887053224798725, 'bagging_freq': 1}. Best is trial 30 with value: 0.46670008658631107.\n",
            "bagging, val_score: 0.466700:  70%|#######   | 7/10 [00:01<00:00,  4.42it/s][I 2023-10-21 11:37:40,333] Trial 33 finished with value: 0.46716867409150686 and parameters: {'bagging_fraction': 0.9794988689095316, 'bagging_freq': 1}. Best is trial 30 with value: 0.46670008658631107.\n",
            "bagging, val_score: 0.466669:  80%|########  | 8/10 [00:01<00:00,  4.44it/s][I 2023-10-21 11:37:40,556] Trial 34 finished with value: 0.46666911380383236 and parameters: {'bagging_fraction': 0.9893520162863397, 'bagging_freq': 1}. Best is trial 34 with value: 0.46666911380383236.\n",
            "bagging, val_score: 0.466669:  90%|######### | 9/10 [00:02<00:00,  4.40it/s][I 2023-10-21 11:37:40,794] Trial 35 finished with value: 0.466900247189425 and parameters: {'bagging_fraction': 0.9982455817133857, 'bagging_freq': 1}. Best is trial 34 with value: 0.46666911380383236.\n",
            "bagging, val_score: 0.465540: 100%|##########| 10/10 [00:02<00:00,  4.25it/s][I 2023-10-21 11:37:41,045] Trial 36 finished with value: 0.4655400750865572 and parameters: {'bagging_fraction': 0.8717572456705945, 'bagging_freq': 3}. Best is trial 36 with value: 0.4655400750865572.\n",
            "bagging, val_score: 0.465540: 100%|##########| 10/10 [00:02<00:00,  4.36it/s]\n",
            "feature_fraction_stage2, val_score: 0.465540:  17%|#6        | 1/6 [00:00<00:01,  4.41it/s][I 2023-10-21 11:37:41,298] Trial 37 finished with value: 0.4655400750865572 and parameters: {'feature_fraction': 0.616}. Best is trial 37 with value: 0.4655400750865572.\n",
            "feature_fraction_stage2, val_score: 0.465540:  33%|###3      | 2/6 [00:00<00:00,  4.28it/s][I 2023-10-21 11:37:41,532] Trial 38 finished with value: 0.4655400750865572 and parameters: {'feature_fraction': 0.584}. Best is trial 37 with value: 0.4655400750865572.\n",
            "feature_fraction_stage2, val_score: 0.465540:  50%|#####     | 3/6 [00:00<00:00,  4.11it/s][I 2023-10-21 11:37:41,789] Trial 39 finished with value: 0.4736169970914636 and parameters: {'feature_fraction': 0.6799999999999999}. Best is trial 37 with value: 0.4655400750865572.\n",
            "feature_fraction_stage2, val_score: 0.465540:  67%|######6   | 4/6 [00:00<00:00,  4.20it/s][I 2023-10-21 11:37:42,019] Trial 40 finished with value: 0.4655400750865572 and parameters: {'feature_fraction': 0.52}. Best is trial 37 with value: 0.4655400750865572.\n",
            "feature_fraction_stage2, val_score: 0.465540:  83%|########3 | 5/6 [00:01<00:00,  4.23it/s][I 2023-10-21 11:37:42,252] Trial 41 finished with value: 0.4655400750865572 and parameters: {'feature_fraction': 0.552}. Best is trial 37 with value: 0.4655400750865572.\n",
            "feature_fraction_stage2, val_score: 0.465540: 100%|##########| 6/6 [00:01<00:00,  4.16it/s][I 2023-10-21 11:37:42,502] Trial 42 finished with value: 0.4736169970914636 and parameters: {'feature_fraction': 0.6479999999999999}. Best is trial 37 with value: 0.4655400750865572.\n",
            "feature_fraction_stage2, val_score: 0.465540: 100%|##########| 6/6 [00:01<00:00,  4.16it/s]\n",
            "regularization_factors, val_score: 0.465243:   5%|5         | 1/20 [00:00<00:04,  3.93it/s][I 2023-10-21 11:37:42,785] Trial 43 finished with value: 0.46524319726291447 and parameters: {'lambda_l1': 0.0007751095874659056, 'lambda_l2': 1.8815886113846272e-05}. Best is trial 43 with value: 0.46524319726291447.\n",
            "regularization_factors, val_score: 0.465243:  10%|#         | 2/20 [00:00<00:04,  3.92it/s][I 2023-10-21 11:37:43,038] Trial 44 finished with value: 0.4653038707193165 and parameters: {'lambda_l1': 0.0009437353205970336, 'lambda_l2': 1.068571664996173e-05}. Best is trial 43 with value: 0.46524319726291447.\n",
            "regularization_factors, val_score: 0.465243:  15%|#5        | 3/20 [00:00<00:04,  4.07it/s][I 2023-10-21 11:37:43,273] Trial 45 finished with value: 0.4652436767190412 and parameters: {'lambda_l1': 0.0008538122694547288, 'lambda_l2': 7.426070207427794e-06}. Best is trial 43 with value: 0.46524319726291447.\n",
            "regularization_factors, val_score: 0.465243:  20%|##        | 4/20 [00:00<00:03,  4.09it/s][I 2023-10-21 11:37:43,515] Trial 46 finished with value: 0.4653028894393051 and parameters: {'lambda_l1': 0.0010173995597406015, 'lambda_l2': 8.541093180221385e-06}. Best is trial 43 with value: 0.46524319726291447.\n",
            "regularization_factors, val_score: 0.465243:  25%|##5       | 5/20 [00:01<00:03,  3.97it/s][I 2023-10-21 11:37:43,781] Trial 47 finished with value: 0.465245111993033 and parameters: {'lambda_l1': 0.0007321141506831741, 'lambda_l2': 8.940686988746825e-06}. Best is trial 43 with value: 0.46524319726291447.\n",
            "regularization_factors, val_score: 0.465243:  30%|###       | 6/20 [00:01<00:03,  3.92it/s][I 2023-10-21 11:37:44,046] Trial 48 finished with value: 0.4653038705791092 and parameters: {'lambda_l1': 0.000943679729773049, 'lambda_l2': 9.119828148316088e-06}. Best is trial 43 with value: 0.46524319726291447.\n",
            "regularization_factors, val_score: 0.465243:  35%|###5      | 7/20 [00:01<00:03,  3.94it/s][I 2023-10-21 11:37:44,294] Trial 49 finished with value: 0.4653038049779813 and parameters: {'lambda_l1': 0.0009077750959601356, 'lambda_l2': 8.997479325907904e-06}. Best is trial 43 with value: 0.46524319726291447.\n",
            "regularization_factors, val_score: 0.465243:  40%|####      | 8/20 [00:02<00:03,  3.99it/s][I 2023-10-21 11:37:44,540] Trial 50 finished with value: 0.4652652434372275 and parameters: {'lambda_l1': 0.0006805862764466427, 'lambda_l2': 1.1029375966868329e-05}. Best is trial 43 with value: 0.46524319726291447.\n",
            "regularization_factors, val_score: 0.465243:  45%|####5     | 9/20 [00:02<00:02,  3.98it/s][I 2023-10-21 11:37:44,790] Trial 51 finished with value: 0.4652432226527324 and parameters: {'lambda_l1': 0.0007887849501955144, 'lambda_l2': 1.1825540420645957e-05}. Best is trial 43 with value: 0.46524319726291447.\n",
            "regularization_factors, val_score: 0.465133:  50%|#####     | 10/20 [00:02<00:02,  3.95it/s][I 2023-10-21 11:37:45,049] Trial 52 finished with value: 0.4651329758519797 and parameters: {'lambda_l1': 0.0012927300967011642, 'lambda_l2': 1.1158596916633686e-05}. Best is trial 52 with value: 0.4651329758519797.\n",
            "regularization_factors, val_score: 0.465133:  55%|#####5    | 11/20 [00:02<00:02,  3.99it/s][I 2023-10-21 11:37:45,296] Trial 53 finished with value: 0.4652432427275759 and parameters: {'lambda_l1': 0.0007999924115544768, 'lambda_l2': 1.2952480917236522e-05}. Best is trial 52 with value: 0.4651329758519797.\n",
            "regularization_factors, val_score: 0.465133:  60%|######    | 12/20 [00:03<00:01,  4.04it/s][I 2023-10-21 11:37:45,537] Trial 54 finished with value: 0.4652940019111728 and parameters: {'lambda_l1': 0.0010697744645286012, 'lambda_l2': 1.7994854052728885e-05}. Best is trial 52 with value: 0.4651329758519797.\n",
            "regularization_factors, val_score: 0.465133:  65%|######5   | 13/20 [00:03<00:01,  4.04it/s][I 2023-10-21 11:37:45,778] Trial 55 finished with value: 0.4655355224240828 and parameters: {'lambda_l1': 1.8552948546103142e-05, 'lambda_l2': 0.0003473704783145626}. Best is trial 52 with value: 0.4651329758519797.\n",
            "regularization_factors, val_score: 0.465133:  70%|#######   | 14/20 [00:03<00:01,  4.03it/s][I 2023-10-21 11:37:46,030] Trial 56 finished with value: 0.46668988958659985 and parameters: {'lambda_l1': 0.07968728979202852, 'lambda_l2': 1.8079243805343907e-07}. Best is trial 52 with value: 0.4651329758519797.\n",
            "regularization_factors, val_score: 0.465133:  75%|#######5  | 15/20 [00:03<00:01,  4.10it/s][I 2023-10-21 11:37:46,263] Trial 57 finished with value: 0.4653152925609851 and parameters: {'lambda_l1': 8.534359973958064e-05, 'lambda_l2': 1.5399040401011366}. Best is trial 52 with value: 0.4651329758519797.\n",
            "regularization_factors, val_score: 0.465133:  80%|########  | 16/20 [00:03<00:00,  4.12it/s][I 2023-10-21 11:37:46,503] Trial 58 finished with value: 0.46591902142394653 and parameters: {'lambda_l1': 0.012440420743851306, 'lambda_l2': 9.392590522516885e-05}. Best is trial 52 with value: 0.4651329758519797.\n",
            "regularization_factors, val_score: 0.465133:  85%|########5 | 17/20 [00:04<00:00,  4.08it/s][I 2023-10-21 11:37:46,755] Trial 59 finished with value: 0.4655167472496959 and parameters: {'lambda_l1': 1.821734275685088e-08, 'lambda_l2': 2.4188514294611698e-06}. Best is trial 52 with value: 0.4651329758519797.\n",
            "regularization_factors, val_score: 0.465133:  90%|######### | 18/20 [00:04<00:00,  4.00it/s][I 2023-10-21 11:37:47,017] Trial 60 finished with value: 0.46584435996406126 and parameters: {'lambda_l1': 0.011789465387932517, 'lambda_l2': 0.00022751495282939175}. Best is trial 52 with value: 0.4651329758519797.\n",
            "regularization_factors, val_score: 0.465133:  95%|#########5| 19/20 [00:04<00:00,  3.99it/s][I 2023-10-21 11:37:47,271] Trial 61 finished with value: 0.46535761966097494 and parameters: {'lambda_l1': 0.0003219906626570147, 'lambda_l2': 1.9448266761965017e-06}. Best is trial 52 with value: 0.4651329758519797.\n",
            "regularization_factors, val_score: 0.465133: 100%|##########| 20/20 [00:04<00:00,  4.04it/s][I 2023-10-21 11:37:47,509] Trial 62 finished with value: 0.46534265478488357 and parameters: {'lambda_l1': 0.00021076272853733216, 'lambda_l2': 4.1181283531399094e-05}. Best is trial 52 with value: 0.4651329758519797.\n",
            "regularization_factors, val_score: 0.465133: 100%|##########| 20/20 [00:04<00:00,  4.01it/s]\n",
            "min_child_samples, val_score: 0.465133:  20%|##        | 1/5 [00:00<00:00,  4.25it/s][I 2023-10-21 11:37:47,767] Trial 63 finished with value: 0.4731011146631123 and parameters: {'min_child_samples': 5}. Best is trial 63 with value: 0.4731011146631123.\n",
            "min_child_samples, val_score: 0.465133:  40%|####      | 2/5 [00:00<00:00,  3.62it/s][I 2023-10-21 11:37:48,072] Trial 64 finished with value: 0.46570150544042543 and parameters: {'min_child_samples': 25}. Best is trial 64 with value: 0.46570150544042543.\n",
            "min_child_samples, val_score: 0.465133:  60%|######    | 3/5 [00:03<00:03,  1.63s/it][I 2023-10-21 11:37:51,316] Trial 65 finished with value: 0.47622025218165986 and parameters: {'min_child_samples': 10}. Best is trial 64 with value: 0.46570150544042543.\n",
            "min_child_samples, val_score: 0.465133:  80%|########  | 4/5 [00:03<00:01,  1.06s/it][I 2023-10-21 11:37:51,500] Trial 66 finished with value: 0.48470724269726007 and parameters: {'min_child_samples': 100}. Best is trial 64 with value: 0.46570150544042543.\n",
            "min_child_samples, val_score: 0.465133: 100%|##########| 5/5 [00:04<00:00,  1.31it/s][I 2023-10-21 11:37:51,729] Trial 67 finished with value: 0.47043517056339085 and parameters: {'min_child_samples': 50}. Best is trial 64 with value: 0.46570150544042543.\n",
            "min_child_samples, val_score: 0.465133: 100%|##########| 5/5 [00:04<00:00,  1.19it/s]\n",
            "[I 2023-10-21 11:37:51,753] A new study created in memory with name: no-name-35efd215-ebb5-4bcb-859b-4a1796bff326\n",
            "feature_fraction, val_score: 0.450295:  14%|#4        | 1/7 [00:00<00:01,  4.53it/s][I 2023-10-21 11:37:51,983] Trial 0 finished with value: 0.45029470670767574 and parameters: {'feature_fraction': 0.4}. Best is trial 0 with value: 0.45029470670767574.\n",
            "feature_fraction, val_score: 0.450295:  29%|##8       | 2/7 [00:00<00:01,  3.67it/s][I 2023-10-21 11:37:52,292] Trial 1 finished with value: 0.45816249569544193 and parameters: {'feature_fraction': 0.7}. Best is trial 0 with value: 0.45029470670767574.\n",
            "feature_fraction, val_score: 0.450295:  43%|####2     | 3/7 [00:00<00:01,  3.92it/s][I 2023-10-21 11:37:52,529] Trial 2 finished with value: 0.45029470670767574 and parameters: {'feature_fraction': 0.6}. Best is trial 0 with value: 0.45029470670767574.\n",
            "feature_fraction, val_score: 0.450295:  57%|#####7    | 4/7 [00:01<00:00,  3.72it/s][I 2023-10-21 11:37:52,819] Trial 3 finished with value: 0.45816249569544193 and parameters: {'feature_fraction': 0.8}. Best is trial 0 with value: 0.45029470670767574.\n",
            "feature_fraction, val_score: 0.450295:  71%|#######1  | 5/7 [00:01<00:00,  3.38it/s][I 2023-10-21 11:37:53,165] Trial 4 finished with value: 0.459170953072633 and parameters: {'feature_fraction': 0.8999999999999999}. Best is trial 0 with value: 0.45029470670767574.\n",
            "feature_fraction, val_score: 0.450295:  86%|########5 | 6/7 [00:01<00:00,  3.36it/s][I 2023-10-21 11:37:53,464] Trial 5 finished with value: 0.459170953072633 and parameters: {'feature_fraction': 1.0}. Best is trial 0 with value: 0.45029470670767574.\n",
            "feature_fraction, val_score: 0.450295: 100%|##########| 7/7 [00:01<00:00,  3.62it/s][I 2023-10-21 11:37:53,695] Trial 6 finished with value: 0.45029470670767574 and parameters: {'feature_fraction': 0.5}. Best is trial 0 with value: 0.45029470670767574.\n",
            "feature_fraction, val_score: 0.450295: 100%|##########| 7/7 [00:01<00:00,  3.61it/s]\n",
            "num_leaves, val_score: 0.450295:   5%|5         | 1/20 [00:00<00:04,  4.20it/s][I 2023-10-21 11:37:53,950] Trial 7 finished with value: 0.45029470670767574 and parameters: {'num_leaves': 77}. Best is trial 7 with value: 0.45029470670767574.\n",
            "num_leaves, val_score: 0.450295:  10%|#         | 2/20 [00:00<00:04,  4.08it/s][I 2023-10-21 11:37:54,201] Trial 8 finished with value: 0.45029470670767574 and parameters: {'num_leaves': 8}. Best is trial 7 with value: 0.45029470670767574.\n",
            "num_leaves, val_score: 0.450295:  15%|#5        | 3/20 [00:00<00:04,  4.03it/s][I 2023-10-21 11:37:54,456] Trial 9 finished with value: 0.45029470670767574 and parameters: {'num_leaves': 220}. Best is trial 7 with value: 0.45029470670767574.\n",
            "num_leaves, val_score: 0.450295:  20%|##        | 4/20 [00:01<00:04,  3.94it/s][I 2023-10-21 11:37:54,714] Trial 10 finished with value: 0.45029470670767574 and parameters: {'num_leaves': 222}. Best is trial 7 with value: 0.45029470670767574.\n",
            "num_leaves, val_score: 0.450295:  25%|##5       | 5/20 [00:01<00:03,  4.01it/s][I 2023-10-21 11:37:54,957] Trial 11 finished with value: 0.45029470670767574 and parameters: {'num_leaves': 109}. Best is trial 7 with value: 0.45029470670767574.\n",
            "num_leaves, val_score: 0.450295:  30%|###       | 6/20 [00:01<00:03,  3.81it/s][I 2023-10-21 11:37:55,244] Trial 12 finished with value: 0.45029470670767574 and parameters: {'num_leaves': 167}. Best is trial 7 with value: 0.45029470670767574.\n",
            "num_leaves, val_score: 0.450295:  35%|###5      | 7/20 [00:01<00:03,  4.12it/s][I 2023-10-21 11:37:55,447] Trial 13 finished with value: 0.45036599063917343 and parameters: {'num_leaves': 5}. Best is trial 7 with value: 0.45029470670767574.\n",
            "num_leaves, val_score: 0.450295:  40%|####      | 8/20 [00:01<00:02,  4.03it/s][I 2023-10-21 11:37:55,706] Trial 14 finished with value: 0.45029470670767574 and parameters: {'num_leaves': 252}. Best is trial 7 with value: 0.45029470670767574.\n",
            "num_leaves, val_score: 0.450295:  45%|####5     | 9/20 [00:02<00:02,  4.01it/s][I 2023-10-21 11:37:55,959] Trial 15 finished with value: 0.45029470670767574 and parameters: {'num_leaves': 157}. Best is trial 7 with value: 0.45029470670767574.\n",
            "num_leaves, val_score: 0.450295:  50%|#####     | 10/20 [00:02<00:02,  3.99it/s][I 2023-10-21 11:37:56,212] Trial 16 finished with value: 0.45029470670767574 and parameters: {'num_leaves': 62}. Best is trial 7 with value: 0.45029470670767574.\n",
            "num_leaves, val_score: 0.450295:  55%|#####5    | 11/20 [00:02<00:02,  4.03it/s][I 2023-10-21 11:37:56,455] Trial 17 finished with value: 0.45029470670767574 and parameters: {'num_leaves': 172}. Best is trial 7 with value: 0.45029470670767574.\n",
            "num_leaves, val_score: 0.450295:  60%|######    | 12/20 [00:02<00:01,  4.03it/s][I 2023-10-21 11:37:56,702] Trial 18 finished with value: 0.45029470670767574 and parameters: {'num_leaves': 67}. Best is trial 7 with value: 0.45029470670767574.\n",
            "num_leaves, val_score: 0.450295:  65%|######5   | 13/20 [00:03<00:01,  3.96it/s][I 2023-10-21 11:37:56,969] Trial 19 finished with value: 0.45029470670767574 and parameters: {'num_leaves': 121}. Best is trial 7 with value: 0.45029470670767574.\n",
            "num_leaves, val_score: 0.450295:  70%|#######   | 14/20 [00:03<00:01,  4.00it/s][I 2023-10-21 11:37:57,207] Trial 20 finished with value: 0.45029470670767574 and parameters: {'num_leaves': 35}. Best is trial 7 with value: 0.45029470670767574.\n",
            "num_leaves, val_score: 0.450295:  75%|#######5  | 15/20 [00:03<00:01,  3.90it/s][I 2023-10-21 11:37:57,478] Trial 21 finished with value: 0.45029470670767574 and parameters: {'num_leaves': 197}. Best is trial 7 with value: 0.45029470670767574.\n",
            "num_leaves, val_score: 0.450295:  80%|########  | 16/20 [00:04<00:01,  3.95it/s][I 2023-10-21 11:37:57,731] Trial 22 finished with value: 0.45029470670767574 and parameters: {'num_leaves': 95}. Best is trial 7 with value: 0.45029470670767574.\n",
            "num_leaves, val_score: 0.450295:  85%|########5 | 17/20 [00:04<00:00,  3.92it/s][I 2023-10-21 11:37:57,984] Trial 23 finished with value: 0.45029470670767574 and parameters: {'num_leaves': 139}. Best is trial 7 with value: 0.45029470670767574.\n",
            "num_leaves, val_score: 0.450295:  90%|######### | 18/20 [00:04<00:00,  3.86it/s][I 2023-10-21 11:37:58,254] Trial 24 finished with value: 0.45029470670767574 and parameters: {'num_leaves': 248}. Best is trial 7 with value: 0.45029470670767574.\n",
            "num_leaves, val_score: 0.450295:  95%|#########5| 19/20 [00:04<00:00,  3.92it/s][I 2023-10-21 11:37:58,500] Trial 25 finished with value: 0.45029470670767574 and parameters: {'num_leaves': 33}. Best is trial 7 with value: 0.45029470670767574.\n",
            "num_leaves, val_score: 0.450295: 100%|##########| 20/20 [00:05<00:00,  3.89it/s][I 2023-10-21 11:37:58,764] Trial 26 finished with value: 0.45029470670767574 and parameters: {'num_leaves': 202}. Best is trial 7 with value: 0.45029470670767574.\n",
            "num_leaves, val_score: 0.450295: 100%|##########| 20/20 [00:05<00:00,  3.95it/s]\n",
            "bagging, val_score: 0.450295:  10%|#         | 1/10 [00:00<00:02,  4.02it/s][I 2023-10-21 11:37:59,033] Trial 27 finished with value: 0.4548170991336581 and parameters: {'bagging_fraction': 0.4810847513645895, 'bagging_freq': 1}. Best is trial 27 with value: 0.4548170991336581.\n",
            "bagging, val_score: 0.449894:  20%|##        | 2/10 [00:00<00:02,  3.75it/s][I 2023-10-21 11:37:59,309] Trial 28 finished with value: 0.4498939114582872 and parameters: {'bagging_fraction': 0.9959220034472809, 'bagging_freq': 7}. Best is trial 28 with value: 0.4498939114582872.\n",
            "bagging, val_score: 0.449894:  30%|###       | 3/10 [00:00<00:01,  3.72it/s][I 2023-10-21 11:37:59,586] Trial 29 finished with value: 0.45029470670767574 and parameters: {'bagging_fraction': 0.9991481575576442, 'bagging_freq': 7}. Best is trial 28 with value: 0.4498939114582872.\n",
            "bagging, val_score: 0.449894:  40%|####      | 4/10 [00:01<00:01,  3.71it/s][I 2023-10-21 11:37:59,851] Trial 30 finished with value: 0.4533633574796411 and parameters: {'bagging_fraction': 0.9549706590322676, 'bagging_freq': 7}. Best is trial 28 with value: 0.4498939114582872.\n",
            "bagging, val_score: 0.449894:  50%|#####     | 5/10 [00:01<00:01,  3.80it/s][I 2023-10-21 11:38:00,105] Trial 31 finished with value: 0.4506413473650234 and parameters: {'bagging_fraction': 0.750577152880121, 'bagging_freq': 4}. Best is trial 28 with value: 0.4498939114582872.\n",
            "bagging, val_score: 0.449894:  60%|######    | 6/10 [00:01<00:01,  3.75it/s][I 2023-10-21 11:38:00,379] Trial 32 finished with value: 0.4506235283694892 and parameters: {'bagging_fraction': 0.7991205658789744, 'bagging_freq': 5}. Best is trial 28 with value: 0.4498939114582872.\n",
            "bagging, val_score: 0.449894:  70%|#######   | 7/10 [00:01<00:00,  3.81it/s][I 2023-10-21 11:38:00,630] Trial 33 finished with value: 0.45122888840571523 and parameters: {'bagging_fraction': 0.5763538077245814, 'bagging_freq': 4}. Best is trial 28 with value: 0.4498939114582872.\n",
            "bagging, val_score: 0.449894:  80%|########  | 8/10 [00:02<00:00,  3.88it/s][I 2023-10-21 11:38:00,880] Trial 34 finished with value: 0.4506848809540204 and parameters: {'bagging_fraction': 0.8587705309531627, 'bagging_freq': 1}. Best is trial 28 with value: 0.4498939114582872.\n",
            "bagging, val_score: 0.449140:  90%|######### | 9/10 [00:02<00:00,  3.92it/s][I 2023-10-21 11:38:01,127] Trial 35 finished with value: 0.4491400553951429 and parameters: {'bagging_fraction': 0.6538421177126685, 'bagging_freq': 6}. Best is trial 35 with value: 0.4491400553951429.\n",
            "bagging, val_score: 0.449140: 100%|##########| 10/10 [00:02<00:00,  3.30it/s][I 2023-10-21 11:38:01,538] Trial 36 finished with value: 0.4502738896577553 and parameters: {'bagging_fraction': 0.6550952727048522, 'bagging_freq': 6}. Best is trial 35 with value: 0.4491400553951429.\n",
            "bagging, val_score: 0.449140: 100%|##########| 10/10 [00:02<00:00,  3.62it/s]\n",
            "feature_fraction_stage2, val_score: 0.449140:  33%|###3      | 1/3 [00:03<00:06,  3.13s/it][I 2023-10-21 11:38:04,694] Trial 37 finished with value: 0.4491400553951429 and parameters: {'feature_fraction': 0.48000000000000004}. Best is trial 37 with value: 0.4491400553951429.\n",
            "feature_fraction_stage2, val_score: 0.449140:  67%|######6   | 2/3 [00:03<00:01,  1.43s/it][I 2023-10-21 11:38:04,926] Trial 38 finished with value: 0.4491400553951429 and parameters: {'feature_fraction': 0.41600000000000004}. Best is trial 37 with value: 0.4491400553951429.\n",
            "feature_fraction_stage2, val_score: 0.449140: 100%|##########| 3/3 [00:03<00:00,  1.13it/s][I 2023-10-21 11:38:05,174] Trial 39 finished with value: 0.4491400553951429 and parameters: {'feature_fraction': 0.44800000000000006}. Best is trial 37 with value: 0.4491400553951429.\n",
            "feature_fraction_stage2, val_score: 0.449140: 100%|##########| 3/3 [00:03<00:00,  1.21s/it]\n",
            "regularization_factors, val_score: 0.449140:   5%|5         | 1/20 [00:00<00:02,  6.70it/s][I 2023-10-21 11:38:05,340] Trial 40 finished with value: 0.48381874683959675 and parameters: {'lambda_l1': 5.731084669940874, 'lambda_l2': 3.4153994684134e-07}. Best is trial 40 with value: 0.48381874683959675.\n",
            "regularization_factors, val_score: 0.442379:  10%|#         | 2/20 [00:00<00:03,  5.07it/s][I 2023-10-21 11:38:05,570] Trial 41 finished with value: 0.44237942445271766 and parameters: {'lambda_l1': 1.3193283152703249e-08, 'lambda_l2': 4.677168302681622}. Best is trial 41 with value: 0.44237942445271766.\n",
            "regularization_factors, val_score: 0.442379:  15%|#5        | 3/20 [00:00<00:03,  4.61it/s][I 2023-10-21 11:38:05,817] Trial 42 finished with value: 0.4447282139308743 and parameters: {'lambda_l1': 1.975367145474172e-08, 'lambda_l2': 1.4077115837292649}. Best is trial 41 with value: 0.44237942445271766.\n",
            "regularization_factors, val_score: 0.442379:  20%|##        | 4/20 [00:00<00:03,  4.59it/s][I 2023-10-21 11:38:06,035] Trial 43 finished with value: 0.4472537735782299 and parameters: {'lambda_l1': 1.3262873382690533e-08, 'lambda_l2': 4.186911316062396}. Best is trial 41 with value: 0.44237942445271766.\n",
            "regularization_factors, val_score: 0.442379:  25%|##5       | 5/20 [00:01<00:03,  4.59it/s][I 2023-10-21 11:38:06,251] Trial 44 finished with value: 0.4501888629924673 and parameters: {'lambda_l1': 1.2548323279850082e-08, 'lambda_l2': 9.855848963039701}. Best is trial 41 with value: 0.44237942445271766.\n",
            "regularization_factors, val_score: 0.442379:  30%|###       | 6/20 [00:01<00:03,  4.60it/s][I 2023-10-21 11:38:06,469] Trial 45 finished with value: 0.4461440957472519 and parameters: {'lambda_l1': 1.1559491660077904e-08, 'lambda_l2': 4.580572430276151}. Best is trial 41 with value: 0.44237942445271766.\n",
            "regularization_factors, val_score: 0.442379:  35%|###5      | 7/20 [00:01<00:02,  4.41it/s][I 2023-10-21 11:38:06,714] Trial 46 finished with value: 0.44736776126006134 and parameters: {'lambda_l1': 1.081195464956305e-08, 'lambda_l2': 6.2692882582947425}. Best is trial 41 with value: 0.44237942445271766.\n",
            "regularization_factors, val_score: 0.442379:  40%|####      | 8/20 [00:01<00:02,  4.51it/s][I 2023-10-21 11:38:06,928] Trial 47 finished with value: 0.4461458907677861 and parameters: {'lambda_l1': 1.060876068082004e-08, 'lambda_l2': 5.481989100450945}. Best is trial 41 with value: 0.44237942445271766.\n",
            "regularization_factors, val_score: 0.442379:  45%|####5     | 9/20 [00:01<00:02,  4.45it/s][I 2023-10-21 11:38:07,158] Trial 48 finished with value: 0.44397521207494656 and parameters: {'lambda_l1': 1.10764347763391e-08, 'lambda_l2': 5.24938118498944}. Best is trial 41 with value: 0.44237942445271766.\n",
            "regularization_factors, val_score: 0.442379:  50%|#####     | 10/20 [00:02<00:02,  4.48it/s][I 2023-10-21 11:38:07,376] Trial 49 finished with value: 0.44726337123743054 and parameters: {'lambda_l1': 1.4098078304489599e-08, 'lambda_l2': 2.9323398742740503}. Best is trial 41 with value: 0.44237942445271766.\n",
            "regularization_factors, val_score: 0.442379:  55%|#####5    | 11/20 [00:02<00:02,  4.40it/s][I 2023-10-21 11:38:07,611] Trial 50 finished with value: 0.4465723133471513 and parameters: {'lambda_l1': 1.112575075643606e-08, 'lambda_l2': 1.113164797405911}. Best is trial 41 with value: 0.44237942445271766.\n",
            "regularization_factors, val_score: 0.442379:  60%|######    | 12/20 [00:02<00:01,  4.30it/s][I 2023-10-21 11:38:07,857] Trial 51 finished with value: 0.4450442595536881 and parameters: {'lambda_l1': 1.4925286715190203e-08, 'lambda_l2': 1.8136654884776335}. Best is trial 41 with value: 0.44237942445271766.\n",
            "regularization_factors, val_score: 0.442379:  65%|######5   | 13/20 [00:02<00:01,  4.24it/s][I 2023-10-21 11:38:08,101] Trial 52 finished with value: 0.44493761088915285 and parameters: {'lambda_l1': 1.0051301483160542e-08, 'lambda_l2': 0.7950707020540478}. Best is trial 41 with value: 0.44237942445271766.\n",
            "regularization_factors, val_score: 0.442379:  70%|#######   | 14/20 [00:03<00:01,  4.21it/s][I 2023-10-21 11:38:08,342] Trial 53 finished with value: 0.4488159879997172 and parameters: {'lambda_l1': 6.853301112475857e-07, 'lambda_l2': 0.10749552721445263}. Best is trial 41 with value: 0.44237942445271766.\n",
            "regularization_factors, val_score: 0.442379:  75%|#######5  | 15/20 [00:03<00:01,  4.19it/s][I 2023-10-21 11:38:08,581] Trial 54 finished with value: 0.44882087820078426 and parameters: {'lambda_l1': 4.28903173325852e-07, 'lambda_l2': 0.07426014647515666}. Best is trial 41 with value: 0.44237942445271766.\n",
            "regularization_factors, val_score: 0.442379:  80%|########  | 16/20 [00:03<00:00,  4.08it/s][I 2023-10-21 11:38:08,848] Trial 55 finished with value: 0.44868471526623777 and parameters: {'lambda_l1': 2.5971417153262854e-07, 'lambda_l2': 0.2117151404080465}. Best is trial 41 with value: 0.44237942445271766.\n",
            "regularization_factors, val_score: 0.442379:  85%|########5 | 17/20 [00:03<00:00,  4.10it/s][I 2023-10-21 11:38:09,082] Trial 56 finished with value: 0.4481899184820271 and parameters: {'lambda_l1': 1.9997062983261964e-07, 'lambda_l2': 0.1892041783060771}. Best is trial 41 with value: 0.44237942445271766.\n",
            "regularization_factors, val_score: 0.442379:  90%|######### | 18/20 [00:04<00:00,  4.13it/s][I 2023-10-21 11:38:09,324] Trial 57 finished with value: 0.44867324710836565 and parameters: {'lambda_l1': 1.3417415912264676e-07, 'lambda_l2': 0.45089068264341564}. Best is trial 41 with value: 0.44237942445271766.\n",
            "regularization_factors, val_score: 0.442379:  95%|#########5| 19/20 [00:04<00:00,  4.31it/s][I 2023-10-21 11:38:09,528] Trial 58 finished with value: 0.4497365385620667 and parameters: {'lambda_l1': 1.0511572413576291e-07, 'lambda_l2': 8.860226178699016}. Best is trial 41 with value: 0.44237942445271766.\n",
            "regularization_factors, val_score: 0.442379: 100%|##########| 20/20 [00:04<00:00,  4.09it/s][I 2023-10-21 11:38:09,803] Trial 59 finished with value: 0.44784383683451 and parameters: {'lambda_l1': 5.780205963026955e-06, 'lambda_l2': 0.555706163711711}. Best is trial 41 with value: 0.44237942445271766.\n",
            "regularization_factors, val_score: 0.442379: 100%|##########| 20/20 [00:04<00:00,  4.33it/s]\n",
            "min_child_samples, val_score: 0.442379:  20%|##        | 1/5 [00:00<00:00,  4.72it/s][I 2023-10-21 11:38:10,038] Trial 60 finished with value: 0.4438845345853182 and parameters: {'min_child_samples': 25}. Best is trial 60 with value: 0.4438845345853182.\n",
            "min_child_samples, val_score: 0.442379:  40%|####      | 2/5 [00:00<00:00,  4.56it/s][I 2023-10-21 11:38:10,262] Trial 61 finished with value: 0.4635515203085346 and parameters: {'min_child_samples': 5}. Best is trial 60 with value: 0.4438845345853182.\n",
            "min_child_samples, val_score: 0.442379:  60%|######    | 3/5 [00:00<00:00,  5.04it/s][I 2023-10-21 11:38:10,436] Trial 62 finished with value: 0.5042013286302651 and parameters: {'min_child_samples': 100}. Best is trial 60 with value: 0.4438845345853182.\n",
            "min_child_samples, val_score: 0.442379:  80%|########  | 4/5 [00:00<00:00,  4.78it/s][I 2023-10-21 11:38:10,659] Trial 63 finished with value: 0.45104695016399987 and parameters: {'min_child_samples': 10}. Best is trial 60 with value: 0.4438845345853182.\n",
            "min_child_samples, val_score: 0.442379: 100%|##########| 5/5 [00:01<00:00,  4.65it/s][I 2023-10-21 11:38:10,893] Trial 64 finished with value: 0.45522740204055684 and parameters: {'min_child_samples': 50}. Best is trial 60 with value: 0.4438845345853182.\n",
            "min_child_samples, val_score: 0.442379: 100%|##########| 5/5 [00:01<00:00,  4.63it/s]\n",
            "[I 2023-10-21 11:38:10,913] A new study created in memory with name: no-name-44e88cd7-8861-415e-b841-9a9cc87ecf02\n",
            "feature_fraction, val_score: 0.558776:  14%|#4        | 1/7 [00:00<00:01,  3.29it/s][I 2023-10-21 11:38:11,235] Trial 0 finished with value: 0.558775665923974 and parameters: {'feature_fraction': 0.8999999999999999}. Best is trial 0 with value: 0.558775665923974.\n",
            "feature_fraction, val_score: 0.502478:  29%|##8       | 2/7 [00:00<00:01,  3.82it/s][I 2023-10-21 11:38:11,457] Trial 1 finished with value: 0.5024778959674888 and parameters: {'feature_fraction': 0.4}. Best is trial 1 with value: 0.5024778959674888.\n",
            "feature_fraction, val_score: 0.502478:  43%|####2     | 3/7 [00:00<00:01,  4.00it/s][I 2023-10-21 11:38:11,695] Trial 2 finished with value: 0.5024778959674888 and parameters: {'feature_fraction': 0.5}. Best is trial 1 with value: 0.5024778959674888.\n",
            "feature_fraction, val_score: 0.502478:  57%|#####7    | 4/7 [00:01<00:00,  3.96it/s][I 2023-10-21 11:38:11,952] Trial 3 finished with value: 0.5024778959674888 and parameters: {'feature_fraction': 0.6}. Best is trial 1 with value: 0.5024778959674888.\n",
            "feature_fraction, val_score: 0.502478:  71%|#######1  | 5/7 [00:01<00:00,  3.70it/s][I 2023-10-21 11:38:12,258] Trial 4 finished with value: 0.5498894382057008 and parameters: {'feature_fraction': 0.7}. Best is trial 1 with value: 0.5024778959674888.\n",
            "feature_fraction, val_score: 0.502478:  86%|########5 | 6/7 [00:01<00:00,  3.56it/s][I 2023-10-21 11:38:12,555] Trial 5 finished with value: 0.558775665923974 and parameters: {'feature_fraction': 1.0}. Best is trial 1 with value: 0.5024778959674888.\n",
            "feature_fraction, val_score: 0.502478: 100%|##########| 7/7 [00:01<00:00,  3.35it/s][I 2023-10-21 11:38:12,889] Trial 6 finished with value: 0.5498894382057008 and parameters: {'feature_fraction': 0.8}. Best is trial 1 with value: 0.5024778959674888.\n",
            "feature_fraction, val_score: 0.502478: 100%|##########| 7/7 [00:01<00:00,  3.55it/s]\n",
            "num_leaves, val_score: 0.502478:   5%|5         | 1/20 [00:00<00:05,  3.76it/s][I 2023-10-21 11:38:13,169] Trial 7 finished with value: 0.5024778959674888 and parameters: {'num_leaves': 215}. Best is trial 7 with value: 0.5024778959674888.\n",
            "num_leaves, val_score: 0.502478:  10%|#         | 2/20 [00:00<00:04,  4.17it/s][I 2023-10-21 11:38:13,391] Trial 8 finished with value: 0.5024778959674888 and parameters: {'num_leaves': 7}. Best is trial 7 with value: 0.5024778959674888.\n",
            "num_leaves, val_score: 0.502478:  15%|#5        | 3/20 [00:00<00:04,  4.07it/s][I 2023-10-21 11:38:13,644] Trial 9 finished with value: 0.5024778959674888 and parameters: {'num_leaves': 90}. Best is trial 7 with value: 0.5024778959674888.\n",
            "num_leaves, val_score: 0.502478:  20%|##        | 4/20 [00:01<00:04,  3.90it/s][I 2023-10-21 11:38:13,921] Trial 10 finished with value: 0.5024778959674888 and parameters: {'num_leaves': 226}. Best is trial 7 with value: 0.5024778959674888.\n",
            "num_leaves, val_score: 0.502478:  25%|##5       | 5/20 [00:01<00:03,  3.93it/s][I 2023-10-21 11:38:14,170] Trial 11 finished with value: 0.5024778959674888 and parameters: {'num_leaves': 126}. Best is trial 7 with value: 0.5024778959674888.\n",
            "num_leaves, val_score: 0.502478:  30%|###       | 6/20 [00:01<00:03,  3.95it/s][I 2023-10-21 11:38:14,420] Trial 12 finished with value: 0.5024778959674888 and parameters: {'num_leaves': 25}. Best is trial 7 with value: 0.5024778959674888.\n",
            "num_leaves, val_score: 0.502478:  35%|###5      | 7/20 [00:01<00:03,  3.31it/s][I 2023-10-21 11:38:14,826] Trial 13 finished with value: 0.5024778959674888 and parameters: {'num_leaves': 174}. Best is trial 7 with value: 0.5024778959674888.\n",
            "num_leaves, val_score: 0.502478:  40%|####      | 8/20 [00:05<00:14,  1.23s/it][I 2023-10-21 11:38:18,045] Trial 14 finished with value: 0.5024778959674888 and parameters: {'num_leaves': 75}. Best is trial 7 with value: 0.5024778959674888.\n",
            "num_leaves, val_score: 0.502478:  45%|####5     | 9/20 [00:05<00:10,  1.08it/s][I 2023-10-21 11:38:18,305] Trial 15 finished with value: 0.5024778959674888 and parameters: {'num_leaves': 256}. Best is trial 7 with value: 0.5024778959674888.\n",
            "num_leaves, val_score: 0.502478:  50%|#####     | 10/20 [00:05<00:07,  1.39it/s][I 2023-10-21 11:38:18,559] Trial 16 finished with value: 0.5024778959674888 and parameters: {'num_leaves': 158}. Best is trial 7 with value: 0.5024778959674888.\n",
            "num_leaves, val_score: 0.502478:  55%|#####5    | 11/20 [00:05<00:05,  1.74it/s][I 2023-10-21 11:38:18,809] Trial 17 finished with value: 0.5024778959674888 and parameters: {'num_leaves': 72}. Best is trial 7 with value: 0.5024778959674888.\n",
            "num_leaves, val_score: 0.502478:  60%|######    | 12/20 [00:06<00:03,  2.06it/s][I 2023-10-21 11:38:19,086] Trial 18 finished with value: 0.5024778959674888 and parameters: {'num_leaves': 124}. Best is trial 7 with value: 0.5024778959674888.\n",
            "num_leaves, val_score: 0.502478:  65%|######5   | 13/20 [00:06<00:02,  2.41it/s][I 2023-10-21 11:38:19,341] Trial 19 finished with value: 0.5024778959674888 and parameters: {'num_leaves': 50}. Best is trial 7 with value: 0.5024778959674888.\n",
            "num_leaves, val_score: 0.502478:  70%|#######   | 14/20 [00:06<00:02,  2.74it/s][I 2023-10-21 11:38:19,588] Trial 20 finished with value: 0.5024778959674888 and parameters: {'num_leaves': 169}. Best is trial 7 with value: 0.5024778959674888.\n",
            "num_leaves, val_score: 0.502478:  75%|#######5  | 15/20 [00:06<00:01,  2.98it/s][I 2023-10-21 11:38:19,856] Trial 21 finished with value: 0.5024778959674888 and parameters: {'num_leaves': 193}. Best is trial 7 with value: 0.5024778959674888.\n",
            "num_leaves, val_score: 0.502478:  80%|########  | 16/20 [00:07<00:01,  3.12it/s][I 2023-10-21 11:38:20,144] Trial 22 finished with value: 0.5024778959674888 and parameters: {'num_leaves': 250}. Best is trial 7 with value: 0.5024778959674888.\n",
            "num_leaves, val_score: 0.502478:  85%|########5 | 17/20 [00:07<00:00,  3.33it/s][I 2023-10-21 11:38:20,396] Trial 23 finished with value: 0.5024778959674888 and parameters: {'num_leaves': 98}. Best is trial 7 with value: 0.5024778959674888.\n",
            "num_leaves, val_score: 0.502478:  90%|######### | 18/20 [00:07<00:00,  3.50it/s][I 2023-10-21 11:38:20,648] Trial 24 finished with value: 0.5024778959674888 and parameters: {'num_leaves': 45}. Best is trial 7 with value: 0.5024778959674888.\n",
            "num_leaves, val_score: 0.502478:  95%|#########5| 19/20 [00:08<00:00,  3.58it/s][I 2023-10-21 11:38:20,911] Trial 25 finished with value: 0.5024778959674888 and parameters: {'num_leaves': 139}. Best is trial 7 with value: 0.5024778959674888.\n",
            "num_leaves, val_score: 0.502478: 100%|##########| 20/20 [00:08<00:00,  3.85it/s][I 2023-10-21 11:38:21,129] Trial 26 finished with value: 0.5053164984243763 and parameters: {'num_leaves': 2}. Best is trial 7 with value: 0.5024778959674888.\n",
            "num_leaves, val_score: 0.502478: 100%|##########| 20/20 [00:08<00:00,  2.43it/s]\n",
            "bagging, val_score: 0.502478:  10%|#         | 1/10 [00:00<00:02,  3.45it/s][I 2023-10-21 11:38:21,434] Trial 27 finished with value: 0.5037477570176875 and parameters: {'bagging_fraction': 0.6684616921437383, 'bagging_freq': 2}. Best is trial 27 with value: 0.5037477570176875.\n",
            "bagging, val_score: 0.502478:  20%|##        | 2/10 [00:00<00:02,  3.60it/s][I 2023-10-21 11:38:21,704] Trial 28 finished with value: 0.5030265252215416 and parameters: {'bagging_fraction': 0.9896521798937259, 'bagging_freq': 7}. Best is trial 28 with value: 0.5030265252215416.\n",
            "bagging, val_score: 0.502478:  30%|###       | 3/10 [00:00<00:01,  3.87it/s][I 2023-10-21 11:38:21,939] Trial 29 finished with value: 0.5119986183948353 and parameters: {'bagging_fraction': 0.42020565778392993, 'bagging_freq': 6}. Best is trial 28 with value: 0.5030265252215416.\n",
            "bagging, val_score: 0.502478:  40%|####      | 4/10 [00:01<00:01,  3.83it/s][I 2023-10-21 11:38:22,210] Trial 30 finished with value: 0.5024778959674888 and parameters: {'bagging_fraction': 0.9980652959181748, 'bagging_freq': 1}. Best is trial 30 with value: 0.5024778959674888.\n",
            "bagging, val_score: 0.502478:  50%|#####     | 5/10 [00:01<00:01,  4.03it/s][I 2023-10-21 11:38:22,430] Trial 31 finished with value: 0.5154019032209244 and parameters: {'bagging_fraction': 0.44452611307620093, 'bagging_freq': 4}. Best is trial 30 with value: 0.5024778959674888.\n",
            "bagging, val_score: 0.502478:  60%|######    | 6/10 [00:01<00:01,  3.92it/s][I 2023-10-21 11:38:22,699] Trial 32 finished with value: 0.5088476583140835 and parameters: {'bagging_fraction': 0.7349087272723043, 'bagging_freq': 4}. Best is trial 30 with value: 0.5024778959674888.\n",
            "bagging, val_score: 0.502359:  70%|#######   | 7/10 [00:01<00:00,  3.91it/s][I 2023-10-21 11:38:22,955] Trial 33 finished with value: 0.5023591894284797 and parameters: {'bagging_fraction': 0.8082194269570275, 'bagging_freq': 5}. Best is trial 33 with value: 0.5023591894284797.\n",
            "bagging, val_score: 0.498502:  80%|########  | 8/10 [00:02<00:00,  3.76it/s][I 2023-10-21 11:38:23,242] Trial 34 finished with value: 0.4985019117630792 and parameters: {'bagging_fraction': 0.8227682605814586, 'bagging_freq': 5}. Best is trial 34 with value: 0.4985019117630792.\n",
            "bagging, val_score: 0.498502:  90%|######### | 9/10 [00:02<00:00,  3.81it/s][I 2023-10-21 11:38:23,503] Trial 35 finished with value: 0.4985435844707298 and parameters: {'bagging_fraction': 0.8241710716111228, 'bagging_freq': 5}. Best is trial 34 with value: 0.4985019117630792.\n",
            "bagging, val_score: 0.498502: 100%|##########| 10/10 [00:02<00:00,  3.82it/s][I 2023-10-21 11:38:23,760] Trial 36 finished with value: 0.5022796861449581 and parameters: {'bagging_fraction': 0.809769858557104, 'bagging_freq': 5}. Best is trial 34 with value: 0.4985019117630792.\n",
            "bagging, val_score: 0.498502: 100%|##########| 10/10 [00:02<00:00,  3.81it/s]\n",
            "feature_fraction_stage2, val_score: 0.498502:  33%|###3      | 1/3 [00:00<00:00,  3.85it/s][I 2023-10-21 11:38:24,054] Trial 37 finished with value: 0.4985019117630792 and parameters: {'feature_fraction': 0.48000000000000004}. Best is trial 37 with value: 0.4985019117630792.\n",
            "feature_fraction_stage2, val_score: 0.498502:  67%|######6   | 2/3 [00:00<00:00,  3.68it/s][I 2023-10-21 11:38:24,323] Trial 38 finished with value: 0.4985019117630792 and parameters: {'feature_fraction': 0.41600000000000004}. Best is trial 37 with value: 0.4985019117630792.\n",
            "feature_fraction_stage2, val_score: 0.498502: 100%|##########| 3/3 [00:00<00:00,  3.74it/s][I 2023-10-21 11:38:24,587] Trial 39 finished with value: 0.4985019117630792 and parameters: {'feature_fraction': 0.44800000000000006}. Best is trial 37 with value: 0.4985019117630792.\n",
            "feature_fraction_stage2, val_score: 0.498502: 100%|##########| 3/3 [00:00<00:00,  3.69it/s]\n",
            "regularization_factors, val_score: 0.498502:   5%|5         | 1/20 [00:00<00:05,  3.57it/s][I 2023-10-21 11:38:24,891] Trial 40 finished with value: 0.4986434875160584 and parameters: {'lambda_l1': 1.101908842344382e-05, 'lambda_l2': 1.9710721508317065e-08}. Best is trial 40 with value: 0.4986434875160584.\n",
            "regularization_factors, val_score: 0.498502:  10%|#         | 2/20 [00:00<00:03,  4.50it/s][I 2023-10-21 11:38:25,075] Trial 41 finished with value: 0.5035065304364049 and parameters: {'lambda_l1': 6.58085129494409, 'lambda_l2': 7.620453284432288}. Best is trial 40 with value: 0.4986434875160584.\n",
            "regularization_factors, val_score: 0.498502:  15%|#5        | 3/20 [00:00<00:04,  3.96it/s][I 2023-10-21 11:38:25,364] Trial 42 finished with value: 0.4986445638534905 and parameters: {'lambda_l1': 1.1106072033797597e-08, 'lambda_l2': 0.0004045557967852658}. Best is trial 40 with value: 0.4986434875160584.\n",
            "regularization_factors, val_score: 0.498502:  20%|##        | 4/20 [00:00<00:03,  4.74it/s][I 2023-10-21 11:38:25,505] Trial 43 finished with value: 0.5024709001488846 and parameters: {'lambda_l1': 2.864789354773338, 'lambda_l2': 8.510553398859594}. Best is trial 40 with value: 0.4986434875160584.\n",
            "regularization_factors, val_score: 0.498502:  25%|##5       | 5/20 [00:01<00:03,  4.36it/s][I 2023-10-21 11:38:25,770] Trial 44 finished with value: 0.4987846767761569 and parameters: {'lambda_l1': 0.0020812571903416253, 'lambda_l2': 1.7547437016824912e-08}. Best is trial 40 with value: 0.4986434875160584.\n",
            "regularization_factors, val_score: 0.498502:  30%|###       | 6/20 [00:01<00:03,  4.20it/s][I 2023-10-21 11:38:26,023] Trial 45 finished with value: 0.4986440379185234 and parameters: {'lambda_l1': 1.9100018198910846e-08, 'lambda_l2': 0.0003135755599804179}. Best is trial 40 with value: 0.4986434875160584.\n",
            "regularization_factors, val_score: 0.498502:  35%|###5      | 7/20 [00:01<00:03,  4.00it/s][I 2023-10-21 11:38:26,300] Trial 46 finished with value: 0.49956548341628765 and parameters: {'lambda_l1': 0.006095513712596516, 'lambda_l2': 1.857822040047191e-05}. Best is trial 40 with value: 0.4986434875160584.\n",
            "regularization_factors, val_score: 0.498502:  40%|####      | 8/20 [00:01<00:03,  3.94it/s][I 2023-10-21 11:38:26,560] Trial 47 finished with value: 0.49931021724234115 and parameters: {'lambda_l1': 6.212355870600234e-06, 'lambda_l2': 0.06867753141129057}. Best is trial 40 with value: 0.4986434875160584.\n",
            "regularization_factors, val_score: 0.498502:  45%|####5     | 9/20 [00:02<00:02,  3.93it/s][I 2023-10-21 11:38:26,819] Trial 48 finished with value: 0.5015793789424986 and parameters: {'lambda_l1': 0.053143778741745605, 'lambda_l2': 1.450428558548684e-06}. Best is trial 40 with value: 0.4986434875160584.\n",
            "regularization_factors, val_score: 0.498502:  50%|#####     | 10/20 [00:02<00:02,  3.80it/s][I 2023-10-21 11:38:27,097] Trial 49 finished with value: 0.4990919400107779 and parameters: {'lambda_l1': 6.019203746267664e-05, 'lambda_l2': 0.02933809024395559}. Best is trial 40 with value: 0.4986434875160584.\n",
            "regularization_factors, val_score: 0.498502:  55%|#####5    | 11/20 [00:02<00:02,  3.74it/s][I 2023-10-21 11:38:27,375] Trial 50 finished with value: 0.4986406564715883 and parameters: {'lambda_l1': 7.686533843324569e-07, 'lambda_l2': 8.52247246944953e-07}. Best is trial 50 with value: 0.4986406564715883.\n",
            "regularization_factors, val_score: 0.498502:  60%|######    | 12/20 [00:03<00:02,  3.75it/s][I 2023-10-21 11:38:27,640] Trial 51 finished with value: 0.4986361319396314 and parameters: {'lambda_l1': 1.8686359263638454e-06, 'lambda_l2': 6.094807314639369e-07}. Best is trial 51 with value: 0.4986361319396314.\n",
            "regularization_factors, val_score: 0.498502:  65%|######5   | 13/20 [00:03<00:01,  3.71it/s][I 2023-10-21 11:38:27,916] Trial 52 finished with value: 0.49864065538446545 and parameters: {'lambda_l1': 5.386217050691143e-07, 'lambda_l2': 3.3634754176206945e-07}. Best is trial 51 with value: 0.4986361319396314.\n",
            "regularization_factors, val_score: 0.498502:  70%|#######   | 14/20 [00:06<00:07,  1.19s/it][I 2023-10-21 11:38:31,245] Trial 53 finished with value: 0.4986167841639948 and parameters: {'lambda_l1': 0.000244874549050235, 'lambda_l2': 6.378709063833525e-05}. Best is trial 53 with value: 0.4986167841639948.\n",
            "regularization_factors, val_score: 0.498412:  75%|#######5  | 15/20 [00:06<00:04,  1.09it/s][I 2023-10-21 11:38:31,513] Trial 54 finished with value: 0.49841207301680035 and parameters: {'lambda_l1': 0.0003346350498317789, 'lambda_l2': 4.4024677987038185e-05}. Best is trial 54 with value: 0.49841207301680035.\n",
            "regularization_factors, val_score: 0.498412:  80%|########  | 16/20 [00:07<00:02,  1.37it/s][I 2023-10-21 11:38:31,804] Trial 55 finished with value: 0.5028757408536845 and parameters: {'lambda_l1': 0.06764084603750417, 'lambda_l2': 0.003486688321733961}. Best is trial 54 with value: 0.49841207301680035.\n",
            "regularization_factors, val_score: 0.498412:  85%|########5 | 17/20 [00:07<00:01,  1.71it/s][I 2023-10-21 11:38:32,068] Trial 56 finished with value: 0.49875084578337137 and parameters: {'lambda_l1': 0.00014390099292841443, 'lambda_l2': 1.2048089638682008e-05}. Best is trial 54 with value: 0.49841207301680035.\n",
            "regularization_factors, val_score: 0.498412:  90%|######### | 18/20 [00:07<00:00,  2.04it/s][I 2023-10-21 11:38:32,324] Trial 57 finished with value: 0.4985455692243823 and parameters: {'lambda_l1': 0.0011228490184503803, 'lambda_l2': 0.002615548616583418}. Best is trial 54 with value: 0.49841207301680035.\n",
            "regularization_factors, val_score: 0.498412:  95%|#########5| 19/20 [00:08<00:00,  2.33it/s][I 2023-10-21 11:38:32,615] Trial 58 finished with value: 0.4986371846524368 and parameters: {'lambda_l1': 2.2825457040924278e-05, 'lambda_l2': 5.931053951871184e-06}. Best is trial 54 with value: 0.49841207301680035.\n",
            "regularization_factors, val_score: 0.498412: 100%|##########| 20/20 [00:08<00:00,  2.62it/s][I 2023-10-21 11:38:32,889] Trial 59 finished with value: 0.49951057434331864 and parameters: {'lambda_l1': 0.01216831910527102, 'lambda_l2': 1.4273183795222946e-07}. Best is trial 54 with value: 0.49841207301680035.\n",
            "regularization_factors, val_score: 0.498412: 100%|##########| 20/20 [00:08<00:00,  2.41it/s]\n",
            "min_child_samples, val_score: 0.498412:  20%|##        | 1/5 [00:00<00:00,  4.71it/s][I 2023-10-21 11:38:33,131] Trial 60 finished with value: 0.505619836805748 and parameters: {'min_child_samples': 100}. Best is trial 60 with value: 0.505619836805748.\n",
            "min_child_samples, val_score: 0.498412:  40%|####      | 2/5 [00:00<00:00,  4.32it/s][I 2023-10-21 11:38:33,369] Trial 61 finished with value: 0.5056492172104133 and parameters: {'min_child_samples': 25}. Best is trial 60 with value: 0.505619836805748.\n",
            "min_child_samples, val_score: 0.498412:  60%|######    | 3/5 [00:00<00:00,  3.72it/s][I 2023-10-21 11:38:33,681] Trial 62 finished with value: 0.5112950022469693 and parameters: {'min_child_samples': 5}. Best is trial 60 with value: 0.505619836805748.\n",
            "min_child_samples, val_score: 0.498412:  80%|########  | 4/5 [00:01<00:00,  3.89it/s][I 2023-10-21 11:38:33,921] Trial 63 finished with value: 0.5050251642487759 and parameters: {'min_child_samples': 50}. Best is trial 63 with value: 0.5050251642487759.\n",
            "min_child_samples, val_score: 0.498412: 100%|##########| 5/5 [00:01<00:00,  3.85it/s][I 2023-10-21 11:38:34,193] Trial 64 finished with value: 0.49939565118206836 and parameters: {'min_child_samples': 10}. Best is trial 64 with value: 0.49939565118206836.\n",
            "min_child_samples, val_score: 0.498412: 100%|##########| 5/5 [00:01<00:00,  3.88it/s]\n",
            "[I 2023-10-21 11:38:34,229] A new study created in memory with name: no-name-e6c62fed-bc24-453c-9a86-4ad531a264ef\n",
            "feature_fraction, val_score: 0.386705:  14%|#4        | 1/7 [00:00<00:01,  3.91it/s][I 2023-10-21 11:38:34,500] Trial 0 finished with value: 0.3867048262590458 and parameters: {'feature_fraction': 0.5}. Best is trial 0 with value: 0.3867048262590458.\n",
            "feature_fraction, val_score: 0.386705:  29%|##8       | 2/7 [00:00<00:01,  3.92it/s][I 2023-10-21 11:38:34,756] Trial 1 finished with value: 0.3867048262590458 and parameters: {'feature_fraction': 0.4}. Best is trial 0 with value: 0.3867048262590458.\n",
            "feature_fraction, val_score: 0.386705:  43%|####2     | 3/7 [00:00<00:01,  3.65it/s][I 2023-10-21 11:38:35,049] Trial 2 finished with value: 0.4003923820045782 and parameters: {'feature_fraction': 0.8}. Best is trial 0 with value: 0.3867048262590458.\n",
            "feature_fraction, val_score: 0.386705:  57%|#####7    | 4/7 [00:01<00:00,  3.43it/s][I 2023-10-21 11:38:35,369] Trial 3 finished with value: 0.40490591805201315 and parameters: {'feature_fraction': 1.0}. Best is trial 0 with value: 0.3867048262590458.\n",
            "feature_fraction, val_score: 0.386705:  71%|#######1  | 5/7 [00:01<00:00,  3.35it/s][I 2023-10-21 11:38:35,679] Trial 4 finished with value: 0.4003923820045782 and parameters: {'feature_fraction': 0.7}. Best is trial 0 with value: 0.3867048262590458.\n",
            "feature_fraction, val_score: 0.386705:  86%|########5 | 6/7 [00:01<00:00,  3.25it/s][I 2023-10-21 11:38:36,004] Trial 5 finished with value: 0.40490591805201315 and parameters: {'feature_fraction': 0.8999999999999999}. Best is trial 0 with value: 0.3867048262590458.\n",
            "feature_fraction, val_score: 0.386705: 100%|##########| 7/7 [00:02<00:00,  3.50it/s][I 2023-10-21 11:38:36,246] Trial 6 finished with value: 0.3867048262590458 and parameters: {'feature_fraction': 0.6}. Best is trial 0 with value: 0.3867048262590458.\n",
            "feature_fraction, val_score: 0.386705: 100%|##########| 7/7 [00:02<00:00,  3.48it/s]\n",
            "num_leaves, val_score: 0.386705:   5%|5         | 1/20 [00:00<00:04,  3.90it/s][I 2023-10-21 11:38:36,522] Trial 7 finished with value: 0.3867048262590458 and parameters: {'num_leaves': 142}. Best is trial 7 with value: 0.3867048262590458.\n",
            "num_leaves, val_score: 0.386705:  10%|#         | 2/20 [00:00<00:04,  3.88it/s][I 2023-10-21 11:38:36,783] Trial 8 finished with value: 0.3867048262590458 and parameters: {'num_leaves': 115}. Best is trial 7 with value: 0.3867048262590458.\n",
            "num_leaves, val_score: 0.386705:  15%|#5        | 3/20 [00:00<00:04,  3.93it/s][I 2023-10-21 11:38:37,032] Trial 9 finished with value: 0.3867048262590458 and parameters: {'num_leaves': 92}. Best is trial 7 with value: 0.3867048262590458.\n",
            "num_leaves, val_score: 0.386705:  20%|##        | 4/20 [00:01<00:04,  3.84it/s][I 2023-10-21 11:38:37,303] Trial 10 finished with value: 0.3867048262590458 and parameters: {'num_leaves': 249}. Best is trial 7 with value: 0.3867048262590458.\n",
            "num_leaves, val_score: 0.386705:  25%|##5       | 5/20 [00:01<00:03,  4.03it/s][I 2023-10-21 11:38:37,528] Trial 11 finished with value: 0.3867048262590458 and parameters: {'num_leaves': 25}. Best is trial 7 with value: 0.3867048262590458.\n",
            "num_leaves, val_score: 0.386705:  30%|###       | 6/20 [00:01<00:03,  3.84it/s][I 2023-10-21 11:38:37,813] Trial 12 finished with value: 0.3867048262590458 and parameters: {'num_leaves': 232}. Best is trial 7 with value: 0.3867048262590458.\n",
            "num_leaves, val_score: 0.386705:  35%|###5      | 7/20 [00:01<00:03,  3.82it/s][I 2023-10-21 11:38:38,078] Trial 13 finished with value: 0.3867048262590458 and parameters: {'num_leaves': 183}. Best is trial 7 with value: 0.3867048262590458.\n",
            "num_leaves, val_score: 0.386705:  40%|####      | 8/20 [00:02<00:03,  3.90it/s][I 2023-10-21 11:38:38,331] Trial 14 finished with value: 0.3867048262590458 and parameters: {'num_leaves': 26}. Best is trial 7 with value: 0.3867048262590458.\n",
            "num_leaves, val_score: 0.386705:  45%|####5     | 9/20 [00:02<00:02,  3.92it/s][I 2023-10-21 11:38:38,581] Trial 15 finished with value: 0.3867048262590458 and parameters: {'num_leaves': 71}. Best is trial 7 with value: 0.3867048262590458.\n",
            "num_leaves, val_score: 0.386705:  50%|#####     | 10/20 [00:02<00:02,  3.84it/s][I 2023-10-21 11:38:38,847] Trial 16 finished with value: 0.3867048262590458 and parameters: {'num_leaves': 197}. Best is trial 7 with value: 0.3867048262590458.\n",
            "num_leaves, val_score: 0.386705:  55%|#####5    | 11/20 [00:02<00:02,  3.82it/s][I 2023-10-21 11:38:39,116] Trial 17 finished with value: 0.3867048262590458 and parameters: {'num_leaves': 154}. Best is trial 7 with value: 0.3867048262590458.\n",
            "num_leaves, val_score: 0.386705:  60%|######    | 12/20 [00:03<00:02,  3.84it/s][I 2023-10-21 11:38:39,372] Trial 18 finished with value: 0.3867048262590458 and parameters: {'num_leaves': 58}. Best is trial 7 with value: 0.3867048262590458.\n",
            "num_leaves, val_score: 0.380600:  65%|######5   | 13/20 [00:03<00:01,  4.14it/s][I 2023-10-21 11:38:39,565] Trial 19 finished with value: 0.380599841619593 and parameters: {'num_leaves': 3}. Best is trial 19 with value: 0.380599841619593.\n",
            "num_leaves, val_score: 0.380600:  70%|#######   | 14/20 [00:03<00:01,  4.00it/s][I 2023-10-21 11:38:39,840] Trial 20 finished with value: 0.3868336194439183 and parameters: {'num_leaves': 6}. Best is trial 19 with value: 0.380599841619593.\n",
            "num_leaves, val_score: 0.380600:  75%|#######5  | 15/20 [00:03<00:01,  3.98it/s][I 2023-10-21 11:38:40,093] Trial 21 finished with value: 0.3867048262590458 and parameters: {'num_leaves': 60}. Best is trial 19 with value: 0.380599841619593.\n",
            "num_leaves, val_score: 0.380600:  80%|########  | 16/20 [00:04<00:00,  4.01it/s][I 2023-10-21 11:38:40,344] Trial 22 finished with value: 0.3867048262590458 and parameters: {'num_leaves': 116}. Best is trial 19 with value: 0.380599841619593.\n",
            "num_leaves, val_score: 0.380600:  85%|########5 | 17/20 [00:04<00:00,  4.20it/s][I 2023-10-21 11:38:40,546] Trial 23 finished with value: 0.3844249030219549 and parameters: {'num_leaves': 4}. Best is trial 19 with value: 0.380599841619593.\n",
            "num_leaves, val_score: 0.380600:  90%|######### | 18/20 [00:04<00:00,  4.03it/s][I 2023-10-21 11:38:40,827] Trial 24 finished with value: 0.3867048262590458 and parameters: {'num_leaves': 8}. Best is trial 19 with value: 0.380599841619593.\n",
            "num_leaves, val_score: 0.380600:  95%|#########5| 19/20 [00:04<00:00,  3.98it/s][I 2023-10-21 11:38:41,085] Trial 25 finished with value: 0.3867048262590458 and parameters: {'num_leaves': 42}. Best is trial 19 with value: 0.380599841619593.\n",
            "num_leaves, val_score: 0.380600: 100%|##########| 20/20 [00:05<00:00,  2.06it/s][I 2023-10-21 11:38:42,115] Trial 26 finished with value: 0.3867048262590458 and parameters: {'num_leaves': 93}. Best is trial 19 with value: 0.380599841619593.\n",
            "num_leaves, val_score: 0.380600: 100%|##########| 20/20 [00:05<00:00,  3.42it/s]\n",
            "bagging, val_score: 0.374034:  10%|#         | 1/10 [00:02<00:22,  2.52s/it][I 2023-10-21 11:38:44,657] Trial 27 finished with value: 0.3740342571809148 and parameters: {'bagging_fraction': 0.6460968361348692, 'bagging_freq': 3}. Best is trial 27 with value: 0.3740342571809148.\n",
            "bagging, val_score: 0.373323:  20%|##        | 2/10 [00:02<00:09,  1.18s/it][I 2023-10-21 11:38:44,896] Trial 28 finished with value: 0.3733232002669772 and parameters: {'bagging_fraction': 0.6370050275430501, 'bagging_freq': 3}. Best is trial 28 with value: 0.3733232002669772.\n",
            "bagging, val_score: 0.372647:  30%|###       | 3/10 [00:02<00:05,  1.34it/s][I 2023-10-21 11:38:45,122] Trial 29 finished with value: 0.37264654610472675 and parameters: {'bagging_fraction': 0.6328328930232352, 'bagging_freq': 3}. Best is trial 29 with value: 0.37264654610472675.\n",
            "bagging, val_score: 0.372647:  40%|####      | 4/10 [00:03<00:03,  1.85it/s][I 2023-10-21 11:38:45,354] Trial 30 finished with value: 0.3738989168029915 and parameters: {'bagging_fraction': 0.6442690655165397, 'bagging_freq': 3}. Best is trial 29 with value: 0.37264654610472675.\n",
            "bagging, val_score: 0.372647:  50%|#####     | 5/10 [00:03<00:02,  2.37it/s][I 2023-10-21 11:38:45,566] Trial 31 finished with value: 0.3729914136607228 and parameters: {'bagging_fraction': 0.630328068148896, 'bagging_freq': 3}. Best is trial 29 with value: 0.37264654610472675.\n",
            "bagging, val_score: 0.372647:  60%|######    | 6/10 [00:03<00:01,  2.76it/s][I 2023-10-21 11:38:45,814] Trial 32 finished with value: 0.37414900619058994 and parameters: {'bagging_fraction': 0.6353027990426191, 'bagging_freq': 3}. Best is trial 29 with value: 0.37264654610472675.\n",
            "bagging, val_score: 0.372647:  70%|#######   | 7/10 [00:03<00:00,  3.05it/s][I 2023-10-21 11:38:46,070] Trial 33 finished with value: 0.3733696903962755 and parameters: {'bagging_fraction': 0.6314483408377405, 'bagging_freq': 3}. Best is trial 29 with value: 0.37264654610472675.\n",
            "bagging, val_score: 0.372647:  80%|########  | 8/10 [00:04<00:00,  3.41it/s][I 2023-10-21 11:38:46,287] Trial 34 finished with value: 0.37358881982090136 and parameters: {'bagging_fraction': 0.6318594053016239, 'bagging_freq': 3}. Best is trial 29 with value: 0.37264654610472675.\n",
            "bagging, val_score: 0.372647:  90%|######### | 9/10 [00:04<00:00,  3.69it/s][I 2023-10-21 11:38:46,509] Trial 35 finished with value: 0.37418569466990564 and parameters: {'bagging_fraction': 0.5054525926962661, 'bagging_freq': 2}. Best is trial 29 with value: 0.37264654610472675.\n",
            "bagging, val_score: 0.372647: 100%|##########| 10/10 [00:04<00:00,  3.83it/s][I 2023-10-21 11:38:46,746] Trial 36 finished with value: 0.38041044499091836 and parameters: {'bagging_fraction': 0.9116732740195902, 'bagging_freq': 5}. Best is trial 29 with value: 0.37264654610472675.\n",
            "bagging, val_score: 0.372647: 100%|##########| 10/10 [00:04<00:00,  2.17it/s]\n",
            "feature_fraction_stage2, val_score: 0.372647:  17%|#6        | 1/6 [00:00<00:01,  4.00it/s][I 2023-10-21 11:38:47,018] Trial 37 finished with value: 0.37264654610472675 and parameters: {'feature_fraction': 0.5479999999999999}. Best is trial 37 with value: 0.37264654610472675.\n",
            "feature_fraction_stage2, val_score: 0.372647:  33%|###3      | 2/6 [00:00<00:00,  4.42it/s][I 2023-10-21 11:38:47,230] Trial 38 finished with value: 0.37264654610472675 and parameters: {'feature_fraction': 0.516}. Best is trial 37 with value: 0.37264654610472675.\n",
            "feature_fraction_stage2, val_score: 0.372647:  50%|#####     | 3/6 [00:00<00:00,  4.54it/s][I 2023-10-21 11:38:47,442] Trial 39 finished with value: 0.37264654610472675 and parameters: {'feature_fraction': 0.42}. Best is trial 37 with value: 0.37264654610472675.\n",
            "feature_fraction_stage2, val_score: 0.372647:  67%|######6   | 4/6 [00:00<00:00,  4.57it/s][I 2023-10-21 11:38:47,658] Trial 40 finished with value: 0.37264654610472675 and parameters: {'feature_fraction': 0.58}. Best is trial 37 with value: 0.37264654610472675.\n",
            "feature_fraction_stage2, val_score: 0.372647:  83%|########3 | 5/6 [00:01<00:00,  4.67it/s][I 2023-10-21 11:38:47,870] Trial 41 finished with value: 0.37264654610472675 and parameters: {'feature_fraction': 0.484}. Best is trial 37 with value: 0.37264654610472675.\n",
            "feature_fraction_stage2, val_score: 0.372647: 100%|##########| 6/6 [00:01<00:00,  4.46it/s][I 2023-10-21 11:38:48,108] Trial 42 finished with value: 0.37264654610472675 and parameters: {'feature_fraction': 0.45199999999999996}. Best is trial 37 with value: 0.37264654610472675.\n",
            "feature_fraction_stage2, val_score: 0.372647: 100%|##########| 6/6 [00:01<00:00,  4.45it/s]\n",
            "regularization_factors, val_score: 0.371228:   5%|5         | 1/20 [00:00<00:04,  4.41it/s][I 2023-10-21 11:38:48,346] Trial 43 finished with value: 0.3712281738487508 and parameters: {'lambda_l1': 0.40713712498066085, 'lambda_l2': 4.520138784836806e-07}. Best is trial 43 with value: 0.3712281738487508.\n",
            "regularization_factors, val_score: 0.371228:  10%|#         | 2/20 [00:00<00:03,  5.69it/s][I 2023-10-21 11:38:48,486] Trial 44 finished with value: 0.3941349739220778 and parameters: {'lambda_l1': 1.4135591432899206, 'lambda_l2': 1.803868961049854e-07}. Best is trial 43 with value: 0.3712281738487508.\n",
            "regularization_factors, val_score: 0.371228:  15%|#5        | 3/20 [00:00<00:03,  5.01it/s][I 2023-10-21 11:38:48,717] Trial 45 finished with value: 0.3731747403498457 and parameters: {'lambda_l1': 3.478146348689896e-08, 'lambda_l2': 3.19958363680667}. Best is trial 43 with value: 0.3712281738487508.\n",
            "regularization_factors, val_score: 0.371228:  20%|##        | 4/20 [00:00<00:03,  5.19it/s][I 2023-10-21 11:38:48,899] Trial 46 finished with value: 0.4098376945211461 and parameters: {'lambda_l1': 7.879977567177242, 'lambda_l2': 1.0218056952709065e-08}. Best is trial 43 with value: 0.3712281738487508.\n",
            "regularization_factors, val_score: 0.371228:  25%|##5       | 5/20 [00:01<00:05,  2.99it/s][I 2023-10-21 11:38:49,482] Trial 47 finished with value: 0.3725785846157647 and parameters: {'lambda_l1': 0.0033219658417584937, 'lambda_l2': 2.9829655498426502e-05}. Best is trial 43 with value: 0.3712281738487508.\n",
            "regularization_factors, val_score: 0.371228:  30%|###       | 6/20 [00:01<00:04,  3.39it/s][I 2023-10-21 11:38:49,700] Trial 48 finished with value: 0.37222105525128996 and parameters: {'lambda_l1': 0.004138120206804683, 'lambda_l2': 2.4959892248595855e-05}. Best is trial 43 with value: 0.3712281738487508.\n",
            "regularization_factors, val_score: 0.371228:  35%|###5      | 7/20 [00:01<00:03,  3.69it/s][I 2023-10-21 11:38:49,928] Trial 49 finished with value: 0.3716133018587009 and parameters: {'lambda_l1': 0.003831889002928553, 'lambda_l2': 3.783544570730247e-05}. Best is trial 43 with value: 0.3712281738487508.\n",
            "regularization_factors, val_score: 0.371228:  40%|####      | 8/20 [00:02<00:03,  3.79it/s][I 2023-10-21 11:38:50,174] Trial 50 finished with value: 0.3723449965232119 and parameters: {'lambda_l1': 0.003627191258709886, 'lambda_l2': 1.7630830353720508e-05}. Best is trial 43 with value: 0.3712281738487508.\n",
            "regularization_factors, val_score: 0.371228:  45%|####5     | 9/20 [00:02<00:02,  3.92it/s][I 2023-10-21 11:38:50,411] Trial 51 finished with value: 0.3719647430962901 and parameters: {'lambda_l1': 0.0023204180689526026, 'lambda_l2': 2.1923918995718923e-05}. Best is trial 43 with value: 0.3712281738487508.\n",
            "regularization_factors, val_score: 0.371228:  50%|#####     | 10/20 [00:02<00:02,  4.11it/s][I 2023-10-21 11:38:50,629] Trial 52 finished with value: 0.3719644930204217 and parameters: {'lambda_l1': 0.0024341555766693055, 'lambda_l2': 2.3325582722535773e-05}. Best is trial 43 with value: 0.3712281738487508.\n",
            "regularization_factors, val_score: 0.371228:  55%|#####5    | 11/20 [00:02<00:02,  4.16it/s][I 2023-10-21 11:38:50,862] Trial 53 finished with value: 0.37224482933603814 and parameters: {'lambda_l1': 0.0029680642112617987, 'lambda_l2': 3.100936286957723e-05}. Best is trial 43 with value: 0.3712281738487508.\n",
            "regularization_factors, val_score: 0.371228:  60%|######    | 12/20 [00:03<00:01,  4.03it/s][I 2023-10-21 11:38:51,130] Trial 54 finished with value: 0.3719644729028338 and parameters: {'lambda_l1': 0.002443731255530958, 'lambda_l2': 2.1873500027835356e-05}. Best is trial 43 with value: 0.3712281738487508.\n",
            "regularization_factors, val_score: 0.371228:  65%|######5   | 13/20 [00:03<00:01,  4.16it/s][I 2023-10-21 11:38:51,350] Trial 55 finished with value: 0.37196164086321515 and parameters: {'lambda_l1': 0.0051335458296169235, 'lambda_l2': 1.98474698737958e-05}. Best is trial 43 with value: 0.3712281738487508.\n",
            "regularization_factors, val_score: 0.371228:  70%|#######   | 14/20 [00:03<00:01,  4.25it/s][I 2023-10-21 11:38:51,569] Trial 56 finished with value: 0.3716487743423226 and parameters: {'lambda_l1': 0.005622680091460577, 'lambda_l2': 7.379920092113605e-06}. Best is trial 43 with value: 0.3712281738487508.\n",
            "regularization_factors, val_score: 0.371228:  75%|#######5  | 15/20 [00:03<00:01,  4.27it/s][I 2023-10-21 11:38:51,802] Trial 57 finished with value: 0.3734476240997756 and parameters: {'lambda_l1': 0.05747522845908758, 'lambda_l2': 2.3881879481815714e-06}. Best is trial 43 with value: 0.3712281738487508.\n",
            "regularization_factors, val_score: 0.371228:  80%|########  | 16/20 [00:03<00:00,  4.31it/s][I 2023-10-21 11:38:52,029] Trial 58 finished with value: 0.37317317891496676 and parameters: {'lambda_l1': 0.05713644066843066, 'lambda_l2': 2.0712547733705084e-06}. Best is trial 43 with value: 0.3712281738487508.\n",
            "regularization_factors, val_score: 0.371228:  85%|########5 | 17/20 [00:04<00:00,  4.19it/s][I 2023-10-21 11:38:52,282] Trial 59 finished with value: 0.3727157488242922 and parameters: {'lambda_l1': 0.0002582954712931298, 'lambda_l2': 0.0005490360158250033}. Best is trial 43 with value: 0.3712281738487508.\n",
            "regularization_factors, val_score: 0.371228:  90%|######### | 18/20 [00:04<00:00,  4.23it/s][I 2023-10-21 11:38:52,513] Trial 60 finished with value: 0.37271605731162516 and parameters: {'lambda_l1': 0.00024319342939482439, 'lambda_l2': 0.00023605174970286314}. Best is trial 43 with value: 0.3712281738487508.\n",
            "regularization_factors, val_score: 0.371228:  95%|#########5| 19/20 [00:04<00:00,  4.27it/s][I 2023-10-21 11:38:52,750] Trial 61 finished with value: 0.37234474409130863 and parameters: {'lambda_l1': 0.003749186790217501, 'lambda_l2': 7.468142849060288e-06}. Best is trial 43 with value: 0.3712281738487508.\n",
            "regularization_factors, val_score: 0.371228: 100%|##########| 20/20 [00:04<00:00,  4.35it/s][I 2023-10-21 11:38:52,970] Trial 62 finished with value: 0.3723622063360937 and parameters: {'lambda_l1': 0.019584169251911338, 'lambda_l2': 0.00010283966244712516}. Best is trial 43 with value: 0.3712281738487508.\n",
            "regularization_factors, val_score: 0.371228: 100%|##########| 20/20 [00:04<00:00,  4.11it/s]\n",
            "min_child_samples, val_score: 0.371228:  20%|##        | 1/5 [00:00<00:00,  4.19it/s][I 2023-10-21 11:38:53,244] Trial 63 finished with value: 0.37334450425690224 and parameters: {'min_child_samples': 50}. Best is trial 63 with value: 0.37334450425690224.\n",
            "min_child_samples, val_score: 0.371228:  40%|####      | 2/5 [00:00<00:00,  4.36it/s][I 2023-10-21 11:38:53,464] Trial 64 finished with value: 0.3879416279704626 and parameters: {'min_child_samples': 5}. Best is trial 63 with value: 0.37334450425690224.\n",
            "min_child_samples, val_score: 0.371228:  60%|######    | 3/5 [00:00<00:00,  5.13it/s][I 2023-10-21 11:38:53,618] Trial 65 finished with value: 0.407148115084748 and parameters: {'min_child_samples': 100}. Best is trial 63 with value: 0.37334450425690224.\n",
            "min_child_samples, val_score: 0.371228:  80%|########  | 4/5 [00:00<00:00,  4.94it/s][I 2023-10-21 11:38:53,833] Trial 66 finished with value: 0.373147080569747 and parameters: {'min_child_samples': 25}. Best is trial 66 with value: 0.373147080569747.\n",
            "min_child_samples, val_score: 0.371228: 100%|##########| 5/5 [00:01<00:00,  4.76it/s][I 2023-10-21 11:38:54,059] Trial 67 finished with value: 0.3804325007572499 and parameters: {'min_child_samples': 10}. Best is trial 66 with value: 0.373147080569747.\n",
            "min_child_samples, val_score: 0.371228: 100%|##########| 5/5 [00:01<00:00,  4.68it/s]\n",
            "[I 2023-10-21 11:38:54,084] A new study created in memory with name: no-name-f49d7a96-06f4-487d-882c-774fd07be816\n",
            "feature_fraction, val_score: 0.477708:  14%|#4        | 1/7 [00:00<00:01,  3.74it/s][I 2023-10-21 11:38:54,374] Trial 0 finished with value: 0.477707636486917 and parameters: {'feature_fraction': 0.5}. Best is trial 0 with value: 0.477707636486917.\n",
            "feature_fraction, val_score: 0.477708:  29%|##8       | 2/7 [00:00<00:01,  3.41it/s][I 2023-10-21 11:38:54,682] Trial 1 finished with value: 0.5062218642869936 and parameters: {'feature_fraction': 0.7}. Best is trial 0 with value: 0.477707636486917.\n",
            "feature_fraction, val_score: 0.477708:  43%|####2     | 3/7 [00:04<00:06,  1.72s/it][I 2023-10-21 11:38:58,102] Trial 2 finished with value: 0.477707636486917 and parameters: {'feature_fraction': 0.4}. Best is trial 0 with value: 0.477707636486917.\n",
            "feature_fraction, val_score: 0.477708:  57%|#####7    | 4/7 [00:04<00:04,  1.34s/it][I 2023-10-21 11:38:58,869] Trial 3 finished with value: 0.5062218642869936 and parameters: {'feature_fraction': 0.8}. Best is trial 0 with value: 0.477707636486917.\n",
            "feature_fraction, val_score: 0.477708:  71%|#######1  | 5/7 [00:05<00:01,  1.03it/s][I 2023-10-21 11:38:59,190] Trial 4 finished with value: 0.5081790709982047 and parameters: {'feature_fraction': 1.0}. Best is trial 0 with value: 0.477707636486917.\n",
            "feature_fraction, val_score: 0.477708:  86%|########5 | 6/7 [00:05<00:00,  1.36it/s][I 2023-10-21 11:38:59,454] Trial 5 finished with value: 0.477707636486917 and parameters: {'feature_fraction': 0.6}. Best is trial 0 with value: 0.477707636486917.\n",
            "feature_fraction, val_score: 0.477708: 100%|##########| 7/7 [00:05<00:00,  1.67it/s][I 2023-10-21 11:38:59,780] Trial 6 finished with value: 0.5081790709982047 and parameters: {'feature_fraction': 0.8999999999999999}. Best is trial 0 with value: 0.477707636486917.\n",
            "feature_fraction, val_score: 0.477708: 100%|##########| 7/7 [00:05<00:00,  1.23it/s]\n",
            "num_leaves, val_score: 0.477708:   5%|5         | 1/20 [00:00<00:05,  3.44it/s][I 2023-10-21 11:39:00,085] Trial 7 finished with value: 0.477707636486917 and parameters: {'num_leaves': 197}. Best is trial 7 with value: 0.477707636486917.\n",
            "num_leaves, val_score: 0.477708:  10%|#         | 2/20 [00:00<00:04,  3.71it/s][I 2023-10-21 11:39:00,341] Trial 8 finished with value: 0.477707636486917 and parameters: {'num_leaves': 99}. Best is trial 7 with value: 0.477707636486917.\n",
            "num_leaves, val_score: 0.477708:  15%|#5        | 3/20 [00:00<00:04,  3.70it/s][I 2023-10-21 11:39:00,609] Trial 9 finished with value: 0.477707636486917 and parameters: {'num_leaves': 65}. Best is trial 7 with value: 0.477707636486917.\n",
            "num_leaves, val_score: 0.477708:  20%|##        | 4/20 [00:01<00:04,  3.73it/s][I 2023-10-21 11:39:00,874] Trial 10 finished with value: 0.477707636486917 and parameters: {'num_leaves': 250}. Best is trial 7 with value: 0.477707636486917.\n",
            "num_leaves, val_score: 0.477708:  25%|##5       | 5/20 [00:01<00:04,  3.73it/s][I 2023-10-21 11:39:01,150] Trial 11 finished with value: 0.477707636486917 and parameters: {'num_leaves': 23}. Best is trial 7 with value: 0.477707636486917.\n",
            "num_leaves, val_score: 0.477708:  30%|###       | 6/20 [00:01<00:03,  3.76it/s][I 2023-10-21 11:39:01,406] Trial 12 finished with value: 0.477707636486917 and parameters: {'num_leaves': 171}. Best is trial 7 with value: 0.477707636486917.\n",
            "num_leaves, val_score: 0.477708:  35%|###5      | 7/20 [00:01<00:03,  3.78it/s][I 2023-10-21 11:39:01,666] Trial 13 finished with value: 0.477707636486917 and parameters: {'num_leaves': 8}. Best is trial 7 with value: 0.477707636486917.\n",
            "num_leaves, val_score: 0.477708:  40%|####      | 8/20 [00:02<00:03,  3.82it/s][I 2023-10-21 11:39:01,924] Trial 14 finished with value: 0.477707636486917 and parameters: {'num_leaves': 141}. Best is trial 7 with value: 0.477707636486917.\n",
            "num_leaves, val_score: 0.477708:  45%|####5     | 9/20 [00:02<00:02,  3.77it/s][I 2023-10-21 11:39:02,202] Trial 15 finished with value: 0.477707636486917 and parameters: {'num_leaves': 247}. Best is trial 7 with value: 0.477707636486917.\n",
            "num_leaves, val_score: 0.477708:  50%|#####     | 10/20 [00:02<00:02,  3.77it/s][I 2023-10-21 11:39:02,461] Trial 16 finished with value: 0.477707636486917 and parameters: {'num_leaves': 87}. Best is trial 7 with value: 0.477707636486917.\n",
            "num_leaves, val_score: 0.477708:  55%|#####5    | 11/20 [00:02<00:02,  3.63it/s][I 2023-10-21 11:39:02,760] Trial 17 finished with value: 0.477707636486917 and parameters: {'num_leaves': 205}. Best is trial 7 with value: 0.477707636486917.\n",
            "num_leaves, val_score: 0.477708:  60%|######    | 12/20 [00:03<00:02,  3.70it/s][I 2023-10-21 11:39:03,017] Trial 18 finished with value: 0.477707636486917 and parameters: {'num_leaves': 45}. Best is trial 7 with value: 0.477707636486917.\n",
            "num_leaves, val_score: 0.477708:  65%|######5   | 13/20 [00:03<00:01,  3.71it/s][I 2023-10-21 11:39:03,294] Trial 19 finished with value: 0.477707636486917 and parameters: {'num_leaves': 129}. Best is trial 7 with value: 0.477707636486917.\n",
            "num_leaves, val_score: 0.477708:  70%|#######   | 14/20 [00:03<00:01,  3.73it/s][I 2023-10-21 11:39:03,551] Trial 20 finished with value: 0.477707636486917 and parameters: {'num_leaves': 114}. Best is trial 7 with value: 0.477707636486917.\n",
            "num_leaves, val_score: 0.477708:  75%|#######5  | 15/20 [00:04<00:01,  3.72it/s][I 2023-10-21 11:39:03,825] Trial 21 finished with value: 0.477707636486917 and parameters: {'num_leaves': 165}. Best is trial 7 with value: 0.477707636486917.\n",
            "num_leaves, val_score: 0.477708:  80%|########  | 16/20 [00:04<00:01,  3.71it/s][I 2023-10-21 11:39:04,092] Trial 22 finished with value: 0.477707636486917 and parameters: {'num_leaves': 216}. Best is trial 7 with value: 0.477707636486917.\n",
            "num_leaves, val_score: 0.477708:  85%|########5 | 17/20 [00:04<00:00,  3.71it/s][I 2023-10-21 11:39:04,364] Trial 23 finished with value: 0.477707636486917 and parameters: {'num_leaves': 74}. Best is trial 7 with value: 0.477707636486917.\n",
            "num_leaves, val_score: 0.477708:  90%|######### | 18/20 [00:04<00:00,  3.70it/s][I 2023-10-21 11:39:04,635] Trial 24 finished with value: 0.477707636486917 and parameters: {'num_leaves': 47}. Best is trial 7 with value: 0.477707636486917.\n",
            "num_leaves, val_score: 0.477708:  95%|#########5| 19/20 [00:05<00:00,  3.69it/s][I 2023-10-21 11:39:04,905] Trial 25 finished with value: 0.477707636486917 and parameters: {'num_leaves': 160}. Best is trial 7 with value: 0.477707636486917.\n",
            "num_leaves, val_score: 0.477708: 100%|##########| 20/20 [00:05<00:00,  3.69it/s][I 2023-10-21 11:39:05,178] Trial 26 finished with value: 0.477707636486917 and parameters: {'num_leaves': 190}. Best is trial 7 with value: 0.477707636486917.\n",
            "num_leaves, val_score: 0.477708: 100%|##########| 20/20 [00:05<00:00,  3.71it/s]\n",
            "bagging, val_score: 0.476681:  10%|#         | 1/10 [00:00<00:02,  3.59it/s][I 2023-10-21 11:39:05,476] Trial 27 finished with value: 0.47668081895910913 and parameters: {'bagging_fraction': 0.7669866375902864, 'bagging_freq': 4}. Best is trial 27 with value: 0.47668081895910913.\n",
            "bagging, val_score: 0.476681:  20%|##        | 2/10 [00:00<00:02,  3.49it/s][I 2023-10-21 11:39:05,768] Trial 28 finished with value: 0.47830609924887474 and parameters: {'bagging_fraction': 0.786795797725186, 'bagging_freq': 4}. Best is trial 27 with value: 0.47668081895910913.\n",
            "bagging, val_score: 0.476681:  30%|###       | 3/10 [00:00<00:01,  3.67it/s][I 2023-10-21 11:39:06,023] Trial 29 finished with value: 0.48436270917409413 and parameters: {'bagging_fraction': 0.54084626980146, 'bagging_freq': 6}. Best is trial 27 with value: 0.47668081895910913.\n",
            "bagging, val_score: 0.476681:  40%|####      | 4/10 [00:01<00:01,  3.71it/s][I 2023-10-21 11:39:06,282] Trial 30 finished with value: 0.48029400597988603 and parameters: {'bagging_fraction': 0.9316348813978994, 'bagging_freq': 1}. Best is trial 27 with value: 0.47668081895910913.\n",
            "bagging, val_score: 0.476681:  50%|#####     | 5/10 [00:01<00:01,  3.67it/s][I 2023-10-21 11:39:06,559] Trial 31 finished with value: 0.4793354640710478 and parameters: {'bagging_fraction': 0.6655940216406554, 'bagging_freq': 3}. Best is trial 27 with value: 0.47668081895910913.\n",
            "bagging, val_score: 0.476681:  60%|######    | 6/10 [00:01<00:01,  3.68it/s][I 2023-10-21 11:39:06,830] Trial 32 finished with value: 0.4817139870016521 and parameters: {'bagging_fraction': 0.4595372637390065, 'bagging_freq': 7}. Best is trial 27 with value: 0.47668081895910913.\n",
            "bagging, val_score: 0.476681:  70%|#######   | 7/10 [00:01<00:00,  3.62it/s][I 2023-10-21 11:39:07,119] Trial 33 finished with value: 0.47800848378582794 and parameters: {'bagging_fraction': 0.9779992040896188, 'bagging_freq': 2}. Best is trial 27 with value: 0.47668081895910913.\n",
            "bagging, val_score: 0.476681:  80%|########  | 8/10 [00:02<00:00,  3.59it/s][I 2023-10-21 11:39:07,401] Trial 34 finished with value: 0.4847714846919223 and parameters: {'bagging_fraction': 0.7633280917006119, 'bagging_freq': 5}. Best is trial 27 with value: 0.47668081895910913.\n",
            "bagging, val_score: 0.476681:  90%|######### | 9/10 [00:02<00:00,  3.66it/s][I 2023-10-21 11:39:07,664] Trial 35 finished with value: 0.4774792161526749 and parameters: {'bagging_fraction': 0.6403584298005618, 'bagging_freq': 4}. Best is trial 27 with value: 0.47668081895910913.\n",
            "bagging, val_score: 0.476681: 100%|##########| 10/10 [00:02<00:00,  3.60it/s][I 2023-10-21 11:39:07,951] Trial 36 finished with value: 0.4773660677734464 and parameters: {'bagging_fraction': 0.6284599978143631, 'bagging_freq': 4}. Best is trial 27 with value: 0.47668081895910913.\n",
            "bagging, val_score: 0.476681: 100%|##########| 10/10 [00:02<00:00,  3.61it/s]\n",
            "feature_fraction_stage2, val_score: 0.476681:  17%|#6        | 1/6 [00:00<00:01,  3.31it/s][I 2023-10-21 11:39:08,280] Trial 37 finished with value: 0.47668081895910913 and parameters: {'feature_fraction': 0.484}. Best is trial 37 with value: 0.47668081895910913.\n",
            "feature_fraction_stage2, val_score: 0.476681:  33%|###3      | 2/6 [00:00<00:01,  3.60it/s][I 2023-10-21 11:39:08,546] Trial 38 finished with value: 0.47668081895910913 and parameters: {'feature_fraction': 0.58}. Best is trial 37 with value: 0.47668081895910913.\n",
            "feature_fraction_stage2, val_score: 0.476681:  50%|#####     | 3/6 [00:01<00:01,  1.57it/s][I 2023-10-21 11:39:09,616] Trial 39 finished with value: 0.47668081895910913 and parameters: {'feature_fraction': 0.5479999999999999}. Best is trial 37 with value: 0.47668081895910913.\n",
            "feature_fraction_stage2, val_score: 0.476681:  67%|######6   | 4/6 [00:03<00:02,  1.17s/it][I 2023-10-21 11:39:11,597] Trial 40 finished with value: 0.47668081895910913 and parameters: {'feature_fraction': 0.516}. Best is trial 37 with value: 0.47668081895910913.\n",
            "feature_fraction_stage2, val_score: 0.476681:  83%|########3 | 5/6 [00:04<00:01,  1.05s/it][I 2023-10-21 11:39:12,428] Trial 41 finished with value: 0.47668081895910913 and parameters: {'feature_fraction': 0.45199999999999996}. Best is trial 37 with value: 0.47668081895910913.\n",
            "feature_fraction_stage2, val_score: 0.476681: 100%|##########| 6/6 [00:04<00:00,  1.28it/s][I 2023-10-21 11:39:12,694] Trial 42 finished with value: 0.47668081895910913 and parameters: {'feature_fraction': 0.42}. Best is trial 37 with value: 0.47668081895910913.\n",
            "feature_fraction_stage2, val_score: 0.476681: 100%|##########| 6/6 [00:04<00:00,  1.27it/s]\n",
            "regularization_factors, val_score: 0.476652:   5%|5         | 1/20 [00:00<00:05,  3.47it/s][I 2023-10-21 11:39:13,009] Trial 43 finished with value: 0.47665201172439225 and parameters: {'lambda_l1': 0.009502389221037046, 'lambda_l2': 0.0021373940487070106}. Best is trial 43 with value: 0.47665201172439225.\n",
            "regularization_factors, val_score: 0.476652:  10%|#         | 2/20 [00:00<00:05,  3.57it/s][I 2023-10-21 11:39:13,287] Trial 44 finished with value: 0.4768783501235385 and parameters: {'lambda_l1': 0.014998927637446674, 'lambda_l2': 0.0011008646468781153}. Best is trial 43 with value: 0.47665201172439225.\n",
            "regularization_factors, val_score: 0.474084:  15%|#5        | 3/20 [00:00<00:04,  3.63it/s][I 2023-10-21 11:39:13,552] Trial 45 finished with value: 0.47408391256475396 and parameters: {'lambda_l1': 3.5378776873969854e-06, 'lambda_l2': 0.3104575815030066}. Best is trial 45 with value: 0.47408391256475396.\n",
            "regularization_factors, val_score: 0.474084:  20%|##        | 4/20 [00:01<00:04,  3.67it/s][I 2023-10-21 11:39:13,823] Trial 46 finished with value: 0.47423777887589036 and parameters: {'lambda_l1': 4.936770971613269e-07, 'lambda_l2': 0.4097540791055142}. Best is trial 45 with value: 0.47408391256475396.\n",
            "regularization_factors, val_score: 0.473697:  25%|##5       | 5/20 [00:01<00:04,  3.59it/s][I 2023-10-21 11:39:14,110] Trial 47 finished with value: 0.4736972224595427 and parameters: {'lambda_l1': 2.849336176046065e-07, 'lambda_l2': 0.5181935282720126}. Best is trial 47 with value: 0.4736972224595427.\n",
            "regularization_factors, val_score: 0.473697:  30%|###       | 6/20 [00:01<00:03,  3.63it/s][I 2023-10-21 11:39:14,381] Trial 48 finished with value: 0.479601685179917 and parameters: {'lambda_l1': 1.2874315153403365e-07, 'lambda_l2': 1.0685256783718848}. Best is trial 47 with value: 0.4736972224595427.\n",
            "regularization_factors, val_score: 0.473697:  35%|###5      | 7/20 [00:01<00:03,  3.72it/s][I 2023-10-21 11:39:14,636] Trial 49 finished with value: 0.47473289056831186 and parameters: {'lambda_l1': 5.659480899458704e-07, 'lambda_l2': 0.4200030789867832}. Best is trial 47 with value: 0.4736972224595427.\n",
            "regularization_factors, val_score: 0.473697:  40%|####      | 8/20 [00:02<00:03,  3.67it/s][I 2023-10-21 11:39:14,914] Trial 50 finished with value: 0.47448229549883775 and parameters: {'lambda_l1': 6.085806147915069e-07, 'lambda_l2': 0.3897633932147403}. Best is trial 47 with value: 0.4736972224595427.\n",
            "regularization_factors, val_score: 0.473697:  45%|####5     | 9/20 [00:02<00:03,  3.59it/s][I 2023-10-21 11:39:15,206] Trial 51 finished with value: 0.47465968329769365 and parameters: {'lambda_l1': 4.159082705238521e-07, 'lambda_l2': 0.33074684598687504}. Best is trial 47 with value: 0.4736972224595427.\n",
            "regularization_factors, val_score: 0.473697:  50%|#####     | 10/20 [00:02<00:02,  3.61it/s][I 2023-10-21 11:39:15,482] Trial 52 finished with value: 0.47908783469763877 and parameters: {'lambda_l1': 5.259272067934663e-07, 'lambda_l2': 0.6882691812771944}. Best is trial 47 with value: 0.4736972224595427.\n",
            "regularization_factors, val_score: 0.473697:  55%|#####5    | 11/20 [00:03<00:02,  3.64it/s][I 2023-10-21 11:39:15,749] Trial 53 finished with value: 0.4741367673934114 and parameters: {'lambda_l1': 1.118442712497583e-06, 'lambda_l2': 0.5381483164943313}. Best is trial 47 with value: 0.4736972224595427.\n",
            "regularization_factors, val_score: 0.473697:  60%|######    | 12/20 [00:03<00:02,  3.63it/s][I 2023-10-21 11:39:16,029] Trial 54 finished with value: 0.4747421509816672 and parameters: {'lambda_l1': 9.140699381152612e-07, 'lambda_l2': 0.5215227396726124}. Best is trial 47 with value: 0.4736972224595427.\n",
            "regularization_factors, val_score: 0.473697:  65%|######5   | 13/20 [00:03<00:01,  3.61it/s][I 2023-10-21 11:39:16,309] Trial 55 finished with value: 0.4746611213676959 and parameters: {'lambda_l1': 1.205807133515756e-06, 'lambda_l2': 0.33013384729377915}. Best is trial 47 with value: 0.4736972224595427.\n",
            "regularization_factors, val_score: 0.473697:  70%|#######   | 14/20 [00:03<00:01,  3.64it/s][I 2023-10-21 11:39:16,581] Trial 56 finished with value: 0.4750878929006686 and parameters: {'lambda_l1': 3.5840132331947917e-06, 'lambda_l2': 0.11890225618683781}. Best is trial 47 with value: 0.4736972224595427.\n",
            "regularization_factors, val_score: 0.473697:  75%|#######5  | 15/20 [00:04<00:01,  3.74it/s][I 2023-10-21 11:39:16,830] Trial 57 finished with value: 0.4806290146125287 and parameters: {'lambda_l1': 3.22559001897244e-08, 'lambda_l2': 3.654334077427821}. Best is trial 47 with value: 0.4736972224595427.\n",
            "regularization_factors, val_score: 0.473697:  80%|########  | 16/20 [00:04<00:01,  3.62it/s][I 2023-10-21 11:39:17,125] Trial 58 finished with value: 0.47748676390803557 and parameters: {'lambda_l1': 1.5940536728390316e-05, 'lambda_l2': 0.025999541610680528}. Best is trial 47 with value: 0.4736972224595427.\n",
            "regularization_factors, val_score: 0.473697:  85%|########5 | 17/20 [00:04<00:00,  3.73it/s][I 2023-10-21 11:39:17,373] Trial 59 finished with value: 0.47437143789901887 and parameters: {'lambda_l1': 3.1051560530602784e-08, 'lambda_l2': 5.8517723881836}. Best is trial 47 with value: 0.4736972224595427.\n",
            "regularization_factors, val_score: 0.473697:  90%|######### | 18/20 [00:04<00:00,  3.84it/s][I 2023-10-21 11:39:17,617] Trial 60 finished with value: 0.4750289795013794 and parameters: {'lambda_l1': 1.1263480847821292e-08, 'lambda_l2': 7.46513477121537}. Best is trial 47 with value: 0.4736972224595427.\n",
            "regularization_factors, val_score: 0.473697:  95%|#########5| 19/20 [00:05<00:00,  3.71it/s][I 2023-10-21 11:39:17,907] Trial 61 finished with value: 0.4773641773509069 and parameters: {'lambda_l1': 2.0485784794384502e-07, 'lambda_l2': 0.05220503833612018}. Best is trial 47 with value: 0.4736972224595427.\n",
            "regularization_factors, val_score: 0.473597: 100%|##########| 20/20 [00:05<00:00,  3.66it/s][I 2023-10-21 11:39:18,189] Trial 62 finished with value: 0.4735973510476591 and parameters: {'lambda_l1': 1.3146507961653974e-05, 'lambda_l2': 8.144738569164243}. Best is trial 62 with value: 0.4735973510476591.\n",
            "regularization_factors, val_score: 0.473597: 100%|##########| 20/20 [00:05<00:00,  3.65it/s]\n",
            "min_child_samples, val_score: 0.461292:  20%|##        | 1/5 [00:00<00:00,  4.29it/s][I 2023-10-21 11:39:18,446] Trial 63 finished with value: 0.46129165462505395 and parameters: {'min_child_samples': 50}. Best is trial 63 with value: 0.46129165462505395.\n",
            "min_child_samples, val_score: 0.461292:  40%|####      | 2/5 [00:00<00:00,  3.97it/s][I 2023-10-21 11:39:18,712] Trial 64 finished with value: 0.47395683009573053 and parameters: {'min_child_samples': 5}. Best is trial 63 with value: 0.46129165462505395.\n",
            "min_child_samples, val_score: 0.461292:  60%|######    | 3/5 [00:00<00:00,  3.93it/s][I 2023-10-21 11:39:18,969] Trial 65 finished with value: 0.46628851804691746 and parameters: {'min_child_samples': 10}. Best is trial 63 with value: 0.46129165462505395.\n",
            "min_child_samples, val_score: 0.461292:  80%|########  | 4/5 [00:01<00:00,  3.82it/s][I 2023-10-21 11:39:19,242] Trial 66 finished with value: 0.47127516264509983 and parameters: {'min_child_samples': 25}. Best is trial 63 with value: 0.46129165462505395.\n",
            "min_child_samples, val_score: 0.450745: 100%|##########| 5/5 [00:01<00:00,  4.13it/s][I 2023-10-21 11:39:19,447] Trial 67 finished with value: 0.45074451512763275 and parameters: {'min_child_samples': 100}. Best is trial 67 with value: 0.45074451512763275.\n",
            "min_child_samples, val_score: 0.450745: 100%|##########| 5/5 [00:01<00:00,  4.00it/s]\n"
          ]
        }
      ]
    },
    {
      "cell_type": "code",
      "source": [
        "score_array = np.array(score_list)"
      ],
      "metadata": {
        "id": "mp4C6bqzCGVQ"
      },
      "execution_count": 119,
      "outputs": []
    },
    {
      "cell_type": "code",
      "source": [
        "test = np.mean(score_array, axis=0)\n",
        "test.shape"
      ],
      "metadata": {
        "colab": {
          "base_uri": "https://localhost:8080/"
        },
        "id": "94B1QZneCIKK",
        "outputId": "ab0bead6-8520-4be5-c88f-a1ca43be75fd"
      },
      "execution_count": 120,
      "outputs": [
        {
          "output_type": "execute_result",
          "data": {
            "text/plain": [
              "(268,)"
            ]
          },
          "metadata": {},
          "execution_count": 120
        }
      ]
    },
    {
      "cell_type": "code",
      "source": [
        "df = pd.DataFrame(score_array).T\n",
        "df"
      ],
      "metadata": {
        "colab": {
          "base_uri": "https://localhost:8080/",
          "height": 424
        },
        "id": "um866Af0Ctvl",
        "outputId": "c4ed46ef-6f95-4d90-f9da-e24ccc2bcb05"
      },
      "execution_count": 123,
      "outputs": [
        {
          "output_type": "execute_result",
          "data": {
            "text/plain": [
              "            0         1         2         3         4\n",
              "0    0.130611  0.130456  0.115908  0.149028  0.141428\n",
              "1    0.130611  0.130456  0.115908  0.149028  0.141428\n",
              "2    0.055729  0.083395  0.057224  0.083753  0.113824\n",
              "3    0.946765  0.965416  0.974539  0.966712  0.939089\n",
              "4    0.528239  0.548459  0.470140  0.519196  0.588116\n",
              "..        ...       ...       ...       ...       ...\n",
              "263  0.314917  0.342886  0.354659  0.358478  0.340217\n",
              "264  0.130611  0.130456  0.115908  0.149028  0.141428\n",
              "265  0.221766  0.213999  0.143797  0.204446  0.113767\n",
              "266  0.615491  0.621921  0.664263  0.651178  0.587979\n",
              "267  0.314917  0.342886  0.354659  0.358478  0.340217\n",
              "\n",
              "[268 rows x 5 columns]"
            ],
            "text/html": [
              "\n",
              "  <div id=\"df-ac53ac4e-69e0-4c51-beda-8d303afb7442\" class=\"colab-df-container\">\n",
              "    <div>\n",
              "<style scoped>\n",
              "    .dataframe tbody tr th:only-of-type {\n",
              "        vertical-align: middle;\n",
              "    }\n",
              "\n",
              "    .dataframe tbody tr th {\n",
              "        vertical-align: top;\n",
              "    }\n",
              "\n",
              "    .dataframe thead th {\n",
              "        text-align: right;\n",
              "    }\n",
              "</style>\n",
              "<table border=\"1\" class=\"dataframe\">\n",
              "  <thead>\n",
              "    <tr style=\"text-align: right;\">\n",
              "      <th></th>\n",
              "      <th>0</th>\n",
              "      <th>1</th>\n",
              "      <th>2</th>\n",
              "      <th>3</th>\n",
              "      <th>4</th>\n",
              "    </tr>\n",
              "  </thead>\n",
              "  <tbody>\n",
              "    <tr>\n",
              "      <th>0</th>\n",
              "      <td>0.130611</td>\n",
              "      <td>0.130456</td>\n",
              "      <td>0.115908</td>\n",
              "      <td>0.149028</td>\n",
              "      <td>0.141428</td>\n",
              "    </tr>\n",
              "    <tr>\n",
              "      <th>1</th>\n",
              "      <td>0.130611</td>\n",
              "      <td>0.130456</td>\n",
              "      <td>0.115908</td>\n",
              "      <td>0.149028</td>\n",
              "      <td>0.141428</td>\n",
              "    </tr>\n",
              "    <tr>\n",
              "      <th>2</th>\n",
              "      <td>0.055729</td>\n",
              "      <td>0.083395</td>\n",
              "      <td>0.057224</td>\n",
              "      <td>0.083753</td>\n",
              "      <td>0.113824</td>\n",
              "    </tr>\n",
              "    <tr>\n",
              "      <th>3</th>\n",
              "      <td>0.946765</td>\n",
              "      <td>0.965416</td>\n",
              "      <td>0.974539</td>\n",
              "      <td>0.966712</td>\n",
              "      <td>0.939089</td>\n",
              "    </tr>\n",
              "    <tr>\n",
              "      <th>4</th>\n",
              "      <td>0.528239</td>\n",
              "      <td>0.548459</td>\n",
              "      <td>0.470140</td>\n",
              "      <td>0.519196</td>\n",
              "      <td>0.588116</td>\n",
              "    </tr>\n",
              "    <tr>\n",
              "      <th>...</th>\n",
              "      <td>...</td>\n",
              "      <td>...</td>\n",
              "      <td>...</td>\n",
              "      <td>...</td>\n",
              "      <td>...</td>\n",
              "    </tr>\n",
              "    <tr>\n",
              "      <th>263</th>\n",
              "      <td>0.314917</td>\n",
              "      <td>0.342886</td>\n",
              "      <td>0.354659</td>\n",
              "      <td>0.358478</td>\n",
              "      <td>0.340217</td>\n",
              "    </tr>\n",
              "    <tr>\n",
              "      <th>264</th>\n",
              "      <td>0.130611</td>\n",
              "      <td>0.130456</td>\n",
              "      <td>0.115908</td>\n",
              "      <td>0.149028</td>\n",
              "      <td>0.141428</td>\n",
              "    </tr>\n",
              "    <tr>\n",
              "      <th>265</th>\n",
              "      <td>0.221766</td>\n",
              "      <td>0.213999</td>\n",
              "      <td>0.143797</td>\n",
              "      <td>0.204446</td>\n",
              "      <td>0.113767</td>\n",
              "    </tr>\n",
              "    <tr>\n",
              "      <th>266</th>\n",
              "      <td>0.615491</td>\n",
              "      <td>0.621921</td>\n",
              "      <td>0.664263</td>\n",
              "      <td>0.651178</td>\n",
              "      <td>0.587979</td>\n",
              "    </tr>\n",
              "    <tr>\n",
              "      <th>267</th>\n",
              "      <td>0.314917</td>\n",
              "      <td>0.342886</td>\n",
              "      <td>0.354659</td>\n",
              "      <td>0.358478</td>\n",
              "      <td>0.340217</td>\n",
              "    </tr>\n",
              "  </tbody>\n",
              "</table>\n",
              "<p>268 rows × 5 columns</p>\n",
              "</div>\n",
              "    <div class=\"colab-df-buttons\">\n",
              "\n",
              "  <div class=\"colab-df-container\">\n",
              "    <button class=\"colab-df-convert\" onclick=\"convertToInteractive('df-ac53ac4e-69e0-4c51-beda-8d303afb7442')\"\n",
              "            title=\"Convert this dataframe to an interactive table.\"\n",
              "            style=\"display:none;\">\n",
              "\n",
              "  <svg xmlns=\"http://www.w3.org/2000/svg\" height=\"24px\" viewBox=\"0 -960 960 960\">\n",
              "    <path d=\"M120-120v-720h720v720H120Zm60-500h600v-160H180v160Zm220 220h160v-160H400v160Zm0 220h160v-160H400v160ZM180-400h160v-160H180v160Zm440 0h160v-160H620v160ZM180-180h160v-160H180v160Zm440 0h160v-160H620v160Z\"/>\n",
              "  </svg>\n",
              "    </button>\n",
              "\n",
              "  <style>\n",
              "    .colab-df-container {\n",
              "      display:flex;\n",
              "      gap: 12px;\n",
              "    }\n",
              "\n",
              "    .colab-df-convert {\n",
              "      background-color: #E8F0FE;\n",
              "      border: none;\n",
              "      border-radius: 50%;\n",
              "      cursor: pointer;\n",
              "      display: none;\n",
              "      fill: #1967D2;\n",
              "      height: 32px;\n",
              "      padding: 0 0 0 0;\n",
              "      width: 32px;\n",
              "    }\n",
              "\n",
              "    .colab-df-convert:hover {\n",
              "      background-color: #E2EBFA;\n",
              "      box-shadow: 0px 1px 2px rgba(60, 64, 67, 0.3), 0px 1px 3px 1px rgba(60, 64, 67, 0.15);\n",
              "      fill: #174EA6;\n",
              "    }\n",
              "\n",
              "    .colab-df-buttons div {\n",
              "      margin-bottom: 4px;\n",
              "    }\n",
              "\n",
              "    [theme=dark] .colab-df-convert {\n",
              "      background-color: #3B4455;\n",
              "      fill: #D2E3FC;\n",
              "    }\n",
              "\n",
              "    [theme=dark] .colab-df-convert:hover {\n",
              "      background-color: #434B5C;\n",
              "      box-shadow: 0px 1px 3px 1px rgba(0, 0, 0, 0.15);\n",
              "      filter: drop-shadow(0px 1px 2px rgba(0, 0, 0, 0.3));\n",
              "      fill: #FFFFFF;\n",
              "    }\n",
              "  </style>\n",
              "\n",
              "    <script>\n",
              "      const buttonEl =\n",
              "        document.querySelector('#df-ac53ac4e-69e0-4c51-beda-8d303afb7442 button.colab-df-convert');\n",
              "      buttonEl.style.display =\n",
              "        google.colab.kernel.accessAllowed ? 'block' : 'none';\n",
              "\n",
              "      async function convertToInteractive(key) {\n",
              "        const element = document.querySelector('#df-ac53ac4e-69e0-4c51-beda-8d303afb7442');\n",
              "        const dataTable =\n",
              "          await google.colab.kernel.invokeFunction('convertToInteractive',\n",
              "                                                    [key], {});\n",
              "        if (!dataTable) return;\n",
              "\n",
              "        const docLinkHtml = 'Like what you see? Visit the ' +\n",
              "          '<a target=\"_blank\" href=https://colab.research.google.com/notebooks/data_table.ipynb>data table notebook</a>'\n",
              "          + ' to learn more about interactive tables.';\n",
              "        element.innerHTML = '';\n",
              "        dataTable['output_type'] = 'display_data';\n",
              "        await google.colab.output.renderOutput(dataTable, element);\n",
              "        const docLink = document.createElement('div');\n",
              "        docLink.innerHTML = docLinkHtml;\n",
              "        element.appendChild(docLink);\n",
              "      }\n",
              "    </script>\n",
              "  </div>\n",
              "\n",
              "\n",
              "<div id=\"df-b9f6a733-c744-4b48-ab25-2bf6048f9174\">\n",
              "  <button class=\"colab-df-quickchart\" onclick=\"quickchart('df-b9f6a733-c744-4b48-ab25-2bf6048f9174')\"\n",
              "            title=\"Suggest charts.\"\n",
              "            style=\"display:none;\">\n",
              "\n",
              "<svg xmlns=\"http://www.w3.org/2000/svg\" height=\"24px\"viewBox=\"0 0 24 24\"\n",
              "     width=\"24px\">\n",
              "    <g>\n",
              "        <path d=\"M19 3H5c-1.1 0-2 .9-2 2v14c0 1.1.9 2 2 2h14c1.1 0 2-.9 2-2V5c0-1.1-.9-2-2-2zM9 17H7v-7h2v7zm4 0h-2V7h2v10zm4 0h-2v-4h2v4z\"/>\n",
              "    </g>\n",
              "</svg>\n",
              "  </button>\n",
              "\n",
              "<style>\n",
              "  .colab-df-quickchart {\n",
              "      --bg-color: #E8F0FE;\n",
              "      --fill-color: #1967D2;\n",
              "      --hover-bg-color: #E2EBFA;\n",
              "      --hover-fill-color: #174EA6;\n",
              "      --disabled-fill-color: #AAA;\n",
              "      --disabled-bg-color: #DDD;\n",
              "  }\n",
              "\n",
              "  [theme=dark] .colab-df-quickchart {\n",
              "      --bg-color: #3B4455;\n",
              "      --fill-color: #D2E3FC;\n",
              "      --hover-bg-color: #434B5C;\n",
              "      --hover-fill-color: #FFFFFF;\n",
              "      --disabled-bg-color: #3B4455;\n",
              "      --disabled-fill-color: #666;\n",
              "  }\n",
              "\n",
              "  .colab-df-quickchart {\n",
              "    background-color: var(--bg-color);\n",
              "    border: none;\n",
              "    border-radius: 50%;\n",
              "    cursor: pointer;\n",
              "    display: none;\n",
              "    fill: var(--fill-color);\n",
              "    height: 32px;\n",
              "    padding: 0;\n",
              "    width: 32px;\n",
              "  }\n",
              "\n",
              "  .colab-df-quickchart:hover {\n",
              "    background-color: var(--hover-bg-color);\n",
              "    box-shadow: 0 1px 2px rgba(60, 64, 67, 0.3), 0 1px 3px 1px rgba(60, 64, 67, 0.15);\n",
              "    fill: var(--button-hover-fill-color);\n",
              "  }\n",
              "\n",
              "  .colab-df-quickchart-complete:disabled,\n",
              "  .colab-df-quickchart-complete:disabled:hover {\n",
              "    background-color: var(--disabled-bg-color);\n",
              "    fill: var(--disabled-fill-color);\n",
              "    box-shadow: none;\n",
              "  }\n",
              "\n",
              "  .colab-df-spinner {\n",
              "    border: 2px solid var(--fill-color);\n",
              "    border-color: transparent;\n",
              "    border-bottom-color: var(--fill-color);\n",
              "    animation:\n",
              "      spin 1s steps(1) infinite;\n",
              "  }\n",
              "\n",
              "  @keyframes spin {\n",
              "    0% {\n",
              "      border-color: transparent;\n",
              "      border-bottom-color: var(--fill-color);\n",
              "      border-left-color: var(--fill-color);\n",
              "    }\n",
              "    20% {\n",
              "      border-color: transparent;\n",
              "      border-left-color: var(--fill-color);\n",
              "      border-top-color: var(--fill-color);\n",
              "    }\n",
              "    30% {\n",
              "      border-color: transparent;\n",
              "      border-left-color: var(--fill-color);\n",
              "      border-top-color: var(--fill-color);\n",
              "      border-right-color: var(--fill-color);\n",
              "    }\n",
              "    40% {\n",
              "      border-color: transparent;\n",
              "      border-right-color: var(--fill-color);\n",
              "      border-top-color: var(--fill-color);\n",
              "    }\n",
              "    60% {\n",
              "      border-color: transparent;\n",
              "      border-right-color: var(--fill-color);\n",
              "    }\n",
              "    80% {\n",
              "      border-color: transparent;\n",
              "      border-right-color: var(--fill-color);\n",
              "      border-bottom-color: var(--fill-color);\n",
              "    }\n",
              "    90% {\n",
              "      border-color: transparent;\n",
              "      border-bottom-color: var(--fill-color);\n",
              "    }\n",
              "  }\n",
              "</style>\n",
              "\n",
              "  <script>\n",
              "    async function quickchart(key) {\n",
              "      const quickchartButtonEl =\n",
              "        document.querySelector('#' + key + ' button');\n",
              "      quickchartButtonEl.disabled = true;  // To prevent multiple clicks.\n",
              "      quickchartButtonEl.classList.add('colab-df-spinner');\n",
              "      try {\n",
              "        const charts = await google.colab.kernel.invokeFunction(\n",
              "            'suggestCharts', [key], {});\n",
              "      } catch (error) {\n",
              "        console.error('Error during call to suggestCharts:', error);\n",
              "      }\n",
              "      quickchartButtonEl.classList.remove('colab-df-spinner');\n",
              "      quickchartButtonEl.classList.add('colab-df-quickchart-complete');\n",
              "    }\n",
              "    (() => {\n",
              "      let quickchartButtonEl =\n",
              "        document.querySelector('#df-b9f6a733-c744-4b48-ab25-2bf6048f9174 button');\n",
              "      quickchartButtonEl.style.display =\n",
              "        google.colab.kernel.accessAllowed ? 'block' : 'none';\n",
              "    })();\n",
              "  </script>\n",
              "</div>\n",
              "    </div>\n",
              "  </div>\n"
            ]
          },
          "metadata": {},
          "execution_count": 123
        }
      ]
    },
    {
      "cell_type": "code",
      "source": [
        "test[0]"
      ],
      "metadata": {
        "colab": {
          "base_uri": "https://localhost:8080/"
        },
        "id": "l2sQubImDHs1",
        "outputId": "40cab5ca-86b9-45fb-da36-bbdf875c1c41"
      },
      "execution_count": 125,
      "outputs": [
        {
          "output_type": "execute_result",
          "data": {
            "text/plain": [
              "0.1334863454540021"
            ]
          },
          "metadata": {},
          "execution_count": 125
        }
      ]
    },
    {
      "cell_type": "code",
      "source": [
        "first_row = df.iloc[0]\n",
        "np.mean(first_row)"
      ],
      "metadata": {
        "colab": {
          "base_uri": "https://localhost:8080/"
        },
        "id": "U22-5ORNDSJl",
        "outputId": "94665fd2-805f-4984-eb00-72635e8e0c5d"
      },
      "execution_count": 128,
      "outputs": [
        {
          "output_type": "execute_result",
          "data": {
            "text/plain": [
              "0.1334863454540021"
            ]
          },
          "metadata": {},
          "execution_count": 128
        }
      ]
    },
    {
      "cell_type": "code",
      "source": [
        "pred = test > 0.5"
      ],
      "metadata": {
        "id": "pfUDz3cODb5D"
      },
      "execution_count": 129,
      "outputs": []
    },
    {
      "cell_type": "code",
      "source": [
        "accuracy_score(t_test, pred)"
      ],
      "metadata": {
        "colab": {
          "base_uri": "https://localhost:8080/"
        },
        "id": "qzhosD1gDuGP",
        "outputId": "019eb09e-4315-4f63-c3a7-dcfbec0fda10"
      },
      "execution_count": 130,
      "outputs": [
        {
          "output_type": "execute_result",
          "data": {
            "text/plain": [
              "0.7910447761194029"
            ]
          },
          "metadata": {},
          "execution_count": 130
        }
      ]
    },
    {
      "cell_type": "code",
      "source": [],
      "metadata": {
        "id": "QrcXucQ5Dxdg"
      },
      "execution_count": null,
      "outputs": []
    }
  ]
}