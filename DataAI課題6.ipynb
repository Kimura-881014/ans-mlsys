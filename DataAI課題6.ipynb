{
  "nbformat": 4,
  "nbformat_minor": 0,
  "metadata": {
    "colab": {
      "provenance": []
    },
    "kernelspec": {
      "name": "python3",
      "display_name": "Python 3"
    },
    "language_info": {
      "name": "python"
    }
  },
  "cells": [
    {
      "cell_type": "markdown",
      "source": [
        "# たくみ君写さないでください"
      ],
      "metadata": {
        "id": "75QiE8_VYk0v"
      }
    },
    {
      "cell_type": "code",
      "execution_count": 1,
      "metadata": {
        "id": "AFEVK3xlQbs2"
      },
      "outputs": [],
      "source": [
        "import torch"
      ]
    },
    {
      "cell_type": "code",
      "source": [
        "def my_func(x):\n",
        "  out = 2*x**3-3*x**2-12*x+1\n",
        "  return out"
      ],
      "metadata": {
        "id": "IiSsgETiQdrZ"
      },
      "execution_count": 2,
      "outputs": []
    },
    {
      "cell_type": "code",
      "source": [
        "x = torch.tensor(1.0, requires_grad=True)"
      ],
      "metadata": {
        "id": "s3b_dhKWQnBs"
      },
      "execution_count": 3,
      "outputs": []
    },
    {
      "cell_type": "code",
      "source": [
        "y = my_func(x)"
      ],
      "metadata": {
        "id": "gITDObTCWKS5"
      },
      "execution_count": 4,
      "outputs": []
    },
    {
      "cell_type": "code",
      "source": [
        "y.backward()"
      ],
      "metadata": {
        "id": "YGRhbPgYXD62"
      },
      "execution_count": 5,
      "outputs": []
    },
    {
      "cell_type": "code",
      "source": [
        "x.grad"
      ],
      "metadata": {
        "colab": {
          "base_uri": "https://localhost:8080/"
        },
        "id": "6rhLIN-RXI79",
        "outputId": "1a599021-8f7b-4fe7-f463-cc853c7b6f7c"
      },
      "execution_count": 6,
      "outputs": [
        {
          "output_type": "execute_result",
          "data": {
            "text/plain": [
              "tensor(-12.)"
            ]
          },
          "metadata": {},
          "execution_count": 6
        }
      ]
    },
    {
      "cell_type": "markdown",
      "source": [
        "手計算で結果が正しいことを確認する。\n",
        "$$ y=2x^3-3x^2-12x+1$$\n",
        "$$ y'=6x^2-6x-12$$\n",
        "$$y'(1)=6-6-12=-12$$\n",
        "結果が正しいことを確認できた。"
      ],
      "metadata": {
        "id": "Xf95I2GTXKrX"
      }
    }
  ]
}