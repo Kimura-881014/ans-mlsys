{
  "cells": [
    {
      "cell_type": "code",
      "execution_count": null,
      "metadata": {
        "id": "AFEVK3xlQbs2"
      },
      "outputs": [],
      "source": [
        "import torch"
      ]
    },
    {
      "cell_type": "code",
      "execution_count": null,
      "metadata": {
        "id": "IiSsgETiQdrZ"
      },
      "outputs": [],
      "source": [
        "def my_func(x):\n",
        "  out = 2*x**3-3*x**2-12*x+1\n",
        "  return out"
      ]
    },
    {
      "cell_type": "code",
      "execution_count": null,
      "metadata": {
        "id": "s3b_dhKWQnBs"
      },
      "outputs": [],
      "source": [
        "x = torch.tensor(1.0, requires_grad=True)"
      ]
    },
    {
      "cell_type": "code",
      "execution_count": null,
      "metadata": {
        "id": "gITDObTCWKS5"
      },
      "outputs": [],
      "source": [
        "y = my_func(x)"
      ]
    },
    {
      "cell_type": "code",
      "execution_count": null,
      "metadata": {
        "id": "YGRhbPgYXD62"
      },
      "outputs": [],
      "source": [
        "y.backward()"
      ]
    },
    {
      "cell_type": "code",
      "execution_count": null,
      "metadata": {
        "colab": {
          "base_uri": "https://localhost:8080/"
        },
        "id": "6rhLIN-RXI79",
        "outputId": "1a599021-8f7b-4fe7-f463-cc853c7b6f7c"
      },
      "outputs": [
        {
          "data": {
            "text/plain": [
              "tensor(-12.)"
            ]
          },
          "execution_count": 6,
          "metadata": {},
          "output_type": "execute_result"
        }
      ],
      "source": [
        "x.grad"
      ]
    },
    {
      "cell_type": "markdown",
      "metadata": {
        "id": "Xf95I2GTXKrX"
      },
      "source": [
        "手計算で結果が正しいことを確認する。\n",
        "$$ y=2x^3-3x^2-12x+1$$\n",
        "$$ y'=6x^2-6x-12$$\n",
        "$$y'(1)=6-6-12=-12$$\n",
        "結果が正しいことを確認できた。"
      ]
    }
  ],
  "metadata": {
    "colab": {
      "provenance": []
    },
    "kernelspec": {
      "display_name": "Python 3",
      "name": "python3"
    },
    "language_info": {
      "name": "python"
    }
  },
  "nbformat": 4,
  "nbformat_minor": 0
}
