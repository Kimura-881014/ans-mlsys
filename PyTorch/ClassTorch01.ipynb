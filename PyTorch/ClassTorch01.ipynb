{
  "nbformat": 4,
  "nbformat_minor": 0,
  "metadata": {
    "colab": {
      "provenance": []
    },
    "kernelspec": {
      "name": "python3",
      "display_name": "Python 3"
    },
    "language_info": {
      "name": "python"
    }
  },
  "cells": [
    {
      "cell_type": "markdown",
      "source": [
        "1.データローダーでDatasetsを作成  \n",
        "2.classの定義 インスタンス化  \n",
        "3.loss関数、最適化手法を定義  \n",
        "4.for 文  \n",
        "- inputs,  outputsを定義\n",
        "- 勾配初期化　optimizer.zero_grad()\n",
        "- predict　model()\n",
        "- lossを計算　criterion()\n",
        "- 勾配を計算　loss.backward()\n",
        "- パラメータの更新　optimizer.step()"
      ],
      "metadata": {
        "id": "SLMIGdgkGoz-"
      }
    },
    {
      "cell_type": "code",
      "execution_count": 1,
      "metadata": {
        "id": "DpTCuB2b9-gu"
      },
      "outputs": [],
      "source": [
        "import torch\n",
        "import torch.nn as nn\n",
        "import numpy as np\n",
        "import matplotlib.pyplot as plt"
      ]
    },
    {
      "cell_type": "code",
      "source": [
        "input_size = 1\n",
        "output_size = 1\n",
        "num_epochs = 1000\n",
        "learning_rate = 0.002"
      ],
      "metadata": {
        "id": "6jJOWkhY-SzB"
      },
      "execution_count": 2,
      "outputs": []
    },
    {
      "cell_type": "code",
      "source": [
        "x_train = np.array([3.3, 4.4, 5.5, 6.71, 6.93, 4.168, 9.779, 6.182, 7.59, 2.167,\n",
        "                    7.042, 10.791, 5.313, 7.997, 3.1], dtype=np.float32)\n",
        "\n",
        "y_train = np.array([1.7, 2.76, 2.09, 3.19, 1.694, 1.573, 3.366, 2.596, 2.53, 1.221,\n",
        "                    2.827, 3.465, 1.65, 2.904, 1.3], dtype=np.float32)\n",
        "print(\"ORG:\", x_train)\n",
        "x_train = x_train.reshape(-1, 1)\n",
        "y_train = y_train.reshape(-1, 1)\n",
        "print(\"RESHAPE:\",x_train)"
      ],
      "metadata": {
        "colab": {
          "base_uri": "https://localhost:8080/"
        },
        "id": "XGnsB0UU-evK",
        "outputId": "c2c2d0e0-2fa7-4221-a69b-1430ddc46905"
      },
      "execution_count": 3,
      "outputs": [
        {
          "output_type": "stream",
          "name": "stdout",
          "text": [
            "ORG: [ 3.3    4.4    5.5    6.71   6.93   4.168  9.779  6.182  7.59   2.167\n",
            "  7.042 10.791  5.313  7.997  3.1  ]\n",
            "RESHAPE: [[ 3.3  ]\n",
            " [ 4.4  ]\n",
            " [ 5.5  ]\n",
            " [ 6.71 ]\n",
            " [ 6.93 ]\n",
            " [ 4.168]\n",
            " [ 9.779]\n",
            " [ 6.182]\n",
            " [ 7.59 ]\n",
            " [ 2.167]\n",
            " [ 7.042]\n",
            " [10.791]\n",
            " [ 5.313]\n",
            " [ 7.997]\n",
            " [ 3.1  ]]\n"
          ]
        }
      ]
    },
    {
      "cell_type": "code",
      "source": [
        "class Net(nn.Module):\n",
        "  def __init__(self, input_size, output_size):\n",
        "    super().__init__()\n",
        "    self.linear = nn.Linear(input_size, output_size)\n",
        "  def forward(self, x):\n",
        "    out = self.linear(x)\n",
        "    return out"
      ],
      "metadata": {
        "id": "xrr-qNY2-ijs"
      },
      "execution_count": 17,
      "outputs": []
    },
    {
      "cell_type": "code",
      "source": [
        "model = Net(input_size, output_size)"
      ],
      "metadata": {
        "id": "PR45cmf7_BWp"
      },
      "execution_count": 18,
      "outputs": []
    },
    {
      "cell_type": "code",
      "source": [
        "criterion = nn.MSELoss()\n",
        "optimizer = torch.optim.SGD(model.parameters(), lr=learning_rate)"
      ],
      "metadata": {
        "id": "N0Kdn6C8_Gyb"
      },
      "execution_count": 19,
      "outputs": []
    },
    {
      "cell_type": "code",
      "source": [
        "for epoch in range(num_epochs):\n",
        "  inputs = torch.tensor(x_train)\n",
        "  targets = torch.tensor(y_train)\n",
        "  optimizer.zero_grad()\n",
        "  outputs = model(inputs)\n",
        "  loss = criterion(outputs, targets)\n",
        "  loss.backward()\n",
        "  optimizer.step()\n",
        "  if (epoch + 1) % 100 == 0:\n",
        "        print('Epoch [%d/%d], Loss: %.4f' % (epoch + 1, num_epochs, loss.item()))\n",
        "# save the model\n",
        "torch.save(model.state_dict(), 'model.pkl')"
      ],
      "metadata": {
        "colab": {
          "base_uri": "https://localhost:8080/"
        },
        "id": "79ytMNjE_UQA",
        "outputId": "b0c2be46-e728-433d-cf9f-8e564d67a1bd"
      },
      "execution_count": 20,
      "outputs": [
        {
          "output_type": "stream",
          "name": "stdout",
          "text": [
            "Epoch [100/1000], Loss: 0.2610\n",
            "Epoch [200/1000], Loss: 0.2520\n",
            "Epoch [300/1000], Loss: 0.2439\n",
            "Epoch [400/1000], Loss: 0.2365\n",
            "Epoch [500/1000], Loss: 0.2299\n",
            "Epoch [600/1000], Loss: 0.2240\n",
            "Epoch [700/1000], Loss: 0.2186\n",
            "Epoch [800/1000], Loss: 0.2138\n",
            "Epoch [900/1000], Loss: 0.2094\n",
            "Epoch [1000/1000], Loss: 0.2054\n"
          ]
        }
      ]
    },
    {
      "cell_type": "code",
      "source": [
        "predicted = model(torch.tensor(x_train)).detach().numpy()\n",
        "plt.plot(x_train, y_train, 'ro', label='Original data')\n",
        "plt.plot(x_train, predicted, label='Fitted line')\n",
        "plt.legend()\n",
        "plt.show()"
      ],
      "metadata": {
        "colab": {
          "base_uri": "https://localhost:8080/",
          "height": 430
        },
        "id": "2Pe5iPocC16g",
        "outputId": "c3af3975-cc97-4629-ac16-a8984757a574"
      },
      "execution_count": 29,
      "outputs": [
        {
          "output_type": "display_data",
          "data": {
            "text/plain": [
              "<Figure size 640x480 with 1 Axes>"
            ],
            "image/png": "[encoded data removed]"
          },
          "metadata": {}
        }
      ]
    },
    {
      "cell_type": "code",
      "source": [],
      "metadata": {
        "id": "MlYG0kUJGONM"
      },
      "execution_count": null,
      "outputs": []
    }
  ]
}