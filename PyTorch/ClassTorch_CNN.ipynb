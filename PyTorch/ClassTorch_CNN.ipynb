{
  "nbformat": 4,
  "nbformat_minor": 0,
  "metadata": {
    "colab": {
      "provenance": [],
      "gpuType": "T4"
    },
    "kernelspec": {
      "name": "python3",
      "display_name": "Python 3"
    },
    "language_info": {
      "name": "python"
    },
    "accelerator": "GPU"
  },
  "cells": [
    {
      "cell_type": "code",
      "execution_count": 1,
      "metadata": {
        "id": "Q0sKLq9gSc2S"
      },
      "outputs": [],
      "source": [
        "cuda = \"cuda:0\"\n",
        "import numpy as np\n",
        "import torch\n",
        "import torch.nn as nn\n",
        "import torchvision.datasets as dsets\n",
        "import torchvision.transforms as transforms\n",
        "from torch.utils.data import DataLoader\n",
        "from torch import optim"
      ]
    },
    {
      "cell_type": "code",
      "source": [
        "num_epoch = 10\n",
        "batch_size = 128\n",
        "learning_rate = 0.01"
      ],
      "metadata": {
        "id": "V69p6T3BWlQK"
      },
      "execution_count": 2,
      "outputs": []
    },
    {
      "cell_type": "code",
      "source": [
        "device = torch.device(cuda if torch.cuda.is_available() else \"cpu\")\n",
        "device"
      ],
      "metadata": {
        "colab": {
          "base_uri": "https://localhost:8080/"
        },
        "id": "xwg64dKUWrnD",
        "outputId": "4d785a21-214c-4c5e-b5eb-3f4fb2439907"
      },
      "execution_count": 3,
      "outputs": [
        {
          "output_type": "execute_result",
          "data": {
            "text/plain": [
              "device(type='cuda', index=0)"
            ]
          },
          "metadata": {},
          "execution_count": 3
        }
      ]
    },
    {
      "cell_type": "code",
      "source": [
        "train_dataset = dsets.MNIST(root='./mydata',train=True,transform=transforms.ToTensor(),download=True)\n",
        "test_dataset = dsets.MNIST(root='./mydata',train=False,transform=transforms.ToTensor(),download=True)"
      ],
      "metadata": {
        "colab": {
          "base_uri": "https://localhost:8080/"
        },
        "id": "ynW25gwUW4yM",
        "outputId": "02191d52-f611-4294-ba2d-551943489182"
      },
      "execution_count": 4,
      "outputs": [
        {
          "output_type": "stream",
          "name": "stdout",
          "text": [
            "Downloading http://yann.lecun.com/exdb/mnist/train-images-idx3-ubyte.gz\n",
            "Downloading http://yann.lecun.com/exdb/mnist/train-images-idx3-ubyte.gz to ./mydata/MNIST/raw/train-images-idx3-ubyte.gz\n"
          ]
        },
        {
          "output_type": "stream",
          "name": "stderr",
          "text": [
            "100%|██████████| 9912422/9912422 [00:00<00:00, 93485075.80it/s]\n"
          ]
        },
        {
          "output_type": "stream",
          "name": "stdout",
          "text": [
            "Extracting ./mydata/MNIST/raw/train-images-idx3-ubyte.gz to ./mydata/MNIST/raw\n",
            "\n",
            "Downloading http://yann.lecun.com/exdb/mnist/train-labels-idx1-ubyte.gz\n",
            "Downloading http://yann.lecun.com/exdb/mnist/train-labels-idx1-ubyte.gz to ./mydata/MNIST/raw/train-labels-idx1-ubyte.gz\n"
          ]
        },
        {
          "output_type": "stream",
          "name": "stderr",
          "text": [
            "100%|██████████| 28881/28881 [00:00<00:00, 103446365.35it/s]\n"
          ]
        },
        {
          "output_type": "stream",
          "name": "stdout",
          "text": [
            "Extracting ./mydata/MNIST/raw/train-labels-idx1-ubyte.gz to ./mydata/MNIST/raw\n",
            "\n",
            "Downloading http://yann.lecun.com/exdb/mnist/t10k-images-idx3-ubyte.gz\n",
            "Downloading http://yann.lecun.com/exdb/mnist/t10k-images-idx3-ubyte.gz to ./mydata/MNIST/raw/t10k-images-idx3-ubyte.gz\n"
          ]
        },
        {
          "output_type": "stream",
          "name": "stderr",
          "text": [
            "100%|██████████| 1648877/1648877 [00:00<00:00, 22547971.91it/s]\n"
          ]
        },
        {
          "output_type": "stream",
          "name": "stdout",
          "text": [
            "Extracting ./mydata/MNIST/raw/t10k-images-idx3-ubyte.gz to ./mydata/MNIST/raw\n",
            "\n",
            "Downloading http://yann.lecun.com/exdb/mnist/t10k-labels-idx1-ubyte.gz\n",
            "Downloading http://yann.lecun.com/exdb/mnist/t10k-labels-idx1-ubyte.gz to ./mydata/MNIST/raw/t10k-labels-idx1-ubyte.gz\n"
          ]
        },
        {
          "output_type": "stream",
          "name": "stderr",
          "text": [
            "100%|██████████| 4542/4542 [00:00<00:00, 1137684.61it/s]\n"
          ]
        },
        {
          "output_type": "stream",
          "name": "stdout",
          "text": [
            "Extracting ./mydata/MNIST/raw/t10k-labels-idx1-ubyte.gz to ./mydata/MNIST/raw\n",
            "\n"
          ]
        }
      ]
    },
    {
      "cell_type": "code",
      "source": [
        "len(test_dataset)"
      ],
      "metadata": {
        "colab": {
          "base_uri": "https://localhost:8080/"
        },
        "id": "jGEt3mXKX08Y",
        "outputId": "b1a3bde5-9a5a-4e7d-f44d-380a176b9805"
      },
      "execution_count": 5,
      "outputs": [
        {
          "output_type": "execute_result",
          "data": {
            "text/plain": [
              "10000"
            ]
          },
          "metadata": {},
          "execution_count": 5
        }
      ]
    },
    {
      "cell_type": "code",
      "source": [
        "train_loader = DataLoader(train_dataset,batch_size=batch_size,shuffle=True)\n",
        "test_loader = DataLoader(test_dataset,batch_size=len(test_dataset),shuffle=False)"
      ],
      "metadata": {
        "id": "8e_iQPcrXSsL"
      },
      "execution_count": 6,
      "outputs": []
    },
    {
      "cell_type": "markdown",
      "source": [
        "次のように変数を定める\n",
        "- 入力画像高さ,幅: $I_h$, $I_w$\n",
        "- フィルタ高さ,幅: $F_h$, $F_w$\n",
        "- パディング幅: $D$\n",
        "- ストライド幅: $S$\n",
        "\n",
        "すると、出力画像の高さ$O_h$と幅$O_w$は次のように表される\n",
        "$$\n",
        "O_h = \\frac{I_h-F_h+2D}{S}+1\\\\\n",
        "O_w = \\frac{I_w-F_w+2D}{S}+1\n",
        "$$\n",
        "\n",
        "\n",
        "実際に実装する際は少しずつレイヤを組んでいって　next(iter(train_loader)) をto(device)で.size()で実際にサイズを確認しながらが良い"
      ],
      "metadata": {
        "id": "Uq3zcf8A8pFY"
      }
    },
    {
      "cell_type": "code",
      "source": [
        "class CNN(nn.Module):\n",
        "  def __init__(self):\n",
        "    super().__init__()\n",
        "    self.layer1 = nn.Sequential(\n",
        "        nn.Conv2d(1,16, kernel_size=5, padding=2), # torch.Size([128, 16, 28, 28])\n",
        "        nn.BatchNorm2d(16),                        # torch.Size([128, 16, 28, 28])\n",
        "        nn.ReLU(),                                 # torch.Size([128, 16, 28, 28])\n",
        "        nn.MaxPool2d(2))                           # torch.Size([128, 16, 14, 14])\n",
        "\n",
        "                                                   # [バッチサイズ, チャネル数, 行数, 列数]\n",
        "    self.layer2 = nn.Sequential(\n",
        "        nn.Conv2d(16,32,kernel_size=5,padding=2),  # torch.Size([128, 32, 14, 14])\n",
        "        nn.BatchNorm2d(32),                        # torch.Size([128, 32, 14, 14])\n",
        "        nn.ReLU(),                                 # torch.Size([128, 32, 14, 14])\n",
        "        nn.MaxPool2d(2))                           # torch.Size([128, 32, 7, 7])\n",
        "\n",
        "    self.fc = nn.Linear(32*7*7, 10)\n",
        "\n",
        "  def forward(self, x):\n",
        "    x = self.layer1(x)\n",
        "    x = self.layer2(x)\n",
        "    x = x.view(-1, 32*7*7)\n",
        "    x = self.fc(x)\n",
        "    return x\n",
        "\n",
        "model = CNN().to(device)\n",
        "model"
      ],
      "metadata": {
        "colab": {
          "base_uri": "https://localhost:8080/"
        },
        "id": "4T1Ug-p8Zg6c",
        "outputId": "f263119e-afdd-494a-cb15-77974c3b8501"
      },
      "execution_count": 7,
      "outputs": [
        {
          "output_type": "execute_result",
          "data": {
            "text/plain": [
              "CNN(\n",
              "  (layer1): Sequential(\n",
              "    (0): Conv2d(1, 16, kernel_size=(5, 5), stride=(1, 1), padding=(2, 2))\n",
              "    (1): BatchNorm2d(16, eps=1e-05, momentum=0.1, affine=True, track_running_stats=True)\n",
              "    (2): ReLU()\n",
              "    (3): MaxPool2d(kernel_size=2, stride=2, padding=0, dilation=1, ceil_mode=False)\n",
              "  )\n",
              "  (layer2): Sequential(\n",
              "    (0): Conv2d(16, 32, kernel_size=(5, 5), stride=(1, 1), padding=(2, 2))\n",
              "    (1): BatchNorm2d(32, eps=1e-05, momentum=0.1, affine=True, track_running_stats=True)\n",
              "    (2): ReLU()\n",
              "    (3): MaxPool2d(kernel_size=2, stride=2, padding=0, dilation=1, ceil_mode=False)\n",
              "  )\n",
              "  (fc): Linear(in_features=1568, out_features=10, bias=True)\n",
              ")"
            ]
          },
          "metadata": {},
          "execution_count": 7
        }
      ]
    },
    {
      "cell_type": "code",
      "source": [
        "images, labels = next(iter(train_loader))\n",
        "images.size()"
      ],
      "metadata": {
        "colab": {
          "base_uri": "https://localhost:8080/"
        },
        "id": "1MUKcEWiMa4a",
        "outputId": "dab288cb-15b5-4588-892b-325a99d98a29"
      },
      "execution_count": 8,
      "outputs": [
        {
          "output_type": "execute_result",
          "data": {
            "text/plain": [
              "torch.Size([128, 1, 28, 28])"
            ]
          },
          "metadata": {},
          "execution_count": 8
        }
      ]
    },
    {
      "cell_type": "code",
      "source": [
        "images = images.to(device)\n",
        "model(images).size()"
      ],
      "metadata": {
        "colab": {
          "base_uri": "https://localhost:8080/"
        },
        "id": "N3s89nwoMmH5",
        "outputId": "75c9ef76-4c3d-4c15-93e7-e04a19a2de43"
      },
      "execution_count": 9,
      "outputs": [
        {
          "output_type": "execute_result",
          "data": {
            "text/plain": [
              "torch.Size([128, 10])"
            ]
          },
          "metadata": {},
          "execution_count": 9
        }
      ]
    },
    {
      "cell_type": "code",
      "source": [
        "model(images)[0].detach()"
      ],
      "metadata": {
        "colab": {
          "base_uri": "https://localhost:8080/"
        },
        "id": "NsQaKeY0QEVL",
        "outputId": "5085aaa2-21d8-452a-9ec0-bc1fc6427dac"
      },
      "execution_count": 10,
      "outputs": [
        {
          "output_type": "execute_result",
          "data": {
            "text/plain": [
              "tensor([ 0.3730,  0.0037,  0.6374, -0.8741, -0.7611, -0.7281, -0.4933, -0.4922,\n",
              "        -0.3376, -0.1844], device='cuda:0')"
            ]
          },
          "metadata": {},
          "execution_count": 10
        }
      ]
    },
    {
      "cell_type": "code",
      "source": [
        "torch.argmax(model(images)[0].detach())"
      ],
      "metadata": {
        "colab": {
          "base_uri": "https://localhost:8080/"
        },
        "id": "lq3nuoM8Mxje",
        "outputId": "16a6ab50-f888-43e3-fd61-4dba176e5e8c"
      },
      "execution_count": 11,
      "outputs": [
        {
          "output_type": "execute_result",
          "data": {
            "text/plain": [
              "tensor(2, device='cuda:0')"
            ]
          },
          "metadata": {},
          "execution_count": 11
        }
      ]
    },
    {
      "cell_type": "code",
      "source": [
        "predict = model(images).max(1)[1]\n",
        "labels = labels.to(device)\n",
        "predict, labels\n",
        "predict.eq(labels.view_as(predict)).sum().item()"
      ],
      "metadata": {
        "colab": {
          "base_uri": "https://localhost:8080/"
        },
        "id": "j9UQKRAPbdx1",
        "outputId": "3ac82860-f433-4533-9193-521f8808aef8"
      },
      "execution_count": 12,
      "outputs": [
        {
          "output_type": "execute_result",
          "data": {
            "text/plain": [
              "4"
            ]
          },
          "metadata": {},
          "execution_count": 12
        }
      ]
    },
    {
      "cell_type": "code",
      "source": [],
      "metadata": {
        "id": "BOG_mj31PrkW"
      },
      "execution_count": 12,
      "outputs": []
    },
    {
      "cell_type": "code",
      "source": [
        "criterion = nn.CrossEntropyLoss()\n",
        "optimizer = optim.Adam(params=model.parameters(), lr=learning_rate)"
      ],
      "metadata": {
        "id": "KEOxyuOiQunG"
      },
      "execution_count": 13,
      "outputs": []
    },
    {
      "cell_type": "code",
      "source": [
        "def train(train_loader):\n",
        "  model.train()\n",
        "  running_loss = 0\n",
        "  for batch_idx, (images, labels) in enumerate(train_loader):\n",
        "    images = images.to(device)\n",
        "    labels = labels.to(device)\n",
        "    optimizer.zero_grad()\n",
        "    outputs = model(images)\n",
        "    loss = criterion(outputs, labels)\n",
        "    running_loss += loss.item()\n",
        "    loss.backward()\n",
        "    optimizer.step()\n",
        "  train_loss = running_loss / len(train_loader)\n",
        "  return train_loss"
      ],
      "metadata": {
        "id": "-3F0HEzNRKAc"
      },
      "execution_count": 14,
      "outputs": []
    },
    {
      "cell_type": "code",
      "source": [
        "def valid(test_loader):\n",
        "  model.eval()\n",
        "  running_loss = 0\n",
        "  correct = 0\n",
        "  total = 0\n",
        "  with torch.no_grad():\n",
        "    for batch_idx, (images, labels) in enumerate(test_loader):\n",
        "      images = images.to(device)\n",
        "      labels = labels.to(device)\n",
        "      outputs = model(images)\n",
        "      loss = criterion(outputs, labels)\n",
        "      running_loss += loss.item()\n",
        "      predicted = outputs.max(1, keepdim=True)[1]\n",
        "      correct += predicted.eq(labels.view_as(predicted)).sum().item() # ここで精度を計算\n",
        "      total += labels.size(0)\n",
        "  val_loss = running_loss / len(test_loader)\n",
        "  val_acc = correct / total\n",
        "  return val_loss, val_acc"
      ],
      "metadata": {
        "id": "JVw4hggjTFpP"
      },
      "execution_count": 15,
      "outputs": []
    },
    {
      "cell_type": "code",
      "source": [
        "record_train_loss = []\n",
        "record_test_loss = []\n",
        "record_test_acc = []\n",
        "\n",
        "for epoch in range(num_epoch):\n",
        "  train_loss = train(train_loader)\n",
        "  test_loss, test_acc = valid(test_loader)\n",
        "  print('Epoch:',epoch,'train_loss:',train_loss,'test_loss:',test_loss,'test_acc:',test_acc)\n",
        "  record_train_loss.append(train_loss)\n",
        "  record_test_loss.append(test_loss)\n",
        "  record_test_acc.append(test_acc)\n",
        "\n",
        "# save the trained model\n",
        "np.save('loss_list.npy', np.array(record_train_loss))\n",
        "np.save('val_loss_list.npy', np.array(record_test_loss))\n",
        "np.save('val_acc_list.npy', np.array(record_test_acc))\n",
        "torch.save(model.state_dict(), 'cnn.pkl')"
      ],
      "metadata": {
        "colab": {
          "base_uri": "https://localhost:8080/"
        },
        "id": "A_vNKNP5drzT",
        "outputId": "79632f80-3615-4071-e9dd-5cf081aa3ee1"
      },
      "execution_count": 16,
      "outputs": [
        {
          "output_type": "stream",
          "name": "stdout",
          "text": [
            "Epoch: 0 train_loss: 0.273692449312538 test_loss: 0.05639129504561424 test_acc: 0.9821\n",
            "Epoch: 1 train_loss: 0.05175568214230446 test_loss: 0.05477799102663994 test_acc: 0.9824\n",
            "Epoch: 2 train_loss: 0.0381467139325055 test_loss: 0.04289637506008148 test_acc: 0.9868\n",
            "Epoch: 3 train_loss: 0.02853502333164215 test_loss: 0.033440761268138885 test_acc: 0.9894\n",
            "Epoch: 4 train_loss: 0.026725393819383412 test_loss: 0.03195805475115776 test_acc: 0.9904\n",
            "Epoch: 5 train_loss: 0.021891999196249748 test_loss: 0.03590867668390274 test_acc: 0.9887\n",
            "Epoch: 6 train_loss: 0.021600486486400568 test_loss: 0.05592169240117073 test_acc: 0.985\n",
            "Epoch: 7 train_loss: 0.01904615502972563 test_loss: 0.03478219732642174 test_acc: 0.9913\n",
            "Epoch: 8 train_loss: 0.017126467952473478 test_loss: 0.037910096347332 test_acc: 0.9892\n",
            "Epoch: 9 train_loss: 0.015806682836966835 test_loss: 0.03871455043554306 test_acc: 0.9891\n"
          ]
        }
      ]
    },
    {
      "cell_type": "code",
      "source": [
        "import numpy as np\n",
        "import matplotlib.pyplot as plt\n",
        "\n",
        "plt.figure()\n",
        "plt.plot(range(num_epoch), record_train_loss, 'r-',label='train_loss')\n",
        "plt.plot(range(num_epoch), record_test_loss, 'b-',label='test_loss')\n",
        "plt.legend()\n",
        "plt.xlabel('epoch')\n",
        "plt.ylabel('loss')\n",
        "plt.grid()\n",
        "\n",
        "plt.figure()\n",
        "plt.plot(range(num_epoch), record_test_acc, 'g-',label='test_acc')\n",
        "plt.legend()\n",
        "plt.xlabel('epoch')\n",
        "plt.ylabel('loss')\n",
        "plt.grid()"
      ],
      "metadata": {
        "colab": {
          "base_uri": "https://localhost:8080/",
          "height": 881
        },
        "id": "qgC7-NLDd7IP",
        "outputId": "373423d5-76f3-4506-9d28-57237700804c"
      },
      "execution_count": 17,
      "outputs": [
        {
          "output_type": "display_data",
          "data": {
            "text/plain": [
              "<Figure size 640x480 with 1 Axes>"
            ],
            "image/png": "[encoded data removed]"
          },
          "metadata": {}
        },
        {
          "output_type": "display_data",
          "data": {
            "text/plain": [
              "<Figure size 640x480 with 1 Axes>"
            ],
            "image/png": "[encoded data removed]"
          },
          "metadata": {}
        }
      ]
    },
    {
      "cell_type": "code",
      "source": [],
      "metadata": {
        "id": "KjKHJu3vhnfZ"
      },
      "execution_count": 17,
      "outputs": []
    }
  ]
}