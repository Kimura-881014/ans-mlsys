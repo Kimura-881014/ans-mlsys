{
  "nbformat": 4,
  "nbformat_minor": 0,
  "metadata": {
    "colab": {
      "provenance": [],
      "toc_visible": true,
      "gpuType": "T4"
    },
    "kernelspec": {
      "name": "python3",
      "display_name": "Python 3"
    },
    "language_info": {
      "name": "python"
    },
    "accelerator": "GPU"
  },
  "cells": [
    {
      "cell_type": "code",
      "execution_count": 2,
      "metadata": {
        "colab": {
          "base_uri": "https://localhost:8080/",
          "height": 374
        },
        "id": "7qWczkl15dv5",
        "outputId": "f89663f7-4c87-4db4-f486-936a569a866c"
      },
      "outputs": [
        {
          "output_type": "display_data",
          "data": {
            "text/plain": [
              "<Figure size 1000x400 with 10 Axes>"
            ],
            "image/png": "[encoded data removed]"
          },
          "metadata": {}
        },
        {
          "output_type": "stream",
          "name": "stdout",
          "text": [
            "データの形状 (1797, 64)\n",
            "ラベル [0 1 2 3 4 5 6 7 8 9]\n"
          ]
        }
      ],
      "source": [
        "import numpy as np\n",
        "import matplotlib.pyplot as plt\n",
        "from sklearn import datasets\n",
        "\n",
        "digits_data = datasets.load_digits()\n",
        "n_img = 10\n",
        "plt.figure(figsize=(10,4))\n",
        "for i in range(n_img):\n",
        "  ax = plt.subplot(2,5,i+1)\n",
        "  plt.imshow(digits_data.data[i].reshape(8,8), cmap=\"Greys_r\")\n",
        "  ax.get_xaxis().set_visible(False)\n",
        "  ax.get_yaxis().set_visible(False)\n",
        "plt.show()\n",
        "print('データの形状', digits_data.data.shape)\n",
        "print('ラベル', digits_data.target[:n_img])"
      ]
    },
    {
      "cell_type": "code",
      "source": [
        "digits_data"
      ],
      "metadata": {
        "colab": {
          "base_uri": "https://localhost:8080/"
        },
        "id": "Q3pxzRMp6i-C",
        "outputId": "230a8f37-9423-4527-fbbc-c51d3f35236f"
      },
      "execution_count": 3,
      "outputs": [
        {
          "output_type": "execute_result",
          "data": {
            "text/plain": [
              "{'data': array([[ 0.,  0.,  5., ...,  0.,  0.,  0.],\n",
              "        [ 0.,  0.,  0., ..., 10.,  0.,  0.],\n",
              "        [ 0.,  0.,  0., ..., 16.,  9.,  0.],\n",
              "        ...,\n",
              "        [ 0.,  0.,  1., ...,  6.,  0.,  0.],\n",
              "        [ 0.,  0.,  2., ..., 12.,  0.,  0.],\n",
              "        [ 0.,  0., 10., ..., 12.,  1.,  0.]]),\n",
              " 'target': array([0, 1, 2, ..., 8, 9, 8]),\n",
              " 'frame': None,\n",
              " 'feature_names': ['pixel_0_0',\n",
              "  'pixel_0_1',\n",
              "  'pixel_0_2',\n",
              "  'pixel_0_3',\n",
              "  'pixel_0_4',\n",
              "  'pixel_0_5',\n",
              "  'pixel_0_6',\n",
              "  'pixel_0_7',\n",
              "  'pixel_1_0',\n",
              "  'pixel_1_1',\n",
              "  'pixel_1_2',\n",
              "  'pixel_1_3',\n",
              "  'pixel_1_4',\n",
              "  'pixel_1_5',\n",
              "  'pixel_1_6',\n",
              "  'pixel_1_7',\n",
              "  'pixel_2_0',\n",
              "  'pixel_2_1',\n",
              "  'pixel_2_2',\n",
              "  'pixel_2_3',\n",
              "  'pixel_2_4',\n",
              "  'pixel_2_5',\n",
              "  'pixel_2_6',\n",
              "  'pixel_2_7',\n",
              "  'pixel_3_0',\n",
              "  'pixel_3_1',\n",
              "  'pixel_3_2',\n",
              "  'pixel_3_3',\n",
              "  'pixel_3_4',\n",
              "  'pixel_3_5',\n",
              "  'pixel_3_6',\n",
              "  'pixel_3_7',\n",
              "  'pixel_4_0',\n",
              "  'pixel_4_1',\n",
              "  'pixel_4_2',\n",
              "  'pixel_4_3',\n",
              "  'pixel_4_4',\n",
              "  'pixel_4_5',\n",
              "  'pixel_4_6',\n",
              "  'pixel_4_7',\n",
              "  'pixel_5_0',\n",
              "  'pixel_5_1',\n",
              "  'pixel_5_2',\n",
              "  'pixel_5_3',\n",
              "  'pixel_5_4',\n",
              "  'pixel_5_5',\n",
              "  'pixel_5_6',\n",
              "  'pixel_5_7',\n",
              "  'pixel_6_0',\n",
              "  'pixel_6_1',\n",
              "  'pixel_6_2',\n",
              "  'pixel_6_3',\n",
              "  'pixel_6_4',\n",
              "  'pixel_6_5',\n",
              "  'pixel_6_6',\n",
              "  'pixel_6_7',\n",
              "  'pixel_7_0',\n",
              "  'pixel_7_1',\n",
              "  'pixel_7_2',\n",
              "  'pixel_7_3',\n",
              "  'pixel_7_4',\n",
              "  'pixel_7_5',\n",
              "  'pixel_7_6',\n",
              "  'pixel_7_7'],\n",
              " 'target_names': array([0, 1, 2, 3, 4, 5, 6, 7, 8, 9]),\n",
              " 'images': array([[[ 0.,  0.,  5., ...,  1.,  0.,  0.],\n",
              "         [ 0.,  0., 13., ..., 15.,  5.,  0.],\n",
              "         [ 0.,  3., 15., ..., 11.,  8.,  0.],\n",
              "         ...,\n",
              "         [ 0.,  4., 11., ..., 12.,  7.,  0.],\n",
              "         [ 0.,  2., 14., ..., 12.,  0.,  0.],\n",
              "         [ 0.,  0.,  6., ...,  0.,  0.,  0.]],\n",
              " \n",
              "        [[ 0.,  0.,  0., ...,  5.,  0.,  0.],\n",
              "         [ 0.,  0.,  0., ...,  9.,  0.,  0.],\n",
              "         [ 0.,  0.,  3., ...,  6.,  0.,  0.],\n",
              "         ...,\n",
              "         [ 0.,  0.,  1., ...,  6.,  0.,  0.],\n",
              "         [ 0.,  0.,  1., ...,  6.,  0.,  0.],\n",
              "         [ 0.,  0.,  0., ..., 10.,  0.,  0.]],\n",
              " \n",
              "        [[ 0.,  0.,  0., ..., 12.,  0.,  0.],\n",
              "         [ 0.,  0.,  3., ..., 14.,  0.,  0.],\n",
              "         [ 0.,  0.,  8., ..., 16.,  0.,  0.],\n",
              "         ...,\n",
              "         [ 0.,  9., 16., ...,  0.,  0.,  0.],\n",
              "         [ 0.,  3., 13., ..., 11.,  5.,  0.],\n",
              "         [ 0.,  0.,  0., ..., 16.,  9.,  0.]],\n",
              " \n",
              "        ...,\n",
              " \n",
              "        [[ 0.,  0.,  1., ...,  1.,  0.,  0.],\n",
              "         [ 0.,  0., 13., ...,  2.,  1.,  0.],\n",
              "         [ 0.,  0., 16., ..., 16.,  5.,  0.],\n",
              "         ...,\n",
              "         [ 0.,  0., 16., ..., 15.,  0.,  0.],\n",
              "         [ 0.,  0., 15., ..., 16.,  0.,  0.],\n",
              "         [ 0.,  0.,  2., ...,  6.,  0.,  0.]],\n",
              " \n",
              "        [[ 0.,  0.,  2., ...,  0.,  0.,  0.],\n",
              "         [ 0.,  0., 14., ..., 15.,  1.,  0.],\n",
              "         [ 0.,  4., 16., ..., 16.,  7.,  0.],\n",
              "         ...,\n",
              "         [ 0.,  0.,  0., ..., 16.,  2.,  0.],\n",
              "         [ 0.,  0.,  4., ..., 16.,  2.,  0.],\n",
              "         [ 0.,  0.,  5., ..., 12.,  0.,  0.]],\n",
              " \n",
              "        [[ 0.,  0., 10., ...,  1.,  0.,  0.],\n",
              "         [ 0.,  2., 16., ...,  1.,  0.,  0.],\n",
              "         [ 0.,  0., 15., ..., 15.,  0.,  0.],\n",
              "         ...,\n",
              "         [ 0.,  4., 16., ..., 16.,  6.,  0.],\n",
              "         [ 0.,  8., 16., ..., 16.,  8.,  0.],\n",
              "         [ 0.,  1.,  8., ..., 12.,  1.,  0.]]]),\n",
              " 'DESCR': \".. _digits_dataset:\\n\\nOptical recognition of handwritten digits dataset\\n--------------------------------------------------\\n\\n**Data Set Characteristics:**\\n\\n    :Number of Instances: 1797\\n    :Number of Attributes: 64\\n    :Attribute Information: 8x8 image of integer pixels in the range 0..16.\\n    :Missing Attribute Values: None\\n    :Creator: E. Alpaydin (alpaydin '@' boun.edu.tr)\\n    :Date: July; 1998\\n\\nThis is a copy of the test set of the UCI ML hand-written digits datasets\\nhttps://archive.ics.uci.edu/ml/datasets/Optical+Recognition+of+Handwritten+Digits\\n\\nThe data set contains images of hand-written digits: 10 classes where\\neach class refers to a digit.\\n\\nPreprocessing programs made available by NIST were used to extract\\nnormalized bitmaps of handwritten digits from a preprinted form. From a\\ntotal of 43 people, 30 contributed to the training set and different 13\\nto the test set. 32x32 bitmaps are divided into nonoverlapping blocks of\\n4x4 and the number of on pixels are counted in each block. This generates\\nan input matrix of 8x8 where each element is an integer in the range\\n0..16. This reduces dimensionality and gives invariance to small\\ndistortions.\\n\\nFor info on NIST preprocessing routines, see M. D. Garris, J. L. Blue, G.\\nT. Candela, D. L. Dimmick, J. Geist, P. J. Grother, S. A. Janet, and C.\\nL. Wilson, NIST Form-Based Handprint Recognition System, NISTIR 5469,\\n1994.\\n\\n.. topic:: References\\n\\n  - C. Kaynak (1995) Methods of Combining Multiple Classifiers and Their\\n    Applications to Handwritten Digit Recognition, MSc Thesis, Institute of\\n    Graduate Studies in Science and Engineering, Bogazici University.\\n  - E. Alpaydin, C. Kaynak (1998) Cascading Classifiers, Kybernetika.\\n  - Ken Tang and Ponnuthurai N. Suganthan and Xi Yao and A. Kai Qin.\\n    Linear dimensionalityreduction using relevance weighted LDA. School of\\n    Electrical and Electronic Engineering Nanyang Technological University.\\n    2005.\\n  - Claudio Gentile. A New Approximate Maximal Margin Classification\\n    Algorithm. NIPS. 2000.\\n\"}"
            ]
          },
          "metadata": {},
          "execution_count": 3
        }
      ]
    },
    {
      "cell_type": "code",
      "source": [
        "import torch\n",
        "import torch.nn as nn\n",
        "import torch.nn.functional as F\n",
        "import torch.optim as optim\n",
        "from torch.utils.data import dataloader, TensorDataset"
      ],
      "metadata": {
        "id": "VlggDdGy6y1v"
      },
      "execution_count": 4,
      "outputs": []
    },
    {
      "cell_type": "code",
      "source": [
        "from sklearn.model_selection import train_test_split"
      ],
      "metadata": {
        "id": "EOk_ZHRj7cqd"
      },
      "execution_count": 5,
      "outputs": []
    },
    {
      "cell_type": "code",
      "source": [
        "digit_images = digits_data.data\n",
        "labels = digits_data.target"
      ],
      "metadata": {
        "id": "MgmAAP7b7ie9"
      },
      "execution_count": 6,
      "outputs": []
    },
    {
      "cell_type": "code",
      "source": [
        "x_train, x_test, t_train, t_test = train_test_split(digit_images, labels)"
      ],
      "metadata": {
        "id": "UrR2ZZi47tcs"
      },
      "execution_count": 23,
      "outputs": []
    },
    {
      "cell_type": "code",
      "source": [
        "x_train = torch.FloatTensor(x_train)\n",
        "t_train = torch.LongTensor(t_train)\n",
        "x_test = torch.FloatTensor(x_test)\n",
        "t_test = torch.LongTensor(t_test)"
      ],
      "metadata": {
        "id": "wcxt9rtG75rC"
      },
      "execution_count": 24,
      "outputs": []
    },
    {
      "cell_type": "markdown",
      "source": [
        "nnモジュールのSequentialクラスを用いる"
      ],
      "metadata": {
        "id": "MGXg3cYw8M51"
      }
    },
    {
      "cell_type": "code",
      "source": [
        "net = nn.Sequential(\n",
        "    nn.Linear(64,32),\n",
        "    nn.ReLU(),\n",
        "    nn.Linear(32, 16),\n",
        "    nn.ReLU(),\n",
        "    nn.Linear(16,10)\n",
        ")\n",
        "print(net)"
      ],
      "metadata": {
        "colab": {
          "base_uri": "https://localhost:8080/"
        },
        "id": "vTvHp67y8cNj",
        "outputId": "345dd36b-9548-40e2-dcbd-8dd93b113e0b"
      },
      "execution_count": 61,
      "outputs": [
        {
          "output_type": "stream",
          "name": "stdout",
          "text": [
            "Sequential(\n",
            "  (0): Linear(in_features=64, out_features=32, bias=True)\n",
            "  (1): ReLU()\n",
            "  (2): Linear(in_features=32, out_features=16, bias=True)\n",
            "  (3): ReLU()\n",
            "  (4): Linear(in_features=16, out_features=10, bias=True)\n",
            ")\n"
          ]
        }
      ]
    },
    {
      "cell_type": "code",
      "source": [
        "criterion = nn.CrossEntropyLoss()\n",
        "optimizer = optim.SGD(params=net.parameters(), lr=0.01)"
      ],
      "metadata": {
        "id": "dsfGy1QV84Si"
      },
      "execution_count": 62,
      "outputs": []
    },
    {
      "cell_type": "code",
      "source": [
        "record_loss_train = []\n",
        "record_loss_test = []"
      ],
      "metadata": {
        "id": "7EGiPnIm9o4u"
      },
      "execution_count": 63,
      "outputs": []
    },
    {
      "cell_type": "code",
      "source": [
        "for epoch in range(1000):\n",
        "  optimizer.zero_grad()\n",
        "  y_train = net(x_train)\n",
        "  y_test = net(x_test)\n",
        "  loss_train = criterion(y_train, t_train)\n",
        "  loss_test = criterion(y_test, t_test)\n",
        "  record_loss_train.append(loss_train.data)\n",
        "  record_loss_test.append(loss_test.data)\n",
        "  loss_train.backward()\n",
        "  optimizer.step()\n",
        "  if epoch%100 == 0:\n",
        "    print(epoch, loss_train.data, loss_test.data)"
      ],
      "metadata": {
        "colab": {
          "base_uri": "https://localhost:8080/"
        },
        "id": "V-q25wRI9uvE",
        "outputId": "7b7f8797-015f-47a3-d8f3-6cbfd6f76087"
      },
      "execution_count": 64,
      "outputs": [
        {
          "output_type": "stream",
          "name": "stdout",
          "text": [
            "0 tensor(2.3700) tensor(2.3590)\n",
            "100 tensor(1.4887) tensor(1.5293)\n",
            "200 tensor(0.6433) tensor(0.6736)\n",
            "300 tensor(0.3308) tensor(0.3563)\n",
            "400 tensor(0.2185) tensor(0.2453)\n",
            "500 tensor(0.1663) tensor(0.1971)\n",
            "600 tensor(0.1352) tensor(0.1700)\n",
            "700 tensor(0.1137) tensor(0.1526)\n",
            "800 tensor(0.0976) tensor(0.1412)\n",
            "900 tensor(0.0850) tensor(0.1331)\n"
          ]
        }
      ]
    },
    {
      "cell_type": "code",
      "source": [
        "plt.plot(range(len(record_loss_train)), record_loss_train, label='train')\n",
        "plt.plot(range(len(record_loss_test)), record_loss_test, label='test')\n",
        "plt.legend()\n",
        "plt.xlabel(\"epochs\")\n",
        "plt.ylabel(\"error\")\n",
        "plt.show()"
      ],
      "metadata": {
        "colab": {
          "base_uri": "https://localhost:8080/",
          "height": 449
        },
        "id": "d_H3dfoo-iLl",
        "outputId": "079a3580-80fb-4f57-f0c2-9eb559dd9728"
      },
      "execution_count": 65,
      "outputs": [
        {
          "output_type": "display_data",
          "data": {
            "text/plain": [
              "<Figure size 640x480 with 1 Axes>"
            ],
            "image/png": "[encoded data removed]"
          },
          "metadata": {}
        }
      ]
    },
    {
      "cell_type": "code",
      "source": [
        "y_test = net(x_test)\n",
        "count = (y_test.argmax(1) == t_test).sum().item()\n",
        "print('正解率:'+str(count/len(y_test)*100))"
      ],
      "metadata": {
        "colab": {
          "base_uri": "https://localhost:8080/"
        },
        "id": "iNjTrgwD_SH8",
        "outputId": "c1ad3e3e-86c2-4939-946b-5bc210b526fd"
      },
      "execution_count": 77,
      "outputs": [
        {
          "output_type": "stream",
          "name": "stdout",
          "text": [
            "正解率:97.11111111111111\n"
          ]
        }
      ]
    },
    {
      "cell_type": "markdown",
      "source": [
        "classを定義"
      ],
      "metadata": {
        "id": "3Yd8TA8qCkeT"
      }
    },
    {
      "cell_type": "code",
      "source": [
        "class Net(nn.Module):\n",
        "  def __init__(self):\n",
        "    super(Net, self).__init__()\n",
        "    self.fc6 = nn.Linear(64,32)\n",
        "    self.fc7 = nn.Linear(32,16)\n",
        "    self.fc8 = nn.Linear(16,10)\n",
        "  def forward(self,x):\n",
        "    x = F.relu(self.fc6(x))\n",
        "    x = F.relu(self.fc7(x))\n",
        "    x = self.fc8(x)\n",
        "    return x"
      ],
      "metadata": {
        "id": "C98HpFDlDHOf"
      },
      "execution_count": 93,
      "outputs": []
    },
    {
      "cell_type": "code",
      "source": [
        "model = Net()"
      ],
      "metadata": {
        "id": "VGMM0a4aD8bx"
      },
      "execution_count": 94,
      "outputs": []
    },
    {
      "cell_type": "code",
      "source": [
        "train = TensorDataset(x_train, t_train)\n",
        "train_loader = dataloader.DataLoader(train, batch_size=15, shuffle=True)"
      ],
      "metadata": {
        "id": "gZmQbcqLD-9Y"
      },
      "execution_count": 95,
      "outputs": []
    },
    {
      "cell_type": "code",
      "source": [
        "criterion = nn.CrossEntropyLoss()\n",
        "optimizer = optim.SGD(model.parameters(),lr=0.01)"
      ],
      "metadata": {
        "id": "J-sqGKXrEYBr"
      },
      "execution_count": 96,
      "outputs": []
    },
    {
      "cell_type": "code",
      "source": [
        "record_train_score = []\n",
        "record_test_score = []\n",
        "for epoch in range(100):\n",
        "  total_loss = 0\n",
        "  for x_train_b ,t_train_b in train_loader:\n",
        "    optimizer.zero_grad()\n",
        "    output = model(x_train_b)\n",
        "    loss = criterion(output, t_train_b)\n",
        "    loss.backward()\n",
        "    optimizer.step()\n",
        "    total_loss += loss.data\n",
        "  y_train = model(x_train)\n",
        "  train_loss = criterion(y_train, t_train)\n",
        "  y_test = model(x_test)\n",
        "  test_loss = criterion(y_test, t_test)\n",
        "  record_train_score.append(train_loss.item())\n",
        "  record_test_score.append(test_loss.item())\n",
        "  if epoch%10 == 0:\n",
        "    print(epoch, total_loss)"
      ],
      "metadata": {
        "colab": {
          "base_uri": "https://localhost:8080/"
        },
        "id": "ithoPQL5Envo",
        "outputId": "c40d2155-79ec-4feb-90cd-2b4cdf700158"
      },
      "execution_count": 97,
      "outputs": [
        {
          "output_type": "stream",
          "name": "stdout",
          "text": [
            "0 tensor(153.6154)\n",
            "10 tensor(9.4155)\n",
            "20 tensor(3.6085)\n",
            "30 tensor(1.8189)\n",
            "40 tensor(1.0011)\n",
            "50 tensor(0.6538)\n",
            "60 tensor(0.4798)\n",
            "70 tensor(0.3653)\n",
            "80 tensor(0.2877)\n",
            "90 tensor(0.2377)\n"
          ]
        }
      ]
    },
    {
      "cell_type": "code",
      "source": [
        "plt.plot(range(len(record_train_score)), record_train_score, label='train')\n",
        "plt.plot(range(len(record_test_score)), record_test_score, label='test')\n",
        "plt.legend()\n",
        "plt.xlabel(\"epochs\")\n",
        "plt.ylabel(\"error\")\n",
        "plt.show()"
      ],
      "metadata": {
        "colab": {
          "base_uri": "https://localhost:8080/",
          "height": 449
        },
        "id": "6eXy7xuPG6-H",
        "outputId": "6e4f070a-ec47-4eab-8f5f-80935cdffdf7"
      },
      "execution_count": 98,
      "outputs": [
        {
          "output_type": "display_data",
          "data": {
            "text/plain": [
              "<Figure size 640x480 with 1 Axes>"
            ],
            "image/png": "[encoded data removed]"
          },
          "metadata": {}
        }
      ]
    },
    {
      "cell_type": "code",
      "source": [
        "y_test = model(x_test)\n",
        "count = (y_test.argmax(1) == t_test).sum().item()\n",
        "print('正解率:'+str(count/len(y_test)*100))"
      ],
      "metadata": {
        "colab": {
          "base_uri": "https://localhost:8080/"
        },
        "id": "QNfEuQ9mITFe",
        "outputId": "f06a43da-e8da-428e-8b96-3df67bfa8b23"
      },
      "execution_count": 99,
      "outputs": [
        {
          "output_type": "stream",
          "name": "stdout",
          "text": [
            "正解率:96.0\n"
          ]
        }
      ]
    },
    {
      "cell_type": "markdown",
      "source": [
        "> # MNISTのデータ"
      ],
      "metadata": {
        "id": "s_BfJUIpNxgD"
      }
    },
    {
      "cell_type": "code",
      "source": [
        "import torch\n",
        "from torchvision.datasets import MNIST\n",
        "from torchvision import transforms\n",
        "from torch.utils.data import DataLoader"
      ],
      "metadata": {
        "id": "NAJzTogizaM3"
      },
      "execution_count": 1,
      "outputs": []
    },
    {
      "cell_type": "code",
      "source": [
        "mnist_train = MNIST(\"./mydata\",train=True, download=True, transform=transforms.ToTensor())\n",
        "mnist_test = MNIST(\"./mydata\",train=False, download=True, transform=transforms.ToTensor())\n",
        "\n",
        "print('訓練データの数', len(mnist_train), 'テストデータの数', len(mnist_test))"
      ],
      "metadata": {
        "colab": {
          "base_uri": "https://localhost:8080/"
        },
        "id": "H09fGPP4zaKd",
        "outputId": "ef716bd0-1ada-4d52-9a6c-6e4b8b15bcf8"
      },
      "execution_count": 2,
      "outputs": [
        {
          "output_type": "stream",
          "name": "stdout",
          "text": [
            "Downloading http://yann.lecun.com/exdb/mnist/train-images-idx3-ubyte.gz\n",
            "Downloading http://yann.lecun.com/exdb/mnist/train-images-idx3-ubyte.gz to ./mydata/MNIST/raw/train-images-idx3-ubyte.gz\n"
          ]
        },
        {
          "output_type": "stream",
          "name": "stderr",
          "text": [
            "100%|██████████| 9912422/9912422 [00:00<00:00, 129008940.47it/s]\n"
          ]
        },
        {
          "output_type": "stream",
          "name": "stdout",
          "text": [
            "Extracting ./mydata/MNIST/raw/train-images-idx3-ubyte.gz to ./mydata/MNIST/raw\n",
            "\n",
            "Downloading http://yann.lecun.com/exdb/mnist/train-labels-idx1-ubyte.gz\n",
            "Downloading http://yann.lecun.com/exdb/mnist/train-labels-idx1-ubyte.gz to ./mydata/MNIST/raw/train-labels-idx1-ubyte.gz\n"
          ]
        },
        {
          "output_type": "stream",
          "name": "stderr",
          "text": [
            "100%|██████████| 28881/28881 [00:00<00:00, 102657367.65it/s]\n"
          ]
        },
        {
          "output_type": "stream",
          "name": "stdout",
          "text": [
            "Extracting ./mydata/MNIST/raw/train-labels-idx1-ubyte.gz to ./mydata/MNIST/raw\n",
            "\n",
            "Downloading http://yann.lecun.com/exdb/mnist/t10k-images-idx3-ubyte.gz\n",
            "Downloading http://yann.lecun.com/exdb/mnist/t10k-images-idx3-ubyte.gz to ./mydata/MNIST/raw/t10k-images-idx3-ubyte.gz\n"
          ]
        },
        {
          "output_type": "stream",
          "name": "stderr",
          "text": [
            "100%|██████████| 1648877/1648877 [00:00<00:00, 36167386.07it/s]"
          ]
        },
        {
          "output_type": "stream",
          "name": "stdout",
          "text": [
            "Extracting ./mydata/MNIST/raw/t10k-images-idx3-ubyte.gz to ./mydata/MNIST/raw\n"
          ]
        },
        {
          "output_type": "stream",
          "name": "stderr",
          "text": [
            "\n"
          ]
        },
        {
          "output_type": "stream",
          "name": "stdout",
          "text": [
            "\n",
            "Downloading http://yann.lecun.com/exdb/mnist/t10k-labels-idx1-ubyte.gz\n",
            "Downloading http://yann.lecun.com/exdb/mnist/t10k-labels-idx1-ubyte.gz to ./mydata/MNIST/raw/t10k-labels-idx1-ubyte.gz\n"
          ]
        },
        {
          "output_type": "stream",
          "name": "stderr",
          "text": [
            "100%|██████████| 4542/4542 [00:00<00:00, 21872019.25it/s]\n"
          ]
        },
        {
          "output_type": "stream",
          "name": "stdout",
          "text": [
            "Extracting ./mydata/MNIST/raw/t10k-labels-idx1-ubyte.gz to ./mydata/MNIST/raw\n",
            "\n",
            "訓練データの数 60000 テストデータの数 10000\n"
          ]
        }
      ]
    },
    {
      "cell_type": "code",
      "source": [
        "batch_size=256\n",
        "train_loader = DataLoader(mnist_train, batch_size=batch_size,shuffle=True)\n",
        "test_loader = DataLoader(mnist_test, batch_size=len(mnist_test),shuffle=False)"
      ],
      "metadata": {
        "id": "YeJl0OEvzaIK"
      },
      "execution_count": 3,
      "outputs": []
    },
    {
      "cell_type": "code",
      "source": [
        "mnist_train[0][0].shape"
      ],
      "metadata": {
        "colab": {
          "base_uri": "https://localhost:8080/"
        },
        "id": "gU_7ppdZzaFh",
        "outputId": "003f09f2-81e8-43bf-a1e7-5a5efda0f00d"
      },
      "execution_count": 4,
      "outputs": [
        {
          "output_type": "execute_result",
          "data": {
            "text/plain": [
              "torch.Size([1, 28, 28])"
            ]
          },
          "metadata": {},
          "execution_count": 4
        }
      ]
    },
    {
      "cell_type": "code",
      "source": [
        "my_x, my_t = next(iter(train_loader))\n",
        "my_x.shape\n",
        "my_xx = my_x.view(-1,784) #カラム数が28*28のイメージ\n",
        "my_xx.shape"
      ],
      "metadata": {
        "colab": {
          "base_uri": "https://localhost:8080/"
        },
        "id": "O5wv8Y9T4tX8",
        "outputId": "58307d72-edfc-4e90-f4e9-898b5370f01e"
      },
      "execution_count": 5,
      "outputs": [
        {
          "output_type": "execute_result",
          "data": {
            "text/plain": [
              "torch.Size([256, 784])"
            ]
          },
          "metadata": {},
          "execution_count": 5
        }
      ]
    },
    {
      "cell_type": "code",
      "source": [
        "import torch.nn as nn\n",
        "import torch.nn.functional as F"
      ],
      "metadata": {
        "id": "nc55FRdi20Uo"
      },
      "execution_count": 6,
      "outputs": []
    },
    {
      "cell_type": "code",
      "source": [
        "class Net(nn.Module):\n",
        "  def __init__(self):\n",
        "    super().__init__()\n",
        "    self.fc1 = nn.Linear(784,1024)\n",
        "    self.fc2 = nn.Linear(1024,512)\n",
        "    self.fc3 = nn.Linear(512,10)\n",
        "  def forward(self, x):\n",
        "    x = x.view(-1,784)\n",
        "    x = F.relu(self.fc1(x))\n",
        "    x = F.relu(self.fc2(x))\n",
        "    x = self.fc3(x)\n",
        "    return x"
      ],
      "metadata": {
        "id": "e4uur9Xr3Ef8"
      },
      "execution_count": 7,
      "outputs": []
    },
    {
      "cell_type": "code",
      "source": [
        "net = Net()\n",
        "net.cuda()\n",
        "print(net)"
      ],
      "metadata": {
        "colab": {
          "base_uri": "https://localhost:8080/"
        },
        "id": "eXOdLcZIH6M1",
        "outputId": "7a743a7d-a1cf-4f5b-a706-c9ae890d2092"
      },
      "execution_count": 8,
      "outputs": [
        {
          "output_type": "stream",
          "name": "stdout",
          "text": [
            "Net(\n",
            "  (fc1): Linear(in_features=784, out_features=1024, bias=True)\n",
            "  (fc2): Linear(in_features=1024, out_features=512, bias=True)\n",
            "  (fc3): Linear(in_features=512, out_features=10, bias=True)\n",
            ")\n"
          ]
        }
      ]
    },
    {
      "cell_type": "code",
      "source": [
        "from torch import optim"
      ],
      "metadata": {
        "id": "LShSFxl5IM8u"
      },
      "execution_count": 9,
      "outputs": []
    },
    {
      "cell_type": "code",
      "source": [
        "criterion = nn.CrossEntropyLoss()\n",
        "optimizer = optim.SGD(net.parameters(), lr=0.01)"
      ],
      "metadata": {
        "id": "dYLH1eH4In8O"
      },
      "execution_count": 10,
      "outputs": []
    },
    {
      "cell_type": "code",
      "source": [
        "record_loss_train = []\n",
        "record_loss_test = []"
      ],
      "metadata": {
        "id": "nrHqacFqIy01"
      },
      "execution_count": 11,
      "outputs": []
    },
    {
      "cell_type": "code",
      "source": [
        "for epoch in range(20):\n",
        "  net.train() # 訓練モード\n",
        "  loss_train = 0\n",
        "  for i, (x, t) in enumerate(train_loader):\n",
        "    optimizer.zero_grad()\n",
        "    x, t = x.cuda(),  t.cuda()\n",
        "    y = net(x)\n",
        "    loss = criterion(y, t)\n",
        "    loss_train += loss.item()\n",
        "    loss.backward()\n",
        "    optimizer.step()\n",
        "  loss_train /= i+1\n",
        "  record_loss_train.append(loss_train)\n",
        "\n",
        "  net.eval() # 検証モード\n",
        "  loss_test = 0\n",
        "  for i , (x, t) in enumerate(test_loader):\n",
        "    x, t = x.cuda(), t.cuda()\n",
        "    with torch.no_grad():\n",
        "      y = net(x)\n",
        "    loss = criterion(y,t)\n",
        "    loss_test += loss.item()\n",
        "  loss_test /= i+1\n",
        "  record_loss_test.append(loss_test)\n",
        "  print(\"Epoch:\",epoch,\"Loss_Train:\",loss_train,\"Loss_Test:\",loss_test)"
      ],
      "metadata": {
        "colab": {
          "base_uri": "https://localhost:8080/"
        },
        "id": "NF8CTLB0I4dQ",
        "outputId": "71c16cba-3f33-43b9-9070-1e15dc99dc30"
      },
      "execution_count": 13,
      "outputs": [
        {
          "output_type": "stream",
          "name": "stdout",
          "text": [
            "Epoch: 0 Loss_Train: 2.2234546681667897 Loss_Test: 2.10443115234375\n",
            "Epoch: 1 Loss_Train: 1.8520496500299333 Loss_Test: 1.4835344552993774\n",
            "Epoch: 2 Loss_Train: 1.1490814728939787 Loss_Test: 0.8594117164611816\n",
            "Epoch: 3 Loss_Train: 0.7455288275759271 Loss_Test: 0.6218405365943909\n",
            "Epoch: 4 Loss_Train: 0.5815244171213596 Loss_Test: 0.5099416971206665\n",
            "Epoch: 5 Loss_Train: 0.4958584614256595 Loss_Test: 0.4481944739818573\n",
            "Epoch: 6 Loss_Train: 0.4438339722917435 Loss_Test: 0.4070972800254822\n",
            "Epoch: 7 Loss_Train: 0.4094594583866444 Loss_Test: 0.3796764016151428\n",
            "Epoch: 8 Loss_Train: 0.38505143041306356 Loss_Test: 0.3582354784011841\n",
            "Epoch: 9 Loss_Train: 0.36587984409738095 Loss_Test: 0.3435872197151184\n",
            "Epoch: 10 Loss_Train: 0.3507557324272521 Loss_Test: 0.33061763644218445\n",
            "Epoch: 11 Loss_Train: 0.3388213108828727 Loss_Test: 0.32003259658813477\n",
            "Epoch: 12 Loss_Train: 0.3283482385442612 Loss_Test: 0.31078729033470154\n",
            "Epoch: 13 Loss_Train: 0.31888984207143173 Loss_Test: 0.30223512649536133\n",
            "Epoch: 14 Loss_Train: 0.31080444727806333 Loss_Test: 0.2944633662700653\n",
            "Epoch: 15 Loss_Train: 0.303113532319982 Loss_Test: 0.2881544828414917\n",
            "Epoch: 16 Loss_Train: 0.2963448608809329 Loss_Test: 0.28128859400749207\n",
            "Epoch: 17 Loss_Train: 0.2904523486152608 Loss_Test: 0.2760080397129059\n",
            "Epoch: 18 Loss_Train: 0.2839786062215237 Loss_Test: 0.27147647738456726\n",
            "Epoch: 19 Loss_Train: 0.2783409400189176 Loss_Test: 0.2661087214946747\n"
          ]
        }
      ]
    },
    {
      "cell_type": "code",
      "source": [
        "import matplotlib.pyplot as plt"
      ],
      "metadata": {
        "id": "IUx-bG-CNRW3"
      },
      "execution_count": 14,
      "outputs": []
    },
    {
      "cell_type": "code",
      "source": [
        "plt.plot(range(len(record_loss_train)),record_loss_train, label='Train')\n",
        "plt.plot(range(len(record_loss_test)),record_loss_test, label='Test')\n",
        "plt.legend()\n",
        "plt.xlabel('Epoch')\n",
        "plt.ylabel('Error')\n",
        "plt.show()"
      ],
      "metadata": {
        "colab": {
          "base_uri": "https://localhost:8080/",
          "height": 449
        },
        "id": "VeC1QDg7NUo4",
        "outputId": "3c1fa8a7-e216-4501-aa6f-b390767288ba"
      },
      "execution_count": 15,
      "outputs": [
        {
          "output_type": "display_data",
          "data": {
            "text/plain": [
              "<Figure size 640x480 with 1 Axes>"
            ],
            "image/png": "[encoded data removed]"
          },
          "metadata": {}
        }
      ]
    },
    {
      "cell_type": "code",
      "source": [
        "correct = 0\n",
        "total = 0\n",
        "for i , (x, t) in enumerate(test_loader):\n",
        "  x, t = x.cuda(), t.cuda()\n",
        "  x = x.view(-1,784)\n",
        "  with torch.no_grad():\n",
        "    y = net(x)\n",
        "  correct += (y.argmax(1)==t).sum().item()\n",
        "  total += len(x)\n",
        "print('正解率',str(correct/total*100))"
      ],
      "metadata": {
        "colab": {
          "base_uri": "https://localhost:8080/"
        },
        "id": "absGgfjBNr7_",
        "outputId": "6f5310f3-f3e9-4250-9eef-bb3f03cac426"
      },
      "execution_count": 16,
      "outputs": [
        {
          "output_type": "stream",
          "name": "stdout",
          "text": [
            "正解率 92.42\n"
          ]
        }
      ]
    },
    {
      "cell_type": "code",
      "source": [],
      "metadata": {
        "id": "0VBToZdGP9zI"
      },
      "execution_count": null,
      "outputs": []
    }
  ]
}