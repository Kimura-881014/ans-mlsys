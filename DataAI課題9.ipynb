{
 "cells": [
  {
   "cell_type": "code",
   "execution_count": 1,
   "metadata": {
    "colab": {
     "base_uri": "https://localhost:8080/"
    },
    "id": "qikD9nJ6lbGW",
    "outputId": "5fa81934-0c46-40f5-d8cf-52189df6cdae"
   },
   "outputs": [
    {
     "name": "stdout",
     "output_type": "stream",
     "text": [
      "cuda:0\n",
      "Downloading http://yann.lecun.com/exdb/mnist/train-images-idx3-ubyte.gz\n",
      "Downloading http://yann.lecun.com/exdb/mnist/train-images-idx3-ubyte.gz to mydata/MNIST/raw/train-images-idx3-ubyte.gz\n"
     ]
    },
    {
     "name": "stderr",
     "output_type": "stream",
     "text": [
      "100%|██████████| 9912422/9912422 [00:00<00:00, 80560749.89it/s]\n"
     ]
    },
    {
     "name": "stdout",
     "output_type": "stream",
     "text": [
      "Extracting mydata/MNIST/raw/train-images-idx3-ubyte.gz to mydata/MNIST/raw\n",
      "\n",
      "Downloading http://yann.lecun.com/exdb/mnist/train-labels-idx1-ubyte.gz\n",
      "Downloading http://yann.lecun.com/exdb/mnist/train-labels-idx1-ubyte.gz to mydata/MNIST/raw/train-labels-idx1-ubyte.gz\n"
     ]
    },
    {
     "name": "stderr",
     "output_type": "stream",
     "text": [
      "100%|██████████| 28881/28881 [00:00<00:00, 103094207.51it/s]\n"
     ]
    },
    {
     "name": "stdout",
     "output_type": "stream",
     "text": [
      "Extracting mydata/MNIST/raw/train-labels-idx1-ubyte.gz to mydata/MNIST/raw\n",
      "\n",
      "Downloading http://yann.lecun.com/exdb/mnist/t10k-images-idx3-ubyte.gz\n",
      "Downloading http://yann.lecun.com/exdb/mnist/t10k-images-idx3-ubyte.gz to mydata/MNIST/raw/t10k-images-idx3-ubyte.gz\n"
     ]
    },
    {
     "name": "stderr",
     "output_type": "stream",
     "text": [
      "100%|██████████| 1648877/1648877 [00:00<00:00, 46279645.58it/s]"
     ]
    },
    {
     "name": "stdout",
     "output_type": "stream",
     "text": [
      "Extracting mydata/MNIST/raw/t10k-images-idx3-ubyte.gz to mydata/MNIST/raw\n"
     ]
    },
    {
     "name": "stderr",
     "output_type": "stream",
     "text": [
      "\n"
     ]
    },
    {
     "name": "stdout",
     "output_type": "stream",
     "text": [
      "\n",
      "Downloading http://yann.lecun.com/exdb/mnist/t10k-labels-idx1-ubyte.gz\n",
      "Downloading http://yann.lecun.com/exdb/mnist/t10k-labels-idx1-ubyte.gz to mydata/MNIST/raw/t10k-labels-idx1-ubyte.gz\n"
     ]
    },
    {
     "name": "stderr",
     "output_type": "stream",
     "text": [
      "100%|██████████| 4542/4542 [00:00<00:00, 16408724.18it/s]\n"
     ]
    },
    {
     "name": "stdout",
     "output_type": "stream",
     "text": [
      "Extracting mydata/MNIST/raw/t10k-labels-idx1-ubyte.gz to mydata/MNIST/raw\n",
      "\n"
     ]
    }
   ],
   "source": [
    "import os\n",
    "import random\n",
    "import numpy as np\n",
    "import matplotlib.pyplot as plt\n",
    "import torch\n",
    "import torchvision\n",
    "import torch.nn as nn\n",
    "import torch.optim as optim\n",
    "import torch.nn.functional as F\n",
    "import torchvision.transforms as transforms\n",
    "cuda = \"cuda:0\"\n",
    "# ハイパーパラメータ集\n",
    "SEED = 0\n",
    "CLASS_SIZE = 10\n",
    "BATCH_SIZE = 256\n",
    "ZDIM = 16\n",
    "NUM_EPOCHS = 50\n",
    "# GPU存在のチェック\n",
    "DEVICE = torch.device(cuda if torch.cuda.is_available() else \"cpu\")\n",
    "print(DEVICE)\n",
    "# シードの設定\n",
    "random.seed(SEED)\n",
    "np.random.seed(SEED)\n",
    "torch.manual_seed(SEED)\n",
    "torch.cuda.manual_seed(SEED)\n",
    "# データセットとデータローダの準備\n",
    "train_dataset = torchvision.datasets.MNIST(\n",
    "  root='mydata', train=True, transform=transforms.ToTensor(), download=True,\n",
    ")\n",
    "train_loader = torch.utils.data.DataLoader(\n",
    "  dataset=train_dataset, batch_size=BATCH_SIZE, shuffle=True,num_workers=0\n",
    ")"
   ]
  },
  {
   "cell_type": "code",
   "execution_count": 2,
   "metadata": {
    "id": "NAG1L8pxlwUr"
   },
   "outputs": [],
   "source": [
    "class CVAE(nn.Module):\n",
    "  def __init__(self, zdim):\n",
    "    super().__init__()\n",
    "    self._zdim = zdim\n",
    "    self._in_units = 28 * 28\n",
    "    hidden_units = 512\n",
    "    self._encoder = nn.Sequential(\n",
    "      nn.Linear(self._in_units + CLASS_SIZE, hidden_units),\n",
    "      nn.ReLU(inplace=True),\n",
    "      nn.Linear(hidden_units, hidden_units),\n",
    "      nn.ReLU(inplace=True),\n",
    "    )\n",
    "    self._to_mean = nn.Linear(hidden_units, zdim)\n",
    "    self._to_lnvar = nn.Linear(hidden_units, zdim)\n",
    "    self._decoder = nn.Sequential(\n",
    "      nn.Linear(zdim + CLASS_SIZE, hidden_units),\n",
    "      nn.ReLU(inplace=True),\n",
    "      nn.Linear(hidden_units, hidden_units),\n",
    "      nn.ReLU(inplace=True),\n",
    "      nn.Linear(hidden_units, self._in_units),\n",
    "      nn.Sigmoid()\n",
    "    )\n",
    "  def encode(self, x, labels):\n",
    "    in_ = torch.empty((x.shape[0], self._in_units + CLASS_SIZE), device=DEVICE)\n",
    "    in_[:, :self._in_units] = x\n",
    "    in_[:, self._in_units:] = labels\n",
    "    h = self._encoder(in_)\n",
    "    mean = self._to_mean(h)\n",
    "    lnvar = self._to_lnvar(h)\n",
    "    return mean, lnvar\n",
    "  def decode(self, z, labels):\n",
    "    in_ = torch.empty((z.shape[0], self._zdim + CLASS_SIZE), device=DEVICE)\n",
    "    in_[:, :self._zdim] = z\n",
    "    in_[:, self._zdim:] = labels\n",
    "    return self._decoder(in_)"
   ]
  },
  {
   "cell_type": "code",
   "execution_count": 3,
   "metadata": {
    "id": "D8jtXEvYl97M"
   },
   "outputs": [],
   "source": [
    "def to_onehot(label):\n",
    "  return torch.eye(CLASS_SIZE, device=DEVICE, dtype=torch.float32)[label]\n",
    "model = CVAE(ZDIM).to(DEVICE)\n",
    "optimizer = optim.Adam(model.parameters(), lr=1e-3)"
   ]
  },
  {
   "cell_type": "code",
   "execution_count": 4,
   "metadata": {
    "colab": {
     "base_uri": "https://localhost:8080/"
    },
    "id": "NGvnn_Z1l-U1",
    "outputId": "020ccf01-e2b8-461f-b0bc-2ad22c712d25"
   },
   "outputs": [
    {
     "name": "stdout",
     "output_type": "stream",
     "text": [
      "epoch: 1 epoch_loss: 200.65672473958332\n",
      "epoch: 2 epoch_loss: 162.0748071533203\n",
      "epoch: 3 epoch_loss: 149.62745239257814\n",
      "epoch: 4 epoch_loss: 140.633934765625\n",
      "epoch: 5 epoch_loss: 134.43958129882813\n",
      "epoch: 6 epoch_loss: 128.65976556396484\n",
      "epoch: 7 epoch_loss: 124.79452200520834\n",
      "epoch: 8 epoch_loss: 121.53033059895833\n",
      "epoch: 9 epoch_loss: 119.03040912272135\n",
      "epoch: 10 epoch_loss: 116.74512845458985\n",
      "epoch: 11 epoch_loss: 115.56128503011068\n",
      "epoch: 12 epoch_loss: 113.10184892578125\n",
      "epoch: 13 epoch_loss: 111.83694932454426\n",
      "epoch: 14 epoch_loss: 110.68304062906901\n",
      "epoch: 15 epoch_loss: 109.70443263346354\n",
      "epoch: 16 epoch_loss: 109.24656520589193\n",
      "epoch: 17 epoch_loss: 108.64263603922527\n",
      "epoch: 18 epoch_loss: 106.90806599121093\n",
      "epoch: 19 epoch_loss: 107.07688297932943\n",
      "epoch: 20 epoch_loss: 106.06920703938802\n",
      "epoch: 21 epoch_loss: 105.77486899414062\n",
      "epoch: 22 epoch_loss: 105.13951073404948\n",
      "epoch: 23 epoch_loss: 104.70742505696614\n",
      "epoch: 24 epoch_loss: 104.88402884114583\n",
      "epoch: 25 epoch_loss: 103.67821263427734\n",
      "epoch: 26 epoch_loss: 103.2055562906901\n",
      "epoch: 27 epoch_loss: 102.87814134928385\n",
      "epoch: 28 epoch_loss: 102.91442910970052\n",
      "epoch: 29 epoch_loss: 101.99969381917317\n",
      "epoch: 30 epoch_loss: 101.89669720458984\n",
      "epoch: 31 epoch_loss: 101.9566931640625\n",
      "epoch: 32 epoch_loss: 101.58093896891276\n",
      "epoch: 33 epoch_loss: 101.22796089274088\n",
      "epoch: 34 epoch_loss: 100.87782209472657\n",
      "epoch: 35 epoch_loss: 100.38296573079427\n",
      "epoch: 36 epoch_loss: 100.25469694824218\n",
      "epoch: 37 epoch_loss: 100.11076758219401\n",
      "epoch: 38 epoch_loss: 100.33748005371093\n",
      "epoch: 39 epoch_loss: 100.17360413818359\n",
      "epoch: 40 epoch_loss: 99.20503664550782\n",
      "epoch: 41 epoch_loss: 99.06186071370443\n",
      "epoch: 42 epoch_loss: 99.10958018391928\n",
      "epoch: 43 epoch_loss: 98.76040885823568\n",
      "epoch: 44 epoch_loss: 98.43489380696614\n",
      "epoch: 45 epoch_loss: 98.89537475585938\n",
      "epoch: 46 epoch_loss: 98.55062314860027\n",
      "epoch: 47 epoch_loss: 98.52492000732421\n",
      "epoch: 48 epoch_loss: 97.85713425292968\n",
      "epoch: 49 epoch_loss: 98.22760889485677\n",
      "epoch: 50 epoch_loss: 97.73317912190755\n"
     ]
    }
   ],
   "source": [
    "model.train()\n",
    "for e in range(NUM_EPOCHS):\n",
    "  train_loss = 0\n",
    "  for i, (images, labels) in enumerate(train_loader):\n",
    "    labels = to_onehot(labels)\n",
    "    x = images.view(-1, 28*28*1).to(DEVICE) # 画像を1次元へ\n",
    "    mean, lnvar = model.encode(x, labels) # ラベルと一緒にエンコーダへ\n",
    "    std = lnvar.exp().sqrt()\n",
    "    epsilon = torch.randn(ZDIM, device=DEVICE) # 乱数を生成\n",
    "    z = mean + std * epsilon # 潜在変数を変換\n",
    "    y = model.decode(z, labels) # デコード\n",
    "    # ロスを計算\n",
    "    kld = 0.5 * (1 + lnvar - mean.pow(2) - lnvar.exp()).sum(axis=1)\n",
    "    bce = F.binary_cross_entropy(y, x, reduction='none').sum(axis=1)\n",
    "    loss = (-1 * kld + bce).mean()\n",
    "    # Update model\n",
    "    optimizer.zero_grad()\n",
    "    loss.backward()\n",
    "    optimizer.step()\n",
    "    train_loss += loss.item() * x.shape[0]\n",
    "  print(f'epoch: {e + 1} epoch_loss: {train_loss/len(train_dataset)}')"
   ]
  },
  {
   "cell_type": "code",
   "execution_count": 6,
   "metadata": {
    "id": "yUDeqh_zne0b"
   },
   "outputs": [],
   "source": [
    "def genseries(z):\n",
    "  model.eval()\n",
    "  fig, ax = plt.subplots(2, 5, figsize=(5,2.5))\n",
    "  for label in range(CLASS_SIZE):\n",
    "    with torch.no_grad():\n",
    "      y = model.decode(z, to_onehot(label))\n",
    "    y = y.reshape(28, 28).cpu().detach().numpy()\n",
    "    # Save image\n",
    "    ly = int(label/5)\n",
    "    lx = label%5\n",
    "    ax[ly, lx].imshow(y, cmap='gray')\n",
    "    ax[ly, lx].set_title(f'Gen({label})')\n",
    "    ax[ly, lx].tick_params(\n",
    "      labelbottom=False,\n",
    "      labelleft=False,\n",
    "      bottom=False,\n",
    "      left=False,\n",
    "    )\n",
    "  plt.show()\n",
    "# genseries(z)"
   ]
  },
  {
   "cell_type": "code",
   "execution_count": 8,
   "metadata": {
    "colab": {
     "base_uri": "https://localhost:8080/",
     "height": 116
    },
    "id": "jCHWVqBZnpX7",
    "outputId": "9bd51a11-fb33-47bc-9713-5807fa353e9f"
   },
   "outputs": [
    {
     "data": {
      "text/plain": [
       "<matplotlib.image.AxesImage at 0x7fefcfa71390>"
      ]
     },
     "execution_count": 8,
     "metadata": {},
     "output_type": "execute_result"
    },
    {
     "data": {
      "image/png": "[encoded data removed]",
      "text/plain": [
       "<Figure size 80x80 with 1 Axes>"
      ]
     },
     "metadata": {},
     "output_type": "display_data"
    }
   ],
   "source": [
    "from PIL import Image\n",
    "from PIL import ImageOps\n",
    "my_label = 4\n",
    "from scipy.ndimage import center_of_mass\n",
    "my_fig = Image.open(\"mytest4.jpg\")\n",
    "my_img = ImageOps.invert(my_fig.resize((28, 28)).convert(\"L\"))\n",
    "plt.figure(figsize=(0.8, 0.8))\n",
    "plt.tick_params(\n",
    "  labelbottom=False,\n",
    "  labelleft=False,\n",
    "  bottom=False,\n",
    " left=False,\n",
    ")\n",
    "plt.imshow(my_img, cmap='gray')"
   ]
  },
  {
   "cell_type": "code",
   "execution_count": 9,
   "metadata": {
    "colab": {
     "base_uri": "https://localhost:8080/"
    },
    "id": "BlKGiWN2nriC",
    "outputId": "08db397a-b04e-40c7-81d9-0c3518290782"
   },
   "outputs": [
    {
     "name": "stdout",
     "output_type": "stream",
     "text": [
      "z = tensor([[ 0.0730, -0.2420,  0.1636, -0.3206,  1.3051, -0.0351,  0.0424, -0.0301,\n",
      "          0.0501,  0.0364,  1.2085,  0.0484, -0.3487, -0.7776, -0.3261,  0.0230]],\n",
      "       device='cuda:0')\n"
     ]
    }
   ],
   "source": [
    "my_input = torch.tensor(np.array(my_img)/256)\n",
    "x = my_input.view(1, 28*28).to(DEVICE)\n",
    "label = torch.tensor(np.array(my_label)).clone().to(DEVICE)\n",
    "with torch.no_grad():\n",
    "  mean, _ = model.encode(x, to_onehot(label))\n",
    "z = mean\n",
    "print(f'z = {z}')"
   ]
  },
  {
   "cell_type": "code",
   "execution_count": 10,
   "metadata": {
    "colab": {
     "base_uri": "https://localhost:8080/",
     "height": 231
    },
    "id": "Bmgn65N9ntQp",
    "outputId": "deb99576-5871-4f6f-93e2-fc8406a21471"
   },
   "outputs": [
    {
     "data": {
      "image/png": "[encoded data removed]",
      "text/plain": [
       "<Figure size 500x250 with 10 Axes>"
      ]
     },
     "metadata": {},
     "output_type": "display_data"
    }
   ],
   "source": [
    "genseries(z)"
   ]
  },
  {
   "cell_type": "markdown",
   "metadata": {
    "id": "hCYoqs4dnu0v"
   },
   "source": [
    "線が細くて縦の線が少し傾いているところが私の癖字をとらえている。ただ、与えたデータの4が上手く数字を生成できていない。"
   ]
  }
 ],
 "metadata": {
  "accelerator": "GPU",
  "colab": {
   "gpuType": "T4",
   "provenance": []
  },
  "kernelspec": {
   "display_name": "Python 3",
   "language": "python",
   "name": "python3"
  },
  "language_info": {
   "codemirror_mode": {
    "name": "ipython",
    "version": 3
   },
   "file_extension": ".py",
   "mimetype": "text/x-python",
   "name": "python",
   "nbconvert_exporter": "python",
   "pygments_lexer": "ipython3",
   "version": "3.8.8"
  }
 },
 "nbformat": 4,
 "nbformat_minor": 4
}
